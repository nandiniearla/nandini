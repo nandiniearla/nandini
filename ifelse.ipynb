{
 "cells": [
  {
   "cell_type": "code",
   "execution_count": 1,
   "metadata": {},
   "outputs": [
    {
     "name": "stdout",
     "output_type": "stream",
     "text": [
      "negative\n"
     ]
    }
   ],
   "source": [
    "#1 WAP to check whether a number is positive or negative. If Positive print positive \n",
    "#message or else print Negative Number.\n",
    "n=-3\n",
    "if n>0:\n",
    "    print(\"positive\")\n",
    "else:\n",
    "    print(\"negative\")"
   ]
  },
  {
   "cell_type": "code",
   "execution_count": null,
   "metadata": {},
   "outputs": [],
   "source": [
    "#2 WAP to check whether a number is even or odd. If even, print message an even \n",
    "#or else print message as odd.\n",
    "n=34\n",
    "if n%2==0:\n",
    "    print(\"even\")\n",
    "else:\n",
    "    print(\"odd\")"
   ]
  },
  {
   "cell_type": "code",
   "execution_count": null,
   "metadata": {},
   "outputs": [],
   "source": [
    "#3 Write a program to check whether a given number is greater than 10 or not. if it \n",
    "#is greater than 10 print message as greater or else print that number with not a \n",
    "#greater than.\n",
    "n=20\n",
    "if n>10:\n",
    "    print(\"greater\")\n",
    "else:\n",
    "    print(\"not greater\")"
   ]
  },
  {
   "cell_type": "code",
   "execution_count": null,
   "metadata": {},
   "outputs": [],
   "source": [
    "#4 WAP to check whether the given two input numbers are divisible by 3 and 5. If it \n",
    "#is divisible, print “Good Morning”, if it is not divisible print “Good Evening”.\n",
    "n=15\n",
    "s=30\n",
    "if n%3==0 and n%5==0 and s%3==0 and s%5==0:\n",
    "    print(\"goog morning\")\n",
    "else:\n",
    "    print(\"good evening\")"
   ]
  },
  {
   "cell_type": "code",
   "execution_count": null,
   "metadata": {},
   "outputs": [],
   "source": [
    "#5 WAP to accept two integers and check whether those two values are equal or not.\n",
    "#If equal, multiply to value or else to display the quotation value.\n",
    "n=20\n",
    "m=21\n",
    "if n==m:\n",
    "    print(n*m)\n",
    "else:\n",
    "    print(str(\"n\"),('m'))"
   ]
  },
  {
   "cell_type": "code",
   "execution_count": null,
   "metadata": {},
   "outputs": [],
   "source": [
    "#6 WAP to find the largest of two numbers.\n",
    "n=20\n",
    "m=30\n",
    "if n>m:\n",
    "    print(\"largest\")\n",
    "else:\n",
    "    print(\"not largest\")"
   ]
  },
  {
   "cell_type": "code",
   "execution_count": null,
   "metadata": {},
   "outputs": [],
   "source": [
    "#7 WAP to check whether the input number is greater than 10 or not if it is greater \n",
    "#than 10 print messages as greater with number. if it is not a greater than 10 print \n",
    "#that number.\n",
    "n=7\n",
    "if n>10:\n",
    "    print(\"greater\")\n",
    "else:\n",
    "    print(\"not greater\")"
   ]
  },
  {
   "cell_type": "code",
   "execution_count": null,
   "metadata": {},
   "outputs": [],
   "source": [
    "#8 WAP to the given number integer, if n is greater than 21,print the absolute \n",
    "#difference between n and 21 otherwise print twice the absolute difference.\n",
    "n=10\n",
    "if n>21:\n",
    "    print(abs(n))\n",
    "else:\n",
    "    print(abs(n)*2)\n",
    "    "
   ]
  },
  {
   "cell_type": "code",
   "execution_count": null,
   "metadata": {},
   "outputs": [],
   "source": [
    "#9 WAP to find the smallest of two numbers.\n",
    "n=10\n",
    "m=20\n",
    "if n<m:\n",
    "    print(\"smallest\")\n",
    "else:\n",
    "    print(\"not smallest\")"
   ]
  },
  {
   "cell_type": "code",
   "execution_count": null,
   "metadata": {},
   "outputs": [],
   "source": [
    "#10 WAP to check whether the given number is even or odd. If it is even then make \n",
    "#it as an add number, if it is an odd number then make it as even number.\n",
    "n=20\n",
    "if n%2==0:\n",
    "    print(n+1)\n",
    "else:\n",
    "    print(n-1)"
   ]
  },
  {
   "cell_type": "code",
   "execution_count": null,
   "metadata": {},
   "outputs": [],
   "source": [
    "#11 WAP to check whether the given number is divisible by 3 or not if yes, print the \n",
    "#number or else print the cube of the numbers.\n",
    "n=15\n",
    "if n%3==0:\n",
    "    print(n)\n",
    "else:\n",
    "    print(n**3)"
   ]
  },
  {
   "cell_type": "code",
   "execution_count": null,
   "metadata": {},
   "outputs": [],
   "source": [
    "#12 WAP to check whether the given input is divisible by 3 and 5. If yes print the \n",
    "#actual number or else print string of that number.\n",
    "n=10\n",
    "m=30\n",
    "if n%3==0 and n%5==0:\n",
    "    print(n,m)\n",
    "else:\n",
    "    print(str(n),str(m))"
   ]
  },
  {
   "cell_type": "code",
   "execution_count": null,
   "metadata": {},
   "outputs": [
    {
     "name": "stdout",
     "output_type": "stream",
     "text": [
      "225\n"
     ]
    }
   ],
   "source": [
    "#13 WAP to check whether the given number lies between 1 to 19, if it is true square \n",
    "#that number or else false cube that number and display the number.\n",
    "n=15\n",
    "if 1<=n<=19:\n",
    "    print(15**2)\n",
    "else:\n",
    "    print(n**3)"
   ]
  },
  {
   "cell_type": "code",
   "execution_count": null,
   "metadata": {},
   "outputs": [],
   "source": [
    "#14 WAP to check whether the student has passed or failed. If the student got more \n",
    "#than 40 marks, print ‘PASS’ along with those marks, if it is not printed ‘FAIL’ along \n",
    "#with those marks.\n",
    "n=80\n",
    "if n>40:\n",
    "    print(\"PASS\")\n",
    "else:\n",
    "    print(\"FAIL\")\n"
   ]
  },
  {
   "cell_type": "code",
   "execution_count": null,
   "metadata": {},
   "outputs": [],
   "source": [
    "#15 WAP to check whether a given value is even and in range of 47 to 58 and not in 0 \n",
    "#or odd. if condition is True, to perform display the ascii character. or else to \n",
    "#perform floor division with 5 and display it.\n",
    "n=52\n",
    "if 47<=n<58 and n!=0 or n%2!=0:\n",
    "    print(chr(n))\n",
    "else:\n",
    "    print(n//5)"
   ]
  },
  {
   "cell_type": "code",
   "execution_count": 4,
   "metadata": {},
   "outputs": [
    {
     "name": "stdout",
     "output_type": "stream",
     "text": [
      "{50: '2'}\n"
     ]
    }
   ],
   "source": [
    "#16 WAP to check whether a given value is less than 125 and in between 47 to 125 or \n",
    "#not. if condition is True, to perform store the given value as key and value as a \n",
    "#character into the dict or else to append the value in list and display it.\n",
    "a=50\n",
    "b={}\n",
    "if 47<a<125:\n",
    "    b[a]=chr(a)\n",
    "    print(b)\n",
    "else:\n",
    "    d=[20,30]\n",
    "    d+=a\n",
    "    print(d)"
   ]
  },
  {
   "cell_type": "code",
   "execution_count": 11,
   "metadata": {},
   "outputs": [
    {
     "name": "stdout",
     "output_type": "stream",
     "text": [
      "character D\n"
     ]
    }
   ],
   "source": [
    "#17 WAP to check whether a given character is in the alphabet or not. if \n",
    "#alphabet, display the alphabet with character or else display the not\n",
    "#alphabet withcharacter.\n",
    "v='D'\n",
    "if 'a'<=v<='z' or 'A'<=v<='Z':\n",
    "    print(\"character\",v)\n",
    "else:\n",
    "    print(\"not alphabet\",v)\n",
    "\n"
   ]
  },
  {
   "cell_type": "code",
   "execution_count": 15,
   "metadata": {},
   "outputs": [
    {
     "name": "stdout",
     "output_type": "stream",
     "text": [
      "a\n"
     ]
    }
   ],
   "source": [
    "#18 WAP to check whether a given character is uppercase or other \n",
    "#character. if uppercase, display the uppercase with character or else\n",
    "#display the othercharacter with character.\n",
    "n='a'\n",
    "if 'A'<=n<='Z':\n",
    "    print(n)\n",
    "else:\n",
    "    print(n)\n"
   ]
  },
  {
   "cell_type": "code",
   "execution_count": 14,
   "metadata": {},
   "outputs": [
    {
     "name": "stdout",
     "output_type": "stream",
     "text": [
      "A\n"
     ]
    }
   ],
   "source": [
    "#19 WAP to check whether a given character is lowercase or other \n",
    "#character. if lowercase, display the lowercase with character or else\n",
    "#display the other character with character.\n",
    "n='A'\n",
    "if 'a'<=n<='z':\n",
    "    print(n)\n",
    "else:\n",
    "    print(n)\n"
   ]
  },
  {
   "cell_type": "code",
   "execution_count": 17,
   "metadata": {},
   "outputs": [
    {
     "name": "stdout",
     "output_type": "stream",
     "text": [
      "a\n"
     ]
    }
   ],
   "source": [
    "#20 WAP to check whether a given character is uppercase or other\n",
    "#character. ifuppercase, convert to lowercase .or else display the ascii\n",
    "#number.\n",
    "n='A'\n",
    "if 'A'<=n<='Z':\n",
    "    print(chr(ord(n)+32))\n",
    "else:\n",
    "    print(ord(n))"
   ]
  },
  {
   "cell_type": "code",
   "execution_count": 54,
   "metadata": {},
   "outputs": [
    {
     "name": "stdout",
     "output_type": "stream",
     "text": [
      "d\n"
     ]
    }
   ],
   "source": [
    "#21 WAP to check whether the given character is in lowercase or \n",
    "#uppercase. If it isin lowercase, convert it into uppercase, or else it is in \n",
    "#uppercase and convert itinto lowercase. Display the value\n",
    "n='D'\n",
    "if 'A'<=n<='Z':\n",
    "    print(chr(ord(n)+32))\n",
    "else:\n",
    "    print(chr(ord(n)-32))\n"
   ]
  },
  {
   "cell_type": "code",
   "execution_count": 56,
   "metadata": {},
   "outputs": [
    {
     "name": "stdout",
     "output_type": "stream",
     "text": [
      "ini\n"
     ]
    }
   ],
   "source": [
    "#22 WAP to check whether the given string of the first character is a special\n",
    "#symbol or not. If a special symbol, to extract and display the middle\n",
    "#character or else toreverse the string and display the half of the string\n",
    "n='nandini'\n",
    "if n[0]==('A'<=n<='Z' and 'a'<=n<='z' and '0'<=n<='9'):\n",
    "    print(n[len(n)//2])\n",
    "else:\n",
    "    v=n[::-1]\n",
    "    print(v[:len(v)//2:])"
   ]
  },
  {
   "cell_type": "code",
   "execution_count": 30,
   "metadata": {},
   "outputs": [
    {
     "name": "stdout",
     "output_type": "stream",
     "text": [
      "vowel\n"
     ]
    }
   ],
   "source": [
    "#23 WAP to check whether the input character is a vowel or not. If it is\n",
    "#vowel print‘VOWEL’ along with that character, if it is not just print\n",
    "#‘CONSONANT’.\n",
    "n='a'\n",
    "if n in 'aeiouAEIOU':\n",
    "    print(\"vowel\")\n",
    "else:\n",
    "    print(\"consonant\")\n"
   ]
  },
  {
   "cell_type": "code",
   "execution_count": 33,
   "metadata": {},
   "outputs": [
    {
     "name": "stdout",
     "output_type": "stream",
     "text": [
      "r\n"
     ]
    }
   ],
   "source": [
    "#24 WAP to check whether a given character is a vowel or consonant. if\n",
    "#vowel, toprint the next character of a given character or else print\n",
    "#previous characters.\n",
    "n='s'\n",
    "if n in 'aeiouAEIOU':\n",
    "    print(chr(ord(n)+1))\n",
    "else:\n",
    "    print(chr(ord(n)-1))\n",
    "\n"
   ]
  },
  {
   "cell_type": "code",
   "execution_count": 37,
   "metadata": {},
   "outputs": [
    {
     "name": "stdout",
     "output_type": "stream",
     "text": [
      "a\n"
     ]
    }
   ],
   "source": [
    "#25 WAP to check whether a given string of first character is alphabet or not\n",
    "#if the alphabet prints, reverse the string or else print the middle character.\n",
    "n='alphabet'\n",
    "if n[0]==('A'<=n<='Z' or 'a'<=n<='z' or '0'<=n<='9'):\n",
    "    v=n[::-1]\n",
    "    print(v)\n",
    "else:\n",
    "    print(n[len(n)//2])"
   ]
  },
  {
   "cell_type": "code",
   "execution_count": 53,
   "metadata": {},
   "outputs": [
    {
     "name": "stdout",
     "output_type": "stream",
     "text": [
      "D\n"
     ]
    }
   ],
   "source": [
    "#26 WAP to check whether the given input character is uppercase or\n",
    "#lowercase. Ifthe input character is upper case convert into lower case and\n",
    "#vice versa\n",
    "n='d'\n",
    "if 'A'<=n<='Z':\n",
    "    print(chr(ord(n)+32))\n",
    "else:\n",
    "    print(chr(ord(n)-32))\n"
   ]
  },
  {
   "cell_type": "code",
   "execution_count": 52,
   "metadata": {},
   "outputs": [
    {
     "name": "stdout",
     "output_type": "stream",
     "text": [
      "hello\n"
     ]
    }
   ],
   "source": [
    "#27 WAP to check whether a given string is less than 3 characters, to print the\n",
    "#entirestring otherwise to print after third positions to the remaining\n",
    "#string.\n",
    "a='haihello'\n",
    "if len(a)<3:\n",
    "    print(a[::1])\n",
    "else:\n",
    "    print(a[2+1::])"
   ]
  },
  {
   "cell_type": "code",
   "execution_count": 47,
   "metadata": {},
   "outputs": [
    {
     "name": "stdout",
     "output_type": "stream",
     "text": [
      "haiibye\n"
     ]
    }
   ],
   "source": [
    "#28 WAP to check whether a given length of the string is even or not. if\n",
    "#even, toappend the new string called \"bye\" or else print the first and last\n",
    "#characters\n",
    "a='haii'\n",
    "if len(a)%2==0:\n",
    "    a+='bye'\n",
    "    print(a)\n",
    "else:\n",
    "    print(a[0]+a[-1])"
   ]
  },
  {
   "cell_type": "code",
   "execution_count": 51,
   "metadata": {},
   "outputs": [
    {
     "name": "stdout",
     "output_type": "stream",
     "text": [
      "haiibye\n"
     ]
    }
   ],
   "source": [
    "#29 WAP to check whether a given length of the string is odd or not. if odd, to \n",
    "#append the new string(\"Haii\") from the starting of the given string, or else \n",
    "#to avoid the starting character and ending character of the given\n",
    "a='bye'\n",
    "if len(a)%2!=0:\n",
    "    a='haii'+a\n",
    "    print(a)\n",
    "else:\n",
    "    print(a[::1])"
   ]
  },
  {
   "cell_type": "code",
   "execution_count": 64,
   "metadata": {},
   "outputs": [
    {
     "name": "stdout",
     "output_type": "stream",
     "text": [
      "dcba\n"
     ]
    }
   ],
   "source": [
    "#30 WAP to check whether the last of the given string is a special character or \n",
    "#not, if the special character prints reverse the string except the last \n",
    "#character or else to check if the length of the string is odd or not, if odd to\n",
    "#extract the middle character to the end of the string.\n",
    "a='abcd$'\n",
    "if a[-1] != ('a'<=a<='b' or 'A'<=a<='B' or '0'<=a<='9'):\n",
    "    print(a[-2::-1])\n",
    "elif len(a)%2!=0:\n",
    "        print(a[len(a)//2:])\n",
    "    \n"
   ]
  },
  {
   "cell_type": "code",
   "execution_count": 58,
   "metadata": {},
   "outputs": [
    {
     "name": "stdout",
     "output_type": "stream",
     "text": [
      "leap year\n"
     ]
    }
   ],
   "source": [
    "#31 WAP to check whether a given year is a leap year or not. if leap year,\n",
    "#print leapyear or else not a leap year\n",
    "n=2020\n",
    "if n%4==0:\n",
    "    print('leap year')\n",
    "else:\n",
    "    print('not leap year')"
   ]
  },
  {
   "cell_type": "code",
   "execution_count": 59,
   "metadata": {},
   "outputs": [
    {
     "name": "stdout",
     "output_type": "stream",
     "text": [
      "30\n"
     ]
    }
   ],
   "source": [
    "#32 WAP to find out the greatest of two numbers and display the greatest\n",
    "#number. ifthe greatest number, display the greatest message with value\n",
    "n=20\n",
    "m=30\n",
    "if n>m:\n",
    "    print(n)\n",
    "else:\n",
    "    print(m)"
   ]
  },
  {
   "cell_type": "code",
   "execution_count": 65,
   "metadata": {},
   "outputs": [
    {
     "name": "stdout",
     "output_type": "stream",
     "text": [
      "value is available\n"
     ]
    }
   ],
   "source": [
    "#33 WAP to check whether the given value is present inside the given \n",
    "#collection ornot.if value is present, display the value is available or else \n",
    "#the value is not present.\n",
    "a=[10,20,30,40,50]\n",
    "b=10\n",
    "if b in a:\n",
    "    print('value is available')\n",
    "else:\n",
    "    print('value is not available')"
   ]
  },
  {
   "cell_type": "code",
   "execution_count": 71,
   "metadata": {},
   "outputs": [
    {
     "name": "stdout",
     "output_type": "stream",
     "text": [
      "iandinn\n"
     ]
    }
   ],
   "source": [
    "#34 WAP whether a given string, if string length is more than 2, then it displays \n",
    "#a new string with the first and last characters switched, otherwise the \n",
    "#display the 3 copies of given string.\n",
    "n='nandini'\n",
    "if len(n)>2:\n",
    "    print(chr(ord(n[-1]))+n[1:len(n)-1]+chr(ord(n[0])))\n",
    "else:\n",
    "    print(n*3)\n",
    "    "
   ]
  },
  {
   "cell_type": "code",
   "execution_count": 74,
   "metadata": {},
   "outputs": [
    {
     "name": "stdout",
     "output_type": "stream",
     "text": [
      "[3.3333333333333335, 20, 30, -41]\n"
     ]
    }
   ],
   "source": [
    "#35 WAP to check whether a given value is a list and first and last values \n",
    "#should beinteger if condition is satisfied first value is True division by 3\n",
    "#and perform the bitwise not for last value and those result values are\n",
    "#stored in same positions in given list or else, to perform length of the \n",
    "#collection power by 2 and display value.\n",
    "a=[10,20,30,40]\n",
    "if type(a)==list and type(a[0])==int and type(a[-1])==int:\n",
    "    a[0]=a[0]/3\n",
    "    a[-1]=~a[-1]\n",
    "    print(a)\n",
    "else:\n",
    "    print(len(a)**2)"
   ]
  },
  {
   "cell_type": "code",
   "execution_count": 77,
   "metadata": {},
   "outputs": [
    {
     "name": "stdout",
     "output_type": "stream",
     "text": [
      "abcdnewefgh\n"
     ]
    }
   ],
   "source": [
    "#36 WAP to check whether a given value is a string or not and length of the \n",
    "#value should be more than 7, if condition is satisfied to append the new \n",
    "#string in the middle of the given string or else to perform the replications \n",
    "#with 3 and display the result.\n",
    "a='abcdefgh'\n",
    "if type(a)==str and len(a)>7 :\n",
    "    print(a[0:len(a)//2]+'new'+a[len(a)//2:])\n",
    "else:\n",
    "    print(a*3)"
   ]
  },
  {
   "cell_type": "code",
   "execution_count": 87,
   "metadata": {},
   "outputs": [
    {
     "name": "stdout",
     "output_type": "stream",
     "text": [
      "dccaefgh\n"
     ]
    }
   ],
   "source": [
    "#37 WAP to check if the given string of first and second character should be \n",
    "#sequence or not. if the sequence prints the first, second and last two\n",
    "#characters, or else thefirst half string is reversed and the remaining half \n",
    "#string should be normal anddisplay it.\n",
    "a='accdefgh'\n",
    "if ord(a[0])+1==ord(a[1]):\n",
    "    print(a[0:2]+a[6:])\n",
    "else:\n",
    "    print(a[0:len(a)//2][::-1]+a[len(a)//2:])"
   ]
  },
  {
   "cell_type": "code",
   "execution_count": 112,
   "metadata": {},
   "outputs": [
    {
     "name": "stdout",
     "output_type": "stream",
     "text": [
      "{1, 2, 3, 4, 5, 6, 7}\n"
     ]
    }
   ],
   "source": [
    "#40 WAP to check whether a given collection is set or not. if set, append the \n",
    "#new value, or else eliminate the duplicate values in collection. final\n",
    "#results should beset type.\n",
    "a={1,2,3,4,5,6}\n",
    "if type(a)==set:\n",
    "    a|={7}\n",
    "    print(a)\n",
    "else:\n",
    "    print(set(a))"
   ]
  },
  {
   "cell_type": "code",
   "execution_count": 113,
   "metadata": {},
   "outputs": [
    {
     "name": "stdout",
     "output_type": "stream",
     "text": [
      "18 eligible\n"
     ]
    }
   ],
   "source": [
    "#41 WAP to read the age of a candidate and determine whether it is eligible \n",
    "#for his/her own vote or not.it eligible print age and eligible messages or \n",
    "#else printnot eligible\n",
    "n=18\n",
    "if n>=18:\n",
    "    print(n,\"eligible\")\n",
    "else:\n",
    "    print(\"not eligible\")\n",
    "\n",
    "    "
   ]
  },
  {
   "cell_type": "code",
   "execution_count": 119,
   "metadata": {},
   "outputs": [
    {
     "name": "stdout",
     "output_type": "stream",
     "text": [
      "3\n"
     ]
    }
   ],
   "source": [
    "#42 WAP to check whether a given value is even and in between 47 to 58 and\n",
    "#not in0 or odd. if condition is True, to perform display the ascii character \n",
    "#or else to perform floor division with 5 and display it.\n",
    "n=51\n",
    "if n!=0 or n%2!=0 :\n",
    "    print(chr(n))\n",
    "else:\n",
    "    print(n//5)"
   ]
  },
  {
   "cell_type": "code",
   "execution_count": 4,
   "metadata": {},
   "outputs": [
    {
     "name": "stdout",
     "output_type": "stream",
     "text": [
      "mom palidrome\n"
     ]
    }
   ],
   "source": [
    "#43 WAP to check whether the given string is palindrome or not if it is a \n",
    "#palindrome string palindrome along with the string if it is not a\n",
    "#palindrome print not palindrome\n",
    "h='mom'\n",
    "if h[::1]==h[::-1]:\n",
    "    print(h,\"palidrome\")\n",
    "else:\n",
    "    print('not palidrome')\n"
   ]
  },
  {
   "cell_type": "code",
   "execution_count": 4,
   "metadata": {},
   "outputs": [
    {
     "ename": "SyntaxError",
     "evalue": "incomplete input (3251219399.py, line 5)",
     "output_type": "error",
     "traceback": [
      "\u001b[1;36m  Cell \u001b[1;32mIn[4], line 5\u001b[1;36m\u001b[0m\n\u001b[1;33m    print(reversed(n)\u001b[0m\n\u001b[1;37m                     ^\u001b[0m\n\u001b[1;31mSyntaxError\u001b[0m\u001b[1;31m:\u001b[0m incomplete input\n"
     ]
    }
   ],
   "source": [
    "#44  WAP to check whether a given number is palindrome or not. If\n",
    "#palindrome,display the given value as a palindrome or else not a\n",
    "#palindrome.\n",
    "n=777\n",
    "print(reversed(n)"
   ]
  },
  {
   "cell_type": "code",
   "execution_count": 7,
   "metadata": {},
   "outputs": [
    {
     "name": "stdout",
     "output_type": "stream",
     "text": [
      "qspiders pyspiders 8 9\n"
     ]
    }
   ],
   "source": [
    "#45 WAP to check length of both string collections are equal or not. if both\n",
    "#are equalprint the concat the two strings and display, or else if any one \n",
    "#of the collectionnot equal print both the collections with lengths\n",
    "n='qspiders'\n",
    "m='pyspiders'\n",
    "if len(n)==len(m):\n",
    "    e=n+m\n",
    "    print(e)\n",
    "else:\n",
    "    print(n,m,len(n),len(m))"
   ]
  },
  {
   "cell_type": "code",
   "execution_count": 16,
   "metadata": {},
   "outputs": [
    {
     "name": "stdout",
     "output_type": "stream",
     "text": [
      "1 5 2533836322560\n"
     ]
    }
   ],
   "source": [
    "#46 WAP to check whether both given values point to the same memory \n",
    "#location or not. if it is true print the middle item of the second collection, or \n",
    "#else if it is false print the first item and last item of the first collection along \n",
    "#with the memory address.\n",
    "n=[1,2,3,4,5]\n",
    "m=[1,2,3,4,5]\n",
    "if id(n)==id(m):\n",
    "    print(m[len(m)//2])\n",
    "else:\n",
    "    print(m[0],m[-1],id(m))\n"
   ]
  },
  {
   "cell_type": "code",
   "execution_count": 9,
   "metadata": {},
   "outputs": [
    {
     "name": "stdout",
     "output_type": "stream",
     "text": [
      "abcdefghijabcdefghijabcdefghij\n"
     ]
    }
   ],
   "source": [
    "#47 WAP to check whether a given string collection is more than ten, and the\n",
    "#first + last character of the ascii values should be divisible by 5, if\n",
    "#condition is satisfiedprint first, middle, last characters ASCII values or \n",
    "#else print the string three times.\n",
    "n='abcdefghij'\n",
    "if len(n)>10 and ord(n[0])+ord(n[-1])%5==0 :\n",
    "    print(ord(n[0],ord[len(n)//2],ord(n[-1])))\n",
    "else:\n",
    "    print(n*3)"
   ]
  },
  {
   "cell_type": "code",
   "execution_count": 10,
   "metadata": {},
   "outputs": [
    {
     "name": "stdout",
     "output_type": "stream",
     "text": [
      "[10, 20, 'a', 30, 40]\n"
     ]
    }
   ],
   "source": [
    "#48 WAP to check whether the middle of the item present in the list is string \n",
    "#data type or not if it is string print that list or else if it is not string then \n",
    "#print that middle item.\n",
    "n=[10,20,'a',30,40]\n",
    "if type(n[len(n)//2])==str:\n",
    "    print(n)\n",
    "else:\n",
    "    print(n[len(n)//2])"
   ]
  },
  {
   "cell_type": "code",
   "execution_count": 12,
   "metadata": {},
   "outputs": [
    {
     "name": "stdout",
     "output_type": "stream",
     "text": [
      "fbcdea\n"
     ]
    }
   ],
   "source": [
    "#49 WAP Given a string, return a new string where the first and last\n",
    "#characters havebeen exchanged.\n",
    "n='abcdef'\n",
    "if type(n)==str:\n",
    "    print(chr(ord(n[-1]))+n[1:len(n)-1:]+chr(ord(n[0])))\n"
   ]
  },
  {
   "cell_type": "code",
   "execution_count": 13,
   "metadata": {},
   "outputs": [
    {
     "name": "stdout",
     "output_type": "stream",
     "text": [
      "14\n"
     ]
    }
   ],
   "source": [
    "#50 Write a program to find out such numbers which are divisible by 7 but are \n",
    "#not a multiple of 5. Both the conditional is satisfied and print actual value.\n",
    "#if one condition is not satisfied actual number is multiply by 4 and print\n",
    "#result\n",
    "n=14\n",
    "if n%7==0 and n%5!=0 :\n",
    "    print(n)\n",
    "else:\n",
    "    print(n*4)"
   ]
  },
  {
   "cell_type": "code",
   "execution_count": 2,
   "metadata": {},
   "outputs": [
    {
     "name": "stdout",
     "output_type": "stream",
     "text": [
      "2675769672528 2675769672528\n"
     ]
    }
   ],
   "source": [
    "#51 WAP to check whether two values are pointing to the same memory \n",
    "#address or not. If the same memory displays the address or else displays \n",
    "#the two values addresses.\n",
    "n=20\n",
    "m=20\n",
    "if id(n)==id(m):\n",
    "    print(id(n),id(m))\n",
    "else:\n",
    "    print(id(n),id(m))\n"
   ]
  },
  {
   "cell_type": "code",
   "execution_count": 3,
   "metadata": {},
   "outputs": [
    {
     "name": "stdout",
     "output_type": "stream",
     "text": [
      "$$$\n"
     ]
    }
   ],
   "source": [
    "#52 WAP to check whether a given input character is a special symbol or not if \n",
    "#it is a special symbol then print that character three times and tell print \n",
    "#that character 5 times.\n",
    "n='$'\n",
    "if not ('a'<=n<='z' and 'A'<=n<='Z' and '0'<=n<='9'):\n",
    "    print(n*3)\n",
    "else:\n",
    "    print(n*5)\n"
   ]
  },
  {
   "cell_type": "code",
   "execution_count": 4,
   "metadata": {},
   "outputs": [
    {
     "name": "stdout",
     "output_type": "stream",
     "text": [
      "qwer\n"
     ]
    }
   ],
   "source": [
    "#53 WAP to check length of both string collections equal or not if it is equal\n",
    "#print theconnection of any one of the collections if it is not equal print\n",
    "#both the collection.\n",
    "n='qwer'\n",
    "m='tyui'\n",
    "if len(n)==len(m):\n",
    "    print(n)\n",
    "else:\n",
    "    pritn(n,m)"
   ]
  },
  {
   "cell_type": "code",
   "execution_count": 6,
   "metadata": {},
   "outputs": [
    {
     "name": "stdout",
     "output_type": "stream",
     "text": [
      "a 2675843479920\n"
     ]
    }
   ],
   "source": [
    "#54WAP To check whether both input variables point to the same memory \n",
    "#location or not if it is true print the last item of the second collection, if it is \n",
    "#false print the first item of the first collection along with the memory\n",
    "#address.\n",
    "n='asdf'\n",
    "m='qwer'\n",
    "if id(n)==id(m):\n",
    "    print(m[-1])\n",
    "else:\n",
    "    print(n[0],id(n))"
   ]
  },
  {
   "cell_type": "code",
   "execution_count": 17,
   "metadata": {},
   "outputs": [
    {
     "name": "stdout",
     "output_type": "stream",
     "text": [
      "t\n"
     ]
    }
   ],
   "source": [
    "#55 WAP to print the string collection five times when the length of the \n",
    "#string collection should be more than 3 and the middle character of the \n",
    "#string shouldbe vowel and the first character ASCII value should be even, \n",
    "#to print the previous character of middle character, or else if ASCII value\n",
    "#is odd then print the stringthree times as print that string.\n",
    "n='biuou'\n",
    "if len(n)>3 and n[len(n)//2] in 'aeiou' and ord(n[0])%2==0:\n",
    "    g=chr(ord(n[len(n)//2])-1)\n",
    "    print(g)\n",
    "else:\n",
    "    print(n*3)"
   ]
  },
  {
   "cell_type": "code",
   "execution_count": 29,
   "metadata": {},
   "outputs": [
    {
     "name": "stdout",
     "output_type": "stream",
     "text": [
      "he will buy the pen\n"
     ]
    }
   ],
   "source": [
    "#56 Ravi would like to buy a new cello or red pen. The cost of the pen should\n",
    "#be 10.If the pen is available in the shop, he will buy the pen. If it is not \n",
    "#there he will come out of the shop.\n",
    "n=\"cello pen\"\n",
    "m=10\n",
    "if m%10==0 and n in ('cello pen','red pen'):\n",
    "    print('he will buy the pen')\n",
    "else:\n",
    "    print('come out of the shop')\n",
    "\n"
   ]
  },
  {
   "cell_type": "code",
   "execution_count": 23,
   "metadata": {},
   "outputs": [
    {
     "name": "stdout",
     "output_type": "stream",
     "text": [
      "40\n"
     ]
    }
   ],
   "source": [
    "#57  WAP to perform addition and subtraction operation by using list collection \n",
    "#if the first and middle data items number are even performing addition\n",
    "#operation, orelse performing subtraction.\n",
    "n=[10,20,30,4,5]\n",
    "if n[0]%2==0 and n[len(n)//2]%2==0:\n",
    "    print(n[0]+n[len(n)//2])\n",
    "else:\n",
    "    print(n[0]-n[len(n)//2])"
   ]
  },
  {
   "cell_type": "code",
   "execution_count": 25,
   "metadata": {},
   "outputs": [
    {
     "name": "stdout",
     "output_type": "stream",
     "text": [
      "[1, 2, 3, 4, 5, 6]\n"
     ]
    }
   ],
   "source": [
    "#58 WAP to check whether the first item of these two lists is either integer\n",
    "#or not.If it is an integer, concatenate these two lists or else print the\n",
    "#memoryaddress of these two lists\n",
    "n=[1,2,3]\n",
    "m=[4,5,6]\n",
    "if type(n[0] and m[0])==int:\n",
    "    n+=m\n",
    "    print(n)\n",
    "else:\n",
    "    print(id(n),id(m))"
   ]
  }
 ],
 "metadata": {
  "kernelspec": {
   "display_name": "Python 3",
   "language": "python",
   "name": "python3"
  },
  "language_info": {
   "codemirror_mode": {
    "name": "ipython",
    "version": 3
   },
   "file_extension": ".py",
   "mimetype": "text/x-python",
   "name": "python",
   "nbconvert_exporter": "python",
   "pygments_lexer": "ipython3",
   "version": "3.10.11"
  },
  "orig_nbformat": 4
 },
 "nbformat": 4,
 "nbformat_minor": 2
}
