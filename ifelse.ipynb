{
 "cells": [
  {
   "cell_type": "code",
   "execution_count": 1,
   "metadata": {},
   "outputs": [
    {
     "name": "stdout",
     "output_type": "stream",
     "text": [
      "negative\n"
     ]
    }
   ],
   "source": [
    "#1 WAP to check whether a number is positive or negative. If Positive print positive \n",
    "#message or else print Negative Number.\n",
    "n=-3\n",
    "if n>0:\n",
    "    print(\"positive\")\n",
    "else:\n",
    "    print(\"negative\")"
   ]
  },
  {
   "cell_type": "code",
   "execution_count": null,
   "metadata": {},
   "outputs": [],
   "source": [
    "#2 WAP to check whether a number is even or odd. If even, print message an even \n",
    "#or else print message as odd.\n",
    "n=34\n",
    "if n%2==0:\n",
    "    print(\"even\")\n",
    "else:\n",
    "    print(\"odd\")"
   ]
  },
  {
   "cell_type": "code",
   "execution_count": null,
   "metadata": {},
   "outputs": [],
   "source": [
    "#3 Write a program to check whether a given number is greater than 10 or not. if it \n",
    "#is greater than 10 print message as greater or else print that number with not a \n",
    "#greater than.\n",
    "n=20\n",
    "if n>10:\n",
    "    print(\"greater\")\n",
    "else:\n",
    "    print(\"not greater\")"
   ]
  },
  {
   "cell_type": "code",
   "execution_count": null,
   "metadata": {},
   "outputs": [],
   "source": [
    "#4 WAP to check whether the given two input numbers are divisible by 3 and 5. If it \n",
    "#is divisible, print “Good Morning”, if it is not divisible print “Good Evening”.\n",
    "n=15\n",
    "s=30\n",
    "if n%3==0 and n%5==0 and s%3==0 and s%5==0:\n",
    "    print(\"goog morning\")\n",
    "else:\n",
    "    print(\"good evening\")"
   ]
  },
  {
   "cell_type": "code",
   "execution_count": null,
   "metadata": {},
   "outputs": [],
   "source": [
    "#5 WAP to accept two integers and check whether those two values are equal or not.\n",
    "#If equal, multiply to value or else to display the quotation value.\n",
    "n=20\n",
    "m=21\n",
    "if n==m:\n",
    "    print(n*m)\n",
    "else:\n",
    "    print(str(\"n\"),('m'))"
   ]
  },
  {
   "cell_type": "code",
   "execution_count": null,
   "metadata": {},
   "outputs": [],
   "source": [
    "#6 WAP to find the largest of two numbers.\n",
    "n=20\n",
    "m=30\n",
    "if n>m:\n",
    "    print(\"largest\")\n",
    "else:\n",
    "    print(\"not largest\")"
   ]
  },
  {
   "cell_type": "code",
   "execution_count": null,
   "metadata": {},
   "outputs": [],
   "source": [
    "#7 WAP to check whether the input number is greater than 10 or not if it is greater \n",
    "#than 10 print messages as greater with number. if it is not a greater than 10 print \n",
    "#that number.\n",
    "n=7\n",
    "if n>10:\n",
    "    print(\"greater\")\n",
    "else:\n",
    "    print(\"not greater\")"
   ]
  },
  {
   "cell_type": "code",
   "execution_count": null,
   "metadata": {},
   "outputs": [],
   "source": [
    "#8 WAP to the given number integer, if n is greater than 21,print the absolute \n",
    "#difference between n and 21 otherwise print twice the absolute difference.\n",
    "n=10\n",
    "if n>21:\n",
    "    print(abs(n))\n",
    "else:\n",
    "    print(abs(n)*2)\n",
    "    "
   ]
  },
  {
   "cell_type": "code",
   "execution_count": null,
   "metadata": {},
   "outputs": [],
   "source": [
    "#9 WAP to find the smallest of two numbers.\n",
    "n=10\n",
    "m=20\n",
    "if n<m:\n",
    "    print(\"smallest\")\n",
    "else:\n",
    "    print(\"not smallest\")"
   ]
  },
  {
   "cell_type": "code",
   "execution_count": null,
   "metadata": {},
   "outputs": [],
   "source": [
    "#10 WAP to check whether the given number is even or odd. If it is even then make \n",
    "#it as an add number, if it is an odd number then make it as even number.\n",
    "n=20\n",
    "if n%2==0:\n",
    "    print(n+1)\n",
    "else:\n",
    "    print(n-1)"
   ]
  },
  {
   "cell_type": "code",
   "execution_count": null,
   "metadata": {},
   "outputs": [],
   "source": [
    "#11 WAP to check whether the given number is divisible by 3 or not if yes, print the \n",
    "#number or else print the cube of the numbers.\n",
    "n=15\n",
    "if n%3==0:\n",
    "    print(n)\n",
    "else:\n",
    "    print(n**3)"
   ]
  },
  {
   "cell_type": "code",
   "execution_count": null,
   "metadata": {},
   "outputs": [],
   "source": [
    "#12 WAP to check whether the given input is divisible by 3 and 5. If yes print the \n",
    "#actual number or else print string of that number.\n",
    "n=10\n",
    "m=30\n",
    "if n%3==0 and n%5==0:\n",
    "    print(n,m)\n",
    "else:\n",
    "    print(str(n),str(m))"
   ]
  },
  {
   "cell_type": "code",
   "execution_count": null,
   "metadata": {},
   "outputs": [
    {
     "name": "stdout",
     "output_type": "stream",
     "text": [
      "225\n"
     ]
    }
   ],
   "source": [
    "#13 WAP to check whether the given number lies between 1 to 19, if it is true square \n",
    "#that number or else false cube that number and display the number.\n",
    "n=15\n",
    "if 1<=n<=19:\n",
    "    print(15**2)\n",
    "else:\n",
    "    print(n**3)"
   ]
  },
  {
   "cell_type": "code",
   "execution_count": null,
   "metadata": {},
   "outputs": [],
   "source": [
    "#14 WAP to check whether the student has passed or failed. If the student got more \n",
    "#than 40 marks, print ‘PASS’ along with those marks, if it is not printed ‘FAIL’ along \n",
    "#with those marks.\n",
    "n=80\n",
    "if n>40:\n",
    "    print(\"PASS\")\n",
    "else:\n",
    "    print(\"FAIL\")\n"
   ]
  },
  {
   "cell_type": "code",
   "execution_count": null,
   "metadata": {},
   "outputs": [],
   "source": [
    "#15 WAP to check whether a given value is even and in range of 47 to 58 and not in 0 \n",
    "#or odd. if condition is True, to perform display the ascii character. or else to \n",
    "#perform floor division with 5 and display it.\n",
    "n=52\n",
    "if 47<=n<58 and n!=0 or n%2!=0:\n",
    "    print(chr(n))\n",
    "else:\n",
    "    print(n//5)"
   ]
  },
  {
   "cell_type": "code",
   "execution_count": null,
   "metadata": {},
   "outputs": [],
   "source": [
    "#16 WAP to check whether a given value is less than 125 and in between 47 to 125 or \n",
    "#not. if condition is True, to perform store the given value as key and value as a \n",
    "#character into the dict or else to append the value in list and display it.\n"
   ]
  },
  {
   "cell_type": "code",
   "execution_count": null,
   "metadata": {},
   "outputs": [],
   "source": []
  }
 ],
 "metadata": {
  "kernelspec": {
   "display_name": "Python 3",
   "language": "python",
   "name": "python3"
  },
  "language_info": {
   "codemirror_mode": {
    "name": "ipython",
    "version": 3
   },
   "file_extension": ".py",
   "mimetype": "text/x-python",
   "name": "python",
   "nbconvert_exporter": "python",
   "pygments_lexer": "ipython3",
   "version": "3.10.11"
  },
  "orig_nbformat": 4
 },
 "nbformat": 4,
 "nbformat_minor": 2
}
