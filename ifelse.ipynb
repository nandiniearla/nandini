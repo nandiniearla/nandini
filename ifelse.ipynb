{
 "cells": [
  {
   "cell_type": "code",
   "execution_count": 1,
   "metadata": {},
   "outputs": [
    {
     "name": "stdout",
     "output_type": "stream",
     "text": [
      "negative\n"
     ]
    }
   ],
   "source": [
    "#1 WAP to check whether a number is positive or negative. If Positive print positive \n",
    "#message or else print Negative Number.\n",
    "n=-3\n",
    "if n>0:\n",
    "    print(\"positive\")\n",
    "else:\n",
    "    print(\"negative\")"
   ]
  },
  {
   "cell_type": "code",
   "execution_count": null,
   "metadata": {},
   "outputs": [],
   "source": [
    "#2 WAP to check whether a number is even or odd. If even, print message an even \n",
    "#or else print message as odd.\n",
    "n=34\n",
    "if n%2==0:\n",
    "    print(\"even\")\n",
    "else:\n",
    "    print(\"odd\")"
   ]
  },
  {
   "cell_type": "code",
   "execution_count": null,
   "metadata": {},
   "outputs": [],
   "source": [
    "#3 Write a program to check whether a given number is greater than 10 or not. if it \n",
    "#is greater than 10 print message as greater or else print that number with not a \n",
    "#greater than.\n",
    "n=20\n",
    "if n>10:\n",
    "    print(\"greater\")\n",
    "else:\n",
    "    print(\"not greater\")"
   ]
  },
  {
   "cell_type": "code",
   "execution_count": null,
   "metadata": {},
   "outputs": [],
   "source": [
    "#4 WAP to check whether the given two input numbers are divisible by 3 and 5. If it \n",
    "#is divisible, print “Good Morning”, if it is not divisible print “Good Evening”.\n",
    "n=15\n",
    "s=30\n",
    "if n%3==0 and n%5==0 and s%3==0 and s%5==0:\n",
    "    print(\"goog morning\")\n",
    "else:\n",
    "    print(\"good evening\")"
   ]
  },
  {
   "cell_type": "code",
   "execution_count": 1,
   "metadata": {},
   "outputs": [
    {
     "name": "stdout",
     "output_type": "stream",
     "text": [
      "n m\n"
     ]
    }
   ],
   "source": [
    "#5 WAP to accept two integers and check whether those two values are equal or not.\n",
    "#If equal, multiply to value or else to display the quotation value.\n",
    "n=20\n",
    "m=21\n",
    "if n==m:\n",
    "    print(n*m)\n",
    "else:\n",
    "    print(str(\"n\"),('m'))"
   ]
  },
  {
   "cell_type": "code",
   "execution_count": 2,
   "metadata": {},
   "outputs": [
    {
     "name": "stdout",
     "output_type": "stream",
     "text": [
      "not largest\n"
     ]
    }
   ],
   "source": [
    "#6 WAP to find the largest of two numbers.\n",
    "n=20\n",
    "m=30\n",
    "if n>m:\n",
    "    print(\"largest\")\n",
    "else:\n",
    "    print(\"not largest\")"
   ]
  },
  {
   "cell_type": "code",
   "execution_count": 1,
   "metadata": {},
   "outputs": [
    {
     "name": "stdout",
     "output_type": "stream",
     "text": [
      "'e' appears 4 times in 'experience'.\n"
     ]
    }
   ],
   "source": [
    "text = \"experience\"\n",
    "letter = 'e'\n",
    "count = text.count(letter)\n",
    "\n",
    "print(f\"'{letter}' appears {count} times in '{text}'.\")\n"
   ]
  },
  {
   "cell_type": "code",
   "execution_count": null,
   "metadata": {},
   "outputs": [],
   "source": [
    "#7 WAP to check whether the input number is greater than 10 or not if it is greater \n",
    "#than 10 print messages as greater with number. if it is not a greater than 10 print \n",
    "#that number.\n",
    "n=7\n",
    "if n>10:\n",
    "    print(\"greater\")\n",
    "else:\n",
    "    print(\"not greater\")"
   ]
  },
  {
   "cell_type": "code",
   "execution_count": null,
   "metadata": {},
   "outputs": [],
   "source": [
    "#8 WAP to the given number integer, if n is greater than 21,print the absolute \n",
    "#difference between n and 21 otherwise print twice the absolute difference.\n",
    "n=10\n",
    "if n>21:\n",
    "    print(abs(n))\n",
    "else:\n",
    "    print(abs(n)*2)\n",
    "    "
   ]
  },
  {
   "cell_type": "code",
   "execution_count": null,
   "metadata": {},
   "outputs": [],
   "source": [
    "#9 WAP to find the smallest of two numbers.\n",
    "n=10\n",
    "m=20\n",
    "if n<m:\n",
    "    print(\"smallest\")\n",
    "else:\n",
    "    print(\"not smallest\")"
   ]
  },
  {
   "cell_type": "code",
   "execution_count": null,
   "metadata": {},
   "outputs": [],
   "source": [
    "#10 WAP to check whether the given number is even or odd. If it is even then make \n",
    "#it as an add number, if it is an odd number then make it as even number.\n",
    "n=20\n",
    "if n%2==0:\n",
    "    print(n+1)\n",
    "else:\n",
    "    print(n-1)"
   ]
  },
  {
   "cell_type": "code",
   "execution_count": null,
   "metadata": {},
   "outputs": [],
   "source": [
    "#11 WAP to check whether the given number is divisible by 3 or not if yes, print the \n",
    "#number or else print the cube of the numbers.\n",
    "n=15\n",
    "if n%3==0:\n",
    "    print(n)\n",
    "else:\n",
    "    print(n**3)"
   ]
  },
  {
   "cell_type": "code",
   "execution_count": null,
   "metadata": {},
   "outputs": [],
   "source": [
    "#12 WAP to check whether the given input is divisible by 3 and 5. If yes print the \n",
    "#actual number or else print string of that number.\n",
    "n=10\n",
    "m=30\n",
    "if n%3==0 and n%5==0:\n",
    "    print(n,m)\n",
    "else:\n",
    "    print(str(n),str(m))"
   ]
  },
  {
   "cell_type": "code",
   "execution_count": null,
   "metadata": {},
   "outputs": [
    {
     "name": "stdout",
     "output_type": "stream",
     "text": [
      "225\n"
     ]
    }
   ],
   "source": [
    "#13 WAP to check whether the given number lies between 1 to 19, if it is true square \n",
    "#that number or else false cube that number and display the number.\n",
    "n=15\n",
    "if 1<=n<=19:\n",
    "    print(15**2)\n",
    "else:\n",
    "    print(n**3)"
   ]
  },
  {
   "cell_type": "code",
   "execution_count": null,
   "metadata": {},
   "outputs": [],
   "source": [
    "#14 WAP to check whether the student has passed or failed. If the student got more \n",
    "#than 40 marks, print ‘PASS’ along with those marks, if it is not printed ‘FAIL’ along \n",
    "#with those marks.\n",
    "n=80\n",
    "if n>40:\n",
    "    print(\"PASS\")\n",
    "else:\n",
    "    print(\"FAIL\")\n"
   ]
  },
  {
   "cell_type": "code",
   "execution_count": null,
   "metadata": {},
   "outputs": [],
   "source": [
    "#15 WAP to check whether a given value is even and in range of 47 to 58 and not in 0 \n",
    "#or odd. if condition is True, to perform display the ascii character. or else to \n",
    "#perform floor division with 5 and display it.\n",
    "n=52\n",
    "if 47<=n<58 and n!=0 or n%2!=0:\n",
    "    print(chr(n))\n",
    "else:\n",
    "    print(n//5)"
   ]
  },
  {
   "cell_type": "code",
   "execution_count": 4,
   "metadata": {},
   "outputs": [
    {
     "name": "stdout",
     "output_type": "stream",
     "text": [
      "{50: '2'}\n"
     ]
    }
   ],
   "source": [
    "#16 WAP to check whether a given value is less than 125 and in between 47 to 125 or \n",
    "#not. if condition is True, to perform store the given value as key and value as a \n",
    "#character into the dict or else to append the value in list and display it.\n",
    "a=50\n",
    "b={}\n",
    "if 47<a<125:\n",
    "    b[a]=chr(a)\n",
    "    print(b)\n",
    "else:\n",
    "    d=[20,30]\n",
    "    d+=a\n",
    "    print(d)"
   ]
  },
  {
   "cell_type": "code",
   "execution_count": 11,
   "metadata": {},
   "outputs": [
    {
     "name": "stdout",
     "output_type": "stream",
     "text": [
      "character D\n"
     ]
    }
   ],
   "source": [
    "#17 WAP to check whether a given character is in the alphabet or not. if \n",
    "#alphabet, display the alphabet with character or else display the not\n",
    "#alphabet withcharacter.\n",
    "v='D'\n",
    "if 'a'<=v<='z' or 'A'<=v<='Z':\n",
    "    print(\"character\",v)\n",
    "else:\n",
    "    print(\"not alphabet\",v)\n",
    "\n"
   ]
  },
  {
   "cell_type": "code",
   "execution_count": 15,
   "metadata": {},
   "outputs": [
    {
     "name": "stdout",
     "output_type": "stream",
     "text": [
      "a\n"
     ]
    }
   ],
   "source": [
    "#18 WAP to check whether a given character is uppercase or other \n",
    "#character. if uppercase, display the uppercase with character or else\n",
    "#display the othercharacter with character.\n",
    "n='a'\n",
    "if 'A'<=n<='Z':\n",
    "    print(n)\n",
    "else:\n",
    "    print(n)\n"
   ]
  },
  {
   "cell_type": "code",
   "execution_count": 14,
   "metadata": {},
   "outputs": [
    {
     "name": "stdout",
     "output_type": "stream",
     "text": [
      "A\n"
     ]
    }
   ],
   "source": [
    "#19 WAP to check whether a given character is lowercase or other \n",
    "#character. if lowercase, display the lowercase with character or else\n",
    "#display the other character with character.\n",
    "n='A'\n",
    "if 'a'<=n<='z':\n",
    "    print(n)\n",
    "else:\n",
    "    print(n)\n"
   ]
  },
  {
   "cell_type": "code",
   "execution_count": 17,
   "metadata": {},
   "outputs": [
    {
     "name": "stdout",
     "output_type": "stream",
     "text": [
      "a\n"
     ]
    }
   ],
   "source": [
    "#20 WAP to check whether a given character is uppercase or other\n",
    "#character. ifuppercase, convert to lowercase .or else display the ascii\n",
    "#number.\n",
    "n='A'\n",
    "if 'A'<=n<='Z':\n",
    "    print(chr(ord(n)+32))\n",
    "else:\n",
    "    print(ord(n))"
   ]
  },
  {
   "cell_type": "code",
   "execution_count": 54,
   "metadata": {},
   "outputs": [
    {
     "name": "stdout",
     "output_type": "stream",
     "text": [
      "d\n"
     ]
    }
   ],
   "source": [
    "#21 WAP to check whether the given character is in lowercase or \n",
    "#uppercase. If it isin lowercase, convert it into uppercase, or else it is in \n",
    "#uppercase and convert itinto lowercase. Display the value\n",
    "n='D'\n",
    "if 'A'<=n<='Z':\n",
    "    print(chr(ord(n)+32))\n",
    "else:\n",
    "    print(chr(ord(n)-32))\n"
   ]
  },
  {
   "cell_type": "code",
   "execution_count": 56,
   "metadata": {},
   "outputs": [
    {
     "name": "stdout",
     "output_type": "stream",
     "text": [
      "ini\n"
     ]
    }
   ],
   "source": [
    "#22 WAP to check whether the given string of the first character is a special\n",
    "#symbol or not. If a special symbol, to extract and display the middle\n",
    "#character or else toreverse the string and display the half of the string\n",
    "n='nandini'\n",
    "if n[0]==('A'<=n<='Z' and 'a'<=n<='z' and '0'<=n<='9'):\n",
    "    print(n[len(n)//2])\n",
    "else:\n",
    "    v=n[::-1]\n",
    "    print(v[:len(v)//2:])"
   ]
  },
  {
   "cell_type": "code",
   "execution_count": 30,
   "metadata": {},
   "outputs": [
    {
     "name": "stdout",
     "output_type": "stream",
     "text": [
      "vowel\n"
     ]
    }
   ],
   "source": [
    "#23 WAP to check whether the input character is a vowel or not. If it is\n",
    "#vowel print‘VOWEL’ along with that character, if it is not just print\n",
    "#‘CONSONANT’.\n",
    "n='a'\n",
    "if n in 'aeiouAEIOU':\n",
    "    print(\"vowel\")\n",
    "else:\n",
    "    print(\"consonant\")\n"
   ]
  },
  {
   "cell_type": "code",
   "execution_count": 33,
   "metadata": {},
   "outputs": [
    {
     "name": "stdout",
     "output_type": "stream",
     "text": [
      "r\n"
     ]
    }
   ],
   "source": [
    "#24 WAP to check whether a given character is a vowel or consonant. if\n",
    "#vowel, toprint the next character of a given character or else print\n",
    "#previous characters.\n",
    "n='s'\n",
    "if n in 'aeiouAEIOU':\n",
    "    print(chr(ord(n)+1))\n",
    "else:\n",
    "    print(chr(ord(n)-1))\n",
    "\n"
   ]
  },
  {
   "cell_type": "code",
   "execution_count": 37,
   "metadata": {},
   "outputs": [
    {
     "name": "stdout",
     "output_type": "stream",
     "text": [
      "a\n"
     ]
    }
   ],
   "source": [
    "#25 WAP to check whether a given string of first character is alphabet or not\n",
    "#if the alphabet prints, reverse the string or else print the middle character.\n",
    "n='alphabet'\n",
    "if n[0]==('A'<=n<='Z' or 'a'<=n<='z' or '0'<=n<='9'):\n",
    "    v=n[::-1]\n",
    "    print(v)\n",
    "else:\n",
    "    print(n[len(n)//2])"
   ]
  },
  {
   "cell_type": "code",
   "execution_count": 53,
   "metadata": {},
   "outputs": [
    {
     "name": "stdout",
     "output_type": "stream",
     "text": [
      "D\n"
     ]
    }
   ],
   "source": [
    "#26 WAP to check whether the given input character is uppercase or\n",
    "#lowercase. Ifthe input character is upper case convert into lower case and\n",
    "#vice versa\n",
    "n='d'\n",
    "if 'A'<=n<='Z':\n",
    "    print(chr(ord(n)+32))\n",
    "else:\n",
    "    print(chr(ord(n)-32))\n"
   ]
  },
  {
   "cell_type": "code",
   "execution_count": 52,
   "metadata": {},
   "outputs": [
    {
     "name": "stdout",
     "output_type": "stream",
     "text": [
      "hello\n"
     ]
    }
   ],
   "source": [
    "#27 WAP to check whether a given string is less than 3 characters, to print the\n",
    "#entirestring otherwise to print after third positions to the remaining\n",
    "#string.\n",
    "a='haihello'\n",
    "if len(a)<3:\n",
    "    print(a[::1])\n",
    "else:\n",
    "    print(a[2+1::])"
   ]
  },
  {
   "cell_type": "code",
   "execution_count": 47,
   "metadata": {},
   "outputs": [
    {
     "name": "stdout",
     "output_type": "stream",
     "text": [
      "haiibye\n"
     ]
    }
   ],
   "source": [
    "#28 WAP to check whether a given length of the string is even or not. if\n",
    "#even, toappend the new string called \"bye\" or else print the first and last\n",
    "#characters\n",
    "a='haii'\n",
    "if len(a)%2==0:\n",
    "    a+='bye'\n",
    "    print(a)\n",
    "else:\n",
    "    print(a[0]+a[-1])"
   ]
  },
  {
   "cell_type": "code",
   "execution_count": 51,
   "metadata": {},
   "outputs": [
    {
     "name": "stdout",
     "output_type": "stream",
     "text": [
      "haiibye\n"
     ]
    }
   ],
   "source": [
    "#29 WAP to check whether a given length of the string is odd or not. if odd, to \n",
    "#append the new string(\"Haii\") from the starting of the given string, or else \n",
    "#to avoid the starting character and ending character of the given\n",
    "a='bye'\n",
    "if len(a)%2!=0:\n",
    "    a='haii'+a\n",
    "    print(a)\n",
    "else:\n",
    "    print(a[::1])"
   ]
  },
  {
   "cell_type": "code",
   "execution_count": 64,
   "metadata": {},
   "outputs": [
    {
     "name": "stdout",
     "output_type": "stream",
     "text": [
      "dcba\n"
     ]
    }
   ],
   "source": [
    "#30 WAP to check whether the last of the given string is a special character or \n",
    "#not, if the special character prints reverse the string except the last \n",
    "#character or else to check if the length of the string is odd or not, if odd to\n",
    "#extract the middle character to the end of the string.\n",
    "a='abcd$'\n",
    "if a[-1] != ('a'<=a<='b' or 'A'<=a<='B' or '0'<=a<='9'):\n",
    "    print(a[-2::-1])\n",
    "elif len(a)%2!=0:\n",
    "        print(a[len(a)//2:])\n",
    "    \n"
   ]
  },
  {
   "cell_type": "code",
   "execution_count": 58,
   "metadata": {},
   "outputs": [
    {
     "name": "stdout",
     "output_type": "stream",
     "text": [
      "leap year\n"
     ]
    }
   ],
   "source": [
    "#31 WAP to check whether a given year is a leap year or not. if leap year,\n",
    "#print leapyear or else not a leap year\n",
    "n=2020\n",
    "if n%4==0:\n",
    "    print('leap year')\n",
    "else:\n",
    "    print('not leap year')"
   ]
  },
  {
   "cell_type": "code",
   "execution_count": 59,
   "metadata": {},
   "outputs": [
    {
     "name": "stdout",
     "output_type": "stream",
     "text": [
      "30\n"
     ]
    }
   ],
   "source": [
    "#32 WAP to find out the greatest of two numbers and display the greatest\n",
    "#number. ifthe greatest number, display the greatest message with value\n",
    "n=20\n",
    "m=30\n",
    "if n>m:\n",
    "    print(n)\n",
    "else:\n",
    "    print(m)"
   ]
  },
  {
   "cell_type": "code",
   "execution_count": 65,
   "metadata": {},
   "outputs": [
    {
     "name": "stdout",
     "output_type": "stream",
     "text": [
      "value is available\n"
     ]
    }
   ],
   "source": [
    "#33 WAP to check whether the given value is present inside the given \n",
    "#collection ornot.if value is present, display the value is available or else \n",
    "#the value is not present.\n",
    "a=[10,20,30,40,50]\n",
    "b=10\n",
    "if b in a:\n",
    "    print('value is available')\n",
    "else:\n",
    "    print('value is not available')"
   ]
  },
  {
   "cell_type": "code",
   "execution_count": 71,
   "metadata": {},
   "outputs": [
    {
     "name": "stdout",
     "output_type": "stream",
     "text": [
      "iandinn\n"
     ]
    }
   ],
   "source": [
    "#34 WAP whether a given string, if string length is more than 2, then it displays \n",
    "#a new string with the first and last characters switched, otherwise the \n",
    "#display the 3 copies of given string.\n",
    "n='nandini'\n",
    "if len(n)>2:\n",
    "    print(chr(ord(n[-1]))+n[1:len(n)-1]+chr(ord(n[0])))\n",
    "else:\n",
    "    print(n*3)\n",
    "    "
   ]
  },
  {
   "cell_type": "code",
   "execution_count": 74,
   "metadata": {},
   "outputs": [
    {
     "name": "stdout",
     "output_type": "stream",
     "text": [
      "[3.3333333333333335, 20, 30, -41]\n"
     ]
    }
   ],
   "source": [
    "#35 WAP to check whether a given value is a list and first and last values \n",
    "#should beinteger if condition is satisfied first value is True division by 3\n",
    "#and perform the bitwise not for last value and those result values are\n",
    "#stored in same positions in given list or else, to perform length of the \n",
    "#collection power by 2 and display value.\n",
    "a=[10,20,30,40]\n",
    "if type(a)==list and type(a[0])==int and type(a[-1])==int:\n",
    "    a[0]=a[0]/3\n",
    "    a[-1]=~a[-1]\n",
    "    print(a)\n",
    "else:\n",
    "    print(len(a)**2)"
   ]
  },
  {
   "cell_type": "code",
   "execution_count": 77,
   "metadata": {},
   "outputs": [
    {
     "name": "stdout",
     "output_type": "stream",
     "text": [
      "abcdnewefgh\n"
     ]
    }
   ],
   "source": [
    "#36 WAP to check whether a given value is a string or not and length of the \n",
    "#value should be more than 7, if condition is satisfied to append the new \n",
    "#string in the middle of the given string or else to perform the replications \n",
    "#with 3 and display the result.\n",
    "a='abcdefgh'\n",
    "if type(a)==str and len(a)>7 :\n",
    "    print(a[0:len(a)//2]+'new'+a[len(a)//2:])\n",
    "else:\n",
    "    print(a*3)"
   ]
  },
  {
   "cell_type": "code",
   "execution_count": 87,
   "metadata": {},
   "outputs": [
    {
     "name": "stdout",
     "output_type": "stream",
     "text": [
      "dccaefgh\n"
     ]
    }
   ],
   "source": [
    "#37 WAP to check if the given string of first and second character should be \n",
    "#sequence or not. if the sequence prints the first, second and last two\n",
    "#characters, or else thefirst half string is reversed and the remaining half \n",
    "#string should be normal anddisplay it.\n",
    "a='accdefgh'\n",
    "if ord(a[0])+1==ord(a[1]):\n",
    "    print(a[0:2]+a[6:])\n",
    "else:\n",
    "    print(a[0:len(a)//2][::-1]+a[len(a)//2:])"
   ]
  },
  {
   "cell_type": "code",
   "execution_count": 112,
   "metadata": {},
   "outputs": [
    {
     "name": "stdout",
     "output_type": "stream",
     "text": [
      "{1, 2, 3, 4, 5, 6, 7}\n"
     ]
    }
   ],
   "source": [
    "#40 WAP to check whether a given collection is set or not. if set, append the \n",
    "#new value, or else eliminate the duplicate values in collection. final\n",
    "#results should beset type.\n",
    "a={1,2,3,4,5,6}\n",
    "if type(a)==set:\n",
    "    a|={7}\n",
    "    print(a)\n",
    "else:\n",
    "    print(set(a))"
   ]
  },
  {
   "cell_type": "code",
   "execution_count": 113,
   "metadata": {},
   "outputs": [
    {
     "name": "stdout",
     "output_type": "stream",
     "text": [
      "18 eligible\n"
     ]
    }
   ],
   "source": [
    "#41 WAP to read the age of a candidate and determine whether it is eligible \n",
    "#for his/her own vote or not.it eligible print age and eligible messages or \n",
    "#else printnot eligible\n",
    "n=18\n",
    "if n>=18:\n",
    "    print(n,\"eligible\")\n",
    "else:\n",
    "    print(\"not eligible\")\n",
    "\n",
    "    "
   ]
  },
  {
   "cell_type": "code",
   "execution_count": 119,
   "metadata": {},
   "outputs": [
    {
     "name": "stdout",
     "output_type": "stream",
     "text": [
      "3\n"
     ]
    }
   ],
   "source": [
    "#42 WAP to check whether a given value is even and in between 47 to 58 and\n",
    "#not in0 or odd. if condition is True, to perform display the ascii character \n",
    "#or else to perform floor division with 5 and display it.\n",
    "n=51\n",
    "if n!=0 or n%2!=0 :\n",
    "    print(chr(n))\n",
    "else:\n",
    "    print(n//5)"
   ]
  },
  {
   "cell_type": "code",
   "execution_count": 4,
   "metadata": {},
   "outputs": [
    {
     "name": "stdout",
     "output_type": "stream",
     "text": [
      "mom palidrome\n"
     ]
    }
   ],
   "source": [
    "#43 WAP to check whether the given string is palindrome or not if it is a \n",
    "#palindrome string palindrome along with the string if it is not a\n",
    "#palindrome print not palindrome\n",
    "h='mom'\n",
    "if h[::1]==h[::-1]:\n",
    "    print(h,\"palidrome\")\n",
    "else:\n",
    "    print('not palidrome')\n"
   ]
  },
  {
   "cell_type": "code",
   "execution_count": 33,
   "metadata": {},
   "outputs": [
    {
     "name": "stdout",
     "output_type": "stream",
     "text": [
      "777\n"
     ]
    }
   ],
   "source": [
    "#44  WAP to check whether a given number is palindrome or not. If\n",
    "#palindrome,display the given value as a palindrome or else not a\n",
    "#palindrome.\n",
    "n='777'\n",
    "if n==n[::-1]:\n",
    "    print(n)\n",
    "else:\n",
    "    print('not palidrome')"
   ]
  },
  {
   "cell_type": "code",
   "execution_count": 7,
   "metadata": {},
   "outputs": [
    {
     "name": "stdout",
     "output_type": "stream",
     "text": [
      "qspiders pyspiders 8 9\n"
     ]
    }
   ],
   "source": [
    "#45 WAP to check length of both string collections are equal or not. if both\n",
    "#are equalprint the concat the two strings and display, or else if any one \n",
    "#of the collectionnot equal print both the collections with lengths\n",
    "n='qspiders'\n",
    "m='pyspiders'\n",
    "if len(n)==len(m):\n",
    "    e=n+m\n",
    "    print(e)\n",
    "else:\n",
    "    print(n,m,len(n),len(m))"
   ]
  },
  {
   "cell_type": "code",
   "execution_count": 16,
   "metadata": {},
   "outputs": [
    {
     "name": "stdout",
     "output_type": "stream",
     "text": [
      "1 5 2533836322560\n"
     ]
    }
   ],
   "source": [
    "#46 WAP to check whether both given values point to the same memory \n",
    "#location or not. if it is true print the middle item of the second collection, or \n",
    "#else if it is false print the first item and last item of the first collection along \n",
    "#with the memory address.\n",
    "n=[1,2,3,4,5]\n",
    "m=[1,2,3,4,5]\n",
    "if id(n)==id(m):\n",
    "    print(m[len(m)//2])\n",
    "else:\n",
    "    print(m[0],m[-1],id(m))\n"
   ]
  },
  {
   "cell_type": "code",
   "execution_count": 9,
   "metadata": {},
   "outputs": [
    {
     "name": "stdout",
     "output_type": "stream",
     "text": [
      "abcdefghijabcdefghijabcdefghij\n"
     ]
    }
   ],
   "source": [
    "#47 WAP to check whether a given string collection is more than ten, and the\n",
    "#first + last character of the ascii values should be divisible by 5, if\n",
    "#condition is satisfiedprint first, middle, last characters ASCII values or \n",
    "#else print the string three times.\n",
    "n='abcdefghij'\n",
    "if len(n)>10 and ord(n[0])+ord(n[-1])%5==0 :\n",
    "    print(ord(n[0],ord[len(n)//2],ord(n[-1])))\n",
    "else:\n",
    "    print(n*3)"
   ]
  },
  {
   "cell_type": "code",
   "execution_count": 10,
   "metadata": {},
   "outputs": [
    {
     "name": "stdout",
     "output_type": "stream",
     "text": [
      "[10, 20, 'a', 30, 40]\n"
     ]
    }
   ],
   "source": [
    "#48 WAP to check whether the middle of the item present in the list is string \n",
    "#data type or not if it is string print that list or else if it is not string then \n",
    "#print that middle item.\n",
    "n=[10,20,'a',30,40]\n",
    "if type(n[len(n)//2])==str:\n",
    "    print(n)\n",
    "else:\n",
    "    print(n[len(n)//2])"
   ]
  },
  {
   "cell_type": "code",
   "execution_count": 12,
   "metadata": {},
   "outputs": [
    {
     "name": "stdout",
     "output_type": "stream",
     "text": [
      "fbcdea\n"
     ]
    }
   ],
   "source": [
    "#49 WAP Given a string, return a new string where the first and last\n",
    "#characters havebeen exchanged.\n",
    "n='abcdef'\n",
    "if type(n)==str:\n",
    "    print(chr(ord(n[-1]))+n[1:len(n)-1:]+chr(ord(n[0])))\n"
   ]
  },
  {
   "cell_type": "code",
   "execution_count": 13,
   "metadata": {},
   "outputs": [
    {
     "name": "stdout",
     "output_type": "stream",
     "text": [
      "14\n"
     ]
    }
   ],
   "source": [
    "#50 Write a program to find out such numbers which are divisible by 7 but are \n",
    "#not a multiple of 5. Both the conditional is satisfied and print actual value.\n",
    "#if one condition is not satisfied actual number is multiply by 4 and print\n",
    "#result\n",
    "n=14\n",
    "if n%7==0 and n%5!=0 :\n",
    "    print(n)\n",
    "else:\n",
    "    print(n*4)"
   ]
  },
  {
   "cell_type": "code",
   "execution_count": 2,
   "metadata": {},
   "outputs": [
    {
     "name": "stdout",
     "output_type": "stream",
     "text": [
      "2675769672528 2675769672528\n"
     ]
    }
   ],
   "source": [
    "#51 WAP to check whether two values are pointing to the same memory \n",
    "#address or not. If the same memory displays the address or else displays \n",
    "#the two values addresses.\n",
    "n=20\n",
    "m=20\n",
    "if id(n)==id(m):\n",
    "    print(id(n),id(m))\n",
    "else:\n",
    "    print(id(n),id(m))\n"
   ]
  },
  {
   "cell_type": "code",
   "execution_count": 3,
   "metadata": {},
   "outputs": [
    {
     "name": "stdout",
     "output_type": "stream",
     "text": [
      "$$$\n"
     ]
    }
   ],
   "source": [
    "#52 WAP to check whether a given input character is a special symbol or not if \n",
    "#it is a special symbol then print that character three times and tell print \n",
    "#that character 5 times.\n",
    "n='$'\n",
    "if not ('a'<=n<='z' and 'A'<=n<='Z' and '0'<=n<='9'):\n",
    "    print(n*3)\n",
    "else:\n",
    "    print(n*5)\n"
   ]
  },
  {
   "cell_type": "code",
   "execution_count": 4,
   "metadata": {},
   "outputs": [
    {
     "name": "stdout",
     "output_type": "stream",
     "text": [
      "qwer\n"
     ]
    }
   ],
   "source": [
    "#53 WAP to check length of both string collections equal or not if it is equal\n",
    "#print theconnection of any one of the collections if it is not equal print\n",
    "#both the collection.\n",
    "n='qwer'\n",
    "m='tyui'\n",
    "if len(n)==len(m):\n",
    "    print(n)\n",
    "else:\n",
    "    print(n,m)"
   ]
  },
  {
   "cell_type": "code",
   "execution_count": 6,
   "metadata": {},
   "outputs": [
    {
     "name": "stdout",
     "output_type": "stream",
     "text": [
      "a 2675843479920\n"
     ]
    }
   ],
   "source": [
    "#54WAP To check whether both input variables point to the same memory \n",
    "#location or not if it is true print the last item of the second collection, if it is \n",
    "#false print the first item of the first collection along with the memory\n",
    "#address.\n",
    "n='asdf'\n",
    "m='qwer'\n",
    "if id(n)==id(m):\n",
    "    print(m[-1])\n",
    "else:\n",
    "    print(n[0],id(n))"
   ]
  },
  {
   "cell_type": "code",
   "execution_count": 17,
   "metadata": {},
   "outputs": [
    {
     "name": "stdout",
     "output_type": "stream",
     "text": [
      "t\n"
     ]
    }
   ],
   "source": [
    "#55 WAP to print the string collection five times when the length of the \n",
    "#string collection should be more than 3 and the middle character of the \n",
    "#string shouldbe vowel and the first character ASCII value should be even, \n",
    "#to print the previous character of middle character, or else if ASCII value\n",
    "#is odd then print the stringthree times as print that string.\n",
    "n='biuou'\n",
    "if len(n)>3 and n[len(n)//2] in 'aeiou' and ord(n[0])%2==0:\n",
    "    g=chr(ord(n[len(n)//2])-1)\n",
    "    print(g)\n",
    "else:\n",
    "    print(n*3)"
   ]
  },
  {
   "cell_type": "code",
   "execution_count": 29,
   "metadata": {},
   "outputs": [
    {
     "name": "stdout",
     "output_type": "stream",
     "text": [
      "he will buy the pen\n"
     ]
    }
   ],
   "source": [
    "#56 Ravi would like to buy a new cello or red pen. The cost of the pen should\n",
    "#be 10.If the pen is available in the shop, he will buy the pen. If it is not \n",
    "#there he will come out of the shop.\n",
    "n=\"cello pen\"\n",
    "m=10\n",
    "if m%10==0 and n in ('cello pen','red pen'):\n",
    "    print('he will buy the pen')\n",
    "else:\n",
    "    print('come out of the shop')\n",
    "\n"
   ]
  },
  {
   "cell_type": "code",
   "execution_count": 23,
   "metadata": {},
   "outputs": [
    {
     "name": "stdout",
     "output_type": "stream",
     "text": [
      "40\n"
     ]
    }
   ],
   "source": [
    "#57  WAP to perform addition and subtraction operation by using list collection \n",
    "#if the first and middle data items number are even performing addition\n",
    "#operation, orelse performing subtraction.\n",
    "n=[10,20,30,4,5]\n",
    "if n[0]%2==0 and n[len(n)//2]%2==0:\n",
    "    print(n[0]+n[len(n)//2])\n",
    "else:\n",
    "    print(n[0]-n[len(n)//2])"
   ]
  },
  {
   "cell_type": "code",
   "execution_count": 25,
   "metadata": {},
   "outputs": [
    {
     "name": "stdout",
     "output_type": "stream",
     "text": [
      "[1, 2, 3, 4, 5, 6]\n"
     ]
    }
   ],
   "source": [
    "#58 WAP to check whether the first item of these two lists is either integer\n",
    "#or not.If it is an integer, concatenate these two lists or else print the\n",
    "#memoryaddress of these two lists\n",
    "n=[1,2,3]\n",
    "m=[4,5,6]\n",
    "if type(n[0] and m[0])==int:\n",
    "    n+=m\n",
    "    print(n)\n",
    "else:\n",
    "    print(id(n),id(m))"
   ]
  },
  {
   "cell_type": "code",
   "execution_count": 10,
   "metadata": {},
   "outputs": [
    {
     "name": "stdout",
     "output_type": "stream",
     "text": [
      "nandini\n"
     ]
    }
   ],
   "source": [
    "# find if given value div by 2 ,14,28,print my name else print even num \n",
    "n=28\n",
    "if n%2==0 and n%14==0 and n%28==0:\n",
    "    print('nandini')\n",
    "else:\n",
    "    n=8\n",
    "    n%2==0\n",
    "    print(n)\n"
   ]
  },
  {
   "cell_type": "code",
   "execution_count": 3,
   "metadata": {},
   "outputs": [
    {
     "name": "stdout",
     "output_type": "stream",
     "text": [
      "{'a': 10, 'b': 20, 'c': 30}\n"
     ]
    }
   ],
   "source": [
    "# check wheather the given value is presentin dict or not if present change the val into 10 \n",
    "n={'a':100,'b':20,'c':30}\n",
    "v=100\n",
    "if v in n.values():\n",
    "    n['a']=10\n",
    "    print(n)\n",
    "    "
   ]
  },
  {
   "cell_type": "code",
   "execution_count": 5,
   "metadata": {},
   "outputs": [
    {
     "name": "stdout",
     "output_type": "stream",
     "text": [
      "[10, 20, 30, 40, 50, 100, 200]\n"
     ]
    }
   ],
   "source": [
    "# perform add and sub opr by using listof coll if first and middle data items are even per add else per sub\n",
    "n=[10,20,30,40,50]\n",
    "if (n[0] and n[len(n)//2])%2==0:\n",
    "    v=[100,200]\n",
    "    print(n+v)\n",
    "else:\n",
    "    print(n-v)\n"
   ]
  },
  {
   "cell_type": "code",
   "execution_count": 6,
   "metadata": {},
   "outputs": [
    {
     "name": "stdout",
     "output_type": "stream",
     "text": [
      "leap year\n"
     ]
    }
   ],
   "source": [
    "# leap year or not \n",
    "n=2020\n",
    "if  n%4==0:\n",
    "    print('leap year')\n",
    "else:\n",
    "    print(\"not a leap year\")"
   ]
  },
  {
   "cell_type": "markdown",
   "metadata": {},
   "source": [
    "Nested if conditions "
   ]
  },
  {
   "cell_type": "code",
   "execution_count": 12,
   "metadata": {},
   "outputs": [
    {
     "name": "stdout",
     "output_type": "stream",
     "text": [
      "[49, 48, 49, 48] [49, 48, 49, 49]\n"
     ]
    }
   ],
   "source": [
    "a=b'1010'\n",
    "b=b'1011'\n",
    "s=\" \"\n",
    "if a==b:\n",
    "    if type(a)==list and type(b)==list:\n",
    "        a+=b\n",
    "        print(a)\n",
    "elif type(a)==dict and type(b)==dict:\n",
    "     a['c']=b\n",
    "     print(a)\n",
    "     if a!=b:\n",
    "          a|=b\n",
    "          print(a)\n",
    "elif type(a) in [int,float] and type(b) in [int,float]:\n",
    "     print(a*b)\n",
    "elif type(a)==bool or type(a)==None or type(b)==bool or type(b)==None:\n",
    "     s+=str(a)\n",
    "     print(s,type(s))\n",
    "elif type(a)==complex and type(b)==complex :\n",
    "      a=a.imag\n",
    "      b=b.imag\n",
    "      print(a,b)\n",
    "elif type(a)==bytes or type(b)==bytes :\n",
    "     a=list(a)\n",
    "     b=list(b)   \n",
    "     print(a,b)\n",
    "     "
   ]
  },
  {
   "cell_type": "code",
   "execution_count": 63,
   "metadata": {},
   "outputs": [
    {
     "ename": "TypeError",
     "evalue": "'bool' object is not iterable",
     "output_type": "error",
     "traceback": [
      "\u001b[1;31m---------------------------------------------------------------------------\u001b[0m",
      "\u001b[1;31mTypeError\u001b[0m                                 Traceback (most recent call last)",
      "Cell \u001b[1;32mIn[63], line 20\u001b[0m\n\u001b[0;32m     18\u001b[0m     \u001b[39mprint\u001b[39m(res)\n\u001b[0;32m     19\u001b[0m \u001b[39melif\u001b[39;00m \u001b[39mtype\u001b[39m(a) \u001b[39min\u001b[39;00m [\u001b[39mbool\u001b[39m,\u001b[39mtype\u001b[39m(\u001b[39mNone\u001b[39;00m)] \u001b[39mor\u001b[39;00m \u001b[39mtype\u001b[39m(b) \u001b[39min\u001b[39;00m [\u001b[39mbool\u001b[39m,\u001b[39mtype\u001b[39m(\u001b[39mNone\u001b[39;00m)]:\n\u001b[1;32m---> 20\u001b[0m     a\u001b[39m=\u001b[39m\u001b[39mlist\u001b[39;49m(a)\n\u001b[0;32m     21\u001b[0m     b\u001b[39m=\u001b[39m\u001b[39mlist\u001b[39m(b)\n\u001b[0;32m     22\u001b[0m     \u001b[39mprint\u001b[39m(a,b)\n",
      "\u001b[1;31mTypeError\u001b[0m: 'bool' object is not iterable"
     ]
    }
   ],
   "source": [
    "a=True\n",
    "b=None\n",
    "if type(a)==type(b) and type(a) in [list,str,tuple,dict,set] and type(b) in [list,str,tuple,dict,set]:\n",
    "    if type(a)==list and type(b)==list:\n",
    "        a+=b\n",
    "        print(a)\n",
    "    else:\n",
    "        res=list(a)+list(b)\n",
    "        print(res)\n",
    "elif type(a)==dict and type(b)==dict:\n",
    "    a['f']=20\n",
    "    print(a)\n",
    "elif type(a)!=type(b) and type(a) in [list,str,tuple,set,dict] and type(b) in [list,str,tuple,set,dict]:\n",
    "    res=list(a)+list(b)\n",
    "    print(res)\n",
    "elif type(a) in [float,int,complex] and type(b) in [float,int,complex]:\n",
    "    res=a*b\n",
    "    print(res)\n",
    "elif type(a) in [bool,type(None)] or type(b) in [bool,type(None)]:\n",
    "    a=list(a)\n",
    "    b=list(b)\n",
    "    print(a,b)\n"
   ]
  },
  {
   "cell_type": "code",
   "execution_count": null,
   "metadata": {},
   "outputs": [],
   "source": []
  },
  {
   "cell_type": "code",
   "execution_count": 43,
   "metadata": {},
   "outputs": [
    {
     "name": "stdout",
     "output_type": "stream",
     "text": [
      "{'a': 21, 'd': 87, 't': 35}\n"
     ]
    }
   ],
   "source": [
    "q={'a':21,'d':45,'t':35}\n",
    "e={'w':23,'r':87,'y':56}\n",
    "if type(q)==dict and type(e)==dict:\n",
    "    q['d']=87\n",
    "    print(q)\n"
   ]
  },
  {
   "cell_type": "code",
   "execution_count": 20,
   "metadata": {},
   "outputs": [
    {
     "name": "stdout",
     "output_type": "stream",
     "text": [
      "3j 4j\n"
     ]
    }
   ],
   "source": [
    "w=0+3j\n",
    "b=0+4j\n",
    "print(w,b)"
   ]
  },
  {
   "cell_type": "code",
   "execution_count": 9,
   "metadata": {},
   "outputs": [
    {
     "name": "stdout",
     "output_type": "stream",
     "text": [
      "1020\n"
     ]
    }
   ],
   "source": [
    "a=10\n",
    "b=20\n",
    "s=\"\"\n",
    "s+=str(a)+str(b)\n",
    "print(str(s))"
   ]
  },
  {
   "cell_type": "code",
   "execution_count": 35,
   "metadata": {},
   "outputs": [
    {
     "name": "stdout",
     "output_type": "stream",
     "text": [
      "1640350364480 1640348187456\n",
      "{'c': {'d': 10}}\n",
      "1640350364480\n"
     ]
    }
   ],
   "source": [
    "a={'c':10}\n",
    "b={'d':10}\n",
    "print(id(a),id(b))\n",
    "a['c']=b\n",
    "print(a)\n",
    "print(id(a))"
   ]
  },
  {
   "cell_type": "code",
   "execution_count": 1,
   "metadata": {},
   "outputs": [
    {
     "name": "stdout",
     "output_type": "stream",
     "text": [
      "happy\n"
     ]
    }
   ],
   "source": [
    "n=20\n",
    "match n:\n",
    "    case 10:\n",
    "        print(\"hai\")\n",
    "    case 20:\n",
    "        print(\"happy\")\n",
    "    case 30:\n",
    "        print(\"still happy\")        \n"
   ]
  },
  {
   "cell_type": "code",
   "execution_count": 1,
   "metadata": {},
   "outputs": [
    {
     "name": "stdout",
     "output_type": "stream",
     "text": [
      "odd\n"
     ]
    }
   ],
   "source": [
    "n=23\n",
    "if n%2==0:\n",
    "    print(\"even\")\n",
    "else:\n",
    "    print(\"odd\")  \n"
   ]
  },
  {
   "cell_type": "code",
   "execution_count": 3,
   "metadata": {},
   "outputs": [
    {
     "name": "stdout",
     "output_type": "stream",
     "text": [
      "67\n"
     ]
    }
   ],
   "source": [
    "n=67\n",
    "m=46\n",
    "if n>m:\n",
    "    print(n)\n",
    "else:\n",
    "    print(m)    "
   ]
  },
  {
   "cell_type": "markdown",
   "metadata": {},
   "source": [
    "while loop statements"
   ]
  },
  {
   "cell_type": "code",
   "execution_count": 16,
   "metadata": {},
   "outputs": [
    {
     "name": "stdout",
     "output_type": "stream",
     "text": [
      "2\n",
      "3\n",
      "4\n",
      "5\n"
     ]
    }
   ],
   "source": [
    "n=2345                      \n",
    "start=0\n",
    "res=str(n)\n",
    "while n:                \n",
    "    print(res[start])\n",
    "    start+=1\n",
    "    n=n//10"
   ]
  },
  {
   "cell_type": "code",
   "execution_count": 1,
   "metadata": {},
   "outputs": [
    {
     "name": "stdout",
     "output_type": "stream",
     "text": [
      "2\n",
      "3\n",
      "4\n",
      "5\n"
     ]
    }
   ],
   "source": [
    "n=2345                      \n",
    "start=0\n",
    "res=str(n)\n",
    "while n:                \n",
    "    print(res[start])\n",
    "    start+=1\n",
    "    n=n//10\n",
    "    "
   ]
  },
  {
   "cell_type": "code",
   "execution_count": 8,
   "metadata": {},
   "outputs": [
    {
     "name": "stdout",
     "output_type": "stream",
     "text": [
      "1\n",
      "2\n",
      "3\n",
      "5\n"
     ]
    }
   ],
   "source": [
    "n=1235\n",
    "start=0\n",
    "n=str(n)\n",
    "while start < len(n):  #0<4 true print[0]=1\n",
    "    print(n[start])   #0+1=1 true print[1]=2\n",
    "    start+=1            #1+1=2 true pri[2]=3\n",
    "                        #2+1=3 true pri[3]=5"
   ]
  },
  {
   "cell_type": "code",
   "execution_count": 9,
   "metadata": {},
   "outputs": [
    {
     "name": "stdout",
     "output_type": "stream",
     "text": [
      "1\n",
      "4\n"
     ]
    }
   ],
   "source": [
    "n=1234\n",
    "res=n//1000\n",
    "print(res)\n",
    "num=(n%10)\n",
    "print(num)"
   ]
  },
  {
   "cell_type": "code",
   "execution_count": 5,
   "metadata": {},
   "outputs": [
    {
     "name": "stdout",
     "output_type": "stream",
     "text": [
      "3\n"
     ]
    }
   ],
   "source": [
    "n=3\n",
    "if n%2!=0:\n",
    "    print(n)"
   ]
  },
  {
   "cell_type": "code",
   "execution_count": 9,
   "metadata": {},
   "outputs": [
    {
     "name": "stdout",
     "output_type": "stream",
     "text": [
      "1\n",
      "2\n",
      "3\n",
      "5\n"
     ]
    }
   ],
   "source": [
    "n=1235\n",
    "start=0\n",
    "n=str(n)\n",
    "while start < len(n):  #0<4 true print[0]=1\n",
    "    print(n[start])   #0+1=1 true print[1]=2\n",
    "    start+=1            #1+1=2 true pri[2]=3\n",
    "                        #2+1=3 true pri[3]=5"
   ]
  },
  {
   "cell_type": "code",
   "execution_count": 11,
   "metadata": {},
   "outputs": [
    {
     "name": "stdout",
     "output_type": "stream",
     "text": [
      "41\n"
     ]
    }
   ],
   "source": [
    "n=4546787\n",
    "res=0\n",
    "while n:\n",
    "    ld=n%10\n",
    "    res+=ld\n",
    "    n=n//10\n",
    "print(res)\n",
    "\n"
   ]
  },
  {
   "cell_type": "code",
   "execution_count": 40,
   "metadata": {},
   "outputs": [
    {
     "name": "stdout",
     "output_type": "stream",
     "text": [
      "4\n"
     ]
    }
   ],
   "source": [
    "n=5456788\n",
    "res=9\n",
    "while n:\n",
    "    ld=n%10\n",
    "    if res>ld:\n",
    "        res=ld\n",
    "    n=n//10\n",
    "print(res)    "
   ]
  },
  {
   "cell_type": "code",
   "execution_count": null,
   "metadata": {},
   "outputs": [
    {
     "name": "stdout",
     "output_type": "stream",
     "text": [
      "-19\n"
     ]
    }
   ],
   "source": [
    "n=345346\n",
    "t=str(n)\n",
    "res=int(t[0])\n",
    "i=1\n",
    "while i<len(t):\n",
    "    res-=int(t[i])\n",
    "    i+=1\n",
    "print(res)"
   ]
  },
  {
   "cell_type": "code",
   "execution_count": 45,
   "metadata": {},
   "outputs": [
    {
     "name": "stdout",
     "output_type": "stream",
     "text": [
      "8\n"
     ]
    }
   ],
   "source": [
    "n=2345778\n",
    "res=0\n",
    "while n:\n",
    "    ld=n%10\n",
    "    if res<ld and ld%2==0:\n",
    "        res=ld\n",
    "    n=n//10\n",
    "print(res)    "
   ]
  },
  {
   "cell_type": "code",
   "execution_count": 80,
   "metadata": {},
   "outputs": [
    {
     "name": "stdout",
     "output_type": "stream",
     "text": [
      "14\n"
     ]
    }
   ],
   "source": [
    "n=344567\n",
    "res=0\n",
    "while n:\n",
    "    ld=n%10\n",
    "    if ld%2==0:\n",
    "        res+=ld\n",
    "    n=n//10\n",
    "print(res)"
   ]
  },
  {
   "cell_type": "code",
   "execution_count": 1,
   "metadata": {},
   "outputs": [
    {
     "name": "stdout",
     "output_type": "stream",
     "text": [
      "1\n"
     ]
    }
   ],
   "source": [
    "n=123456\n",
    "res=9\n",
    "while n:\n",
    "    ld=n%10\n",
    "    if res>ld:\n",
    "        res=ld\n",
    "    n=n//10\n",
    "print(res)\n",
    "        "
   ]
  },
  {
   "cell_type": "code",
   "execution_count": 32,
   "metadata": {},
   "outputs": [
    {
     "name": "stdout",
     "output_type": "stream",
     "text": [
      "10\n",
      "11\n",
      "12\n",
      "13\n",
      "14\n",
      "15\n",
      "16\n",
      "17\n",
      "18\n",
      "19\n",
      "20\n"
     ]
    }
   ],
   "source": [
    "m=10\n",
    "n=20\n",
    "res=0\n",
    "while m<=n:\n",
    "    print(m)\n",
    "    m+=1"
   ]
  },
  {
   "cell_type": "code",
   "execution_count": 54,
   "metadata": {},
   "outputs": [
    {
     "name": "stdout",
     "output_type": "stream",
     "text": [
      "6\n"
     ]
    }
   ],
   "source": [
    "m=1\n",
    "n=6\n",
    "while m<=n:\n",
    "    if m%n==0:\n",
    "        print(m)\n",
    "    m+=1"
   ]
  },
  {
   "cell_type": "code",
   "execution_count": 42,
   "metadata": {},
   "outputs": [
    {
     "name": "stdout",
     "output_type": "stream",
     "text": [
      "2\n"
     ]
    }
   ],
   "source": [
    "m=1\n",
    "n=5\n",
    "count=0\n",
    "while m<=n:\n",
    "    if n%m==0:\n",
    "        count+=1\n",
    "    m+=1\n",
    "print(count)        "
   ]
  },
  {
   "cell_type": "code",
   "execution_count": 55,
   "metadata": {},
   "outputs": [
    {
     "name": "stdout",
     "output_type": "stream",
     "text": [
      "282240\n"
     ]
    }
   ],
   "source": [
    "n=4567678\n",
    "res=1\n",
    "while n:\n",
    "    ld=n%10\n",
    "    res*=ld\n",
    "    n=n//10\n",
    "print(res)    "
   ]
  },
  {
   "cell_type": "code",
   "execution_count": 21,
   "metadata": {},
   "outputs": [
    {
     "name": "stdout",
     "output_type": "stream",
     "text": [
      "3\n",
      "not prime\n"
     ]
    }
   ],
   "source": [
    "m=1\n",
    "n=4\n",
    "count=0\n",
    "while m<=n:\n",
    "    if n%m==0:\n",
    "        count+=1\n",
    "    m+=1\n",
    "print(count)\n",
    "if count==2:\n",
    "    print(\"prime\")\n",
    "else:\n",
    "    print(\"not prime\")    \n"
   ]
  },
  {
   "cell_type": "code",
   "execution_count": 74,
   "metadata": {},
   "outputs": [
    {
     "name": "stdout",
     "output_type": "stream",
     "text": [
      "4\n"
     ]
    }
   ],
   "source": [
    "m=1\n",
    "n=6\n",
    "count=0\n",
    "while m<=n:\n",
    "    if n%m==0:\n",
    "        count+=1\n",
    "    m+=1\n",
    "print(count)"
   ]
  },
  {
   "cell_type": "markdown",
   "metadata": {},
   "source": [
    "while loops"
   ]
  },
  {
   "cell_type": "code",
   "execution_count": 3,
   "metadata": {},
   "outputs": [
    {
     "name": "stdout",
     "output_type": "stream",
     "text": [
      "hello world\n",
      "hello world\n",
      "hello world\n",
      "hello world\n",
      "hello world\n"
     ]
    }
   ],
   "source": [
    "#1 print hello world 5 times with while loop\n",
    "n=\"hello world\"\n",
    "start=1\n",
    "end=5\n",
    "while start<=end:\n",
    "    print(n)\n",
    "    start+=1"
   ]
  },
  {
   "cell_type": "code",
   "execution_count": 4,
   "metadata": {},
   "outputs": [
    {
     "name": "stdout",
     "output_type": "stream",
     "text": [
      "1\n",
      "2\n",
      "3\n",
      "4\n",
      "5\n",
      "6\n",
      "7\n",
      "8\n",
      "9\n",
      "10\n"
     ]
    }
   ],
   "source": [
    "#2 WAP to print the number from 1 to 10 by using a while loop.\n",
    "start=1\n",
    "end=10\n",
    "while start<=end:\n",
    "    print(start)\n",
    "    start+=1"
   ]
  },
  {
   "cell_type": "code",
   "execution_count": 16,
   "metadata": {},
   "outputs": [
    {
     "name": "stdout",
     "output_type": "stream",
     "text": [
      "1\n",
      "2\n",
      "3\n",
      "4\n",
      "5\n"
     ]
    }
   ],
   "source": [
    "#3 WAP to print the natural number until 1 to nth times by using a while loop.\n",
    "m=1\n",
    "n=5\n",
    "while m<=n:\n",
    "    print(m)\n",
    "    m+=1"
   ]
  },
  {
   "cell_type": "code",
   "execution_count": 75,
   "metadata": {},
   "outputs": [
    {
     "name": "stdout",
     "output_type": "stream",
     "text": [
      "15\n",
      "14\n",
      "13\n",
      "12\n",
      "11\n",
      "10\n",
      "9\n",
      "8\n",
      "7\n",
      "6\n",
      "5\n",
      "4\n",
      "3\n",
      "2\n",
      "1\n"
     ]
    }
   ],
   "source": [
    "#4 WAP to print the reverse of the natural number nth to 0 times by using a while loop\n",
    "n=15\n",
    "m=1\n",
    "while m<=n:\n",
    "    print(n)\n",
    "    n-=1\n"
   ]
  },
  {
   "cell_type": "code",
   "execution_count": 1,
   "metadata": {},
   "outputs": [
    {
     "name": "stdout",
     "output_type": "stream",
     "text": [
      "0\n",
      "1\n",
      "2\n",
      "3\n",
      "4\n",
      "5\n",
      "6\n",
      "7\n",
      "8\n",
      "9\n",
      "10\n"
     ]
    }
   ],
   "source": [
    "#5 whole numbers until n times\n",
    "n=0\n",
    "m=10\n",
    "while n<=m:\n",
    "    print(n)\n",
    "    n+=1"
   ]
  },
  {
   "cell_type": "code",
   "execution_count": 2,
   "metadata": {},
   "outputs": [
    {
     "name": "stdout",
     "output_type": "stream",
     "text": [
      "10\n",
      "9\n",
      "8\n",
      "7\n",
      "6\n",
      "5\n",
      "4\n",
      "3\n",
      "2\n",
      "1\n",
      "0\n"
     ]
    }
   ],
   "source": [
    "#6 rev of whole num\n",
    "n=0\n",
    "m=10\n",
    "while m>=n:\n",
    "    print(m)\n",
    "    m-=1"
   ]
  },
  {
   "cell_type": "code",
   "execution_count": 50,
   "metadata": {},
   "outputs": [
    {
     "name": "stdout",
     "output_type": "stream",
     "text": [
      "0\n",
      "2\n",
      "4\n",
      "6\n",
      "8\n",
      "10\n"
     ]
    }
   ],
   "source": [
    "#7 WAP to print the even number until nth times by using a while loop.\n",
    "n=10\n",
    "m=0\n",
    "while m<=n:\n",
    "    if m%2==0:\n",
    "        print(m)\n",
    "    m+=1          "
   ]
  },
  {
   "cell_type": "code",
   "execution_count": 4,
   "metadata": {},
   "outputs": [
    {
     "name": "stdout",
     "output_type": "stream",
     "text": [
      "10\n",
      "8\n",
      "6\n",
      "4\n",
      "2\n",
      "0\n"
     ]
    }
   ],
   "source": [
    "#8 WAP to print the even number in rev until nth times by using a while loop.\n",
    "n=10\n",
    "m=0\n",
    "while n>=m:\n",
    "    if n%2==0:\n",
    "        print(n)\n",
    "    n-=1          "
   ]
  },
  {
   "cell_type": "code",
   "execution_count": 5,
   "metadata": {},
   "outputs": [
    {
     "name": "stdout",
     "output_type": "stream",
     "text": [
      "1\n",
      "3\n",
      "5\n",
      "7\n",
      "9\n"
     ]
    }
   ],
   "source": [
    "#9 WAP to print the odd number until nth times by using a while loop.\n",
    "n=10\n",
    "m=0\n",
    "while m<=n:\n",
    "    if m%2!=0:\n",
    "        print(m)\n",
    "    m+=1          "
   ]
  },
  {
   "cell_type": "code",
   "execution_count": 8,
   "metadata": {},
   "outputs": [
    {
     "name": "stdout",
     "output_type": "stream",
     "text": [
      "9\n",
      "7\n",
      "5\n",
      "3\n",
      "1\n"
     ]
    }
   ],
   "source": [
    "#10 WAP to print the odd number in rev until nth times by using a while loop.\n",
    "n=10\n",
    "m=0\n",
    "while n>=m:\n",
    "    if n%2!=0:\n",
    "        print(n)\n",
    "    n-=1          "
   ]
  },
  {
   "cell_type": "code",
   "execution_count": 11,
   "metadata": {},
   "outputs": [
    {
     "name": "stdout",
     "output_type": "stream",
     "text": [
      "5 * 1 = 5\n",
      "5 * 2 = 10\n",
      "5 * 3 = 15\n",
      "5 * 4 = 20\n",
      "5 * 5 = 25\n",
      "5 * 6 = 30\n",
      "5 * 7 = 35\n",
      "5 * 8 = 40\n",
      "5 * 9 = 45\n",
      "5 * 10 = 50\n",
      "5 * 11 = 55\n",
      "5 * 12 = 60\n",
      "5 * 13 = 65\n",
      "5 * 14 = 70\n",
      "5 * 15 = 75\n",
      "5 * 16 = 80\n",
      "5 * 17 = 85\n",
      "5 * 18 = 90\n",
      "5 * 19 = 95\n",
      "5 * 20 = 100\n"
     ]
    }
   ],
   "source": [
    "#11 table format\n",
    "n=5 \n",
    "m=1\n",
    "while m<=20:\n",
    "        print(n,\"*\",m,\"=\",n*m)\n",
    "        m+=1    "
   ]
  },
  {
   "cell_type": "code",
   "execution_count": 15,
   "metadata": {},
   "outputs": [],
   "source": [
    "#12 table format in rev\n",
    "n=1 \n",
    "m=5\n",
    "while n>=20:\n",
    "        print(m,\"*\",n,\"=\",n*m)\n",
    "        n-=1    "
   ]
  },
  {
   "cell_type": "code",
   "execution_count": 22,
   "metadata": {},
   "outputs": [
    {
     "name": "stdout",
     "output_type": "stream",
     "text": [
      "27\n",
      "30\n",
      "33\n",
      "36\n",
      "39\n",
      "42\n",
      "45\n",
      "48\n",
      "51\n",
      "54\n",
      "57\n",
      "60\n",
      "63\n",
      "66\n"
     ]
    }
   ],
   "source": [
    "#13 div by 3 from 26 t0 66\n",
    "n=26\n",
    "m=66\n",
    "while n<=m:\n",
    "    if n%3==0:\n",
    "        print(n)\n",
    "    n+=1"
   ]
  },
  {
   "cell_type": "code",
   "execution_count": 65,
   "metadata": {},
   "outputs": [
    {
     "name": "stdout",
     "output_type": "stream",
     "text": [
      "15\n",
      "30\n",
      "45\n",
      "60\n",
      "75\n"
     ]
    }
   ],
   "source": [
    "#14 WAP to print the numbers which are divisible by 3 and 5 from 15 to 76.\n",
    "n=15\n",
    "m=76\n",
    "while n<=m:\n",
    "    if n%3==0 and n%5==0:\n",
    "        print(n)\n",
    "    n+=1    "
   ]
  },
  {
   "cell_type": "code",
   "execution_count": 68,
   "metadata": {},
   "outputs": [
    {
     "name": "stdout",
     "output_type": "stream",
     "text": [
      "70\n",
      "35\n"
     ]
    }
   ],
   "source": [
    "#15 WAP to print the numbers which are divisible by 5 and 7 from 77 to 22.\n",
    "n=77\n",
    "m=22\n",
    "while n>=m:\n",
    "    if n%5==0 and n%7==0:\n",
    "        print(n)\n",
    "    n-=1    "
   ]
  },
  {
   "cell_type": "code",
   "execution_count": 4,
   "metadata": {},
   "outputs": [
    {
     "name": "stdout",
     "output_type": "stream",
     "text": [
      "21\n"
     ]
    }
   ],
   "source": [
    "# 17 WAP to print sum of the 1 to nth natural numbers.\n",
    "n = 6\n",
    "sum = 0\n",
    "i = 1\n",
    "while i<=n:\n",
    "  sum = sum+i\n",
    "  i+=1\n",
    "\n",
    "print(sum)"
   ]
  },
  {
   "cell_type": "code",
   "execution_count": 5,
   "metadata": {},
   "outputs": [
    {
     "name": "stdout",
     "output_type": "stream",
     "text": [
      "110\n"
     ]
    }
   ],
   "source": [
    "#18 WAP to print sum of the even numbers 1 to 20 numbers.\n",
    "n=20\n",
    "i=1\n",
    "sum=0\n",
    "while i<=n:\n",
    "    if i%2==0:\n",
    "        sum+=i\n",
    "    i+=1\n",
    "print(sum)        "
   ]
  },
  {
   "cell_type": "code",
   "execution_count": 1,
   "metadata": {},
   "outputs": [
    {
     "name": "stdout",
     "output_type": "stream",
     "text": [
      "720\n"
     ]
    }
   ],
   "source": [
    "#19 WAP to print products of the 1 to 6 numbers.\n",
    "i=1\n",
    "pro=1\n",
    "while i<=6:\n",
    "    pro*=i\n",
    "    i+=1\n",
    "print(pro)"
   ]
  },
  {
   "cell_type": "code",
   "execution_count": 2,
   "metadata": {},
   "outputs": [
    {
     "name": "stdout",
     "output_type": "stream",
     "text": [
      "15\n"
     ]
    }
   ],
   "source": [
    "#20 WAP to count the no of odd values from 1 to 30 numbers.\n",
    "n=1\n",
    "count=0\n",
    "while n<=30:\n",
    "    if n%2!=0:\n",
    "        count+=1\n",
    "    n+=1    \n",
    "print(count)        "
   ]
  },
  {
   "cell_type": "code",
   "execution_count": 4,
   "metadata": {},
   "outputs": [
    {
     "name": "stdout",
     "output_type": "stream",
     "text": [
      "1\n",
      "2\n",
      "3\n",
      "6\n"
     ]
    }
   ],
   "source": [
    "#21  factors in given number\n",
    "m=1\n",
    "n=6\n",
    "while m<=n:\n",
    "    if n%m==0:\n",
    "        print(m)\n",
    "    m+=1        "
   ]
  },
  {
   "cell_type": "code",
   "execution_count": 33,
   "metadata": {},
   "outputs": [
    {
     "name": "stdout",
     "output_type": "stream",
     "text": [
      "12\n"
     ]
    }
   ],
   "source": [
    "#22  sum of all factors in given number\n",
    "m=1\n",
    "n=6\n",
    "sum=0\n",
    "while m<=n:\n",
    "    if n%m==0:\n",
    "        sum+=m\n",
    "    m+=1\n",
    "print(sum)\n",
    "           "
   ]
  },
  {
   "cell_type": "code",
   "execution_count": 34,
   "metadata": {},
   "outputs": [
    {
     "name": "stdout",
     "output_type": "stream",
     "text": [
      "36\n"
     ]
    }
   ],
   "source": [
    "#23 product of all factors in given number\n",
    "m=1\n",
    "n=6\n",
    "pro=1\n",
    "while m<=n:\n",
    "    if n%m==0:\n",
    "        pro*=m\n",
    "    m+=1\n",
    "print(pro)\n",
    "           "
   ]
  },
  {
   "cell_type": "code",
   "execution_count": 36,
   "metadata": {},
   "outputs": [
    {
     "name": "stdout",
     "output_type": "stream",
     "text": [
      "1\n",
      "2\n",
      "3\n",
      "5\n",
      "8\n",
      "13\n",
      "21\n",
      "34\n",
      "55\n",
      "89\n"
     ]
    }
   ],
   "source": [
    "#24 fibonacci\n",
    "a=0\n",
    "b=1\n",
    "n=10\n",
    "while n:\n",
    "    c=a+b\n",
    "    print(c)\n",
    "    a,b=b,c\n",
    "    n-=1"
   ]
  },
  {
   "cell_type": "code",
   "execution_count": null,
   "metadata": {},
   "outputs": [],
   "source": [
    "#25 #factorial\n",
    "n=6\n",
    "m=1\n",
    "prod=1\n",
    "while m<=n:\n",
    "    if n%m==0:\n",
    "        prod*=m\n",
    "    m+=1\n",
    "print(prod)\n",
    "        \n"
   ]
  },
  {
   "cell_type": "code",
   "execution_count": 29,
   "metadata": {},
   "outputs": [
    {
     "name": "stdout",
     "output_type": "stream",
     "text": [
      "28\n",
      "not prime\n"
     ]
    }
   ],
   "source": [
    "#sum of all the digits in the number check final result is prime or not\n",
    "n=7\n",
    "m=1\n",
    "sum=0\n",
    "while m<=n:\n",
    "    sum+=m\n",
    "    m+=1\n",
    "print(sum)  \n",
    "if sum==2:\n",
    "    print('prime')\n",
    "else:\n",
    "    print('not prime')\n"
   ]
  },
  {
   "cell_type": "code",
   "execution_count": 40,
   "metadata": {},
   "outputs": [
    {
     "name": "stdout",
     "output_type": "stream",
     "text": [
      "720\n",
      "not a perfect number\n"
     ]
    }
   ],
   "source": [
    "#product of all digits\n",
    "m=1\n",
    "n=6\n",
    "res=1\n",
    "while m<=n:\n",
    "    res*=m\n",
    "    m+=1\n",
    "print(res)\n",
    "if res==n:\n",
    "    print(\"perfect number\")\n",
    "else:\n",
    "    print(\"not a perfect number\")\n",
    "\n"
   ]
  },
  {
   "cell_type": "code",
   "execution_count": 1,
   "metadata": {},
   "outputs": [
    {
     "name": "stdout",
     "output_type": "stream",
     "text": [
      "720\n"
     ]
    }
   ],
   "source": [
    "n=6\n",
    "m=1\n",
    "s=1\n",
    "while m<=n:\n",
    "    s*=m\n",
    "    m+=1\n",
    "print(s)    \n",
    "    "
   ]
  },
  {
   "cell_type": "code",
   "execution_count": 7,
   "metadata": {},
   "outputs": [
    {
     "name": "stdout",
     "output_type": "stream",
     "text": [
      "145\n",
      "strong\n"
     ]
    }
   ],
   "source": [
    "#\n",
    "n=145\n",
    "c=0\n",
    "temp=n\n",
    "while n:\n",
    "    ld=n%10\n",
    "    m=1\n",
    "    i=1\n",
    "    while m<=ld:\n",
    "        i*=m\n",
    "        m+=1\n",
    "    c+=i\n",
    "    n=n//10\n",
    "print(c)\n",
    "if temp==c:\n",
    "    print(\"strong\")\n",
    "else:\n",
    "    print(\"not strong\")\n"
   ]
  },
  {
   "cell_type": "code",
   "execution_count": 35,
   "metadata": {},
   "outputs": [
    {
     "name": "stdout",
     "output_type": "stream",
     "text": [
      "1\n",
      "2\n",
      "3\n",
      "5\n",
      "8\n",
      "13\n",
      "21\n",
      "34\n",
      "55\n",
      "89\n"
     ]
    }
   ],
   "source": [
    "#fibonacci\n",
    "a=0\n",
    "b=1\n",
    "n=10\n",
    "while n:\n",
    "    c=a+b\n",
    "    print(c)\n",
    "    a,b=b,c\n",
    "    n-=1"
   ]
  },
  {
   "cell_type": "code",
   "execution_count": 51,
   "metadata": {},
   "outputs": [
    {
     "name": "stdout",
     "output_type": "stream",
     "text": [
      "720\n"
     ]
    }
   ],
   "source": [
    "#factorial\n",
    "n=6\n",
    "m=1\n",
    "prod=1\n",
    "while m<=n:\n",
    "    prod*=m\n",
    "    m+=1\n",
    "print(prod)\n",
    "        \n"
   ]
  },
  {
   "cell_type": "code",
   "execution_count": 57,
   "metadata": {},
   "outputs": [
    {
     "name": "stdout",
     "output_type": "stream",
     "text": [
      "1 1\n",
      "2 2\n",
      "3 6\n",
      "4 24\n",
      "5 120\n",
      "6 720\n",
      "7 5040\n",
      "8 40320\n",
      "9 362880\n",
      "10 3628800\n"
     ]
    }
   ],
   "source": [
    "#26 factorial in range\n",
    "n=10\n",
    "m=1\n",
    "while m<=n:\n",
    "    a=m\n",
    "    b=1\n",
    "    prod=1\n",
    "    while b<=a:\n",
    "        prod*=b\n",
    "        b+=1\n",
    "    print(m,prod)\n",
    "    m+=1\n",
    "\n",
    "            \n"
   ]
  },
  {
   "cell_type": "code",
   "execution_count": 65,
   "metadata": {},
   "outputs": [
    {
     "name": "stdout",
     "output_type": "stream",
     "text": [
      "5\n",
      "not prime\n"
     ]
    }
   ],
   "source": [
    "#27 prime or not\n",
    "n=6\n",
    "m=1\n",
    "count=1\n",
    "while m<=n:\n",
    "    if n%m==0:\n",
    "        count+=1\n",
    "    m+=1\n",
    "print(count)\n",
    "if count==2:\n",
    "    print(count,\"prime\")\n",
    "else:\n",
    "    print(\"not prime\")\n"
   ]
  },
  {
   "cell_type": "code",
   "execution_count": 4,
   "metadata": {},
   "outputs": [
    {
     "name": "stdout",
     "output_type": "stream",
     "text": [
      "23\n",
      "29\n",
      "31\n",
      "37\n",
      "41\n",
      "43\n",
      "47\n",
      "53\n",
      "59\n"
     ]
    }
   ],
   "source": [
    "#28 seq of prime numbers\n",
    "n=60\n",
    "m=20\n",
    "while m<=n:\n",
    "    a=m\n",
    "    y=1\n",
    "    count=0\n",
    "    while y<=a:\n",
    "        if a%y==0:\n",
    "            count+=1\n",
    "        y+=1\n",
    "    if count==2:\n",
    "        print(a)\n",
    "    m+=1    "
   ]
  },
  {
   "cell_type": "code",
   "execution_count": 16,
   "metadata": {},
   "outputs": [
    {
     "name": "stdout",
     "output_type": "stream",
     "text": [
      "3\n",
      "153\n",
      "armstrong\n"
     ]
    }
   ],
   "source": [
    "#29 armstrong \n",
    "n=153\n",
    "temp=n\n",
    "count=0\n",
    "while temp:\n",
    "    count+=1\n",
    "    temp//=10\n",
    "print(count)\n",
    "sum=0\n",
    "res=n\n",
    "while res:\n",
    "    ld=res%10\n",
    "    sum=ld**count+sum\n",
    "    res=res//10\n",
    "print(sum)\n",
    "if n==sum:\n",
    "    print(\"armstrong\")\n",
    "else:\n",
    "    print(\"not armstrong\")"
   ]
  },
  {
   "cell_type": "code",
   "execution_count": 9,
   "metadata": {},
   "outputs": [
    {
     "name": "stdout",
     "output_type": "stream",
     "text": [
      "1\n",
      "2\n",
      "3\n",
      "4\n",
      "5\n",
      "6\n",
      "7\n",
      "8\n",
      "9\n",
      "153\n",
      "370\n",
      "371\n",
      "407\n"
     ]
    }
   ],
   "source": [
    "#30 series of armstrong numbers\n",
    "n=1\n",
    "m=1000\n",
    "while n<=m:\n",
    "    temp=n\n",
    "    count=0\n",
    "    s=temp\n",
    "    nm=temp\n",
    "    sum=0\n",
    "    while s:\n",
    "        count+=1\n",
    "        s=s//10\n",
    "    while temp:\n",
    "        ld=temp%10\n",
    "        sum=ld**count+sum\n",
    "        temp=temp//10\n",
    "    if sum==nm:\n",
    "        print(nm)\n",
    "    n+=1\n"
   ]
  },
  {
   "cell_type": "code",
   "execution_count": 33,
   "metadata": {},
   "outputs": [
    {
     "name": "stdout",
     "output_type": "stream",
     "text": [
      "2\n",
      "3\n",
      "5\n",
      "7\n",
      "11\n",
      "13\n",
      "17\n",
      "19\n"
     ]
    }
   ],
   "source": [
    "#31 prime series 1 to nth\n",
    "n=1\n",
    "m=20\n",
    "while n<=m:\n",
    "    a=n\n",
    "    b=1\n",
    "    count=0\n",
    "    while b<=a:\n",
    "        if a%b==0:\n",
    "            count+=1\n",
    "        b+=1\n",
    "    if count==2:\n",
    "        print(a)\n",
    "    n+=1\n"
   ]
  },
  {
   "cell_type": "code",
   "execution_count": 5,
   "metadata": {},
   "outputs": [
    {
     "name": "stdout",
     "output_type": "stream",
     "text": [
      "3\n",
      "4\n",
      "7\n",
      "11\n",
      "18\n",
      "29\n",
      "47\n",
      "76\n",
      "123\n",
      "199\n"
     ]
    }
   ],
   "source": [
    "#32 prime numbers in fibonacci \n",
    "n=100\n",
    "m=1\n",
    "while m<=n:\n",
    "    a=m\n",
    "    b=1\n",
    "    count=0\n",
    "    while b<=a:\n",
    "        if a%b==0:\n",
    "            count+=1\n",
    "        b+=1\n",
    "    if count==2:\n",
    "        an=a\n",
    "        b=1\n",
    "        n=10\n",
    "        while n:\n",
    "            c=an+b\n",
    "            print(c)\n",
    "            an,b=b,c\n",
    "            n-=1\n",
    "    m+=1\n"
   ]
  },
  {
   "cell_type": "code",
   "execution_count": 32,
   "metadata": {},
   "outputs": [
    {
     "name": "stdout",
     "output_type": "stream",
     "text": [
      "77\n"
     ]
    }
   ],
   "source": [
    "#33 sum of prime numbers in coll\n",
    "m=20\n",
    "n=1\n",
    "sum=0\n",
    "while n<=m:\n",
    "    a=n\n",
    "    b=1\n",
    "    count=0\n",
    "    while b<=a:\n",
    "        if a%b==0:\n",
    "            count+=1\n",
    "        b+=1\n",
    "    if count==2:\n",
    "        sum+=a\n",
    "    n+=1\n",
    "print(sum)\n",
    "    "
   ]
  },
  {
   "cell_type": "code",
   "execution_count": 3,
   "metadata": {},
   "outputs": [
    {
     "name": "stdout",
     "output_type": "stream",
     "text": [
      "777\n",
      "palidrome\n"
     ]
    }
   ],
   "source": [
    "#34 palidrome\n",
    "n=777\n",
    "temp=n\n",
    "rev=0\n",
    "while n:\n",
    "    ld=n%10\n",
    "    rev=rev*10+ld\n",
    "    n=n//10\n",
    "print(rev)\n",
    "if rev==temp:\n",
    "    print(\"palidrome\")\n",
    "else:\n",
    "    print(\"not palidrome\")"
   ]
  },
  {
   "cell_type": "code",
   "execution_count": 1,
   "metadata": {},
   "outputs": [
    {
     "name": "stdout",
     "output_type": "stream",
     "text": [
      "1\n",
      "2\n",
      "3\n",
      "5\n",
      "8\n",
      "13\n",
      "21\n",
      "34\n",
      "55\n",
      "89\n"
     ]
    }
   ],
   "source": [
    "a=0\n",
    "m=10\n",
    "b=1\n",
    "count=0\n",
    "while m:\n",
    "    c=a+b\n",
    "    print(c)\n",
    "    a,b=b,c\n",
    "    m-=1\n",
    "        "
   ]
  },
  {
   "cell_type": "code",
   "execution_count": 42,
   "metadata": {},
   "outputs": [
    {
     "name": "stdout",
     "output_type": "stream",
     "text": [
      "4 HaiiHaiiHaiiHaiiHaiiHaiiHaiiHaiiHaiiHaii\n"
     ]
    }
   ],
   "source": [
    "#35 len of str is even or odd \n",
    "n='Haii'\n",
    "s=0\n",
    "count=0\n",
    "while s<len(n):\n",
    "        s+=1\n",
    "        count+=1\n",
    "if count%2==0:\n",
    "    print(count,n*10)\n",
    "else:\n",
    "    print(n*5)\n"
   ]
  },
  {
   "cell_type": "code",
   "execution_count": null,
   "metadata": {},
   "outputs": [
    {
     "name": "stdout",
     "output_type": "stream",
     "text": [
      "@%$%&\n"
     ]
    }
   ],
   "source": [
    "n='@%$%&fdshgj'\n",
    "x=0\n",
    "s=''\n",
    "while x<len(n):\n",
    "    if not ('A'<=n[x]<='Z' or 'a'<=n[x]<='z'):\n",
    "        s+=n[x]\n",
    "    x+=1\n",
    "print(s)\n"
   ]
  },
  {
   "cell_type": "code",
   "execution_count": 10,
   "metadata": {},
   "outputs": [
    {
     "name": "stdout",
     "output_type": "stream",
     "text": [
      "A\n",
      "B\n",
      "C\n",
      "D\n",
      "E\n",
      "F\n",
      "G\n",
      "H\n",
      "I\n",
      "J\n",
      "K\n",
      "L\n",
      "M\n",
      "N\n",
      "O\n",
      "P\n",
      "Q\n",
      "R\n",
      "S\n",
      "T\n",
      "U\n",
      "V\n",
      "W\n",
      "X\n",
      "Y\n",
      "Z\n"
     ]
    }
   ],
   "source": [
    "#36 upper case from A to Z\n",
    "n='A'\n",
    "m='Z'\n",
    "while n<=m:\n",
    "    print(n)\n",
    "    n=chr(ord(n)+1)"
   ]
  },
  {
   "cell_type": "code",
   "execution_count": 44,
   "metadata": {},
   "outputs": [
    {
     "name": "stdout",
     "output_type": "stream",
     "text": [
      "a\n",
      "b\n",
      "c\n",
      "d\n",
      "e\n",
      "f\n",
      "g\n",
      "h\n",
      "i\n",
      "j\n",
      "k\n",
      "l\n",
      "m\n",
      "n\n",
      "o\n",
      "p\n",
      "q\n",
      "r\n",
      "s\n",
      "t\n",
      "u\n",
      "v\n",
      "w\n",
      "x\n",
      "y\n",
      "z\n"
     ]
    }
   ],
   "source": [
    "#37 a to z\n",
    "n=ord('a')\n",
    "m=ord('z')\n",
    "while n<=m:\n",
    "    print(chr(n))\n",
    "    n+=1"
   ]
  },
  {
   "cell_type": "code",
   "execution_count": 45,
   "metadata": {},
   "outputs": [
    {
     "name": "stdout",
     "output_type": "stream",
     "text": [
      "0\n",
      "1\n",
      "2\n",
      "3\n",
      "4\n",
      "5\n",
      "6\n",
      "7\n",
      "8\n",
      "9\n"
     ]
    }
   ],
   "source": [
    "#38 0 to 9\n",
    "n=ord('0')\n",
    "m=ord('9')\n",
    "while n<=m:\n",
    "    print(chr(n))\n",
    "    n+=1"
   ]
  },
  {
   "cell_type": "code",
   "execution_count": 46,
   "metadata": {},
   "outputs": [
    {
     "name": "stdout",
     "output_type": "stream",
     "text": [
      "E\n",
      "F\n",
      "G\n",
      "H\n",
      "I\n",
      "J\n",
      "K\n",
      "L\n",
      "M\n",
      "N\n",
      "O\n",
      "P\n",
      "Q\n",
      "R\n",
      "S\n",
      "T\n",
      "U\n",
      "V\n",
      "W\n",
      "X\n",
      "Y\n",
      "Z\n",
      "[\n",
      "\\\n",
      "]\n",
      "^\n",
      "_\n",
      "`\n",
      "a\n",
      "b\n",
      "c\n",
      "d\n",
      "e\n",
      "f\n",
      "g\n",
      "h\n",
      "i\n",
      "j\n",
      "k\n",
      "l\n",
      "m\n",
      "n\n"
     ]
    }
   ],
   "source": [
    "#39 E to U\n",
    "n=ord('E')\n",
    "m=ord('n')\n",
    "while n<=m:\n",
    "    print(chr(n))\n",
    "    n+=1"
   ]
  },
  {
   "cell_type": "code",
   "execution_count": 53,
   "metadata": {},
   "outputs": [
    {
     "name": "stdout",
     "output_type": "stream",
     "text": [
      "Z\n",
      "Y\n",
      "X\n",
      "W\n",
      "V\n",
      "U\n",
      "T\n",
      "S\n",
      "R\n",
      "Q\n",
      "P\n",
      "O\n",
      "N\n",
      "M\n",
      "L\n",
      "K\n",
      "J\n",
      "I\n",
      "H\n",
      "G\n",
      "F\n",
      "E\n",
      "D\n",
      "C\n",
      "B\n",
      "A\n"
     ]
    }
   ],
   "source": [
    "#40 Z to A\n",
    "n=ord('Z')\n",
    "m=ord('A')\n",
    "while n>=m:\n",
    "    print(chr(n))\n",
    "    n-=1"
   ]
  },
  {
   "cell_type": "code",
   "execution_count": 54,
   "metadata": {},
   "outputs": [
    {
     "name": "stdout",
     "output_type": "stream",
     "text": [
      "U\n",
      "T\n",
      "S\n",
      "R\n",
      "Q\n",
      "P\n",
      "O\n",
      "N\n",
      "M\n",
      "L\n",
      "K\n",
      "J\n",
      "I\n",
      "H\n",
      "G\n"
     ]
    }
   ],
   "source": [
    "#41 U to G\n",
    "n=ord('U')\n",
    "m=ord('G')\n",
    "while n>=m:\n",
    "    print(chr(n))\n",
    "    n-=1"
   ]
  },
  {
   "cell_type": "code",
   "execution_count": 14,
   "metadata": {},
   "outputs": [
    {
     "name": "stdout",
     "output_type": "stream",
     "text": [
      "66\n",
      "68\n",
      "70\n",
      "72\n",
      "74\n",
      "76\n",
      "78\n",
      "80\n",
      "82\n",
      "84\n",
      "86\n",
      "88\n",
      "90\n"
     ]
    }
   ],
   "source": [
    "#45 even ascii value\n",
    "n=ord('A')\n",
    "m=ord('Z')\n",
    "while n<=m:\n",
    "    if n%2==0:\n",
    "        print(n)\n",
    "    n+=1"
   ]
  },
  {
   "cell_type": "code",
   "execution_count": 15,
   "metadata": {},
   "outputs": [
    {
     "name": "stdout",
     "output_type": "stream",
     "text": [
      "98\n",
      "100\n",
      "102\n",
      "104\n",
      "106\n",
      "108\n",
      "110\n",
      "112\n",
      "114\n",
      "116\n",
      "118\n",
      "120\n",
      "122\n"
     ]
    }
   ],
   "source": [
    "#46 lower even\n",
    "n=ord('a')\n",
    "m=ord('z')\n",
    "while n<=m:\n",
    "    if n%2==0:\n",
    "        print((n))\n",
    "    n+=1"
   ]
  },
  {
   "cell_type": "code",
   "execution_count": 16,
   "metadata": {},
   "outputs": [
    {
     "name": "stdout",
     "output_type": "stream",
     "text": [
      "65\n",
      "67\n",
      "69\n",
      "71\n",
      "73\n",
      "75\n",
      "77\n",
      "79\n",
      "81\n",
      "83\n",
      "85\n",
      "87\n",
      "89\n"
     ]
    }
   ],
   "source": [
    "#47 upper odd\n",
    "n=ord('A')\n",
    "m=ord('Z')\n",
    "while n<=m:\n",
    "    if n%2!=0:\n",
    "        print((n))\n",
    "    n+=1"
   ]
  },
  {
   "cell_type": "code",
   "execution_count": 17,
   "metadata": {},
   "outputs": [
    {
     "name": "stdout",
     "output_type": "stream",
     "text": [
      "97\n",
      "99\n",
      "101\n",
      "103\n",
      "105\n",
      "107\n",
      "109\n",
      "111\n",
      "113\n",
      "115\n",
      "117\n",
      "119\n",
      "121\n"
     ]
    }
   ],
   "source": [
    "#48lower odd\n",
    "n=ord('a')\n",
    "m=ord('z')\n",
    "while n<=m:\n",
    "    if n%2!=0:\n",
    "        print((n))\n",
    "    n+=1"
   ]
  },
  {
   "cell_type": "code",
   "execution_count": 18,
   "metadata": {},
   "outputs": [
    {
     "name": "stdout",
     "output_type": "stream",
     "text": [
      "B\n",
      "D\n",
      "F\n",
      "H\n",
      "J\n",
      "L\n",
      "N\n",
      "P\n",
      "R\n",
      "T\n",
      "V\n",
      "X\n",
      "Z\n"
     ]
    }
   ],
   "source": [
    "#49 upper even\n",
    "n=ord('A')\n",
    "m=ord('Z')\n",
    "while n<=m:\n",
    "    if n%2==0:\n",
    "        print(chr(n))\n",
    "    n+=1"
   ]
  },
  {
   "cell_type": "code",
   "execution_count": 20,
   "metadata": {},
   "outputs": [
    {
     "name": "stdout",
     "output_type": "stream",
     "text": [
      "a\n",
      "c\n",
      "e\n",
      "g\n",
      "i\n",
      "k\n",
      "m\n",
      "o\n",
      "q\n",
      "s\n",
      "u\n",
      "w\n",
      "y\n"
     ]
    }
   ],
   "source": [
    "#50 lower even\n",
    "n=ord('a')\n",
    "m=ord('z')\n",
    "while n<=m:\n",
    "    if n%2!=0:\n",
    "        print(chr(n))\n",
    "    n+=1"
   ]
  },
  {
   "cell_type": "code",
   "execution_count": 23,
   "metadata": {},
   "outputs": [
    {
     "name": "stdout",
     "output_type": "stream",
     "text": [
      "A\n",
      "E\n",
      "I\n",
      "O\n",
      "U\n"
     ]
    }
   ],
   "source": [
    "#51 vowels\n",
    "n='A'\n",
    "m='Z'\n",
    "while ord(n)<=ord(m):\n",
    "    if n in 'AEIOU':\n",
    "        print(n)\n",
    "    f=chr(ord(n)+1)\n",
    "    n=f\n",
    "    "
   ]
  },
  {
   "cell_type": "code",
   "execution_count": 26,
   "metadata": {},
   "outputs": [
    {
     "name": "stdout",
     "output_type": "stream",
     "text": [
      "5\n"
     ]
    }
   ],
   "source": [
    "#51  count the vowels\n",
    "n='A'\n",
    "m='Z'\n",
    "count=0\n",
    "while ord(n)<=ord(m):\n",
    "    if n in 'AEIOU':\n",
    "        count+=1\n",
    "    f=chr(ord(n)+1)\n",
    "    n=f\n",
    "print(count)\n"
   ]
  },
  {
   "cell_type": "code",
   "execution_count": 4,
   "metadata": {},
   "outputs": [
    {
     "name": "stdout",
     "output_type": "stream",
     "text": [
      "4\n"
     ]
    }
   ],
   "source": [
    "#52 u to e\n",
    "m='u'\n",
    "n='e'\n",
    "count=0\n",
    "while ord(m)>=ord(n):\n",
    "    if n in 'aeiou':\n",
    "        count+=1\n",
    "    f=chr(ord(n)+1)\n",
    "    n=f\n",
    "print(count)\n"
   ]
  },
  {
   "cell_type": "code",
   "execution_count": 19,
   "metadata": {},
   "outputs": [
    {
     "name": "stdout",
     "output_type": "stream",
     "text": [
      "1\n"
     ]
    }
   ],
   "source": [
    "#54\n",
    "n=657667\n",
    "while n>9:\n",
    "    sum=0\n",
    "    while n:\n",
    "        ld=n%10\n",
    "        sum+=ld\n",
    "        n=n//10\n",
    "    n=sum\n",
    "print(sum)\n"
   ]
  },
  {
   "cell_type": "code",
   "execution_count": 25,
   "metadata": {},
   "outputs": [
    {
     "name": "stdout",
     "output_type": "stream",
     "text": [
      "2\n",
      "12\n",
      "20\n",
      "21\n",
      "22\n",
      "23\n",
      "24\n",
      "25\n",
      "26\n",
      "27\n",
      "28\n",
      "29\n",
      "32\n",
      "13\n"
     ]
    }
   ],
   "source": [
    "#55 \n",
    "n=35\n",
    "m=0\n",
    "count=0\n",
    "while m<=n:\n",
    "    if '2' in str(m):\n",
    "        count+=1\n",
    "        print(m)\n",
    "    m+=1\n",
    "print(count)"
   ]
  },
  {
   "cell_type": "code",
   "execution_count": 26,
   "metadata": {},
   "outputs": [
    {
     "name": "stdout",
     "output_type": "stream",
     "text": [
      "n\n",
      "a\n",
      "n\n",
      "d\n",
      "i\n",
      "n\n",
      "i\n"
     ]
    }
   ],
   "source": [
    "#59 \n",
    "n='nandini'\n",
    "st=0\n",
    "while st<len(n):\n",
    "    print(n[st])\n",
    "    st+=1"
   ]
  },
  {
   "cell_type": "code",
   "execution_count": 28,
   "metadata": {},
   "outputs": [
    {
     "name": "stdout",
     "output_type": "stream",
     "text": [
      "D\n",
      "J\n",
      "T\n",
      "R\n",
      "Y\n",
      "U\n",
      "Y\n"
     ]
    }
   ],
   "source": [
    "#60\n",
    "n='DJTRYUYewdfj'\n",
    "st=0\n",
    "while st<len(n):\n",
    "    if 'A'<=n[st]<='Z':\n",
    "        print(n[st])\n",
    "    st+=1"
   ]
  },
  {
   "cell_type": "code",
   "execution_count": 29,
   "metadata": {},
   "outputs": [
    {
     "name": "stdout",
     "output_type": "stream",
     "text": [
      "j\n",
      "h\n",
      "s\n",
      "y\n",
      "g\n",
      "d\n",
      "i\n",
      "g\n"
     ]
    }
   ],
   "source": [
    "#61\n",
    "n='jhsygdigIUDIKFWUIW'\n",
    "st=0\n",
    "while st<len(n):\n",
    "    if 'a'<=n[st]<='z':\n",
    "        print(n[st])\n",
    "    st+=1"
   ]
  },
  {
   "cell_type": "code",
   "execution_count": 35,
   "metadata": {},
   "outputs": [
    {
     "name": "stdout",
     "output_type": "stream",
     "text": [
      "110\n",
      "97\n",
      "110\n",
      "100\n",
      "105\n",
      "110\n",
      "105\n"
     ]
    }
   ],
   "source": [
    "#62\n",
    "n='nandini'\n",
    "st=0\n",
    "while st<len(n):\n",
    "    print(ord(str(n[st])))\n",
    "    st+=1"
   ]
  },
  {
   "cell_type": "code",
   "execution_count": 36,
   "metadata": {},
   "outputs": [
    {
     "name": "stdout",
     "output_type": "stream",
     "text": [
      "#\n",
      "!\n",
      "&\n",
      "^\n",
      "%\n",
      "(\n",
      "#\n",
      ")\n"
     ]
    }
   ],
   "source": [
    "#63 \n",
    "n='#y!j&y^U%D(#Etr)'\n",
    "st=0\n",
    "while st<len(n):\n",
    "    if not('A'<=n[st]<='Z' or 'a'<=n[st]<='z' or '0'<=n[st]<='9'):\n",
    "        print(n[st])\n",
    "    st+=1\n",
    "\n"
   ]
  },
  {
   "cell_type": "code",
   "execution_count": 40,
   "metadata": {},
   "outputs": [
    {
     "name": "stdout",
     "output_type": "stream",
     "text": [
      "e\n",
      "u\n",
      "o\n",
      "i\n",
      "a\n"
     ]
    }
   ],
   "source": [
    "#64\n",
    "n='eunomia'\n",
    "st=0\n",
    "while st<len(n):\n",
    "    if n[st] in 'aeiou':\n",
    "        print(n[st])\n",
    "    st+=1"
   ]
  },
  {
   "cell_type": "code",
   "execution_count": 7,
   "metadata": {},
   "outputs": [
    {
     "name": "stdout",
     "output_type": "stream",
     "text": [
      "1\n",
      "2\n",
      "3\n",
      "4\n",
      "5\n",
      "6\n",
      "7\n",
      "8\n",
      "9\n",
      "153\n",
      "370\n",
      "371\n",
      "407\n"
     ]
    }
   ],
   "source": [
    "#30 series of armstrong numbers\n",
    "n=1\n",
    "m=1000\n",
    "while n<=m:\n",
    "    temp=n\n",
    "    count=0\n",
    "    s=temp\n",
    "    nm=temp\n",
    "    sum=0\n",
    "    while s:\n",
    "        count+=1\n",
    "        s=s//10\n",
    "    while temp:\n",
    "        ld=temp%10\n",
    "        sum=ld**count+sum\n",
    "        temp=temp//10\n",
    "    if sum==nm:\n",
    "        print(nm)\n",
    "    n+=1\n"
   ]
  },
  {
   "cell_type": "code",
   "execution_count": 41,
   "metadata": {},
   "outputs": [
    {
     "name": "stdout",
     "output_type": "stream",
     "text": [
      "n\n",
      "m\n"
     ]
    }
   ],
   "source": [
    "#65\n",
    "n='eunomia'\n",
    "st=0\n",
    "while st<len(n):\n",
    "    if n[st] not in 'aeiou':\n",
    "        print(n[st])\n",
    "    st+=1"
   ]
  },
  {
   "cell_type": "code",
   "execution_count": 55,
   "metadata": {},
   "outputs": [
    {
     "name": "stdout",
     "output_type": "stream",
     "text": [
      "i\n",
      "n\n",
      "i\n",
      "d\n",
      "n\n",
      "a\n"
     ]
    }
   ],
   "source": [
    "#66\n",
    "n='nandini'\n",
    "st=-1\n",
    "while st>-len(n):\n",
    "    print(n[st])\n",
    "    st-=1"
   ]
  },
  {
   "cell_type": "code",
   "execution_count": 59,
   "metadata": {},
   "outputs": [
    {
     "name": "stdout",
     "output_type": "stream",
     "text": [
      "e\n",
      "n\n",
      "m\n",
      "a\n"
     ]
    }
   ],
   "source": [
    "#67\n",
    "n='eunomia'\n",
    "st=0\n",
    "while st<len(n):\n",
    "    if st%2==0:\n",
    "        print(n[st])\n",
    "    st+=1"
   ]
  },
  {
   "cell_type": "code",
   "execution_count": 60,
   "metadata": {},
   "outputs": [
    {
     "name": "stdout",
     "output_type": "stream",
     "text": [
      "u\n",
      "o\n",
      "i\n"
     ]
    }
   ],
   "source": [
    "#68\n",
    "n='eunomia'\n",
    "st=0\n",
    "while st<len(n):\n",
    "    if st%2!=0:\n",
    "        print(n[st])\n",
    "    st+=1\n"
   ]
  },
  {
   "cell_type": "code",
   "execution_count": 61,
   "metadata": {},
   "outputs": [
    {
     "name": "stdout",
     "output_type": "stream",
     "text": [
      "7\n"
     ]
    }
   ],
   "source": [
    "#69\n",
    "n='eunomia'\n",
    "st=0\n",
    "count=0\n",
    "while st<len(n):\n",
    "    count+=1\n",
    "    st+=1\n",
    "print(count)\n"
   ]
  },
  {
   "cell_type": "code",
   "execution_count": 66,
   "metadata": {},
   "outputs": [
    {
     "name": "stdout",
     "output_type": "stream",
     "text": [
      "7\n"
     ]
    }
   ],
   "source": [
    "#70\n",
    "n='eunomia'\n",
    "count=0\n",
    "while n:\n",
    "    count+=1\n",
    "    n=n[:-1]\n",
    "print(count)\n"
   ]
  },
  {
   "cell_type": "code",
   "execution_count": 73,
   "metadata": {},
   "outputs": [
    {
     "name": "stdout",
     "output_type": "stream",
     "text": [
      "6\n"
     ]
    }
   ],
   "source": [
    "#71\n",
    "n='eno$^*%mia43'\n",
    "st=0\n",
    "count=0\n",
    "while st<len(n):\n",
    "    if ('A'<=n[st]<='Z' or 'a'<=n[st]<='z'):\n",
    "        count+=1\n",
    "    st+=1\n",
    "print(count)\n"
   ]
  },
  {
   "cell_type": "code",
   "execution_count": 78,
   "metadata": {},
   "outputs": [
    {
     "name": "stdout",
     "output_type": "stream",
     "text": [
      "12\n"
     ]
    }
   ],
   "source": [
    "#72\n",
    "n='eunFGGHJCRSEGFC'\n",
    "st=0\n",
    "count=0\n",
    "while st<len(n):\n",
    "    if 'A'<=n[st]<='Z':\n",
    "        count+=1\n",
    "    st+=1\n",
    "print(count)\n"
   ]
  },
  {
   "cell_type": "code",
   "execution_count": 79,
   "metadata": {},
   "outputs": [
    {
     "name": "stdout",
     "output_type": "stream",
     "text": [
      "3\n"
     ]
    }
   ],
   "source": [
    "#73\n",
    "n='eunFGGHJCRSEGFC'\n",
    "st=0\n",
    "count=0\n",
    "while st<len(n):\n",
    "    if 'a'<=n[st]<='z':\n",
    "        count+=1\n",
    "    st+=1\n",
    "print(count)\n"
   ]
  },
  {
   "cell_type": "code",
   "execution_count": 80,
   "metadata": {},
   "outputs": [
    {
     "name": "stdout",
     "output_type": "stream",
     "text": [
      "8\n"
     ]
    }
   ],
   "source": [
    "#74\n",
    "n='#y!j&y^U%D(#Etr)'\n",
    "st=0\n",
    "count=0\n",
    "while st<len(n):\n",
    "    if not('A'<=n[st]<='Z' or 'a'<=n[st]<='z' or '0'<=n[st]<='9'):\n",
    "        count+=1\n",
    "    st+=1\n",
    "print(count)\n",
    "\n"
   ]
  },
  {
   "cell_type": "code",
   "execution_count": 76,
   "metadata": {},
   "outputs": [
    {
     "name": "stdout",
     "output_type": "stream",
     "text": [
      "12 3\n"
     ]
    }
   ],
   "source": [
    "#75\n",
    "n='eunFGGHJCRSEGFC'\n",
    "st=0\n",
    "count=0\n",
    "count1=0\n",
    "while st<len(n):\n",
    "    if 'A'<=n[st]<='Z':\n",
    "        count+=1\n",
    "    if 'a'<=n[st]<='z':\n",
    "        count1+=1\n",
    "    st+=1\n",
    "print(count,count1)\n"
   ]
  },
  {
   "cell_type": "code",
   "execution_count": 81,
   "metadata": {},
   "outputs": [
    {
     "name": "stdout",
     "output_type": "stream",
     "text": [
      "12\n"
     ]
    }
   ],
   "source": [
    "#76\n",
    "n='gfxj436576879889'\n",
    "st=0\n",
    "count=0\n",
    "while st<len(n):\n",
    "    if '0'<=n[st]<='9':\n",
    "        count+=1\n",
    "    st+=1\n",
    "print(count)\n",
    "\n"
   ]
  },
  {
   "cell_type": "code",
   "execution_count": 88,
   "metadata": {},
   "outputs": [
    {
     "name": "stdout",
     "output_type": "stream",
     "text": [
      "3\n"
     ]
    }
   ],
   "source": [
    "#77\n",
    "n='hello python world'\n",
    "st=0\n",
    "count=0\n",
    "while st<len(n):\n",
    "    if n[st]==' ' or st==0:\n",
    "        count+=1\n",
    "    st+=1\n",
    "print(count)\n"
   ]
  },
  {
   "cell_type": "code",
   "execution_count": 89,
   "metadata": {},
   "outputs": [
    {
     "name": "stdout",
     "output_type": "stream",
     "text": [
      "2\n"
     ]
    }
   ],
   "source": [
    "#78\n",
    "n='hello python world'\n",
    "st=0\n",
    "count=0\n",
    "while st<len(n):\n",
    "    if n[st]==' ':\n",
    "        count+=1\n",
    "    st+=1\n",
    "print(count)\n"
   ]
  },
  {
   "cell_type": "code",
   "execution_count": 92,
   "metadata": {},
   "outputs": [
    {
     "name": "stdout",
     "output_type": "stream",
     "text": [
      "2\n"
     ]
    }
   ],
   "source": [
    "#82\n",
    "n='''hai \n",
    "hello\n",
    "python'''\n",
    "st=0\n",
    "count=0\n",
    "while st<len(n):\n",
    "    if n[st]=='\\n':\n",
    "        count+=1\n",
    "    st+=1\n",
    "print(count)"
   ]
  },
  {
   "cell_type": "code",
   "execution_count": 93,
   "metadata": {},
   "outputs": [
    {
     "name": "stdout",
     "output_type": "stream",
     "text": [
      "3\n"
     ]
    }
   ],
   "source": [
    "#83\n",
    "n='''hai \n",
    "hello\n",
    "python'''\n",
    "st=0\n",
    "count=0\n",
    "while st<len(n):\n",
    "    if n[st]=='\\n' or st==0:\n",
    "        count+=1\n",
    "    st+=1\n",
    "print(count)"
   ]
  },
  {
   "cell_type": "code",
   "execution_count": 96,
   "metadata": {},
   "outputs": [
    {
     "name": "stdout",
     "output_type": "stream",
     "text": [
      "3 7 8\n"
     ]
    }
   ],
   "source": [
    "#84\n",
    "n='#y!j&y^U%Dhf(#Etr)'\n",
    "st=0\n",
    "uc=0\n",
    "lc=0\n",
    "sp=0\n",
    "while st<len(n):\n",
    "    if 'A'<=n[st]<='Z':\n",
    "        uc+=1\n",
    "    elif 'a'<=n[st]<='z':\n",
    "        lc+=1 \n",
    "    if not('A'<=n[st]<='Z' or 'a'<=n[st]<='z' or '0'<=n[st]<='9'):\n",
    "        sp+=1\n",
    "    st+=1\n",
    "print(uc,lc,sp)"
   ]
  },
  {
   "cell_type": "code",
   "execution_count": 98,
   "metadata": {},
   "outputs": [
    {
     "name": "stdout",
     "output_type": "stream",
     "text": [
      "4\n"
     ]
    }
   ],
   "source": [
    "#85\n",
    "n='''hai how are you \n",
    "hello\n",
    "python'''\n",
    "st=0\n",
    "count=0\n",
    "while st<len(n):\n",
    "    if n[st]==' ':\n",
    "        count+=1\n",
    "    st+=1\n",
    "print(count)\n"
   ]
  },
  {
   "cell_type": "code",
   "execution_count": 110,
   "metadata": {},
   "outputs": [
    {
     "name": "stdout",
     "output_type": "stream",
     "text": [
      "7\n"
     ]
    }
   ],
   "source": [
    "#86\n",
    "n='2346597'\n",
    "st=0\n",
    "sum=0\n",
    "while st<len(n):\n",
    "    sum+=1\n",
    "    st+=1\n",
    "print(sum)"
   ]
  },
  {
   "cell_type": "code",
   "execution_count": 1,
   "metadata": {},
   "outputs": [
    {
     "name": "stdout",
     "output_type": "stream",
     "text": [
      "helo wrd\n",
      "h 1\n",
      "e 1\n",
      "l 3\n",
      "o 2\n",
      "  1\n",
      "w 1\n",
      "r 1\n",
      "d 1\n"
     ]
    }
   ],
   "source": [
    "#87\n",
    "x='hello world'\n",
    "n=0\n",
    "temp=''\n",
    "while n<len(x):\n",
    "    if x[n] not in temp:\n",
    "        temp+=x[n]\n",
    "    n+=1\n",
    "print(temp)\n",
    "res=''\n",
    "j=0\n",
    "while j<len(temp):\n",
    "    count=0\n",
    "    st=0\n",
    "    while st<len(x):\n",
    "        if temp[j]==x[0]:\n",
    "            count+=1\n",
    "        st+=1\n",
    "    print(temp[j ],count)\n",
    "    j+=1\n",
    "    \n"
   ]
  },
  {
   "cell_type": "code",
   "execution_count": 14,
   "metadata": {},
   "outputs": [
    {
     "name": "stdout",
     "output_type": "stream",
     "text": [
      "hello\n",
      "python\n",
      "world\n"
     ]
    }
   ],
   "source": [
    "#exract the words\n",
    "n='hello python world'\n",
    "st=0\n",
    "res=''\n",
    "while st<len(n):\n",
    "    if n[st]!=\" \":\n",
    "        res+=n[st]\n",
    "    else:\n",
    "        print(res)\n",
    "        res=''\n",
    "    st+=1\n",
    "print(res)"
   ]
  },
  {
   "cell_type": "code",
   "execution_count": 8,
   "metadata": {},
   "outputs": [
    {
     "name": "stdout",
     "output_type": "stream",
     "text": [
      "LOWER CASE\n"
     ]
    }
   ],
   "source": [
    "#100\n",
    "n='lower case'\n",
    "st=0\n",
    "temp=\"\"\n",
    "while st<len(n):\n",
    "    if 'a'<=n[st]<='z':\n",
    "        temp+=chr(ord(n[st])-32)\n",
    "    else:\n",
    "        temp+=n[st]\n",
    "    st+=1\n",
    "print(temp)"
   ]
  },
  {
   "cell_type": "code",
   "execution_count": 11,
   "metadata": {},
   "outputs": [
    {
     "name": "stdout",
     "output_type": "stream",
     "text": [
      "upper case\n"
     ]
    }
   ],
   "source": [
    "#101\n",
    "n='UPPER CASE'\n",
    "st=0\n",
    "temp=''\n",
    "while st<len(n):\n",
    "    if 'A'<=n[st]<='Z':\n",
    "        temp+=chr(ord(n[st])+32)\n",
    "    else:\n",
    "        temp+=n[st]\n",
    "    st+=1\n",
    "print(temp)\n",
    "\n",
    "\n"
   ]
  },
  {
   "cell_type": "code",
   "execution_count": 15,
   "metadata": {},
   "outputs": [
    {
     "name": "stdout",
     "output_type": "stream",
     "text": [
      "uPpEr cAsE\n"
     ]
    }
   ],
   "source": [
    "#102\n",
    "n='UPPER CASE'\n",
    "st=0\n",
    "temp=''\n",
    "while st<len(n):\n",
    "    if 'A'<=n[st]<='Z' and st%2==0:\n",
    "        temp+=chr(ord(n[st])+32)\n",
    "    else:\n",
    "        temp+=n[st]\n",
    "    st+=1\n",
    "print(temp)"
   ]
  },
  {
   "cell_type": "code",
   "execution_count": 18,
   "metadata": {},
   "outputs": [
    {
     "name": "stdout",
     "output_type": "stream",
     "text": [
      "UpPeR CaSe\n"
     ]
    }
   ],
   "source": [
    "#103\n",
    "n='UPPER CASE'\n",
    "st=0\n",
    "temp=''\n",
    "while st<len(n):\n",
    "    if 'A'<=n[st]<='Z' and st%2!=0:\n",
    "        temp+=chr(ord(n[st])+32)\n",
    "    else:\n",
    "        temp+=n[st]\n",
    "    st+=1\n",
    "print(temp)"
   ]
  },
  {
   "cell_type": "code",
   "execution_count": 22,
   "metadata": {},
   "outputs": [
    {
     "name": "stdout",
     "output_type": "stream",
     "text": [
      "uppercase\n"
     ]
    }
   ],
   "source": [
    "#104\n",
    "n='UPPER CASE lower case $%@*$'\n",
    "st=0\n",
    "temp=''\n",
    "temp1=''\n",
    "temp2=''\n",
    "while st<len(n):\n",
    "    if 'A'<=n[st]<='Z':\n",
    "        temp+=chr(ord(n[st])+32)\n",
    "    elif 'a'<=n[st]<='z':\n",
    "        temp1+=chr(ord(n[st])-32)\n",
    "    else:\n",
    "        temp2+=n[st]\n",
    "    st+=1\n",
    "print(temp)\n"
   ]
  },
  {
   "cell_type": "code",
   "execution_count": 1,
   "metadata": {},
   "outputs": [
    {
     "data": {
      "text/plain": [
       "'Hel$Lo Wor2Ld Hai12Sfg Ilove3I$@Gfbv'"
      ]
     },
     "execution_count": 1,
     "metadata": {},
     "output_type": "execute_result"
    }
   ],
   "source": [
    "#105 title case\n",
    "'hel$Lo wOr2ld hAi12sfg ILOVE3i$@gFBV'.title()"
   ]
  },
  {
   "cell_type": "code",
   "execution_count": 2,
   "metadata": {},
   "outputs": [
    {
     "name": "stdout",
     "output_type": "stream",
     "text": [
      "Hel$Lo Wor2Ld Hai12Sfg Ilove3I$@Gfbv\n"
     ]
    }
   ],
   "source": [
    "#105 title case\n",
    "n='hel$Lo wOr2ld hAi12sfg ILOVE3i$@gFBV'\n",
    "res=''\n",
    "i=0\n",
    "while i<len(n):\n",
    "    if i==0 and 'a'<=n[i]<='z':\n",
    "        res+=chr(ord(n[i])-32)\n",
    "    elif not ('A'<=n[i]<='Z' or 'a'<=n[i]<='z'):\n",
    "        res+=n[i]\n",
    "        if 'a'<=n[i+1]<='z':\n",
    "            res+=chr(ord(n[i+1])-32)\n",
    "            i+=1\n",
    "        elif 'A'<=n[i+1]<='Z':\n",
    "            res+=n[i+1]\n",
    "            i+=1\n",
    "    elif 'A'<=n[i]<='Z':\n",
    "        res+=chr(ord(n[i])+32)\n",
    "    else:\n",
    "        res+=n[i]\n",
    "    i+=1\n",
    "print(res)"
   ]
  },
  {
   "cell_type": "code",
   "execution_count": 32,
   "metadata": {},
   "outputs": [
    {
     "name": "stdout",
     "output_type": "stream",
     "text": [
      "HELLO_WORLD\n"
     ]
    }
   ],
   "source": [
    "#106\n",
    "n='HELLO WORLD'\n",
    "st=0\n",
    "temp=''\n",
    "while st<len(n):\n",
    "    if 'A'<=n[st]>='Z':\n",
    "        temp+=chr(ord(n[st])+32)\n",
    "    elif n[st]==\" \":\n",
    "        temp+='_'\n",
    "    else:\n",
    "        temp+=n[st]\n",
    "    st+=1\n",
    "print(temp)\n"
   ]
  },
  {
   "cell_type": "code",
   "execution_count": 44,
   "metadata": {},
   "outputs": [
    {
     "name": "stdout",
     "output_type": "stream",
     "text": [
      "101117n111m10597\n"
     ]
    }
   ],
   "source": [
    "#108\n",
    "n='eunomia'\n",
    "st=0\n",
    "temp=''\n",
    "while st<len(n):\n",
    "    if n[st] in 'aeiou':\n",
    "        temp+=str(ord(n[st]))\n",
    "    else:\n",
    "        temp+=n[st]\n",
    "    st+=1\n",
    "print(temp)\n"
   ]
  },
  {
   "cell_type": "code",
   "execution_count": 46,
   "metadata": {},
   "outputs": [
    {
     "name": "stdout",
     "output_type": "stream",
     "text": [
      "eu110o109ia\n"
     ]
    }
   ],
   "source": [
    "#109\n",
    "n='eunomia'\n",
    "st=0\n",
    "temp=''\n",
    "while st<len(n):\n",
    "    if n[st] not in 'aeiou':\n",
    "        temp+=str(ord(n[st]))\n",
    "    else:\n",
    "        temp+=n[st]\n",
    "    st+=1\n",
    "print(temp)\n"
   ]
  },
  {
   "cell_type": "code",
   "execution_count": 50,
   "metadata": {},
   "outputs": [
    {
     "name": "stdout",
     "output_type": "stream",
     "text": [
      "e119r116y115d104g\n"
     ]
    }
   ],
   "source": [
    "#110\n",
    "n='ewrtysdhg'\n",
    "st=0\n",
    "temp=''\n",
    "while st<len(n):\n",
    "    if n[st] not in 'aeiou' and st%2!=0:\n",
    "        temp+=str(ord(n[st]))\n",
    "    else:\n",
    "        temp+=n[st]\n",
    "    st+=1\n",
    "print(temp)\n"
   ]
  },
  {
   "cell_type": "code",
   "execution_count": 51,
   "metadata": {},
   "outputs": [
    {
     "name": "stdout",
     "output_type": "stream",
     "text": [
      "101unomi97\n"
     ]
    }
   ],
   "source": [
    "#111\n",
    "n='eunomia'\n",
    "st=0\n",
    "temp=''\n",
    "while st<len(n):\n",
    "    if n[st] in 'aeiou' and st%2==0:\n",
    "        temp+=str(ord(n[st]))\n",
    "    else:\n",
    "        temp+=n[st]\n",
    "    st+=1\n",
    "print(temp)\n"
   ]
  },
  {
   "cell_type": "code",
   "execution_count": 52,
   "metadata": {},
   "outputs": [
    {
     "name": "stdout",
     "output_type": "stream",
     "text": [
      "hello-python-world\n"
     ]
    }
   ],
   "source": [
    "#112\n",
    "n='hello python world'\n",
    "st=0\n",
    "temp=''\n",
    "while st<len(n):\n",
    "    if n[st]==' ':\n",
    "        temp+='-'\n",
    "    else:\n",
    "        temp+=n[st]\n",
    "    st+=1\n",
    "print(temp)"
   ]
  },
  {
   "cell_type": "code",
   "execution_count": 56,
   "metadata": {},
   "outputs": [
    {
     "name": "stdout",
     "output_type": "stream",
     "text": [
      "ptowrdptowrdptowrdptowrdptowrdptowrdptowrdptowrdptowrdptowrdptowrd\n"
     ]
    }
   ],
   "source": [
    "#113\n",
    "n='pythonworld'\n",
    "st=0\n",
    "temp=''\n",
    "while st<len(n):\n",
    "    temp+=n[0::2]\n",
    "    st+=1\n",
    "print(temp)\n"
   ]
  },
  {
   "cell_type": "code",
   "execution_count": null,
   "metadata": {},
   "outputs": [],
   "source": [
    "#114\n",
    "x='hello world'\n",
    "n=0\n",
    "temp=''\n",
    "while n<len(x):\n",
    "    if x[n] not in temp:\n",
    "        temp+=x[n]\n",
    "    n+=1\n",
    "print(temp)\n",
    "res=''\n",
    "j=0\n",
    "while j<len(temp):\n",
    "    count=0\n",
    "    st=0\n",
    "    while st<len(x):\n",
    "        if temp[j]==x[st]:\n",
    "            count+=1\n",
    "        st+=1\n",
    "    print(temp[j],count)\n",
    "    j+=1\n"
   ]
  },
  {
   "cell_type": "code",
   "execution_count": 5,
   "metadata": {},
   "outputs": [
    {
     "name": "stdout",
     "output_type": "stream",
     "text": [
      "@#$^*&\n"
     ]
    }
   ],
   "source": [
    "#115\n",
    "n='a@l#p$h^b*e&t'\n",
    "st=0\n",
    "res=''\n",
    "while st<len(n):\n",
    "    if not ('A'<=n[st]<='Z' or 'a'<=n[st]<='z'):\n",
    "        res+=n[st]\n",
    "    else:\n",
    "        res+=\"\"\n",
    "    st+=1\n",
    "print(res)"
   ]
  },
  {
   "cell_type": "code",
   "execution_count": 8,
   "metadata": {},
   "outputs": [
    {
     "name": "stdout",
     "output_type": "stream",
     "text": [
      "asciinumbers\n"
     ]
    }
   ],
   "source": [
    "#116\n",
    "n='ascii1234567numbers'\n",
    "st=0\n",
    "res=''\n",
    "while st<len(n):\n",
    "    if not ('0'<=n[st]<='9'):\n",
    "        res+=n[st]\n",
    "    else:\n",
    "        res+=''\n",
    "    st+=1\n",
    "print(res)"
   ]
  },
  {
   "cell_type": "code",
   "execution_count": 13,
   "metadata": {},
   "outputs": [
    {
     "name": "stdout",
     "output_type": "stream",
     "text": [
      "nandini\n"
     ]
    }
   ],
   "source": [
    "#117\n",
    "n='n!a@n#d$i?n&i*'\n",
    "st=0\n",
    "res=''\n",
    "while st<len(n):\n",
    "    if ('A'<=n[st]<='z' or 'a'<=n[st]<='z'):\n",
    "        res+=n[st]\n",
    "    else:\n",
    "        res+=''\n",
    "    st+=1\n",
    "print(res)"
   ]
  },
  {
   "cell_type": "code",
   "execution_count": 8,
   "metadata": {},
   "outputs": [
    {
     "name": "stdout",
     "output_type": "stream",
     "text": [
      "palindrome\n"
     ]
    }
   ],
   "source": [
    "#118\n",
    "n=\"happy\"\n",
    "temp=n\n",
    "rev=\"\"\n",
    "st=0\n",
    "while st<len(n):\n",
    "    rev+=n[st]\n",
    "    st+=1\n",
    "if rev==temp:\n",
    "    print(\"palindrome\")\n",
    "else:\n",
    "    print(\"not palindrome\")\n"
   ]
  },
  {
   "cell_type": "code",
   "execution_count": 41,
   "metadata": {},
   "outputs": [
    {
     "name": "stdout",
     "output_type": "stream",
     "text": [
      "not Palindrome\n"
     ]
    }
   ],
   "source": [
    "n = \"mom\"\n",
    "temp = n\n",
    "rev = \"\"\n",
    "st = -1\n",
    "while st <-len(n[st]):\n",
    "    rev +=(-n[st])\n",
    "    st -= 1\n",
    "if rev == temp:\n",
    "    print(\"Palindrome\")\n",
    "else:\n",
    "    print(\"not Palindrome\")"
   ]
  },
  {
   "cell_type": "code",
   "execution_count": null,
   "metadata": {},
   "outputs": [],
   "source": [
    "#119\n"
   ]
  },
  {
   "cell_type": "code",
   "execution_count": null,
   "metadata": {},
   "outputs": [],
   "source": [
    "#fibonacci\n",
    "a=0\n",
    "b=1\n",
    "n=5\n",
    "while n:\n",
    "    c=a+b\n",
    "    print(c)\n",
    "    a,b=b,c\n",
    "    n-=1"
   ]
  },
  {
   "cell_type": "code",
   "execution_count": 6,
   "metadata": {},
   "outputs": [
    {
     "name": "stdout",
     "output_type": "stream",
     "text": [
      "0\n"
     ]
    }
   ],
   "source": [
    "n=157\n",
    "sum=0\n",
    "temp=n\n",
    "while n>0:\n",
    "    ld=n%10\n",
    "    sum+=ld**3\n",
    "    n=n//10\n",
    "print(n)\n",
    "    "
   ]
  },
  {
   "cell_type": "code",
   "execution_count": 1,
   "metadata": {},
   "outputs": [
    {
     "name": "stdout",
     "output_type": "stream",
     "text": [
      "145\n",
      "strong\n"
     ]
    }
   ],
   "source": [
    "#\n",
    "n=145\n",
    "c=0\n",
    "temp=n\n",
    "while n:\n",
    "    ld=n%10\n",
    "    m=1\n",
    "    pro=1\n",
    "    while m<=ld:\n",
    "        pro*=m\n",
    "        m+=1\n",
    "    c+=pro\n",
    "    n=n//10\n",
    "print(c)\n",
    "if temp==c:\n",
    "    print(\"strong\")\n",
    "else:\n",
    "    print(\"not strong\")\n"
   ]
  },
  {
   "cell_type": "code",
   "execution_count": 50,
   "metadata": {},
   "outputs": [
    {
     "name": "stdout",
     "output_type": "stream",
     "text": [
      "1\n",
      "2\n",
      "5\n",
      "10\n"
     ]
    }
   ],
   "source": [
    "#sum of given num and extract the factors of result\n",
    "n=55\n",
    "s=0\n",
    "while n:\n",
    "    ln=n%10\n",
    "    s+=ln\n",
    "    n=n//10\n",
    "m=1\n",
    "while m<=s:\n",
    "    if s%m==0:\n",
    "        print(m)\n",
    "    m+=1    "
   ]
  },
  {
   "cell_type": "code",
   "execution_count": 63,
   "metadata": {},
   "outputs": [
    {
     "name": "stdout",
     "output_type": "stream",
     "text": [
      "4\n",
      "not prime\n"
     ]
    }
   ],
   "source": [
    "#check it is prime or not\n",
    "n=10\n",
    "m=1\n",
    "count=0\n",
    "while m<=n:\n",
    "    if n%m==0:\n",
    "        count+=1\n",
    "    m+=1\n",
    "print(count) \n",
    "if count==2:\n",
    "    print(\"prime\")\n",
    "else:\n",
    "    print(\"not prime\")     "
   ]
  },
  {
   "cell_type": "code",
   "execution_count": 60,
   "metadata": {},
   "outputs": [
    {
     "name": "stdout",
     "output_type": "stream",
     "text": [
      "2\n",
      "3\n",
      "5\n",
      "7\n",
      "11\n",
      "13\n",
      "17\n",
      "19\n"
     ]
    }
   ],
   "source": [
    "#seq of prime numbers\n",
    "n=20\n",
    "m=1\n",
    "while m<=n:\n",
    "    a=m\n",
    "    y=1\n",
    "    count=0\n",
    "    while y<=a:\n",
    "        if a%y==0:\n",
    "            count+=1\n",
    "        y+=1\n",
    "    if count==2:\n",
    "        print(a)\n",
    "    m+=1    "
   ]
  },
  {
   "cell_type": "code",
   "execution_count": 70,
   "metadata": {},
   "outputs": [
    {
     "name": "stdout",
     "output_type": "stream",
     "text": [
      "2\n",
      "62\n"
     ]
    }
   ],
   "source": [
    "#even factors of given number\n",
    "n=62\n",
    "m=1\n",
    "while m<=n:\n",
    "    if n%m==0 and m%2==0:\n",
    "        print(m)\n",
    "    m+=1"
   ]
  },
  {
   "cell_type": "code",
   "execution_count": 77,
   "metadata": {},
   "outputs": [
    {
     "name": "stdout",
     "output_type": "stream",
     "text": [
      "7\n"
     ]
    }
   ],
   "source": [
    "n=1344566\n",
    "count=0\n",
    "while n:\n",
    "    ld=n%10\n",
    "    count+=1\n",
    "    n=n//10\n",
    "print(count)    "
   ]
  },
  {
   "cell_type": "code",
   "execution_count": 84,
   "metadata": {},
   "outputs": [
    {
     "name": "stdout",
     "output_type": "stream",
     "text": [
      "6\n",
      "6\n",
      "spynumber\n"
     ]
    }
   ],
   "source": [
    "n=123\n",
    "temp=n\n",
    "sum=0\n",
    "prod=1\n",
    "while n:\n",
    "    ld=n%10\n",
    "    sum+=ld\n",
    "    n=n//10\n",
    "print(sum)\n",
    "while temp:\n",
    "    res=temp%10\n",
    "    prod*=res\n",
    "    temp=temp//10\n",
    "print(prod)\n",
    "if sum==prod:\n",
    "    print(\"spynumber\")\n",
    "else:\n",
    "    print(\"not spynumber\")"
   ]
  },
  {
   "cell_type": "code",
   "execution_count": 87,
   "metadata": {},
   "outputs": [
    {
     "name": "stdout",
     "output_type": "stream",
     "text": [
      "1 1\n",
      "2 2\n",
      "3 6\n",
      "4 24\n",
      "5 120\n",
      "6 720\n",
      "7 5040\n",
      "8 40320\n",
      "9 362880\n",
      "10 3628800\n"
     ]
    }
   ],
   "source": [
    "#factorial seq\n",
    "a=1\n",
    "b=10\n",
    "while a<=b:\n",
    "    x=1\n",
    "    y=a\n",
    "    prod=1\n",
    "    while x<=y:\n",
    "        prod*=x\n",
    "        x+=1\n",
    "    print(a,prod)\n",
    "    a+=1"
   ]
  },
  {
   "cell_type": "code",
   "execution_count": 13,
   "metadata": {},
   "outputs": [
    {
     "name": "stdout",
     "output_type": "stream",
     "text": [
      "27\n"
     ]
    }
   ],
   "source": [
    "#sum\n",
    "n=1998\n",
    "sum=0\n",
    "sum1=0\n",
    "while n:\n",
    "    ld=n%10\n",
    "    sum+=ld\n",
    "    n=n//10\n",
    "    while sum:\n",
    "        ln=sum%10\n",
    "        sum1+=ln\n",
    "        sum=sum//10\n",
    "print(sum1)"
   ]
  },
  {
   "cell_type": "code",
   "execution_count": 34,
   "metadata": {},
   "outputs": [
    {
     "name": "stdout",
     "output_type": "stream",
     "text": [
      "8\n"
     ]
    }
   ],
   "source": [
    "n=46788843\n",
    "count=0\n",
    "while n:\n",
    "    ld=n%10\n",
    "    count+=1\n",
    "    n=n//10\n",
    "    s=n\n",
    "print(count)"
   ]
  },
  {
   "cell_type": "code",
   "execution_count": 19,
   "metadata": {},
   "outputs": [
    {
     "name": "stdout",
     "output_type": "stream",
     "text": [
      "7\n",
      "3\n",
      "9\n",
      "0\n",
      "0\n",
      "0\n",
      "0\n"
     ]
    }
   ],
   "source": [
    "#extract middle digit\n",
    "n=3456789\n",
    "count=0\n",
    "while n:\n",
    "    ld=n%10\n",
    "    count+=1\n",
    "    ln=n//(10**count//2)%10\n",
    "    print(ln)\n",
    "    n=n//10\n",
    "    "
   ]
  },
  {
   "cell_type": "code",
   "execution_count": 12,
   "metadata": {},
   "outputs": [
    {
     "name": "stdout",
     "output_type": "stream",
     "text": [
      "8\n",
      "5\n"
     ]
    }
   ],
   "source": [
    "n=18956468\n",
    "temp=n\n",
    "count=0\n",
    "while n:\n",
    "    ld=n%10\n",
    "    count+=1\n",
    "    n=n//10\n",
    "print(count)\n",
    "count//=2             #half of count\n",
    "while count:          \n",
    "    temp=temp//10     #\n",
    "    count-=1\n",
    "print(temp%10)"
   ]
  },
  {
   "cell_type": "code",
   "execution_count": 1,
   "metadata": {},
   "outputs": [
    {
     "name": "stdout",
     "output_type": "stream",
     "text": [
      "0\n",
      "1\n",
      "3\n",
      "6\n",
      "10\n",
      "15\n",
      "21\n",
      "28\n",
      "36\n",
      "45\n"
     ]
    }
   ],
   "source": [
    "#triangular\n",
    "limit = 50\n",
    "number = 1\n",
    "triangular = 0\n",
    "while triangular <= limit:\n",
    "    print(triangular)\n",
    "    triangular += number\n",
    "    number += 1"
   ]
  },
  {
   "cell_type": "code",
   "execution_count": 13,
   "metadata": {},
   "outputs": [
    {
     "name": "stdout",
     "output_type": "stream",
     "text": [
      "1\n",
      "2\n",
      "3\n",
      "4\n",
      "5\n",
      "6\n",
      "7\n",
      "8\n",
      "9\n",
      "153\n",
      "370\n",
      "371\n",
      "407\n"
     ]
    }
   ],
   "source": [
    "n=1\n",
    "m=1000\n",
    "while n<=m:\n",
    "    temp=n\n",
    "    s=temp\n",
    "    count=0\n",
    "    while s:\n",
    "        count+=1\n",
    "        s//=10\n",
    "    sum=0\n",
    "    s=temp\n",
    "    while s:\n",
    "        ln=s%10\n",
    "        sum+=ln**count\n",
    "        s=s//10\n",
    "    if sum==temp:\n",
    "        print(temp)\n",
    "    n+=1"
   ]
  },
  {
   "cell_type": "code",
   "execution_count": 5,
   "metadata": {},
   "outputs": [
    {
     "name": "stdout",
     "output_type": "stream",
     "text": [
      "153\n",
      "152\n",
      "150\n",
      "148\n",
      "147\n",
      "146\n",
      "145\n",
      "144\n",
      "143\n",
      "142\n",
      "141\n",
      "140\n",
      "138\n",
      "136\n",
      "135\n",
      "134\n",
      "133\n",
      "132\n",
      "130\n",
      "129\n",
      "128\n",
      "126\n",
      "125\n",
      "124\n",
      "123\n",
      "122\n",
      "121\n",
      "120\n",
      "119\n",
      "118\n",
      "117\n",
      "116\n",
      "115\n",
      "114\n",
      "112\n",
      "111\n",
      "110\n",
      "108\n",
      "106\n",
      "105\n",
      "104\n",
      "102\n",
      "100\n",
      "99\n",
      "98\n",
      "96\n",
      "95\n",
      "94\n",
      "93\n",
      "92\n",
      "91\n",
      "90\n",
      "88\n",
      "87\n",
      "86\n",
      "85\n",
      "84\n",
      "82\n",
      "81\n",
      "80\n",
      "78\n",
      "77\n",
      "76\n",
      "75\n",
      "74\n",
      "72\n",
      "70\n",
      "69\n",
      "68\n",
      "66\n",
      "65\n",
      "64\n",
      "63\n",
      "62\n",
      "60\n",
      "58\n",
      "57\n",
      "56\n",
      "55\n",
      "54\n",
      "52\n",
      "51\n",
      "50\n",
      "49\n",
      "48\n",
      "46\n",
      "45\n",
      "44\n",
      "42\n",
      "40\n",
      "39\n",
      "38\n",
      "36\n",
      "35\n",
      "34\n",
      "33\n",
      "32\n",
      "30\n",
      "28\n",
      "27\n",
      "26\n",
      "25\n",
      "24\n",
      "22\n",
      "21\n",
      "20\n",
      "18\n",
      "16\n",
      "15\n",
      "14\n",
      "12\n",
      "10\n",
      "9\n",
      "8\n",
      "6\n",
      "4\n",
      "1\n"
     ]
    }
   ],
   "source": [
    "#wap to check the given value is armstrong or not ifyes to print the non prime numbers till the results\n",
    "n=153\n",
    "temp=n\n",
    "count=0\n",
    "while temp:\n",
    "    count+=1\n",
    "    temp=temp//10\n",
    "sum=0\n",
    "res=n\n",
    "while res:\n",
    "    ld=res%10\n",
    "    sum=(ld**count)+sum\n",
    "    res=res//10\n",
    "if n==sum:\n",
    "    start=n\n",
    "    end=1\n",
    "    while start>=end:\n",
    "        i=1\n",
    "        j=start\n",
    "        count1=0\n",
    "        while i<=j:\n",
    "            if j%i==0:\n",
    "                count1+=1\n",
    "            i+=1\n",
    "        if count1!=2:\n",
    "            print(j)\n",
    "        start-=1"
   ]
  },
  {
   "cell_type": "code",
   "execution_count": 6,
   "metadata": {},
   "outputs": [
    {
     "name": "stdout",
     "output_type": "stream",
     "text": [
      "1\n",
      "4\n",
      "6\n",
      "8\n",
      "9\n",
      "10\n",
      "12\n",
      "14\n",
      "15\n",
      "16\n",
      "18\n",
      "20\n",
      "21\n",
      "22\n",
      "24\n",
      "25\n",
      "26\n",
      "27\n",
      "28\n",
      "30\n",
      "32\n",
      "33\n",
      "34\n",
      "35\n",
      "36\n",
      "38\n",
      "39\n",
      "40\n",
      "42\n",
      "44\n",
      "45\n",
      "46\n",
      "48\n",
      "49\n",
      "50\n",
      "51\n",
      "52\n",
      "54\n",
      "55\n",
      "56\n",
      "57\n",
      "58\n",
      "60\n",
      "62\n",
      "63\n",
      "64\n",
      "65\n",
      "66\n",
      "68\n",
      "69\n",
      "70\n",
      "72\n",
      "74\n",
      "75\n",
      "76\n",
      "77\n",
      "78\n",
      "80\n",
      "81\n",
      "82\n",
      "84\n",
      "85\n",
      "86\n",
      "87\n",
      "88\n",
      "90\n",
      "91\n",
      "92\n",
      "93\n",
      "94\n",
      "95\n",
      "96\n",
      "98\n",
      "99\n",
      "100\n",
      "102\n",
      "104\n",
      "105\n",
      "106\n",
      "108\n",
      "110\n",
      "111\n",
      "112\n",
      "114\n",
      "115\n",
      "116\n",
      "117\n",
      "118\n",
      "119\n",
      "120\n",
      "121\n",
      "122\n",
      "123\n",
      "124\n",
      "125\n",
      "126\n",
      "128\n",
      "129\n",
      "130\n",
      "132\n",
      "133\n",
      "134\n",
      "135\n",
      "136\n",
      "138\n",
      "140\n",
      "141\n",
      "142\n",
      "143\n",
      "144\n",
      "145\n",
      "146\n",
      "147\n",
      "148\n",
      "150\n",
      "152\n",
      "153\n"
     ]
    }
   ],
   "source": [
    "#wap to check the given value is armstrong or not ifyes to print the non prime numbers till the results\n",
    "n=153\n",
    "temp=n\n",
    "count=0\n",
    "while temp:\n",
    "    count+=1\n",
    "    temp=temp//10\n",
    "sum=0\n",
    "res=n\n",
    "while res:\n",
    "    ld=res%10\n",
    "    sum=(ld**count)+sum\n",
    "    res=res//10\n",
    "if n==sum:\n",
    "    start=1\n",
    "    end=n\n",
    "    while start<=end:\n",
    "        i=1\n",
    "        j=start\n",
    "        count1=0\n",
    "        while i<=j:\n",
    "            if j%i==0:\n",
    "                count1+=1\n",
    "            i+=1\n",
    "        if count1!=2:\n",
    "            print(j)\n",
    "        start+=1"
   ]
  },
  {
   "cell_type": "code",
   "execution_count": 21,
   "metadata": {},
   "outputs": [
    {
     "name": "stdout",
     "output_type": "stream",
     "text": [
      "2\n",
      "3\n",
      "5\n",
      "7\n",
      "11\n",
      "13\n",
      "17\n",
      "19\n"
     ]
    }
   ],
   "source": [
    "#seq of prime numbers\n",
    "n=20\n",
    "m=1\n",
    "while m<=n:\n",
    "    a=m\n",
    "    y=1\n",
    "    count=0\n",
    "    while y<=a:\n",
    "        if a%y==0:\n",
    "            count+=1\n",
    "        y+=1\n",
    "    if count==2:\n",
    "        print(a)\n",
    "    m+=1    "
   ]
  },
  {
   "cell_type": "code",
   "execution_count": 2,
   "metadata": {},
   "outputs": [
    {
     "name": "stdout",
     "output_type": "stream",
     "text": [
      "7\n"
     ]
    }
   ],
   "source": [
    "n='python'\n",
    "start=0\n",
    "end=len(n)\n",
    "count=0\n",
    "while start<=end:\n",
    "    count+=1\n",
    "    start+=1\n",
    "print(count)"
   ]
  },
  {
   "cell_type": "code",
   "execution_count": 2,
   "metadata": {},
   "outputs": [
    {
     "name": "stdout",
     "output_type": "stream",
     "text": [
      "valid #$srgWER874\n"
     ]
    }
   ],
   "source": [
    "#check password is valid or not\n",
    "n='#$srgWER874'\n",
    "start=0\n",
    "end=len(n)\n",
    "uc,lc,an,sp=0,0,0,0\n",
    "if 8<=len(n)<=16:\n",
    "    while start<end:\n",
    "        if 'A'<=n[start]<='Z':\n",
    "            uc+=1\n",
    "        elif 'a'<=n[start]<='z':\n",
    "            lc+=1\n",
    "        elif '0'<=n[start]<='9':\n",
    "            an+=1\n",
    "        else:\n",
    "            sp+=1\n",
    "        start+=1\n",
    "    if uc>=2 and lc>=1 and sp>=2 and an>=1:\n",
    "        print(\"valid\",n)\n",
    "    else:\n",
    "        print(\"invalid\")\n",
    "else:\n",
    "    print(\"invalid\")\n",
    "\n"
   ]
  },
  {
   "cell_type": "code",
   "execution_count": 5,
   "metadata": {},
   "outputs": [
    {
     "name": "stdout",
     "output_type": "stream",
     "text": [
      "8\n",
      "valid\n"
     ]
    }
   ],
   "source": [
    "st='pyspider@gmail.co.edu'\n",
    "x=0\n",
    "temp=0\n",
    "while x<len(st):\n",
    "    if not('A'<=st[x]<='Z' or 'a'<=st[x]<='z' or '0'<=st[x]<='9' or st[x] in '@.'):\n",
    "        temp+=1\n",
    "    x+=1\n",
    "if temp==0:\n",
    "    if '@' in st and '.' in st:\n",
    "        start=0\n",
    "        pos=None\n",
    "        count=0\n",
    "        while start<len(st):\n",
    "            if '@'==st[start]:\n",
    "                pos=start\n",
    "                count+=1\n",
    "            start+=1\n",
    "        if count==1:\n",
    "            print(pos)\n",
    "            if '.' in st[pos:]:\n",
    "                c=0\n",
    "                i=pos\n",
    "                while i<len(st):\n",
    "                    if '.'==st[i]:\n",
    "                        c+=1\n",
    "                    i+=1\n",
    "                if 1<=c<=2:\n",
    "                    print(\"valid\")\n",
    "                else:\n",
    "                    print(\"invalid email\")\n",
    "            else:\n",
    "                print(\"invalid email\")\n",
    "        else:\n",
    "            print(\"invalid email\")\n",
    "    else:\n",
    "        print(\"invalid email\")\n",
    "else:\n",
    "    print(\"invalid email\")\n"
   ]
  },
  {
   "cell_type": "code",
   "execution_count": 11,
   "metadata": {},
   "outputs": [
    {
     "name": "stdout",
     "output_type": "stream",
     "text": [
      "7\n"
     ]
    }
   ],
   "source": [
    "#count\n",
    "n=3456789\n",
    "c=0\n",
    "while n>0:\n",
    "    c+=1\n",
    "    n=n//10 \n",
    "print(c)"
   ]
  },
  {
   "cell_type": "code",
   "execution_count": 28,
   "metadata": {},
   "outputs": [
    {
     "name": "stdout",
     "output_type": "stream",
     "text": [
      "helo wrd\n",
      "h 1\n",
      "e 1\n",
      "l 3\n",
      "o 2\n",
      "  1\n",
      "w 1\n",
      "r 1\n",
      "d 1\n"
     ]
    }
   ],
   "source": [
    "x='hello world'\n",
    "n=0\n",
    "temp=''\n",
    "while n<len(x):\n",
    "    if x[n] not in temp:\n",
    "        temp+=x[n]\n",
    "    n+=1\n",
    "print(temp)\n",
    "res=''\n",
    "j=0\n",
    "while j<len(temp):\n",
    "    count=0\n",
    "    st=0\n",
    "    while st<len(x):\n",
    "        if temp[j]==x[st]:\n",
    "            count+=1\n",
    "        st+=1\n",
    "    print(temp[j],count)\n",
    "    j+=1\n",
    "    "
   ]
  },
  {
   "cell_type": "code",
   "execution_count": 29,
   "metadata": {},
   "outputs": [
    {
     "name": "stdout",
     "output_type": "stream",
     "text": [
      "{'h': 1, 'e': 1, 'l': 3, 'o': 2, 'w': 1, 'r': 1, 'd': 1}\n"
     ]
    }
   ],
   "source": [
    "n='helloworld'\n",
    "res={}\n",
    "st=0\n",
    "while st<len(n):\n",
    "    if n[st] not in res:\n",
    "        res[n[st]]=1\n",
    "    else:\n",
    "        res[n[st]]+=1\n",
    "    st+=1\n",
    "print(res)"
   ]
  },
  {
   "cell_type": "code",
   "execution_count": 6,
   "metadata": {},
   "outputs": [
    {
     "name": "stdout",
     "output_type": "stream",
     "text": [
      "['h', 'e', 'l', 'o', 'w', 'r', 'd']\n",
      "l 3\n"
     ]
    }
   ],
   "source": [
    "#highest occurance\n",
    "n='helloworld'\n",
    "res={}\n",
    "st=0\n",
    "while st<len(n):\n",
    "    if n[st] not in res:\n",
    "        res[n[st]]=1\n",
    "    else:\n",
    "        res[n[st]]+=1\n",
    "    st+=1\n",
    "l=list(res)\n",
    "s=0\n",
    "ch=\"\"\n",
    "print(l)\n",
    "i=0\n",
    "while i<len(l):\n",
    "    if s<res[l[i]]:\n",
    "        s=res[l[i]]\n",
    "        ch=l[i]\n",
    "    i+=1\n",
    "print(ch,s)"
   ]
  },
  {
   "cell_type": "code",
   "execution_count": 8,
   "metadata": {},
   "outputs": [
    {
     "name": "stdout",
     "output_type": "stream",
     "text": [
      "6\n",
      "[1, 2, 3]\n",
      "15\n",
      "[4, 5, 6]\n",
      "24\n",
      "[7, 8, 9]\n"
     ]
    }
   ],
   "source": [
    "l=[[1,2,3],[4,5,6],[7,8,9]]\n",
    "x=0\n",
    "while x<len(l):\n",
    "    sum=0\n",
    "    y=0\n",
    "    while y<len(l[x]):\n",
    "        sum+=l[x][y]\n",
    "        y+=1\n",
    "    print(sum)\n",
    "    print(l[x])\n",
    "    x+=1"
   ]
  },
  {
   "cell_type": "code",
   "execution_count": 10,
   "metadata": {},
   "outputs": [
    {
     "name": "stdout",
     "output_type": "stream",
     "text": [
      "28\n",
      "80\n",
      "162\n"
     ]
    }
   ],
   "source": [
    "l=[[1,2,3],[4,5,6],[7,8,9]]\n",
    "i=0\n",
    "while i<len(l[0]):\n",
    "    pro=1\n",
    "    x=0\n",
    "    while x<len(l):\n",
    "        pro*=l[x][i]\n",
    "        x+=1\n",
    "    print(pro)\n",
    "    i+=1"
   ]
  },
  {
   "cell_type": "code",
   "execution_count": 12,
   "metadata": {},
   "outputs": [
    {
     "name": "stdout",
     "output_type": "stream",
     "text": [
      "['maths', 'science', 'english', 'social', 'hindi']\n",
      "67 99\n"
     ]
    }
   ],
   "source": [
    "#highest and least marks obtained\n",
    "d={'maths':96,'science':78,'english':99,'social':95,'hindi':67}\n",
    "l=list(d)\n",
    "print(l)\n",
    "min=100\n",
    "max=0\n",
    "i=0\n",
    "while i<len(l):\n",
    "    if max<d[l[i]]:\n",
    "        max=d[l[i]]\n",
    "    elif min>d[l[i]]:\n",
    "        min=d[l[i]]\n",
    "    i+=1\n",
    "print(min,max)"
   ]
  },
  {
   "cell_type": "code",
   "execution_count": 13,
   "metadata": {},
   "outputs": [
    {
     "name": "stdout",
     "output_type": "stream",
     "text": [
      "['maths', 'science', 'english', 'social', 'hindi']\n",
      "99 english\n",
      "67 hindi\n"
     ]
    }
   ],
   "source": [
    " #highest and least marks obtained with sub\n",
    "d={'maths':96,'science':78,'english':99,'social':95,'hindi':67}\n",
    "l=list(d)\n",
    "print(l)\n",
    "min=100\n",
    "min_k=''\n",
    "max=0\n",
    "max_k=''\n",
    "i=0\n",
    "while i<len(l):\n",
    "    if max<d[l[i]]:\n",
    "        max=d[l[i]]\n",
    "        max_k=l[i]\n",
    "    elif min>d[l[i]]:\n",
    "        min=d[l[i]]\n",
    "        min_k=l[i]\n",
    "    i+=1\n",
    "print(max,max_k)\n",
    "print(min,min_k)"
   ]
  },
  {
   "cell_type": "code",
   "execution_count": 11,
   "metadata": {},
   "outputs": [
    {
     "name": "stdout",
     "output_type": "stream",
     "text": [
      " Hello Wor2Ld Hai12Sfg Ilove3I$@Gfbv\n"
     ]
    }
   ],
   "source": [
    "#title case\n",
    "st=' helLo wor2ld hAi12sfg ILOVE3i$@gFBV'\n",
    "res=''\n",
    "i=0\n",
    "while i<len(st):\n",
    "    if i==0 and 'a'<=st[i]<='z':\n",
    "        res+=chr(ord(st[i])-32)\n",
    "    elif not('A'<=st[i]<='Z' or 'a'<=st[i]<='z'):\n",
    "        res+=st[i]\n",
    "        if 'a'<=st[i+1]<='z':\n",
    "            res+=chr(ord(st[i+1])-32)\n",
    "            i+=1\n",
    "        elif 'A'<=st[i+1]<='Z':\n",
    "            res+=st[i+1]\n",
    "            i+=1\n",
    "    elif 'A'<=st[i]<='Z':\n",
    "        res+=chr(ord(st[i])+32)\n",
    "    else:\n",
    "        res+=st[i]\n",
    "    i+=1\n",
    "print(res)\n"
   ]
  },
  {
   "cell_type": "code",
   "execution_count": 24,
   "metadata": {},
   "outputs": [
    {
     "name": "stdout",
     "output_type": "stream",
     "text": [
      "hello\n",
      "python\n",
      "world\n"
     ]
    }
   ],
   "source": [
    "#extract words from str\n",
    "n='hello python world'\n",
    "i=0\n",
    "res=''\n",
    "while i<len(n):\n",
    "    if n[i]!=\" \":\n",
    "        res+=n[i]\n",
    "    else:\n",
    "        print(res)\n",
    "        res=''\n",
    "    i+=1\n",
    "print(res)"
   ]
  },
  {
   "cell_type": "code",
   "execution_count": 29,
   "metadata": {},
   "outputs": [
    {
     "name": "stdout",
     "output_type": "stream",
     "text": [
      "['helLo', 'wor2ld', 'hAi12sfg', 'ILOVE3i$@gFBV']\n"
     ]
    }
   ],
   "source": [
    "n=' hello world 123'\n",
    "l=[]\n",
    "i=0\n",
    "while i<len(st):\n",
    "    if st[i]!=' ':\n",
    "        l[-1]+=st[i]\n",
    "    else:\n",
    "        if len(st)-1!=i and st[i+1]!=' ':\n",
    "            l+=['']\n",
    "    i+=1\n",
    "print(l)"
   ]
  },
  {
   "cell_type": "code",
   "execution_count": 33,
   "metadata": {},
   "outputs": [
    {
     "name": "stdout",
     "output_type": "stream",
     "text": [
      "abc\n",
      "defg\n",
      "abc\n",
      "pqrstfg\n"
     ]
    }
   ],
   "source": [
    "#print the seq of alphabets \n",
    "n='abcryt defgyrdabc drtpqrstfgt '\n",
    "i=0\n",
    "m=''\n",
    "while i<len(n):\n",
    "    if i!=len(n)-1 and ord(n[i])+1==ord(n[i+1]):\n",
    "        m+=n[i]\n",
    "    elif ord(n[i-1])+1==ord(n[i]):\n",
    "        m+=n[i]\n",
    "    else:\n",
    "        if len(m)>=3:\n",
    "            print(m)\n",
    "        m=''\n",
    "    i+=1\n"
   ]
  },
  {
   "cell_type": "code",
   "execution_count": 62,
   "metadata": {},
   "outputs": [
    {
     "name": "stdout",
     "output_type": "stream",
     "text": [
      "['@gmail.com', 'pyspiders2ymail.com', '@pys.com', '@outlook.com']\n"
     ]
    }
   ],
   "source": [
    "st='qspiders@gmail.com pyspiders2ymail.com jspiders@pys.com ramu@outlook.com'\n",
    "l=[]\n",
    "s=''\n",
    "i=0\n",
    "while i<len(st):\n",
    "    if st[i]=='@' and '@' not in s:\n",
    "        s=''\n",
    "        s+=st[i]\n",
    "    elif st[i]==' ':\n",
    "        if len(s)!=0:\n",
    "            l+=[s]\n",
    "            s=''\n",
    "    else:\n",
    "        s+=st[i]\n",
    "    i+=1\n",
    "if len(s)!=0:\n",
    "    l+=[s]\n",
    "print(l)"
   ]
  },
  {
   "cell_type": "code",
   "execution_count": 58,
   "metadata": {},
   "outputs": [
    {
     "name": "stdout",
     "output_type": "stream",
     "text": [
      "['.com', '.com', '.com', '.com.org']\n"
     ]
    }
   ],
   "source": [
    "st='qspiders@gmail.com pyspiders2ymail.com jspiders@pys.com ramu@outlook.com.org'\n",
    "l=[]\n",
    "s=''\n",
    "i=0\n",
    "while i<len(st):\n",
    "    if st[i]=='.' and '.' not in s:\n",
    "        s=''\n",
    "        s+=st[i]\n",
    "    elif st[i]==' ':\n",
    "        if len(s)!=0:\n",
    "            l+=[s]\n",
    "            s=''\n",
    "    else:\n",
    "        s+=st[i]\n",
    "    i+=1\n",
    "if len(s)!=0:\n",
    "    l+=[s]\n",
    "print(l)"
   ]
  },
  {
   "cell_type": "code",
   "execution_count": 30,
   "metadata": {},
   "outputs": [
    {
     "name": "stdout",
     "output_type": "stream",
     "text": [
      "['@gmail.com', '@ymail.com', '@pys.com', '@outlook.com']\n",
      "['com', 'com', 'com', 'com']\n",
      "['moc.liamg@', 'moc.liamy@', 'moc.syp@', 'moc.kooltuo@']\n"
     ]
    }
   ],
   "source": [
    "st='qspiders@gmail.com pyspiders@ymail.com jspiders@pys.com ramu@outlook.com'\n",
    "l=[]\n",
    "s=''\n",
    "i=0\n",
    "while i<len(st):\n",
    "    if st[i]=='@' and '@' not in s:\n",
    "        s=''\n",
    "        s+=st[i]\n",
    "        #print(s)\n",
    "    elif st[i]==' ':\n",
    "        if len(s)!=0:\n",
    "            l+=[s]\n",
    "            s=''\n",
    "        #print(l)\n",
    "    else:\n",
    "        s+=st[i]\n",
    "    i+=1\n",
    "if len(s)!=0:\n",
    "    l+=[s]\n",
    "print(l)\n",
    "q=0\n",
    "t=[]\n",
    "b=''\n",
    "while q<len(st):\n",
    "    if st[q]=='.' and '.' not in b:\n",
    "        b=''\n",
    "        #b+=st[q]\n",
    "    elif st[q]==\" \":\n",
    "        if len(b)!=0:\n",
    "            t+=[b]\n",
    "            b=''\n",
    "    else:\n",
    "        b+=st[q]\n",
    "    q+=1\n",
    "if len(b)!=0:\n",
    "    t+=[b]\n",
    "print(t)\n",
    "x=[]\n",
    "y=0\n",
    "z=''\n",
    "while y<len(l):\n",
    "    z=l[y]\n",
    "    x+=[z[::-1]]\n",
    "    y+=1\n",
    "print(x)"
   ]
  },
  {
   "cell_type": "code",
   "execution_count": null,
   "metadata": {},
   "outputs": [],
   "source": [
    "n='qspiders@gmail.com pyspiders@ymail.com jspiders@pys.edu ramu@outlook.com seetha@fb.in ap@gmail.org.in'\n",
    "#['com','com',in,edu,com,in,org.in]\n"
   ]
  },
  {
   "cell_type": "code",
   "execution_count": 13,
   "metadata": {},
   "outputs": [
    {
     "name": "stdout",
     "output_type": "stream",
     "text": [
      "['this that why what who how india world hyder sixsix fivfiv oreore']\n",
      "t\n",
      "[['this that why what who how india world hyder sixsix fivfiv oreore']]\n"
     ]
    }
   ],
   "source": [
    "#segregate the words based on the length of the words\n",
    "n='this that why what who how india world hyder sixsix fivfiv oreore'\n",
    "l=[]\n",
    "res=''\n",
    "i=0\n",
    "sp=''\n",
    "while i<len(n):\n",
    "    if n[i]!=sp:\n",
    "        res+=n[i]\n",
    "    else:\n",
    "        if len(res)!=0:\n",
    "            l+=[res]\n",
    "            res=''\n",
    "       i+=1\n",
    "if len(res)!=0:\n",
    "    l+=[res]\n",
    "print(l)\n",
    "uni=''\n",
    "j=0\n",
    "while j<len(l):\n",
    "    if l[j][0] not in uni:\n",
    "        uni+=l[j][0]\n",
    "    j+=1\n",
    "print(uni)\n",
    "d=[]\n",
    "k=0\n",
    "while k<len(uni):\n",
    "    d+=[[]]\n",
    "    x=0\n",
    "    while x<len(l):\n",
    "        if uni[k]==l[x][0]:\n",
    "            d[-1]+=[l[x]]\n",
    "        x+=1\n",
    "    k+=1\n",
    "print(d)"
   ]
  },
  {
   "cell_type": "code",
   "execution_count": 2,
   "metadata": {},
   "outputs": [
    {
     "name": "stdout",
     "output_type": "stream",
     "text": [
      "hi\n",
      "hello\n"
     ]
    }
   ],
   "source": [
    "n='hi hello'\n",
    "i=0\n",
    "res=''\n",
    "while i<len(n):\n",
    "    if n[i]!=\" \":\n",
    "        res+=n[i]\n",
    "    else:\n",
    "        print(res)\n",
    "        res=''\n",
    "    i+=1\n",
    "print(res)"
   ]
  },
  {
   "cell_type": "markdown",
   "metadata": {},
   "source": [
    "#for loop"
   ]
  },
  {
   "cell_type": "code",
   "execution_count": 3,
   "metadata": {},
   "outputs": [
    {
     "name": "stdout",
     "output_type": "stream",
     "text": [
      "3\n"
     ]
    }
   ],
   "source": [
    "#count sp data item\n",
    "n=eval(input(\"enter the value:\"))\n",
    "sp=eval(input('enter sp value'))\n",
    "if type(n) in [str,list,tuple]:\n",
    "    count=0\n",
    "    for i in n:\n",
    "        if sp==i:\n",
    "            count+=1\n",
    "    print(count)"
   ]
  },
  {
   "cell_type": "code",
   "execution_count": 19,
   "metadata": {},
   "outputs": [
    {
     "name": "stdout",
     "output_type": "stream",
     "text": [
      "1 not prime\n",
      "2 prime\n",
      "3 prime\n",
      "4 not prime\n",
      "5 prime\n",
      "6 not prime\n",
      "7 prime\n",
      "8 not prime\n",
      "9 not prime\n",
      "10 not prime\n"
     ]
    }
   ],
   "source": [
    "def prime(num):\n",
    "    for i in range(1,num+1):\n",
    "        c=0\n",
    "        for j in range(1,i+1):\n",
    "            if i%j==0:\n",
    "                c+=1\n",
    "        if c==2:\n",
    "            print(i,\"prime\")\n",
    "        else:\n",
    "            print(i,\"not prime\")\n",
    "prime(10)"
   ]
  },
  {
   "cell_type": "code",
   "execution_count": 24,
   "metadata": {},
   "outputs": [
    {
     "name": "stdout",
     "output_type": "stream",
     "text": [
      "2\n",
      "3\n",
      "5\n",
      "7\n",
      "11\n",
      "13\n",
      "17\n",
      "19\n"
     ]
    }
   ],
   "source": [
    "n=1\n",
    "m=20\n",
    "while n<=m:\n",
    "    a=n\n",
    "    b=1\n",
    "    c=0\n",
    "    while b<=a:\n",
    "        if a%b==0:\n",
    "            c+=1\n",
    "        b+=1\n",
    "    if c==2:\n",
    "        print(a)\n",
    "    n+=1"
   ]
  },
  {
   "cell_type": "code",
   "execution_count": null,
   "metadata": {},
   "outputs": [],
   "source": [
    "n=3\n",
    "m=1\n",
    "if n%m==0:\n",
    "    print"
   ]
  },
  {
   "cell_type": "code",
   "execution_count": 11,
   "metadata": {},
   "outputs": [
    {
     "name": "stdout",
     "output_type": "stream",
     "text": [
      "3 prime\n"
     ]
    }
   ],
   "source": [
    "num=2\n",
    "i=0\n",
    "c=0\n",
    "while i<=num:\n",
    "    if i%num==0:\n",
    "        c+=1\n",
    "    i+=1\n",
    "if c==2:\n",
    "    print(i,'prime') \n",
    "     "
   ]
  },
  {
   "cell_type": "code",
   "execution_count": 9,
   "metadata": {},
   "outputs": [
    {
     "name": "stdout",
     "output_type": "stream",
     "text": [
      "{'h': 1, 'e': 1, 'l': 3, 'o': 2, ' ': 1, 'w': 1, 'r': 1, 'd': 1}\n"
     ]
    }
   ],
   "source": [
    "#count each data item\n",
    "n=eval(input(\"enter the data\"))\n",
    "uni={}\n",
    "count=0\n",
    "for i in n:\n",
    "    if i not in uni:\n",
    "        uni[i]=1\n",
    "    else:\n",
    "        uni[i]+=1\n",
    "print(uni)"
   ]
  },
  {
   "cell_type": "code",
   "execution_count": 72,
   "metadata": {},
   "outputs": [
    {
     "name": "stdout",
     "output_type": "stream",
     "text": [
      "24\n"
     ]
    }
   ],
   "source": [
    "#sum of digits\n",
    "n=\"45780\"\n",
    "sum=0\n",
    "m=int(n)\n",
    "for i in n:\n",
    "    ld=m%10\n",
    "    sum+=ld\n",
    "    m=m//10\n",
    "print(sum)"
   ]
  },
  {
   "cell_type": "code",
   "execution_count": 20,
   "metadata": {},
   "outputs": [
    {
     "name": "stdout",
     "output_type": "stream",
     "text": [
      "33\n"
     ]
    }
   ],
   "source": [
    "n=\"457890\"\n",
    "sum=0\n",
    "for i in n:\n",
    "    sum+=int(i)\n",
    "print(sum)"
   ]
  },
  {
   "cell_type": "code",
   "execution_count": 23,
   "metadata": {},
   "outputs": [
    {
     "name": "stdout",
     "output_type": "stream",
     "text": [
      "3600\n"
     ]
    }
   ],
   "source": [
    "#prod\n",
    "n=\"614565\"\n",
    "prod=1\n",
    "for i in n:\n",
    "    prod*=int(i)\n",
    "print(prod)"
   ]
  },
  {
   "cell_type": "code",
   "execution_count": 18,
   "metadata": {},
   "outputs": [
    {
     "name": "stdout",
     "output_type": "stream",
     "text": [
      "3 d\n"
     ]
    }
   ],
   "source": [
    "#highest occurane\n",
    "n='hello world'\n",
    "d={}\n",
    "max=0\n",
    "ch=None\n",
    "for i in n:\n",
    "    if i not in d:\n",
    "        d[i]=1\n",
    "    else:\n",
    "        d[i]+=1\n",
    "    for i in d:\n",
    "        if max<d[i]:\n",
    "            max=d[i]\n",
    "        ch=i\n",
    "print(max,ch)"
   ]
  },
  {
   "cell_type": "code",
   "execution_count": 22,
   "metadata": {},
   "outputs": [
    {
     "name": "stdout",
     "output_type": "stream",
     "text": [
      "[['h', 1], ['h', 1], ['e', 1], ['h', 1], ['h', 1], ['e', 1], ['l', 1], ['h', 1], ['h', 1], ['e', 1], ['l', 2], ['l', 2], ['l', 2], ['l', 2], ['l', 2], ['l', 2], ['l', 2], ['l', 2], ['o', 2], ['l', 2], ['l', 2], ['o', 2], ['l', 2], ['l', 3], ['l', 3], ['l', 3]]\n",
      "26\n"
     ]
    }
   ],
   "source": [
    "#no of least characters\n",
    "n='hello world'\n",
    "uni={}\n",
    "min=0\n",
    "ch=None\n",
    "u=[]\n",
    "for i in n:\n",
    "    if i not in uni:\n",
    "        uni[i]=1\n",
    "    else:\n",
    "        uni[i]+=1\n",
    "    for i in uni:\n",
    "        if min<uni[i]:\n",
    "            min=uni[i]\n",
    "            ch=i\n",
    "        elif min==uni[i]:\n",
    "             u+=[[i,uni[i]]]\n",
    "    u+=[[ch,min]]\n",
    "print(u)\n",
    "print(len(u))"
   ]
  },
  {
   "cell_type": "code",
   "execution_count": 23,
   "metadata": {},
   "outputs": [
    {
     "name": "stdout",
     "output_type": "stream",
     "text": [
      "dlrow olleh\n"
     ]
    }
   ],
   "source": [
    "#reverse the str\n",
    "n='hello world'\n",
    "res=''\n",
    "for i in n:\n",
    "    res=i+res\n",
    "print(res)"
   ]
  },
  {
   "cell_type": "code",
   "execution_count": 27,
   "metadata": {},
   "outputs": [
    {
     "name": "stdout",
     "output_type": "stream",
     "text": [
      "palindrome\n"
     ]
    }
   ],
   "source": [
    "#check palindrome\n",
    "n='liril'\n",
    "rev=''\n",
    "for i in n:\n",
    "    rev=i+rev\n",
    "if rev==n:\n",
    "    print(\"palindrome\")\n",
    "else:\n",
    "    print(\"not palindrome\")"
   ]
  },
  {
   "cell_type": "code",
   "execution_count": 3,
   "metadata": {},
   "outputs": [
    {
     "name": "stdout",
     "output_type": "stream",
     "text": [
      "not armstrong 354\n"
     ]
    }
   ],
   "source": [
    "n=eval(input(\"enter\"))\n",
    "sum=0\n",
    "for i in n:\n",
    "    sum+=int(i)**len(n)\n",
    "if int(n)==sum:\n",
    "    print(\"armstrong\",sum)\n",
    "else:\n",
    "    print(\"not armstrong\",sum)"
   ]
  },
  {
   "cell_type": "code",
   "execution_count": 32,
   "metadata": {},
   "outputs": [],
   "source": [
    "n=eval(input(\"enter\"))\n",
    "sum=0\n",
    "for i in n:\n",
    "    if int(n)%int(i)==0:\n",
    "        sum+=int(i)\n",
    "if n==sum:\n",
    "    print(\"perfect number\",sum)"
   ]
  },
  {
   "cell_type": "code",
   "execution_count": 18,
   "metadata": {},
   "outputs": [
    {
     "name": "stdout",
     "output_type": "stream",
     "text": [
      "6\n"
     ]
    }
   ],
   "source": [
    "n=6\n",
    "sum=0\n",
    "i=1\n",
    "while i<n:\n",
    "    if n%i==0:\n",
    "        sum+=i\n",
    "    i+=1\n",
    "print(sum)"
   ]
  },
  {
   "cell_type": "code",
   "execution_count": 7,
   "metadata": {},
   "outputs": [
    {
     "name": "stdout",
     "output_type": "stream",
     "text": [
      "m\n",
      "o\n",
      "b\n",
      "i\n",
      "l\n",
      "e\n"
     ]
    }
   ],
   "source": [
    "st='mobile'\n",
    "pos=1\n",
    "n=0\n",
    "for i in st:\n",
    "    print(st[n:pos])\n",
    "    pos+=1 \n",
    "    n+=1"
   ]
  },
  {
   "cell_type": "code",
   "execution_count": 1,
   "metadata": {},
   "outputs": [
    {
     "name": "stdout",
     "output_type": "stream",
     "text": [
      "m\n",
      "mo\n",
      "mob\n",
      "mobi\n",
      "mobil\n",
      "mobile\n"
     ]
    }
   ],
   "source": [
    "#pattern\n",
    "n='mobile'\n",
    "res=''\n",
    "for i in n:\n",
    "    res+=i\n",
    "    print(res)"
   ]
  },
  {
   "cell_type": "code",
   "execution_count": 9,
   "metadata": {},
   "outputs": [
    {
     "name": "stdout",
     "output_type": "stream",
     "text": [
      "l\n",
      "le\n",
      "lev\n",
      "leve\n",
      "level\n",
      "e\n",
      "ev\n",
      "eve\n",
      "evel\n",
      "v\n",
      "ve\n",
      "vel\n",
      "e\n",
      "el\n",
      "l\n"
     ]
    }
   ],
   "source": [
    "#pattern\n",
    "n='level'\n",
    "for j in range(0,len(n)):\n",
    "    for i in range(j+1,len(n)+1):\n",
    "        print(n[j:i])"
   ]
  },
  {
   "cell_type": "code",
   "execution_count": 4,
   "metadata": {},
   "outputs": [
    {
     "name": "stdout",
     "output_type": "stream",
     "text": [
      "l\n",
      "le\n",
      "lev\n",
      "leve\n",
      "level\n",
      "\n",
      "e\n",
      "ev\n",
      "eve\n",
      "evel\n",
      "\n",
      "\n",
      "v\n",
      "ve\n",
      "vel\n",
      "\n",
      "\n",
      "\n",
      "e\n",
      "el\n",
      "\n",
      "\n",
      "\n",
      "\n",
      "l\n"
     ]
    }
   ],
   "source": [
    "#pattern\n",
    "n='level'\n",
    "for j in range(0,len(n)):\n",
    "    for i in range(1,len(n)+1):\n",
    "        print(n[j:i])"
   ]
  },
  {
   "cell_type": "code",
   "execution_count": 17,
   "metadata": {},
   "outputs": [
    {
     "name": "stdout",
     "output_type": "stream",
     "text": [
      "9\n",
      "8\n",
      "7\n",
      "6\n",
      "5\n",
      "4\n",
      "3\n",
      "2\n",
      "1\n"
     ]
    }
   ],
   "source": [
    "for i in range(9,0,-1):\n",
    "    print(i)"
   ]
  },
  {
   "cell_type": "code",
   "execution_count": 27,
   "metadata": {},
   "outputs": [
    {
     "ename": "TypeError",
     "evalue": "'list' object is not callable",
     "output_type": "error",
     "traceback": [
      "\u001b[1;31m---------------------------------------------------------------------------\u001b[0m",
      "\u001b[1;31mTypeError\u001b[0m                                 Traceback (most recent call last)",
      "\u001b[1;32mc:\\Users\\User\\Documents\\GitHub\\nandini\\ifelse.ipynb Cell 253\u001b[0m line \u001b[0;36m2\n\u001b[0;32m      <a href='vscode-notebook-cell:/c%3A/Users/User/Documents/GitHub/nandini/ifelse.ipynb#Y510sZmlsZQ%3D%3D?line=0'>1</a>\u001b[0m d\u001b[39m=\u001b[39m[\u001b[39m1\u001b[39m,\u001b[39m4\u001b[39m,\u001b[39m3\u001b[39m,\u001b[39m7\u001b[39m,\u001b[39m5\u001b[39m,\u001b[39m9\u001b[39m,\u001b[39m6\u001b[39m,\u001b[39m7\u001b[39m,\u001b[39m6\u001b[39m,\u001b[39m35\u001b[39m]\n\u001b[1;32m----> <a href='vscode-notebook-cell:/c%3A/Users/User/Documents/GitHub/nandini/ifelse.ipynb#Y510sZmlsZQ%3D%3D?line=1'>2</a>\u001b[0m \u001b[39mfor\u001b[39;00m i \u001b[39min\u001b[39;00m \u001b[39mrange\u001b[39m(d(\u001b[39m5\u001b[39;49m)):\n\u001b[0;32m      <a href='vscode-notebook-cell:/c%3A/Users/User/Documents/GitHub/nandini/ifelse.ipynb#Y510sZmlsZQ%3D%3D?line=2'>3</a>\u001b[0m     \u001b[39mprint\u001b[39m(i)\n\u001b[0;32m      <a href='vscode-notebook-cell:/c%3A/Users/User/Documents/GitHub/nandini/ifelse.ipynb#Y510sZmlsZQ%3D%3D?line=3'>4</a>\u001b[0m \u001b[39melse\u001b[39;00m:\n",
      "\u001b[1;31mTypeError\u001b[0m: 'list' object is not callable"
     ]
    }
   ],
   "source": [
    "d=[1,4,3,7,5,9,6,7,6,35]\n",
    "for i in range(d(5)):\n",
    "    print(i)\n",
    "else:\n",
    "    print(\"done\")\n"
   ]
  },
  {
   "cell_type": "code",
   "execution_count": 42,
   "metadata": {},
   "outputs": [
    {
     "name": "stdout",
     "output_type": "stream",
     "text": [
      "1\n",
      "12\n",
      "123\n",
      "1234\n",
      "12345\n"
     ]
    }
   ],
   "source": [
    "rows=5\n",
    "for i in range(1,rows+1):\n",
    "    for j in range(1,i+1):\n",
    "        print(j,end='')\n",
    "    print('')\n",
    "    "
   ]
  },
  {
   "cell_type": "code",
   "execution_count": 17,
   "metadata": {},
   "outputs": [
    {
     "name": "stdout",
     "output_type": "stream",
     "text": [
      "*\n",
      "**\n",
      "***\n",
      "****\n",
      "*****\n"
     ]
    }
   ],
   "source": [
    "rows=5\n",
    "for i in range (1,rows+1):\n",
    "    for j in range(1,i+1):\n",
    "        print('*',end='')\n",
    "    print('')"
   ]
  },
  {
   "cell_type": "code",
   "execution_count": 75,
   "metadata": {},
   "outputs": [
    {
     "name": "stdout",
     "output_type": "stream",
     "text": [
      "1\n",
      "3\n",
      "6\n",
      "15\n",
      "19\n"
     ]
    }
   ],
   "source": [
    "n='49321'\n",
    "q=5\n",
    "sum=0\n",
    "count=0\n",
    "m=int(n)\n",
    "for i in n:  \n",
    "    ld=m%10\n",
    "    sum+=ld\n",
    "    m=m//10\n",
    "    print(sum)"
   ]
  },
  {
   "cell_type": "code",
   "execution_count": 96,
   "metadata": {},
   "outputs": [
    {
     "name": "stdout",
     "output_type": "stream",
     "text": [
      "4\n",
      "49\n",
      "493\n",
      "4936\n",
      "49365\n",
      "5 1\n",
      "493657\n",
      "4936572\n",
      "49365721\n",
      "9\n",
      "93\n",
      "936\n",
      "5 2\n",
      "9365\n",
      "93657\n",
      "936572\n",
      "9365721\n",
      "3\n",
      "5 3\n",
      "36\n",
      "365\n",
      "3657\n",
      "36572\n",
      "365721\n",
      "6\n",
      "65\n",
      "657\n",
      "6572\n",
      "65721\n",
      "5\n",
      "57\n",
      "572\n",
      "5721\n",
      "7\n",
      "72\n",
      "721\n",
      "2\n",
      "21\n",
      "1\n"
     ]
    }
   ],
   "source": [
    "n=\"49365721\"\n",
    "count=0\n",
    "for i in range(0,len(n)):\n",
    "    for j in range(i+1,len(n)+1):\n",
    "        res=n[i:j]\n",
    "        print(res)\n",
    "        sum=j+i\n",
    "        if sum ==5:\n",
    "            count+=1\n",
    "            print(sum,count)"
   ]
  },
  {
   "cell_type": "code",
   "execution_count": 13,
   "metadata": {},
   "outputs": [
    {
     "name": "stdout",
     "output_type": "stream",
     "text": [
      "['abccba', 'bccb']\n"
     ]
    }
   ],
   "source": [
    "# fetch the palindrome sequence without slicing\n",
    "st='abccbawerdefuigxyzswiggy'\n",
    "l=[]\n",
    "for i in range(0,len(st)):\n",
    "    for j in range(i+1,len(st)+1):\n",
    "        res=''\n",
    "        for a in range(i,j):\n",
    "            res+=st[a]\n",
    "        #print(res)\n",
    "        rev=''\n",
    "        for b in range(0,len(res)):\n",
    "            rev=res[b]+rev\n",
    "            #print(rev)\n",
    "        if len(rev)>=3 and res==rev:\n",
    "            l+=[res]\n",
    "print(l)"
   ]
  },
  {
   "cell_type": "code",
   "execution_count": 34,
   "metadata": {},
   "outputs": [
    {
     "name": "stdout",
     "output_type": "stream",
     "text": [
      "['abccba', 'bccb', 'xyzzyx', 'yzzy']\n"
     ]
    }
   ],
   "source": [
    "#fetch palindrome with slicing\n",
    "st='abccbatxyzzyx'\n",
    "l=[]\n",
    "for i in range(0,len(st)):\n",
    "    for j in range(i+1,len(st)+1):\n",
    "        res=st[i:j:1]\n",
    "        #print(res)\n",
    "        if len(res)>=3 and res==res[::-1]:\n",
    "            l+=[res]\n",
    "print(l)"
   ]
  },
  {
   "cell_type": "code",
   "execution_count": 51,
   "metadata": {},
   "outputs": [
    {
     "name": "stdout",
     "output_type": "stream",
     "text": [
      "s\n",
      "t\n",
      "r\n",
      "i\n",
      "n\n",
      "g\n"
     ]
    }
   ],
   "source": [
    "#print all the items in the string\n",
    "st='string'\n",
    "for i in range(0,len(st)):\n",
    "    print(st[i])"
   ]
  },
  {
   "cell_type": "code",
   "execution_count": 53,
   "metadata": {},
   "outputs": [
    {
     "name": "stdout",
     "output_type": "stream",
     "text": [
      "U\n",
      "P\n",
      "P\n",
      "E\n",
      "R\n"
     ]
    }
   ],
   "source": [
    "#print only upper case characters\n",
    "st='UlPoPwEeRr'\n",
    "for i in st:\n",
    "    if 'A'<=i<='Z':\n",
    "        print(i)"
   ]
  },
  {
   "cell_type": "code",
   "execution_count": 54,
   "metadata": {},
   "outputs": [
    {
     "name": "stdout",
     "output_type": "stream",
     "text": [
      "l\n",
      "o\n",
      "w\n",
      "e\n",
      "r\n"
     ]
    }
   ],
   "source": [
    "#print only lower case characters\n",
    "st='UlPoPwEeRr'\n",
    "for i in st:\n",
    "    if 'a'<=i<='z':\n",
    "        print(i)"
   ]
  },
  {
   "cell_type": "code",
   "execution_count": 55,
   "metadata": {},
   "outputs": [
    {
     "name": "stdout",
     "output_type": "stream",
     "text": [
      "1\n",
      "2\n",
      "3\n",
      "4\n",
      "5\n"
     ]
    }
   ],
   "source": [
    "#WAP to print the ascii numbers(Digits) characters in a given string.\n",
    "st='string12345'\n",
    "for i in st:\n",
    "    if '0'<=i<='9':\n",
    "        print(i)"
   ]
  },
  {
   "cell_type": "code",
   "execution_count": 57,
   "metadata": {},
   "outputs": [
    {
     "name": "stdout",
     "output_type": "stream",
     "text": [
      "@\n",
      "!\n",
      "$\n",
      "*\n",
      "(\n",
      ")\n",
      "#\n"
     ]
    }
   ],
   "source": [
    "#WAP to print the special characters in a given string.\n",
    "st='@st!r$i*n(g)#'\n",
    "for i in st:\n",
    "    if not('A'<=i<='Z' or 'a'<=i<='z' or '0'<=i<='9'):\n",
    "        print(i)"
   ]
  },
  {
   "cell_type": "code",
   "execution_count": 59,
   "metadata": {},
   "outputs": [
    {
     "name": "stdout",
     "output_type": "stream",
     "text": [
      "a\n",
      "e\n",
      "i\n",
      "o\n",
      "u\n"
     ]
    }
   ],
   "source": [
    "#WAP to Print the vowels in a given string.\n",
    "st='arefidonu'\n",
    "for i in st:\n",
    "    if i in 'aeiouAEIOU':\n",
    "        print(i)"
   ]
  },
  {
   "cell_type": "code",
   "execution_count": 60,
   "metadata": {},
   "outputs": [
    {
     "name": "stdout",
     "output_type": "stream",
     "text": [
      "r\n",
      "f\n",
      "d\n",
      "n\n"
     ]
    }
   ],
   "source": [
    "#WAP to Print the consonents in a given string.\n",
    "st='arefidonu'\n",
    "for i in st:\n",
    "    if i not in 'aeiouAEIOU':\n",
    "        print(i)"
   ]
  },
  {
   "cell_type": "code",
   "execution_count": 75,
   "metadata": {},
   "outputs": [
    {
     "name": "stdout",
     "output_type": "stream",
     "text": [
      "e\n",
      "s\n",
      "r\n",
      "e\n",
      "v\n",
      "e\n",
      "r\n"
     ]
    }
   ],
   "source": [
    "#WAP to print the reverse of the characters in a given string.\n",
    "st='reverse'\n",
    "for i in range(len(st)-1,-1,-1):\n",
    "    print(st[i])"
   ]
  },
  {
   "cell_type": "code",
   "execution_count": 81,
   "metadata": {},
   "outputs": [],
   "source": [
    "#WAP to print even position values characters in a given string.\n",
    "n=0\n",
    "m=20\n",
    "count=0\n",
    "for i in range(n,m+1):\n",
    "    if n>1:\n",
    "        for i in range(2,n):\n",
    "            if n%i==0:\n",
    "                print(\"prime\")"
   ]
  },
  {
   "cell_type": "code",
   "execution_count": 2,
   "metadata": {},
   "outputs": [
    {
     "name": "stdout",
     "output_type": "stream",
     "text": [
      "e\n",
      "e\n",
      "p\n",
      "s\n",
      "t\n",
      "o\n",
      "s\n"
     ]
    }
   ],
   "source": [
    "#WAP to print even position values characters in a given string.\n",
    "st='evenpositions'\n",
    "for i in range(0,len(st),2):\n",
    "    print(st[i])"
   ]
  },
  {
   "cell_type": "code",
   "execution_count": 41,
   "metadata": {},
   "outputs": [
    {
     "name": "stdout",
     "output_type": "stream",
     "text": [
      "d\n",
      "p\n",
      "s\n",
      "t\n",
      "o\n",
      "s\n"
     ]
    }
   ],
   "source": [
    "#WAP to print odd position values characters in a given string.\n",
    "st='oddpositions'\n",
    "for i in range(0,len(st)):\n",
    "    if i%2!=0:\n",
    "        print(st[i])"
   ]
  },
  {
   "cell_type": "code",
   "execution_count": 25,
   "metadata": {},
   "outputs": [
    {
     "name": "stdout",
     "output_type": "stream",
     "text": [
      "6\n"
     ]
    }
   ],
   "source": [
    "#WAP to count the total Number of characters in a given string.(with \n",
    "#length function)\n",
    "st='python'\n",
    "count=0\n",
    "for i in range(0,len(st)):\n",
    "    count+=1\n",
    "print(count)"
   ]
  },
  {
   "cell_type": "code",
   "execution_count": 26,
   "metadata": {},
   "outputs": [
    {
     "name": "stdout",
     "output_type": "stream",
     "text": [
      "26\n"
     ]
    }
   ],
   "source": [
    "#WAP to count the total Number of characters in a given string.(without \n",
    "#length function)\n",
    "st='Data Science Is The Future'\n",
    "count=0\n",
    "for i in st:\n",
    "    count+=1\n",
    "print(count)"
   ]
  },
  {
   "cell_type": "code",
   "execution_count": 29,
   "metadata": {},
   "outputs": [
    {
     "name": "stdout",
     "output_type": "stream",
     "text": [
      "7\n"
     ]
    }
   ],
   "source": [
    "#WAP to count alphabets in a given string\n",
    "st='ABcd@$*853Xyz'\n",
    "count=0\n",
    "for i in st:\n",
    "    if 'A'<=i<='Z' or 'a'<=i<='z':\n",
    "        count+=1\n",
    "print(count)"
   ]
  },
  {
   "cell_type": "code",
   "execution_count": 30,
   "metadata": {},
   "outputs": [
    {
     "name": "stdout",
     "output_type": "stream",
     "text": [
      "4\n"
     ]
    }
   ],
   "source": [
    "#WAP to count Number of uppercase in a given string.\n",
    "st='ABcd@$*853XyZ'\n",
    "count=0\n",
    "for i in st:\n",
    "    if 'A'<=i<='Z':\n",
    "        count+=1\n",
    "print(count)"
   ]
  },
  {
   "cell_type": "code",
   "execution_count": 32,
   "metadata": {},
   "outputs": [
    {
     "name": "stdout",
     "output_type": "stream",
     "text": [
      "5\n"
     ]
    }
   ],
   "source": [
    "#WAP to count lowercase in a given string.\n",
    "st='ABcd@$*853abXyZ'\n",
    "count=0\n",
    "for i in st:\n",
    "    if 'a'<=i<='z':\n",
    "        count+=1\n",
    "print(count)"
   ]
  },
  {
   "cell_type": "code",
   "execution_count": 34,
   "metadata": {},
   "outputs": [
    {
     "name": "stdout",
     "output_type": "stream",
     "text": [
      "6\n"
     ]
    }
   ],
   "source": [
    "#WAP to count Number of special symbols in a given string.\n",
    "st='ABcd@$*^()abXyZ'\n",
    "count=0\n",
    "for i in st:\n",
    "    if not('a'<=i<='z' or 'A'<=i<='Z'):\n",
    "        count+=1\n",
    "print(count)"
   ]
  },
  {
   "cell_type": "code",
   "execution_count": 35,
   "metadata": {},
   "outputs": [
    {
     "name": "stdout",
     "output_type": "stream",
     "text": [
      "9\n"
     ]
    }
   ],
   "source": [
    "#WAP to count uppercase and lowercase in a given string\n",
    "st='ABcd@$*^()abXyZ'\n",
    "count=0\n",
    "for i in st:\n",
    "    if ('a'<=i<='z' or 'A'<=i<='Z'):\n",
    "        count+=1\n",
    "print(count)"
   ]
  },
  {
   "cell_type": "code",
   "execution_count": 37,
   "metadata": {},
   "outputs": [
    {
     "name": "stdout",
     "output_type": "stream",
     "text": [
      "5\n"
     ]
    }
   ],
   "source": [
    "#WAP to count Number of ascii numbers in a given string.\n",
    "st='ABcd@$*12345^()abXyZ'\n",
    "count=0\n",
    "for i in st:\n",
    "    if '0'<=i<='9':\n",
    "        count+=1\n",
    "print(count)"
   ]
  },
  {
   "cell_type": "code",
   "execution_count": 7,
   "metadata": {},
   "outputs": [
    {
     "name": "stdout",
     "output_type": "stream",
     "text": [
      "6\n"
     ]
    }
   ],
   "source": [
    "#WAP to Count Total Number of Words in a String.\n",
    "st='data science is a emerging technology '\n",
    "count=0\n",
    "res=''\n",
    "for i in st:\n",
    "    if i!=' ':\n",
    "        res+=i\n",
    "    else:\n",
    "        len(res)>0\n",
    "        count+=1\n",
    "        res=''\n",
    "if len(res)>0:\n",
    "    count+=1\n",
    "print(count)"
   ]
  },
  {
   "cell_type": "code",
   "execution_count": 3,
   "metadata": {},
   "outputs": [
    {
     "name": "stdout",
     "output_type": "stream",
     "text": [
      "data\n",
      "science\n",
      "is\n",
      "emering\n",
      "30\n"
     ]
    }
   ],
   "source": [
    "st='data science is emering technology'\n",
    "i=0\n",
    "res=''\n",
    "while i<len(st):\n",
    "    if st[i]!=' ':\n",
    "        res+=st[i]\n",
    "    else:\n",
    "        print(res)\n",
    "        res=''\n",
    "    i+=1\n",
    "print(res)"
   ]
  },
  {
   "cell_type": "code",
   "execution_count": 8,
   "metadata": {},
   "outputs": [
    {
     "name": "stdout",
     "output_type": "stream",
     "text": [
      "5\n"
     ]
    }
   ],
   "source": [
    "#WAP to Count Total Number of spaces in a String.\n",
    "st='data is a science emerging technology'\n",
    "count=0\n",
    "res=''\n",
    "for i in st:\n",
    "    if i==' ':\n",
    "        res+=i\n",
    "        count+=1\n",
    "print(count)"
   ]
  },
  {
   "cell_type": "code",
   "execution_count": 25,
   "metadata": {},
   "outputs": [
    {
     "name": "stdout",
     "output_type": "stream",
     "text": [
      "13\n"
     ]
    }
   ],
   "source": [
    "#WAP to Count Vowels in a String.\n",
    "st='data science is fastest growing technology'\n",
    "count=0\n",
    "for i in st:\n",
    "    if i in 'aeiou':\n",
    "        count+=1\n",
    "print(count)"
   ]
  },
  {
   "cell_type": "code",
   "execution_count": 26,
   "metadata": {},
   "outputs": [
    {
     "name": "stdout",
     "output_type": "stream",
     "text": [
      "23\n"
     ]
    }
   ],
   "source": [
    "#WAP to Count consonants in a String.\n",
    "st='dat science is emerging technology'\n",
    "count=0\n",
    "for i in st:\n",
    "    if i not in 'aeiou':\n",
    "        count+=1\n",
    "print(count)"
   ]
  },
  {
   "cell_type": "code",
   "execution_count": 29,
   "metadata": {},
   "outputs": [
    {
     "name": "stdout",
     "output_type": "stream",
     "text": [
      "vowels count : 14 consonants count : 30\n"
     ]
    }
   ],
   "source": [
    "#WAP to Count Vowels and Consonants in a String.\n",
    "st='data science is a fastest growing technology'\n",
    "vowel_count=0\n",
    "const_count=0\n",
    "for i in st:\n",
    "    if i in 'aeiou':\n",
    "        vowel_count+=1\n",
    "    else:\n",
    "        const_count+=1\n",
    "print(\"vowels count :\",vowel_count,\"consonants count :\",const_count)\n"
   ]
  },
  {
   "cell_type": "code",
   "execution_count": 37,
   "metadata": {},
   "outputs": [
    {
     "name": "stdout",
     "output_type": "stream",
     "text": [
      "6\n"
     ]
    }
   ],
   "source": [
    "#WAP to count Number of new lines in a given string.\n",
    "st='data\\nis\\na\\nfastest\\ngrowing\\ntechnology'\n",
    "count=0\n",
    "res=''\n",
    "for i in st:\n",
    "    if i!='\\n':\n",
    "        res+=i\n",
    "    else:\n",
    "        len(res)>0\n",
    "        count+=1\n",
    "        res=''\n",
    "if len(res)>0:\n",
    "    count+=1\n",
    "print(count)"
   ]
  },
  {
   "cell_type": "code",
   "execution_count": 2,
   "metadata": {},
   "outputs": [
    {
     "name": "stdout",
     "output_type": "stream",
     "text": [
      "alphabets 29 numbers 4 special characters 10\n"
     ]
    }
   ],
   "source": [
    "#WAP to count no of alphabets, numbers, and special characters in a given \n",
    "#string\n",
    "st='data sc1enc3 i$ t&e E&mer@ging !echn9ol7ogy'\n",
    "alpha_count=0\n",
    "number_count=0\n",
    "sp_count=0\n",
    "for i in st:\n",
    "    if 'a'<=i<='z' or 'A'<=i<='Z':\n",
    "        alpha_count+=1\n",
    "    elif '0'<=i<='9':\n",
    "        number_count+=1\n",
    "    else:\n",
    "        sp_count+=1\n",
    "print(\"alphabets\",alpha_count,\"numbers\",number_count,\"special characters\",sp_count)\n",
    "\n"
   ]
  },
  {
   "cell_type": "code",
   "execution_count": 3,
   "metadata": {},
   "outputs": [
    {
     "name": "stdout",
     "output_type": "stream",
     "text": [
      "37 703\n"
     ]
    }
   ],
   "source": [
    "#WAP to Count Total no of words in a first line of the Doc String.\n",
    "st='data\\nscience\\nis\\na\\nemerging\\ntechnology'\n",
    "lines_count=0\n",
    "words_count=0\n",
    "for i in range(0,len(st)):\n",
    "    lines_count+=1\n",
    "    for j in range(i+1,len(st)+1):\n",
    "        words_count+=1\n",
    "print(lines_count,words_count)"
   ]
  },
  {
   "cell_type": "code",
   "execution_count": 21,
   "metadata": {},
   "outputs": [
    {
     "name": "stdout",
     "output_type": "stream",
     "text": [
      "4\n"
     ]
    }
   ],
   "source": [
    "#WAP to Count Total no of words in a first line of the Doc String.\n",
    "st='data is the biggest\\nscience\\nis\\nemerging'\n",
    "count=0\n",
    "res=''\n",
    "for i in st:\n",
    "    if i!=' ':\n",
    "        res+=i\n",
    "    else:\n",
    "        len(res)>0\n",
    "        count+=1\n",
    "        res=''\n",
    "    if i=='\\n':\n",
    "        break\n",
    "if len(res)>0:\n",
    "    count+=1\n",
    "print(count)"
   ]
  },
  {
   "cell_type": "code",
   "execution_count": 25,
   "metadata": {},
   "outputs": [
    {
     "name": "stdout",
     "output_type": "stream",
     "text": [
      "6\n"
     ]
    }
   ],
   "source": [
    "#WAP to sum of digits in a given string.\n",
    "st='123'\n",
    "sum=0\n",
    "for i in st:\n",
    "    sum+=int(i)\n",
    "print(int(sum))"
   ]
  },
  {
   "cell_type": "code",
   "execution_count": 4,
   "metadata": {},
   "outputs": [
    {
     "name": "stdout",
     "output_type": "stream",
     "text": [
      "a\n"
     ]
    }
   ],
   "source": [
    "#WAP to Print First Occurrence of a Character in a String.\n",
    "st='data science is aa'\n",
    "uni={}\n",
    "max=0\n",
    "for i in st:\n",
    "    if i not in uni:\n",
    "        uni[i]=1\n",
    "    else:\n",
    "        uni[i]+=1\n",
    "l=list(uni)\n",
    "for i in l:\n",
    "    if uni[i]>1:\n",
    "        print(i)\n",
    "        break\n",
    "#print(max,ch)"
   ]
  },
  {
   "cell_type": "code",
   "execution_count": 2,
   "metadata": {},
   "outputs": [
    {
     "name": "stdout",
     "output_type": "stream",
     "text": [
      "d\n"
     ]
    }
   ],
   "source": [
    "#WAP to Print Last Occurrence of a Character in a String.\n",
    "st='data science z is a emerging technology'\n",
    "uni={}\n",
    "for i in st:\n",
    "    if i not in uni:\n",
    "        uni[i]=1\n",
    "    else:\n",
    "        uni[i]+=1\n",
    "l=list(uni)\n",
    "x=[]\n",
    "for j in l:\n",
    "    if uni[j]==1:\n",
    "        x+=[j]\n",
    "        print(x[-1])\n",
    "        break\n"
   ]
  },
  {
   "cell_type": "code",
   "execution_count": 4,
   "metadata": {},
   "outputs": [
    {
     "name": "stdout",
     "output_type": "stream",
     "text": [
      "Last occurrence: y\n"
     ]
    }
   ],
   "source": [
    "st = 'data science z is a emerging technology'\n",
    "last_occurrence = None\n",
    "\n",
    "for i in range(len(st) - 1, -1, -1):\n",
    "    if st[i] not in st[i + 1:]:\n",
    "        last_occurrence = st[i]\n",
    "        break\n",
    "\n",
    "if last_occurrence is not None:\n",
    "    print(\"Last occurrence:\", last_occurrence)\n",
    "else:\n",
    "    print(\"No unique characters found.\")"
   ]
  },
  {
   "cell_type": "code",
   "execution_count": 5,
   "metadata": {},
   "outputs": [
    {
     "name": "stdout",
     "output_type": "stream",
     "text": [
      "d\n"
     ]
    }
   ],
   "source": [
    "#WAP to Print First not Occurrence of a Character in a String.\n",
    "st='data science is the emerging'\n",
    "uni={}\n",
    "for i in st:\n",
    "    if i not in uni:\n",
    "        uni[i]=1\n",
    "    else:\n",
    "        uni[i]+=1\n",
    "for j in l:\n",
    "    if uni[j]==1:\n",
    "        print(j)\n",
    "        break"
   ]
  },
  {
   "cell_type": "code",
   "execution_count": 9,
   "metadata": {},
   "outputs": [
    {
     "name": "stdout",
     "output_type": "stream",
     "text": [
      "d\n"
     ]
    }
   ],
   "source": [
    "#WAP to Print last not Occurrence of a Character in a String.\n",
    "st='data science is the emerging technology'\n",
    "uni={}\n",
    "for i in st:\n",
    "    if i not in uni:\n",
    "        uni[i]=1\n",
    "    else:\n",
    "        uni[i]+=1\n",
    "l=list(uni)\n",
    "x=[]\n",
    "for j in l:\n",
    "    if uni[j]==1:\n",
    "        x=j\n",
    "        print(x[-1])\n",
    "        break"
   ]
  },
  {
   "cell_type": "code",
   "execution_count": 7,
   "metadata": {},
   "outputs": [
    {
     "name": "stdout",
     "output_type": "stream",
     "text": [
      "Last non-occurring character: y\n"
     ]
    }
   ],
   "source": [
    "st = 'data science is the emerging technology'\n",
    "uni = {}\n",
    "\n",
    "for i in st:\n",
    "    if i not in uni:\n",
    "        uni[i] = 1\n",
    "    else:\n",
    "        uni[i] += 1\n",
    "\n",
    "last_non_occurring = None\n",
    "\n",
    "for j in uni:\n",
    "    if uni[j] == 1:\n",
    "        last_non_occurring = j\n",
    "\n",
    "if last_non_occurring is not None:\n",
    "    print(\"Last non-occurring character:\", last_non_occurring)\n",
    "else:\n",
    "    print(\"No non-occurring characters found.\")"
   ]
  },
  {
   "cell_type": "code",
   "execution_count": 4,
   "metadata": {},
   "outputs": [
    {
     "name": "stdout",
     "output_type": "stream",
     "text": [
      "d\n",
      "a\n",
      "t\n",
      " \n",
      "s\n",
      "c\n",
      "i\n",
      "e\n",
      "n\n",
      "h\n",
      "m\n",
      "r\n",
      "g\n",
      "o\n",
      "l\n",
      "y\n"
     ]
    }
   ],
   "source": [
    "#WAP to Remove First Occurrence of a Character in a String\n",
    "st='data science is the emerging technology'\n",
    "uni={}\n",
    "for i in st:\n",
    "    if i not in uni:\n",
    "        uni[i]=1\n",
    "    else:\n",
    "        uni[i]+=1\n",
    "l=list(uni)\n",
    "m=[]\n",
    "for j in l:\n",
    "    if uni[j]==1:\n",
    "        m=j\n",
    "        del[m]\n",
    "    print(j)"
   ]
  },
  {
   "cell_type": "code",
   "execution_count": 15,
   "metadata": {},
   "outputs": [
    {
     "name": "stdout",
     "output_type": "stream",
     "text": [
      "DATA SCIENCE\n"
     ]
    }
   ],
   "source": [
    "#WAP to convert lowercase to uppercase in a given string.\n",
    "st='data science'\n",
    "l=''\n",
    "for i in st:\n",
    "    if 'a'<=i<='z':\n",
    "        l+=chr(ord(i)-32)\n",
    "    else:\n",
    "        l+=i\n",
    "print(l)"
   ]
  },
  {
   "cell_type": "code",
   "execution_count": 12,
   "metadata": {},
   "outputs": [
    {
     "name": "stdout",
     "output_type": "stream",
     "text": [
      "data science\n"
     ]
    }
   ],
   "source": [
    "#WAP to convert uppercase to lowercase in a given string.\n",
    "st='DATA SCIENCE'\n",
    "l=''\n",
    "for i in st:\n",
    "    if 'A'<=i<='Z':\n",
    "        l+=chr(ord(i)+32)\n",
    "    else:\n",
    "        l+=i\n",
    "print(l)"
   ]
  },
  {
   "cell_type": "code",
   "execution_count": 8,
   "metadata": {},
   "outputs": [
    {
     "name": "stdout",
     "output_type": "stream",
     "text": [
      "dAtA@ScIeNcE\n"
     ]
    }
   ],
   "source": [
    "#WAP to convert uppercase to lowercase in even position characters in \n",
    "#a given string.\n",
    "st='DATA SCIENCE'\n",
    "res=''\n",
    "for i in range(0,len(st)):\n",
    "    if i%2==0:\n",
    "        res+=chr(ord(st[i])+32)\n",
    "    else:\n",
    "        res+=st[i]\n",
    "print(res)"
   ]
  },
  {
   "cell_type": "code",
   "execution_count": 36,
   "metadata": {},
   "outputs": [
    {
     "name": "stdout",
     "output_type": "stream",
     "text": [
      "DaTa sCiEnCe\n"
     ]
    }
   ],
   "source": [
    "#WAP to convert uppercase to lowercase in odd position characters in \n",
    "#a given string.\n",
    "st='DATA SCIENCE'\n",
    "res=''\n",
    "for i in range(0,len(st)):\n",
    "    if i%2!=0:\n",
    "        res+=chr(ord(st[i])+32)\n",
    "    else:\n",
    "        res+=st[i]\n",
    "print(res)"
   ]
  },
  {
   "cell_type": "code",
   "execution_count": 37,
   "metadata": {},
   "outputs": [
    {
     "name": "stdout",
     "output_type": "stream",
     "text": [
      "Da$#Ta\n"
     ]
    }
   ],
   "source": [
    "#WAP to convert the uppercase letter to lowercase letter and lowercase \n",
    "#letter to uppercase letter,if the character is special symbol replace \n",
    "#with * for the given input string.\n",
    "st='dA$#tA'\n",
    "res=''\n",
    "for i in range(0,len(st)):\n",
    "    if 'A'<=st[i]<='Z':\n",
    "        res+=chr(ord(st[i])+32)\n",
    "    elif 'a'<=st[i]<='z':\n",
    "        res+=chr(ord(st[i])-32)\n",
    "    elif not('a'<=st[i]<='z' or 'A'<=st[i]<='Z' or '0'<=st[i]<=)\n",
    "    else:\n",
    "        res+=st[i]\n",
    "print(res)"
   ]
  },
  {
   "cell_type": "code",
   "execution_count": 6,
   "metadata": {},
   "outputs": [
    {
     "name": "stdout",
     "output_type": "stream",
     "text": [
      "8\n"
     ]
    }
   ],
   "source": [
    "#tracing the functions\n",
    "l=[10,20,30,40,50,60,10,50,10]\n",
    "def sample(coll,ele,occur=1,start=0,end=0,):\n",
    "    if start<0:\n",
    "        start=len(coll)+start\n",
    "    if end<0:\n",
    "        end=len(coll)\n",
    "    if end==0:                   #0==0 true\n",
    "        end=len(coll)            #0=len(coll)  9\n",
    "    count=0                      #\n",
    "    for i in range(start,end):       #range(0,10)\n",
    "        if coll[i]==ele:             # if index == 10\n",
    "            count+=1                 # 3 times 10 appears\n",
    "            if count==occur:         \n",
    "                return i             ## return last count index\n",
    "    return -l                        #last index is 8\n",
    "print(sample(l,10,3,0,10))"
   ]
  },
  {
   "cell_type": "code",
   "execution_count": 5,
   "metadata": {},
   "outputs": [
    {
     "data": {
      "text/plain": [
       "'Ewrey Esdf 123 Ery123Trt %$Yr^Et '"
      ]
     },
     "execution_count": 5,
     "metadata": {},
     "output_type": "execute_result"
    }
   ],
   "source": [
    "#WAP to convert title case in a given string.\n",
    "'ewrey esdf 123 ery123trt %$yr^et '.title()"
   ]
  },
  {
   "cell_type": "code",
   "execution_count": 44,
   "metadata": {},
   "outputs": [
    {
     "name": "stdout",
     "output_type": "stream",
     "text": [
      "Web Ddevelopment Iis Aat 123Ppm @Eevening\n"
     ]
    }
   ],
   "source": [
    "#WAP to convert title case in a given string.\n",
    "st='web development is at 123pm @evening'\n",
    "res=''\n",
    "for i in range(0,len(st)):\n",
    "    if i==0 and 'a'<=st[i]<='z':\n",
    "        res+=chr(ord(st[i])-32)\n",
    "    elif not('A'<=st[i]<='Z' or 'a'<=st[i]<='z'):\n",
    "        res+=st[i]\n",
    "        if 'a'<=st[i+1]<='z':\n",
    "            res+=chr(ord(st[i+1])-32)\n",
    "        elif 'A'<=st[i]<='Z':\n",
    "            res+=st[i+1]\n",
    "    elif 'A'<=st[i]<='Z':\n",
    "        res+=chr(ord(st[i])+32)\n",
    "    else:\n",
    "        res+=st[i]\n",
    "print(res)"
   ]
  },
  {
   "cell_type": "code",
   "execution_count": 45,
   "metadata": {},
   "outputs": [
    {
     "name": "stdout",
     "output_type": "stream",
     "text": [
      "python__is_no.1_trending_language\n"
     ]
    }
   ],
   "source": [
    "#WAP to convert snake_case in a given string\n",
    "st='Python  Is No.1 Trending Language'\n",
    "res=''\n",
    "for i in range(0,len(st)):\n",
    "    if 'A'<=st[i]<='Z':\n",
    "        res+=chr(ord(st[i])+32)\n",
    "    elif st[i]==' ':\n",
    "        res+='_'\n",
    "    else:\n",
    "        res+=st[i]\n",
    "print(res)"
   ]
  },
  {
   "cell_type": "code",
   "execution_count": 42,
   "metadata": {},
   "outputs": [
    {
     "name": "stdout",
     "output_type": "stream",
     "text": [
      "pYtHoN iS eMeRgInG lAnGuAgE\n"
     ]
    }
   ],
   "source": [
    "#WAP to Toggle Characters Case in a String.\n",
    "st='PyThOn Is EmErGiNg LaNgUaGe'\n",
    "res=''\n",
    "for i in range(0,len(st)):\n",
    "    if 'a'<=st[i]<='z':\n",
    "        res+=chr(ord(st[i])-32)\n",
    "    elif 'A'<=st[i]<='Z':\n",
    "        res+=chr(ord(st[i])+32)\n",
    "    else:\n",
    "        res+=st[i]\n",
    "print(res)"
   ]
  },
  {
   "cell_type": "code",
   "execution_count": 50,
   "metadata": {},
   "outputs": [
    {
     "name": "stdout",
     "output_type": "stream",
     "text": [
      "97lph97b101ts 97101105111117 97r101 v111w101ls\n"
     ]
    }
   ],
   "source": [
    "#WAP to replace vowels into ascii values in a given string.(both with \n",
    "#and with temp variable\n",
    "st='alphabets aeiou are vowels'\n",
    "res=''\n",
    "for i in range(0,len(st)):\n",
    "    if st[i] in 'aeiou':\n",
    "        res+=str(ord(st[i]))\n",
    "    else:\n",
    "        res+=st[i]\n",
    "print(res)"
   ]
  },
  {
   "cell_type": "code",
   "execution_count": 4,
   "metadata": {},
   "outputs": [
    {
     "name": "stdout",
     "output_type": "stream",
     "text": [
      "a108112104a98e116115 e12099e112116 aeiou a114e 99o110115o110e110116115\n"
     ]
    }
   ],
   "source": [
    "#WAP to replace consonants into ascii values in a given string. (both \n",
    "#with and with temp variable\n",
    "st='alphabets except aeiou are consonents'\n",
    "res=''\n",
    "for i in range(0,len(st)):\n",
    "    if st[i] not in 'aeiou ':\n",
    "        res+=str(ord(st[i]))\n",
    "    else:\n",
    "        res+=st[i]\n",
    "print(res)"
   ]
  },
  {
   "cell_type": "code",
   "execution_count": 3,
   "metadata": {},
   "outputs": [
    {
     "name": "stdout",
     "output_type": "stream",
     "text": [
      "a108p104a98e116s a114e com98i110a116ion o102 118o119e108s a110d con115o110a110t115\n"
     ]
    }
   ],
   "source": [
    "#WAP to replace consonants to ascii values in odd position characters \n",
    "#in a given string.(both with and with temp variable)\n",
    "st='alphabets are combination of vowels and consonants'\n",
    "res=''\n",
    "for i in range(0,len(st)):\n",
    "    if st[i] not in 'aeiou ' and i%2!=0:\n",
    "        res+=str(ord(st[i]))\n",
    "    else:\n",
    "        res+=st[i]\n",
    "print(res)"
   ]
  },
  {
   "cell_type": "code",
   "execution_count": 2,
   "metadata": {},
   "outputs": [
    {
     "name": "stdout",
     "output_type": "stream",
     "text": [
      "97lph97b101ts 97r101 comb105n97t105on 111f v111w101ls 97nd cons111n97nts\n"
     ]
    }
   ],
   "source": [
    "#WAP to replace vowels to ascii values in even position characters in a \n",
    "#given string.(both with and with temp variable)\n",
    "st='alphabets are combination of vowels and consonants'\n",
    "res=''\n",
    "for i in range(0,len(st)):\n",
    "    if st[i] in 'aeiou' and i%2==0:\n",
    "        res+=str(ord(st[i]))\n",
    "    else:\n",
    "        res+=st[i]\n",
    "print(res)"
   ]
  },
  {
   "cell_type": "code",
   "execution_count": 9,
   "metadata": {},
   "outputs": [
    {
     "name": "stdout",
     "output_type": "stream",
     "text": [
      "alphabets-are-combination-of-vowels-and-consonants\n"
     ]
    }
   ],
   "source": [
    "#WAP to Replace white Spaces with Hyphen in a String.(both with and \n",
    "#with temp variable)\n",
    "st='alphabets are combination of vowels and consonants'\n",
    "res=''\n",
    "for i in st:\n",
    "    if i==' ':\n",
    "        res+='-'\n",
    "    else:\n",
    "        res+=i\n",
    "print(res)"
   ]
  },
  {
   "cell_type": "code",
   "execution_count": null,
   "metadata": {},
   "outputs": [],
   "source": [
    "#WAP to Remove Odd position Characters in a given String\n",
    "st='alphabets are combination of vowels and consonants'\n"
   ]
  },
  {
   "cell_type": "code",
   "execution_count": 11,
   "metadata": {},
   "outputs": [
    {
     "name": "stdout",
     "output_type": "stream",
     "text": [
      "a3b2c4\n"
     ]
    }
   ],
   "source": [
    "#Write a python program for series\n",
    "#Input: “aaabbcccc”\n",
    "#Output:- “a3b2c4”\n",
    "st='aaabbcccc'\n",
    "new=''\n",
    "count=1\n",
    "for i in range(0,len(st)-1):\n",
    "    if st[i]==st[i+1]:\n",
    "        count+=1\n",
    "    else:\n",
    "        new+=st[i]+str(count)\n",
    "        count=1  \n",
    "new+=st[-1]+str(count)\n",
    "print(new)"
   ]
  },
  {
   "cell_type": "code",
   "execution_count": null,
   "metadata": {},
   "outputs": [],
   "source": [
    "#Write a program frequency of each character in given string when count is a prime number\n",
    "#input:”aaaaBBBcddddfffff”\n",
    "#Output: (“B3”,”c1”,”f5”)\n"
   ]
  },
  {
   "cell_type": "code",
   "execution_count": null,
   "metadata": {},
   "outputs": [],
   "source": [
    "#Write a program to swap neighbor char in string.\n",
    "#Input: “abcdefg”\n",
    "#Output:- “badcfeg”\n",
    "\n"
   ]
  },
  {
   "cell_type": "code",
   "execution_count": 1,
   "metadata": {},
   "outputs": [
    {
     "name": "stdout",
     "output_type": "stream",
     "text": [
      "x is 50\n",
      "Changed local x to 2\n",
      "x is now 50\n"
     ]
    }
   ],
   "source": [
    "x = 50\n",
    "def func(x):\n",
    "    print('x is', x)\n",
    "    x = 2\n",
    "    print('Changed local x to', x)\n",
    "func(x)\n",
    "print('x is now', x)"
   ]
  },
  {
   "cell_type": "code",
   "execution_count": 15,
   "metadata": {},
   "outputs": [
    {
     "name": "stdout",
     "output_type": "stream",
     "text": [
      "9\n",
      "27\n"
     ]
    }
   ],
   "source": [
    "def power(x, y=2):\n",
    "    r = 1\n",
    "    for i in range(y):\n",
    "       r = r * x\n",
    "       #print(r)\n",
    "    return r\n",
    "print (power(3))\n",
    "print (power(3, 3))\n"
   ]
  }
 ],
 "metadata": {
  "kernelspec": {
   "display_name": "Python 3",
   "language": "python",
   "name": "python3"
  },
  "language_info": {
   "codemirror_mode": {
    "name": "ipython",
    "version": 3
   },
   "file_extension": ".py",
   "mimetype": "text/x-python",
   "name": "python",
   "nbconvert_exporter": "python",
   "pygments_lexer": "ipython3",
   "version": "3.12.3"
  },
  "orig_nbformat": 4
 },
 "nbformat": 4,
 "nbformat_minor": 2
}
