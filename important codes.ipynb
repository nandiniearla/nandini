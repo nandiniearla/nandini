{
 "cells": [
  {
   "cell_type": "code",
   "execution_count": null,
   "metadata": {},
   "outputs": [
    {
     "name": "stdout",
     "output_type": "stream",
     "text": [
      "hello world\n"
     ]
    }
   ],
   "source": [
    "print('hello world')"
   ]
  },
  {
   "cell_type": "code",
   "execution_count": null,
   "metadata": {},
   "outputs": [
    {
     "data": {
      "text/plain": [
       "0"
      ]
     },
     "execution_count": 1,
     "metadata": {},
     "output_type": "execute_result"
    }
   ],
   "source": [
    "# import os\n",
    "# os.system(\"shutdown /s /t 1\")"
   ]
  },
  {
   "cell_type": "code",
   "execution_count": null,
   "metadata": {},
   "outputs": [
    {
     "name": "stdout",
     "output_type": "stream",
     "text": [
      "0 1 1 2 3 5 8 13 21 34 55 89 144 233 377 "
     ]
    }
   ],
   "source": [
    "#fibonacci\n",
    "# a,b = 0,1\n",
    "# i=1\n",
    "# while i<=10:\n",
    "    # c=a+b\n",
    "    # a,b=b,c\n",
    "    # i+=1\n",
    "    # print(c,end =' ')\n",
    "\n",
    "#fibonacci - recursive\n",
    "def fibonacci(n):\n",
    "    if n<=1:\n",
    "        return n\n",
    "    else:\n",
    "        return(fibonacci(n-1)+fibonacci(n-2))\n",
    "n=15\n",
    "for i in range(n):\n",
    "    print(fibonacci(i),end=' ')\n",
    "\n",
    "#fibonacci \n"
   ]
  },
  {
   "cell_type": "code",
   "execution_count": null,
   "metadata": {},
   "outputs": [
    {
     "name": "stdout",
     "output_type": "stream",
     "text": [
      "2 3 5 7 11 13 17 19 23 29 31 37 41 43 47 53 59 61 67 71 73 79 83 89 97 "
     ]
    }
   ],
   "source": [
    "#prime\n",
    "n=1\n",
    "m=100\n",
    "while n<=m:\n",
    "    k=n\n",
    "    i=1\n",
    "    c=0\n",
    "    while i<=k:\n",
    "        if k%i==0:\n",
    "            c+=1\n",
    "        i+=1\n",
    "    n+=1\n",
    "    if c==2:\n",
    "        print(k,end=' ')\n",
    "    \n"
   ]
  },
  {
   "cell_type": "code",
   "execution_count": null,
   "metadata": {},
   "outputs": [
    {
     "name": "stdout",
     "output_type": "stream",
     "text": [
      "2 3 5 7 11 13 17 19 23 29 31 37 41 43 47 53 59 61 67 71 73 79 83 89 97 "
     ]
    }
   ],
   "source": [
    "def prime(n):\n",
    "    if n <= 1:\n",
    "        return False\n",
    "    for i in range(2,int(n**0.5)+1):\n",
    "        if n % i ==0:\n",
    "            return False\n",
    "    return True\n",
    "# prime(7)\n",
    "for num in range(1,100):\n",
    "    if prime(num):\n",
    "        print(num,end=\" \")\n",
    "    "
   ]
  },
  {
   "cell_type": "code",
   "execution_count": null,
   "metadata": {},
   "outputs": [
    {
     "name": "stdout",
     "output_type": "stream",
     "text": [
      "0 1 1 2 3 5 8 13 21 34 "
     ]
    }
   ],
   "source": [
    "def fibo(n):\n",
    "    if n<=1:\n",
    "        return n\n",
    "    else:\n",
    "        return fibo(n-1)+fibo(n-2)\n",
    "for num in range(0,10):\n",
    "    print(fibo(num),end=\" \")"
   ]
  },
  {
   "cell_type": "code",
   "execution_count": null,
   "metadata": {},
   "outputs": [
    {
     "name": "stdout",
     "output_type": "stream",
     "text": [
      "(7, 6)\n"
     ]
    }
   ],
   "source": [
    "#return maximum number and index number\n",
    "def max(n):\n",
    "    n=list(n)\n",
    "    maximum=int(n[0])\n",
    "    for i in range(0,len(n)):\n",
    "        if maximum<int(n[i]):\n",
    "            maximum = int(n[i])\n",
    "    return maximum,i\n",
    "print(max('1234567'))"
   ]
  },
  {
   "cell_type": "code",
   "execution_count": null,
   "metadata": {},
   "outputs": [
    {
     "name": "stdout",
     "output_type": "stream",
     "text": [
      "* \n",
      "* * \n",
      "* * * \n",
      "* * * * \n",
      "* * * * * \n"
     ]
    }
   ],
   "source": [
    "input=5\n",
    "for i in range(1,input+1):\n",
    "    for j in range(i):\n",
    "            print('*',end=' ')\n",
    "    print()\n"
   ]
  },
  {
   "cell_type": "code",
   "execution_count": null,
   "metadata": {},
   "outputs": [
    {
     "name": "stdout",
     "output_type": "stream",
     "text": [
      "* * * * * \n",
      "* * * * * \n",
      "* * * * * \n",
      "* * * * * \n",
      "* * * * * \n",
      "* * * * * \n"
     ]
    }
   ],
   "source": [
    "n=5\n",
    "for i in range(n+1):\n",
    "    for j in range(n):\n",
    "        print('*',end=' ')\n",
    "    print() "
   ]
  },
  {
   "cell_type": "code",
   "execution_count": null,
   "metadata": {},
   "outputs": [
    {
     "name": "stdout",
     "output_type": "stream",
     "text": [
      "* * * * * \n",
      "* * * * \n",
      "* * * \n",
      "* * \n",
      "* \n"
     ]
    }
   ],
   "source": [
    "n=5\n",
    "for i in range(n):\n",
    "    for j in range(i,n):\n",
    "        print('*',end=' ')\n",
    "    print()"
   ]
  },
  {
   "cell_type": "code",
   "execution_count": null,
   "metadata": {},
   "outputs": [
    {
     "name": "stdout",
     "output_type": "stream",
     "text": [
      "          * \n",
      "        * * \n",
      "      * * * \n",
      "    * * * * \n",
      "  * * * * * \n"
     ]
    }
   ],
   "source": [
    "n=5\n",
    "for i in range(n):\n",
    "    for j in range(i,n):\n",
    "        print(' ',end=' ')\n",
    "    for j in range(i+1):\n",
    "        print('*',end=' ')\n",
    "    print()\n"
   ]
  },
  {
   "cell_type": "code",
   "execution_count": null,
   "metadata": {},
   "outputs": [
    {
     "name": "stdout",
     "output_type": "stream",
     "text": [
      "  * * * * * \n",
      "    * * * * \n",
      "      * * * \n",
      "        * * \n",
      "          * \n"
     ]
    }
   ],
   "source": [
    "n=5\n",
    "for i in range(n):\n",
    "    for j in range(i+1):\n",
    "        print(' ',end=' ')\n",
    "    for j in range(i,n):\n",
    "        print('*',end=' ')\n",
    "    print()"
   ]
  },
  {
   "cell_type": "code",
   "execution_count": null,
   "metadata": {},
   "outputs": [
    {
     "name": "stdout",
     "output_type": "stream",
     "text": [
      "          * \n",
      "        * * * \n",
      "      * * * * * \n",
      "    * * * * * * * \n",
      "  * * * * * * * * * \n"
     ]
    }
   ],
   "source": [
    "n=5\n",
    "for i in range(n):\n",
    "    for j in range(i,n):\n",
    "        print(' ',end=' ')\n",
    "    for j in range(i):\n",
    "        print('*',end=' ')\n",
    "    for j in range(i+1):\n",
    "        print('*',end=' ')\n",
    "    print()\n"
   ]
  },
  {
   "cell_type": "code",
   "execution_count": null,
   "metadata": {},
   "outputs": [
    {
     "name": "stdout",
     "output_type": "stream",
     "text": [
      "c\n"
     ]
    }
   ],
   "source": [
    "def character(s):\n",
    "    for i in s:\n",
    "        if s.count(i) == 2:\n",
    "            return i\n",
    "    return None\n",
    "print(character('success'))"
   ]
  },
  {
   "cell_type": "code",
   "execution_count": null,
   "metadata": {},
   "outputs": [
    {
     "name": "stdout",
     "output_type": "stream",
     "text": [
      "0 1 1 2 3 5 8 13 21 34 "
     ]
    }
   ],
   "source": [
    "def fibonacci(n):\n",
    "    a,b=0,1\n",
    "    for _ in range(n):       # _is for place holder\n",
    "        print(a,end=' ')\n",
    "        a,b=b,a+b\n",
    "fibonacci(10)"
   ]
  },
  {
   "cell_type": "code",
   "execution_count": null,
   "metadata": {},
   "outputs": [
    {
     "name": "stdout",
     "output_type": "stream",
     "text": [
      "tomorrow is today\n"
     ]
    }
   ],
   "source": [
    "def reverse(strng):\n",
    "    return ' '.join(strng.split()[::-1])\n",
    "print(reverse('today is tomorrow'))"
   ]
  },
  {
   "cell_type": "code",
   "execution_count": null,
   "metadata": {},
   "outputs": [
    {
     "data": {
      "text/plain": [
       "'palindrome'"
      ]
     },
     "execution_count": 16,
     "metadata": {},
     "output_type": "execute_result"
    }
   ],
   "source": [
    "def palindrome(n):\n",
    "    if n == n[::-1]:\n",
    "        return 'palindrome'\n",
    "    else:\n",
    "        return 'not palindrome'\n",
    "palindrome('rotator')\n",
    "# palindrome('hello')"
   ]
  },
  {
   "cell_type": "code",
   "execution_count": 2,
   "metadata": {},
   "outputs": [
    {
     "data": {
      "text/plain": [
       "'rotator'"
      ]
     },
     "execution_count": 2,
     "metadata": {},
     "output_type": "execute_result"
    }
   ],
   "source": [
    "#reverse or palindrome \n",
    "def reverse(n):\n",
    "    n = n[::-1]\n",
    "    return n \n",
    "reverse('rotator')"
   ]
  },
  {
   "cell_type": "code",
   "execution_count": null,
   "metadata": {},
   "outputs": [
    {
     "name": "stdout",
     "output_type": "stream",
     "text": [
      "5 is prime number\n"
     ]
    }
   ],
   "source": [
    "#check prime number\n",
    "def is_prime(n):\n",
    "    if n <= 1:\n",
    "        return False\n",
    "    for i in range(2,n):\n",
    "        if n%i == 0:\n",
    "            return False\n",
    "    return True\n",
    "n=5\n",
    "if is_prime(n):\n",
    "    print(n,\"is prime number\")\n",
    "else:\n",
    "    print(n,\"not prime number\")\n"
   ]
  },
  {
   "cell_type": "code",
   "execution_count": null,
   "metadata": {},
   "outputs": [
    {
     "name": "stdout",
     "output_type": "stream",
     "text": [
      "99\n"
     ]
    }
   ],
   "source": [
    " #largest element\n",
    "n=[2,77,55,99,0]\n",
    "max=n[0]\n",
    "for i in n[1:]:\n",
    "    if i>max:\n",
    "        max=i\n",
    "print(max)"
   ]
  },
  {
   "cell_type": "code",
   "execution_count": null,
   "metadata": {},
   "outputs": [
    {
     "name": "stdout",
     "output_type": "stream",
     "text": [
      "1\n"
     ]
    }
   ],
   "source": [
    "n = 23145\n",
    "res = 9  # Initialize with the maximum possible single digit  ----for largest res = 0\n",
    "\n",
    "while n:\n",
    "    ld = n % 10  # Extract the last digit\n",
    "    if res > ld:  # Compare res with the last digit       -------for largest <\n",
    "        res = ld  # Update res if a smaller digit is found\n",
    "    n = n // 10  # Remove the last digit\n",
    "\n",
    "print(res)  # Output: 1\n"
   ]
  },
  {
   "cell_type": "code",
   "execution_count": null,
   "metadata": {},
   "outputs": [
    {
     "name": "stdout",
     "output_type": "stream",
     "text": [
      "6\n"
     ]
    }
   ],
   "source": [
    "#count of that specific character \n",
    "s=\"where there is a will there is a way\"\n",
    "print(s.count('e'))"
   ]
  },
  {
   "cell_type": "code",
   "execution_count": null,
   "metadata": {},
   "outputs": [
    {
     "name": "stdout",
     "output_type": "stream",
     "text": [
      "321-\n"
     ]
    }
   ],
   "source": [
    "#reverse \n",
    "n=-123\n",
    "k=str(n)[::-1]\n",
    "print(k)"
   ]
  },
  {
   "cell_type": "code",
   "execution_count": null,
   "metadata": {},
   "outputs": [
    {
     "name": "stdout",
     "output_type": "stream",
     "text": [
      "54321\n"
     ]
    }
   ],
   "source": [
    "# reverse with while loop\n",
    "n = 12345\n",
    "reverse = 0\n",
    "while n:\n",
    "    reverse = reverse * 10 + n % 10\n",
    "    n = n // 10\n",
    "print(reverse)\n"
   ]
  },
  {
   "cell_type": "code",
   "execution_count": null,
   "metadata": {},
   "outputs": [
    {
     "name": "stdout",
     "output_type": "stream",
     "text": [
      "-321\n",
      "321\n"
     ]
    }
   ],
   "source": [
    "# reverse negative\n",
    "def neg(n):\n",
    "    negative=n<0\n",
    "    n=abs(n)\n",
    "    reverse=0\n",
    "    while n>0:\n",
    "        reverse=reverse * 10 + n % 10\n",
    "        n=n//10\n",
    "    return -reverse if negative else reverse\n",
    "print(neg(-123))\n",
    "print(neg(123))\n"
   ]
  },
  {
   "cell_type": "code",
   "execution_count": null,
   "metadata": {},
   "outputs": [
    {
     "name": "stdout",
     "output_type": "stream",
     "text": [
      "True\n"
     ]
    }
   ],
   "source": [
    "#palindrome\n",
    "def is_palindrome(n):\n",
    "    n=str(n)\n",
    "    return n==n[::-1]\n",
    "print(is_palindrome(12321))"
   ]
  },
  {
   "cell_type": "code",
   "execution_count": null,
   "metadata": {},
   "outputs": [
    {
     "data": {
      "text/plain": [
       "True"
      ]
     },
     "execution_count": 53,
     "metadata": {},
     "output_type": "execute_result"
    }
   ],
   "source": [
    "#palindrome [111,222,333,444]\n",
    "def is_palindrome(arr):\n",
    "    for num in arr:\n",
    "        if str(num) != str(num)[::-1]:\n",
    "            return False\n",
    "    return True\n",
    "is_palindrome([111,222,171,323])"
   ]
  },
  {
   "cell_type": "code",
   "execution_count": null,
   "metadata": {},
   "outputs": [
    {
     "name": "stdout",
     "output_type": "stream",
     "text": [
      "3\n"
     ]
    },
    {
     "data": {
      "text/plain": [
       "10"
      ]
     },
     "execution_count": 1,
     "metadata": {},
     "output_type": "execute_result"
    }
   ],
   "source": [
    "#sum of the digits\n",
    "def sum(n):\n",
    "    total=0\n",
    "    while n:\n",
    "        total+=n%10\n",
    "        n=n//10\n",
    "    return total\n",
    "# print(sum(123))\n",
    "print(sum(12))\n",
    "def suum(arr):\n",
    "    res=0\n",
    "    for i in range(0,len(arr)):\n",
    "        res+=arr[i]\n",
    "    return res\n",
    "suum([1,2,3,4])\n"
   ]
  },
  {
   "cell_type": "code",
   "execution_count": null,
   "metadata": {},
   "outputs": [
    {
     "data": {
      "text/plain": [
       "7"
      ]
     },
     "execution_count": 27,
     "metadata": {},
     "output_type": "execute_result"
    }
   ],
   "source": [
    "#count the digits\n",
    "def count(n):\n",
    "    cou_nt=0\n",
    "    while n>0:\n",
    "        cou_nt+=1\n",
    "        n=n//10\n",
    "    return cou_nt\n",
    "count(1092345)\n",
    "#----------------------------------------------------------------------------------\n",
    "# def count_(n):\n",
    "#     return len(str(abs(n)))\n",
    "# print(count_(0)) "
   ]
  },
  {
   "cell_type": "code",
   "execution_count": null,
   "metadata": {},
   "outputs": [
    {
     "name": "stdout",
     "output_type": "stream",
     "text": [
      "120\n",
      "120\n",
      "120\n"
     ]
    }
   ],
   "source": [
    "#factorial of the number\n",
    "def fact(n):\n",
    "    res=1\n",
    "    for i in range(2,n+1):\n",
    "        res*=i\n",
    "    return res\n",
    "print(fact(5))\n",
    "#----------------------------------------------------------------------------------------\n",
    "import math\n",
    "print(math.factorial(5))\n",
    "#-----------------------------------------------------------------------------------------\n",
    "def factorial_(n):\n",
    "    if n==0 or n==1 :\n",
    "        return 1\n",
    "    return n * factorial_(n-1)\n",
    "print(factorial_(5))"
   ]
  },
  {
   "cell_type": "code",
   "execution_count": null,
   "metadata": {},
   "outputs": [
    {
     "name": "stdout",
     "output_type": "stream",
     "text": [
      "True\n"
     ]
    }
   ],
   "source": [
    "#amstrong\n",
    "n=370\n",
    "o=n\n",
    "digits=len(str(n))\n",
    "res=0\n",
    "while n:\n",
    "    res+= (n % 10) ** digits\n",
    "    n= n//10\n",
    "print(o==res)"
   ]
  },
  {
   "cell_type": "code",
   "execution_count": null,
   "metadata": {},
   "outputs": [
    {
     "name": "stdout",
     "output_type": "stream",
     "text": [
      "1 2 3 4 5 6 7 8 9 153 370 371 407 1634 8208 9474 "
     ]
    }
   ],
   "source": [
    "#series of amstrong numbers\n",
    "def is_amstrong(n):\n",
    "    return n == sum(int(i) ** len(str(n)) for i in str(n))\n",
    "\n",
    "for res in range(1, 10000):\n",
    "    if is_amstrong(res):\n",
    "        print(res,end=' ')"
   ]
  },
  {
   "cell_type": "code",
   "execution_count": null,
   "metadata": {},
   "outputs": [
    {
     "name": "stdout",
     "output_type": "stream",
     "text": [
      "5*1=5\n",
      "5*2=10\n",
      "5*3=15\n",
      "5*4=20\n",
      "5*5=25\n",
      "5*6=30\n",
      "5*7=35\n",
      "5*8=40\n",
      "5*9=45\n",
      "5*10=50\n"
     ]
    }
   ],
   "source": [
    "n=5\n",
    "for i in range(1,11):\n",
    "    print(f'{n}*{i}={n*i}')"
   ]
  },
  {
   "cell_type": "code",
   "execution_count": null,
   "metadata": {},
   "outputs": [],
   "source": [
    "with open(\"file.txt\", \"w\") as f:\n",
    "    f.write(\"Hello, file!\")\n"
   ]
  },
  {
   "cell_type": "code",
   "execution_count": null,
   "metadata": {},
   "outputs": [],
   "source": [
    "with open(\"file.txt\", \"r\") as f:\n",
    "    data = f.read()\n"
   ]
  },
  {
   "cell_type": "code",
   "execution_count": null,
   "metadata": {},
   "outputs": [],
   "source": [
    "with open(\"file.txt\", \"r\") as f:\n",
    "    data = f.read()\n"
   ]
  },
  {
   "cell_type": "code",
   "execution_count": null,
   "metadata": {},
   "outputs": [
    {
     "name": "stdout",
     "output_type": "stream",
     "text": [
      "[5, 1, 2, 3, 4]\n"
     ]
    }
   ],
   "source": [
    "l=[1,2,3,4]\n",
    "l.insert(0,5)\n",
    "print(l)"
   ]
  },
  {
   "cell_type": "code",
   "execution_count": null,
   "metadata": {},
   "outputs": [
    {
     "name": "stdout",
     "output_type": "stream",
     "text": [
      "<class 'ValueError'>\n"
     ]
    }
   ],
   "source": [
    "#Write a program to return the difference between the count of odd numbers and even numbers.\n",
    "def countOddEven(n,arr):\n",
    "    total=0\n",
    "    if len(arr)==n:                #count used in occurance of specific character\n",
    "        for i in arr:\n",
    "            if i%2==0:\n",
    "                total=total-1\n",
    "            else:\n",
    "                total=total+1\n",
    "        return total\n",
    "    return ValueError\n",
    "n=int(input())\n",
    "arr=list(map(int,input().split()))\n",
    "print(countOddEven(n,arr))\n"
   ]
  },
  {
   "cell_type": "code",
   "execution_count": null,
   "metadata": {},
   "outputs": [
    {
     "name": "stdout",
     "output_type": "stream",
     "text": [
      "[12]\n"
     ]
    }
   ],
   "source": [
    "\n",
    "numbers = list(map(int,input().split()))\n",
    "print(numbers)"
   ]
  },
  {
   "cell_type": "code",
   "execution_count": null,
   "metadata": {},
   "outputs": [
    {
     "name": "stdout",
     "output_type": "stream",
     "text": [
      "-1\n"
     ]
    }
   ],
   "source": [
    "#Write a program to return the difference between the sum of odd numbers and even numbers.\n",
    "def SumOddEven(n,arr):\n",
    "    even_total=0\n",
    "    odd_total=0\n",
    "    if len(arr)==n:                #count used in occurance of specific character\n",
    "        for i in arr:\n",
    "            if i%2==0:\n",
    "                even_total+=i\n",
    "            else:\n",
    "                odd_total+=i\n",
    "        return even_total-odd_total\n",
    "    return ValueError\n",
    "n=int(input())\n",
    "arr=list(map(int,input().split()))\n",
    "print(SumOddEven(n,arr))\n"
   ]
  },
  {
   "cell_type": "code",
   "execution_count": null,
   "metadata": {},
   "outputs": [
    {
     "data": {
      "text/plain": [
       "[3, 4, 5, 1, 2]"
      ]
     },
     "execution_count": 39,
     "metadata": {},
     "output_type": "execute_result"
    }
   ],
   "source": [
    "\n",
    "def rotateArr(arr, d):\n",
    "    n = len(arr)\n",
    "    res = []\n",
    "    for i in range(d, n):\n",
    "        res.append(arr[i])\n",
    "    for i in range(d):\n",
    "        res.append(arr[i])\n",
    "    return res\n",
    "rotateArr(arr=[1,2,3,4,5],d=2)"
   ]
  },
  {
   "cell_type": "code",
   "execution_count": null,
   "metadata": {},
   "outputs": [
    {
     "data": {
      "text/plain": [
       "[5, 1, 2, 3, 4]"
      ]
     },
     "execution_count": 42,
     "metadata": {},
     "output_type": "execute_result"
    }
   ],
   "source": [
    "def rotateArr(arr, d):\n",
    "        #Your code here\n",
    "        d=d%len(arr)\n",
    "        arr[:]=arr[d:]+arr[:d]\n",
    "        return arr\n",
    "rotateArr([1,2,3,4,5],4)"
   ]
  },
  {
   "cell_type": "code",
   "execution_count": null,
   "metadata": {},
   "outputs": [
    {
     "name": "stdout",
     "output_type": "stream",
     "text": [
      "4\n"
     ]
    }
   ],
   "source": [
    "res=4%5\n",
    "print(res)"
   ]
  },
  {
   "cell_type": "code",
   "execution_count": null,
   "metadata": {},
   "outputs": [
    {
     "data": {
      "text/plain": [
       "[1, 3, 5]"
      ]
     },
     "execution_count": 45,
     "metadata": {},
     "output_type": "execute_result"
    }
   ],
   "source": [
    "#skips the alternate number\n",
    "def skips(arr):\n",
    "    res=[]\n",
    "    for i in range(0,len(arr),2):\n",
    "        res.append(arr[i])\n",
    "    return res\n",
    "skips([1,2,3,4,5])"
   ]
  },
  {
   "cell_type": "code",
   "execution_count": null,
   "metadata": {},
   "outputs": [
    {
     "name": "stdout",
     "output_type": "stream",
     "text": [
      "4\n"
     ]
    }
   ],
   "source": [
    "#missing number in sequence\n",
    "def findMissingNumber(arr):\n",
    "    n = len(arr) + 1\n",
    "    total_sum = n * (n + 1) // 2\n",
    "    actual_sum = sum(arr)  # ✅ Uses built-in sum\n",
    "    return total_sum - actual_sum\n",
    "\n",
    "\n",
    "arr = [1, 2, 3, 5]\n",
    "print(findMissingNumber(arr))  # Output: 4\n"
   ]
  },
  {
   "cell_type": "code",
   "execution_count": null,
   "metadata": {},
   "outputs": [
    {
     "name": "stdout",
     "output_type": "stream",
     "text": [
      "[[1, 2, 3], [4, 5, 6], [7, 8, 9]]\n"
     ]
    }
   ],
   "source": [
    "matrix = [\n",
    "    [1,  2,  3],\n",
    "    [4,  5,  6],\n",
    "    [7,  8,  9]\n",
    "]\n",
    "print(matrix)"
   ]
  },
  {
   "cell_type": "code",
   "execution_count": null,
   "metadata": {},
   "outputs": [],
   "source": [
    "import os\n",
    "\n",
    "# Define the custom exception\n",
    "class NegativeValueError(ValueError):\n",
    "    def __init__(self, message=\"Input value is negative\"):\n",
    "        super().__init__(message)\n",
    "\n",
    "# Define the validation function\n",
    "def validate_positive(value):\n",
    "    if value < 0:\n",
    "        raise NegativeValueError(\"Input value is negative\")\n",
    "    return value\n",
    "    "
   ]
  }
 ],
 "metadata": {
  "kernelspec": {
   "display_name": "Python 3",
   "language": "python",
   "name": "python3"
  },
  "language_info": {
   "codemirror_mode": {
    "name": "ipython",
    "version": 3
   },
   "file_extension": ".py",
   "mimetype": "text/x-python",
   "name": "python",
   "nbconvert_exporter": "python",
   "pygments_lexer": "ipython3",
   "version": "3.12.3"
  }
 },
 "nbformat": 4,
 "nbformat_minor": 2
}
