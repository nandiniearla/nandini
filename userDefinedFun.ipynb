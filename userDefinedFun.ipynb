{
 "cells": [
  {
   "cell_type": "markdown",
   "metadata": {},
   "source": [
    "USer Defined Functions"
   ]
  },
  {
   "cell_type": "code",
   "execution_count": 11,
   "metadata": {},
   "outputs": [
    {
     "data": {
      "text/plain": [
       "'hello world123uphai'"
      ]
     },
     "execution_count": 11,
     "metadata": {},
     "output_type": "execute_result"
    }
   ],
   "source": [
    "#casefold\n",
    "st='HELLO WORLD123UPhai'\n",
    "st.casefold()"
   ]
  },
  {
   "cell_type": "code",
   "execution_count": 12,
   "metadata": {},
   "outputs": [
    {
     "name": "stdout",
     "output_type": "stream",
     "text": [
      "hello world123uphai\n"
     ]
    }
   ],
   "source": [
    "#caseold function\n",
    "st='HELLO WORLD123UPhai'\n",
    "def Casefold(coll):\n",
    "    res=''\n",
    "    for i in st:\n",
    "        if 'A'<=i<='Z':\n",
    "            res+=chr(ord(i)+32)\n",
    "        else:\n",
    "            res+=i\n",
    "    print(res)\n",
    "Casefold(st)"
   ]
  },
  {
   "cell_type": "code",
   "execution_count": 13,
   "metadata": {},
   "outputs": [
    {
     "data": {
      "text/plain": [
       "'hello world123haihyderabad'"
      ]
     },
     "execution_count": 13,
     "metadata": {},
     "output_type": "execute_result"
    }
   ],
   "source": [
    "#lower with return\n",
    "st='HELLO WORLD123haiHYDERABAD'\n",
    "def Lower(coll):\n",
    "    res=''\n",
    "    for i in st:\n",
    "        if 'A'<=i<='Z':\n",
    "            res+=chr(ord(i)+32)\n",
    "        else:\n",
    "            res+=i\n",
    "    return res\n",
    "Lower(st)\n"
   ]
  },
  {
   "cell_type": "code",
   "execution_count": 14,
   "metadata": {},
   "outputs": [
    {
     "data": {
      "text/plain": [
       "'HELLO WORLD123 HAI HYDERABAD'"
      ]
     },
     "execution_count": 14,
     "metadata": {},
     "output_type": "execute_result"
    }
   ],
   "source": [
    "#upper \n",
    "st='hello world123 hai hyderabad'\n",
    "def upper(coll):\n",
    "    res=''\n",
    "    for i in coll:\n",
    "        if 'a'<=i<='z':\n",
    "            res+=chr(ord(i)-32)\n",
    "        else:\n",
    "            res+=i\n",
    "    return res\n",
    "upper(st)"
   ]
  },
  {
   "cell_type": "code",
   "execution_count": 15,
   "metadata": {},
   "outputs": [
    {
     "data": {
      "text/plain": [
       "False"
      ]
     },
     "execution_count": 15,
     "metadata": {},
     "output_type": "execute_result"
    }
   ],
   "source": [
    "st='hello world123 hai hyderabad'\n",
    "st.isupper()"
   ]
  },
  {
   "cell_type": "code",
   "execution_count": 16,
   "metadata": {},
   "outputs": [
    {
     "data": {
      "text/plain": [
       "'hello WORLDu123pHAI'"
      ]
     },
     "execution_count": 16,
     "metadata": {},
     "output_type": "execute_result"
    }
   ],
   "source": [
    "#swap case\n",
    "st='HELLO worldU123Phai'\n",
    "def Swap_case(coll):\n",
    "    res=''\n",
    "    for i in st:\n",
    "        if 'a'<=i<='z':\n",
    "            res+=chr(ord(i)-32)\n",
    "        elif 'A'<=i<='Z':\n",
    "            res+=chr(ord(i)+32)\n",
    "        else:\n",
    "            res+=i\n",
    "    return res\n",
    "Swap_case(st)"
   ]
  },
  {
   "cell_type": "code",
   "execution_count": 17,
   "metadata": {},
   "outputs": [
    {
     "data": {
      "text/plain": [
       "True"
      ]
     },
     "execution_count": 17,
     "metadata": {},
     "output_type": "execute_result"
    }
   ],
   "source": [
    "st='HELLOWORLDUPhai'\n",
    "st.isalpha()"
   ]
  },
  {
   "cell_type": "code",
   "execution_count": 18,
   "metadata": {},
   "outputs": [
    {
     "data": {
      "text/plain": [
       "False"
      ]
     },
     "execution_count": 18,
     "metadata": {},
     "output_type": "execute_result"
    }
   ],
   "source": [
    "#isalpha function\n",
    "st='HELLOW ORLDUPhai'\n",
    "def Isalpha(coll):\n",
    "    res=''\n",
    "    for i in st:\n",
    "        if not('a'<=i<='z' or 'A'<=i<='Z'):\n",
    "            return False\n",
    "    return True\n",
    "Isalpha(st)"
   ]
  },
  {
   "cell_type": "code",
   "execution_count": 19,
   "metadata": {},
   "outputs": [
    {
     "data": {
      "text/plain": [
       "True"
      ]
     },
     "execution_count": 19,
     "metadata": {},
     "output_type": "execute_result"
    }
   ],
   "source": [
    "st='1eryryt23456'\n",
    "st.isalnum()"
   ]
  },
  {
   "cell_type": "code",
   "execution_count": 20,
   "metadata": {},
   "outputs": [
    {
     "data": {
      "text/plain": [
       "True"
      ]
     },
     "execution_count": 20,
     "metadata": {},
     "output_type": "execute_result"
    }
   ],
   "source": [
    "#isallnum \n",
    "st='123456347890'\n",
    "def Isallnum(coll):\n",
    "    res=''\n",
    "    for i in st:\n",
    "        if not('0'<=i<='9' or 'a'<=i<='z' or 'A'<=i<='Z'):\n",
    "            return False\n",
    "    return True\n",
    "Isallnum(st)\n"
   ]
  },
  {
   "cell_type": "code",
   "execution_count": 21,
   "metadata": {},
   "outputs": [
    {
     "data": {
      "text/plain": [
       "True"
      ]
     },
     "execution_count": 21,
     "metadata": {},
     "output_type": "execute_result"
    }
   ],
   "source": [
    "st='2356'\n",
    "st.isnumeric()"
   ]
  },
  {
   "cell_type": "code",
   "execution_count": 22,
   "metadata": {},
   "outputs": [
    {
     "data": {
      "text/plain": [
       "True"
      ]
     },
     "execution_count": 22,
     "metadata": {},
     "output_type": "execute_result"
    }
   ],
   "source": [
    "st='2356'\n",
    "st.isdigit()"
   ]
  },
  {
   "cell_type": "code",
   "execution_count": 23,
   "metadata": {},
   "outputs": [
    {
     "data": {
      "text/plain": [
       "True"
      ]
     },
     "execution_count": 23,
     "metadata": {},
     "output_type": "execute_result"
    }
   ],
   "source": [
    "st='123452'\n",
    "st.isdecimal()"
   ]
  },
  {
   "cell_type": "code",
   "execution_count": 24,
   "metadata": {},
   "outputs": [
    {
     "data": {
      "text/plain": [
       "True"
      ]
     },
     "execution_count": 24,
     "metadata": {},
     "output_type": "execute_result"
    }
   ],
   "source": [
    "#isnumeric  #isdigit  #isdecimal\n",
    "st='1234564347890'\n",
    "def IsnumericDigitDecimal(coll):  \n",
    "    for i in coll:\n",
    "        if not('0'<=i<='9'):\n",
    "            return False\n",
    "    return True\n",
    "IsnumericDigitDecimal(st)\n"
   ]
  },
  {
   "cell_type": "code",
   "execution_count": 25,
   "metadata": {},
   "outputs": [
    {
     "data": {
      "text/plain": [
       "'@Ello World123Hai #Ety 12T 2F 2#F R@#$ They $Tery Tuyi $Eryt @Rtuy $'"
      ]
     },
     "execution_count": 25,
     "metadata": {},
     "output_type": "execute_result"
    }
   ],
   "source": [
    "'@eLLO wOrld123hAi #ety 12t 2f 2#f r@#$ they $tery tuyi $eryt @rtuy $'.title()"
   ]
  },
  {
   "cell_type": "code",
   "execution_count": 26,
   "metadata": {},
   "outputs": [
    {
     "data": {
      "text/plain": [
       "'@Ello World123Hai #Ety 12T 2F 2#F R@#$ They $T123Ery Tuyi $Eryt @Rtuy #S'"
      ]
     },
     "execution_count": 26,
     "metadata": {},
     "output_type": "execute_result"
    }
   ],
   "source": [
    "#title case\n",
    "st='@eLLO wOrld123hAi #ety 12t 2f 2#f r@#$ they $t123ery tuyi $eryt @rtuy #s'\n",
    "def u_title(coll):\n",
    "    temp=0\n",
    "    res=''\n",
    "    if 'a'<=coll[0]<='z':\n",
    "        res+=chr(ord(coll[0])-32)\n",
    "        temp=1\n",
    "    elif 'A'<=coll[0]<='Z':\n",
    "        res+=coll[0]\n",
    "        temp=1\n",
    "    while temp<len(coll):\n",
    "        if not ('A'<=coll[temp]<='Z' or 'a'<=coll[temp]<='z') and len(coll)-1 != temp:\n",
    "            res+=coll[temp]\n",
    "            if 'a'<=coll[temp+1]<='z':\n",
    "                res+=chr(ord(coll[temp+1])-32)\n",
    "                temp+=1\n",
    "            elif 'A'<=coll[temp+1]<='Z':\n",
    "                res+=coll[temp+1]\n",
    "                temp+=1\n",
    "        elif 'A'<=coll[temp]<='Z':\n",
    "            res+=chr(ord(coll[temp])+32)\n",
    "        else:\n",
    "            res+=coll[temp]\n",
    "        temp+=1\n",
    "    return res\n",
    "u_title(st)\n"
   ]
  },
  {
   "cell_type": "code",
   "execution_count": 27,
   "metadata": {},
   "outputs": [
    {
     "data": {
      "text/plain": [
       "128"
      ]
     },
     "execution_count": 27,
     "metadata": {},
     "output_type": "execute_result"
    }
   ],
   "source": [
    "a=(256>>2)<<1\n",
    "a"
   ]
  },
  {
   "cell_type": "code",
   "execution_count": 28,
   "metadata": {},
   "outputs": [
    {
     "data": {
      "text/plain": [
       "6.0"
      ]
     },
     "execution_count": 28,
     "metadata": {},
     "output_type": "execute_result"
    }
   ],
   "source": [
    "d=(1*2+2*3/3)/2*2+2\n",
    "d"
   ]
  },
  {
   "cell_type": "code",
   "execution_count": 29,
   "metadata": {},
   "outputs": [
    {
     "data": {
      "text/plain": [
       "32"
      ]
     },
     "execution_count": 29,
     "metadata": {},
     "output_type": "execute_result"
    }
   ],
   "source": [
    "a=127&0x20\n",
    "a"
   ]
  },
  {
   "cell_type": "code",
   "execution_count": 30,
   "metadata": {},
   "outputs": [
    {
     "ename": "SyntaxError",
     "evalue": "invalid syntax (594216190.py, line 2)",
     "output_type": "error",
     "traceback": [
      "\u001b[1;36m  Cell \u001b[1;32mIn[30], line 2\u001b[1;36m\u001b[0m\n\u001b[1;33m    for i=0 i<1000000000 i+=1:\u001b[0m\n\u001b[1;37m         ^\u001b[0m\n\u001b[1;31mSyntaxError\u001b[0m\u001b[1;31m:\u001b[0m invalid syntax\n"
     ]
    }
   ],
   "source": [
    "m=rotZ(0)\n",
    "for i=0 i<1000000000 i+=1:\n",
    "    m=m*rotZ(1)\n",
    "print(m)"
   ]
  },
  {
   "cell_type": "code",
   "execution_count": null,
   "metadata": {},
   "outputs": [
    {
     "data": {
      "text/plain": [
       "'@Ello World123Hai #Ety 12T 2F 2#F R@#$ They $Tery Tuyi $Eryt @Rtuy '"
      ]
     },
     "execution_count": 38,
     "metadata": {},
     "output_type": "execute_result"
    }
   ],
   "source": [
    "'@eLLO wOrld123hAi #ety 12t 2f 2#f r@#$ they $tery tuyi $eryt @rtuy '.title()\n"
   ]
  },
  {
   "cell_type": "code",
   "execution_count": null,
   "metadata": {},
   "outputs": [
    {
     "data": {
      "text/plain": [
       "'@Ello World123Hai #Ety R@#$They   $Terytuyi Eryt @Rtuy'"
      ]
     },
     "execution_count": 47,
     "metadata": {},
     "output_type": "execute_result"
    }
   ],
   "source": [
    "st='@eLLO wOrld123hAi #ety r@#$they   $terytuyi eryt @rtuy'\n",
    "st.title()"
   ]
  },
  {
   "cell_type": "code",
   "execution_count": null,
   "metadata": {},
   "outputs": [
    {
     "data": {
      "text/plain": [
       "False"
      ]
     },
     "execution_count": 21,
     "metadata": {},
     "output_type": "execute_result"
    }
   ],
   "source": [
    "#istitle()\n",
    "st='Hello World123Hi 123 R#$w #E %'\n",
    "def u_title(coll):\n",
    "    if 'a'<=coll[0]<='z':\n",
    "        return False\n",
    "    i=0\n",
    "    while i<len(coll):\n",
    "        if not ('A'<=coll[i]<='Z' or 'a'<=coll[i]<='z'):\n",
    "            if 'a'<=coll[i+1]<='z':\n",
    "                return False\n",
    "        i+=1\n",
    "    return True\n",
    "u_title(st)"
   ]
  },
  {
   "cell_type": "code",
   "execution_count": null,
   "metadata": {},
   "outputs": [
    {
     "data": {
      "text/plain": [
       "True"
      ]
     },
     "execution_count": 67,
     "metadata": {},
     "output_type": "execute_result"
    }
   ],
   "source": [
    "#space\n",
    "st='  '\n",
    "st.isspace()"
   ]
  },
  {
   "cell_type": "code",
   "execution_count": null,
   "metadata": {},
   "outputs": [
    {
     "data": {
      "text/plain": [
       "True"
      ]
     },
     "execution_count": 66,
     "metadata": {},
     "output_type": "execute_result"
    }
   ],
   "source": [
    "st='  '\n",
    "def Isspace(coll):\n",
    "    if len(coll)==0:\n",
    "        return False\n",
    "    for i in coll:\n",
    "        if i!=' ':\n",
    "            return False\n",
    "    return True\n",
    "Isspace(st)\n"
   ]
  },
  {
   "cell_type": "code",
   "execution_count": null,
   "metadata": {},
   "outputs": [
    {
     "data": {
      "text/plain": [
       "'ax_bx'"
      ]
     },
     "execution_count": 24,
     "metadata": {},
     "output_type": "execute_result"
    }
   ],
   "source": [
    "st=['ax','bx']\n",
    "'_'.join(st)"
   ]
  },
  {
   "cell_type": "code",
   "execution_count": null,
   "metadata": {},
   "outputs": [
    {
     "data": {
      "text/plain": [
       "''"
      ]
     },
     "execution_count": 54,
     "metadata": {},
     "output_type": "execute_result"
    }
   ],
   "source": [
    "st=['']\n",
    "'_'.join(st)"
   ]
  },
  {
   "cell_type": "code",
   "execution_count": null,
   "metadata": {},
   "outputs": [
    {
     "data": {
      "text/plain": [
       "'ab--cd--ef--abc'"
      ]
     },
     "execution_count": 84,
     "metadata": {},
     "output_type": "execute_result"
    }
   ],
   "source": [
    "st=['ab','cd','ef','abc']\n",
    "def join(coll,sep=''):\n",
    "    for i in coll:\n",
    "        if type(i)!=str:\n",
    "            return False\n",
    "        res=''\n",
    "        for i in coll:\n",
    "            res=res+i+sep\n",
    "        if sep=='':\n",
    "            return res\n",
    "        else:\n",
    "            return res[:-len(sep):]\n",
    "join(st,'--')         "
   ]
  },
  {
   "cell_type": "code",
   "execution_count": null,
   "metadata": {},
   "outputs": [
    {
     "data": {
      "text/plain": [
       "'---abc----'"
      ]
     },
     "execution_count": 87,
     "metadata": {},
     "output_type": "execute_result"
    }
   ],
   "source": [
    "#center()\n",
    "st='abc'\n",
    "st.center(10,'-')"
   ]
  },
  {
   "cell_type": "code",
   "execution_count": null,
   "metadata": {},
   "outputs": [
    {
     "data": {
      "text/plain": [
       "'-abc-'"
      ]
     },
     "execution_count": 93,
     "metadata": {},
     "output_type": "execute_result"
    }
   ],
   "source": [
    "#user defined center case\n",
    "st='abc'\n",
    "def u_center(coll,width,fillchar=''):\n",
    "    res=width-len(coll)\n",
    "    l= res//2\n",
    "    r=res-1\n",
    "    res=fillchar*l+coll+fillchar*r\n",
    "    return res\n",
    "u_center(st,5,'-')\n"
   ]
  },
  {
   "cell_type": "code",
   "execution_count": null,
   "metadata": {},
   "outputs": [
    {
     "data": {
      "text/plain": [
       "True"
      ]
     },
     "execution_count": 9,
     "metadata": {},
     "output_type": "execute_result"
    }
   ],
   "source": [
    "st='if'\n",
    "st.isidentifier()"
   ]
  },
  {
   "cell_type": "code",
   "execution_count": null,
   "metadata": {},
   "outputs": [
    {
     "data": {
      "text/plain": [
       "8"
      ]
     },
     "execution_count": 8,
     "metadata": {},
     "output_type": "execute_result"
    }
   ],
   "source": [
    "st='helloworlllllld'\n",
    "st.count('l')"
   ]
  },
  {
   "cell_type": "code",
   "execution_count": null,
   "metadata": {},
   "outputs": [
    {
     "data": {
      "text/plain": [
       "6"
      ]
     },
     "execution_count": 6,
     "metadata": {},
     "output_type": "execute_result"
    }
   ],
   "source": [
    "#count function\n",
    "st='helloworlllllld'\n",
    "def u_count(coll,ele,start=0,end=None):\n",
    "    if end==None:\n",
    "        end=len(coll)\n",
    "    count=0\n",
    "    for i in range(start,end):\n",
    "        if coll[i]==ele:\n",
    "            count+=1\n",
    "    return count\n",
    "u_count(st,'l',5)"
   ]
  },
  {
   "cell_type": "code",
   "execution_count": null,
   "metadata": {},
   "outputs": [
    {
     "data": {
      "text/plain": [
       "0"
      ]
     },
     "execution_count": 12,
     "metadata": {},
     "output_type": "execute_result"
    }
   ],
   "source": [
    "#find function\n",
    "st='helloworlllllld'\n",
    "st.find('l')"
   ]
  },
  {
   "cell_type": "code",
   "execution_count": null,
   "metadata": {},
   "outputs": [
    {
     "data": {
      "text/plain": [
       "2"
      ]
     },
     "execution_count": 13,
     "metadata": {},
     "output_type": "execute_result"
    }
   ],
   "source": [
    "#index function\n",
    "st='helloworlllllld'\n",
    "st.index('l')"
   ]
  },
  {
   "cell_type": "code",
   "execution_count": 37,
   "metadata": {},
   "outputs": [
    {
     "data": {
      "text/plain": [
       "2"
      ]
     },
     "execution_count": 37,
     "metadata": {},
     "output_type": "execute_result"
    }
   ],
   "source": [
    "#find and index function\n",
    "st='helloworld'\n",
    "def u_index(coll,ele,start=0,end=None):\n",
    "    if end==None:\n",
    "        end=len(coll)\n",
    "    if ele not in coll[start:end]:\n",
    "        return -1\n",
    "    while start<end:\n",
    "        if ele==coll[start]:\n",
    "            return start\n",
    "        start+=1\n",
    "u_index(st,'l')"
   ]
  },
  {
   "cell_type": "code",
   "execution_count": null,
   "metadata": {},
   "outputs": [
    {
     "data": {
      "text/plain": [
       "3"
      ]
     },
     "execution_count": 79,
     "metadata": {},
     "output_type": "execute_result"
    }
   ],
   "source": [
    "#rfind \n",
    "st='helloworld'\n",
    "def u_rfind(coll,ele,start=0,end=None):\n",
    "    if end==None:\n",
    "        end=len(coll)-1\n",
    "    if ele not in coll[start:end]:\n",
    "        return -1\n",
    "    while end>start:\n",
    "        if coll[end]==ele:\n",
    "            return end\n",
    "        end-=1\n",
    "u_rfind(st,'l',1,5)   #start<end"
   ]
  },
  {
   "cell_type": "code",
   "execution_count": null,
   "metadata": {},
   "outputs": [
    {
     "data": {
      "text/plain": [
       "2"
      ]
     },
     "execution_count": 10,
     "metadata": {},
     "output_type": "execute_result"
    }
   ],
   "source": [
    "# first occurance\n",
    "st='laptop'\n",
    "def firstoccurance(coll,a):\n",
    "    for i in range(0,len(coll)):\n",
    "        if st[i]==a:\n",
    "            return i\n",
    "firstoccurance(st,'p')\n",
    "        \n",
    "    "
   ]
  },
  {
   "cell_type": "code",
   "execution_count": null,
   "metadata": {},
   "outputs": [
    {
     "data": {
      "text/plain": [
       "11"
      ]
     },
     "execution_count": 13,
     "metadata": {},
     "output_type": "execute_result"
    }
   ],
   "source": [
    "#specific occurance\n",
    "st='laptoplaptop'\n",
    "def occurance(coll,a,n):\n",
    "    count=0\n",
    "    for i in range(0,len(coll)):\n",
    "        if st[i]==a:\n",
    "            count+=1\n",
    "            if n==count:\n",
    "                return i\n",
    "occurance(st,'p',4)\n"
   ]
  },
  {
   "cell_type": "code",
   "execution_count": null,
   "metadata": {},
   "outputs": [
    {
     "data": {
      "text/plain": [
       "8"
      ]
     },
     "execution_count": 15,
     "metadata": {},
     "output_type": "execute_result"
    }
   ],
   "source": [
    "# nth occurance specific char\n",
    "st=\"laptoplaptop \"\n",
    "def u_index(coll,ele,n,start=0,end=None):\n",
    "    if end==None:\n",
    "        end=len(coll)\n",
    "    if ele not in coll[start:end]:\n",
    "        return -1\n",
    "    count=0\n",
    "    for i in range(start,end):\n",
    "        if ele==coll[i]:\n",
    "            count+=1\n",
    "        if count==n:\n",
    "            return i\n",
    "    return -1\n",
    "u_index(st,'p',3)"
   ]
  },
  {
   "cell_type": "code",
   "execution_count": null,
   "metadata": {},
   "outputs": [
    {
     "data": {
      "text/plain": [
       "11"
      ]
     },
     "execution_count": 56,
     "metadata": {},
     "output_type": "execute_result"
    }
   ],
   "source": [
    "#nth occurance\n",
    "st=\"laptoplaptop \"\n",
    "def u_nthoccur(coll,chr,n):\n",
    "    count=0\n",
    "    for i in range(0,len(coll)):\n",
    "        if chr==coll[i]:\n",
    "            count+=1\n",
    "        if count==n:\n",
    "            return i\n",
    "u_nthoccur(st,'p',4)     "
   ]
  },
  {
   "cell_type": "code",
   "execution_count": null,
   "metadata": {},
   "outputs": [
    {
     "data": {
      "text/plain": [
       "11"
      ]
     },
     "execution_count": 6,
     "metadata": {},
     "output_type": "execute_result"
    }
   ],
   "source": [
    "# last occurance specific character\n",
    "st=\"laptoplaptop \"\n",
    "def u_find(coll,ele,start=0,end=None):\n",
    "    if end==None:\n",
    "        end=len(coll)\n",
    "    if ele not in coll[start:end]:\n",
    "        return -1\n",
    "    l=[]\n",
    "    while start<end:\n",
    "        if coll[start]==ele:\n",
    "            l+=[start]\n",
    "        start+=1\n",
    "    return l[-1]\n",
    "u_find(st,'p')"
   ]
  },
  {
   "cell_type": "code",
   "execution_count": null,
   "metadata": {},
   "outputs": [
    {
     "data": {
      "text/plain": [
       "('p', 4)"
      ]
     },
     "execution_count": 43,
     "metadata": {},
     "output_type": "execute_result"
    }
   ],
   "source": [
    "#max count\n",
    "st='laptoplaptopz'\n",
    "def u_max(coll):\n",
    "    d={}\n",
    "    for i in coll:\n",
    "        if i not in d:\n",
    "            d[i]=1\n",
    "        else:\n",
    "            d[i]+=1\n",
    "    max=0\n",
    "    ch=None\n",
    "    for i in d:\n",
    "        if max<d[i]:\n",
    "            max=d[i]\n",
    "            ch=i\n",
    "    return ch,max\n",
    "u_max(st)"
   ]
  },
  {
   "cell_type": "code",
   "execution_count": null,
   "metadata": {},
   "outputs": [
    {
     "name": "stdout",
     "output_type": "stream",
     "text": [
      "{'l': 2, 'a': 2, 'p': 3, 't': 2, 'o': 2}\n",
      "['l', 'a', 'p', 't', 'o']\n"
     ]
    }
   ],
   "source": [
    "# max first repeated character\n",
    "st=\"laptoplaptoptttt\"\n",
    "def u_find(coll,start=0,end=None):\n",
    "    if end==None:\n",
    "        end=len(coll)\n",
    "    d={}\n",
    "    while start<end:\n",
    "        if  coll[start] not in d:\n",
    "            d[coll[start]]=1\n",
    "        else:\n",
    "            d[coll[start]]+=1\n",
    "        start+=1\n",
    "    print(d)\n",
    "    l=list(d)\n",
    "    print(l)\n",
    "    i=0\n",
    "    max=len(st)\n",
    "    ch=None\n",
    "    while i<len(l):\n",
    "        if max<d[l[i]]:\n",
    "            max=d[l[i]]\n",
    "            ch=l[i]\n",
    "        i+=1\n",
    "    return ch\n",
    "u_find(st,0,11)\n"
   ]
  },
  {
   "cell_type": "code",
   "execution_count": null,
   "metadata": {},
   "outputs": [
    {
     "data": {
      "text/plain": [
       "('z', 1)"
      ]
     },
     "execution_count": 40,
     "metadata": {},
     "output_type": "execute_result"
    }
   ],
   "source": [
    "#min count\n",
    "st='laptoplaptopz'\n",
    "def u_min(coll):\n",
    "    d={}\n",
    "    for i in coll:\n",
    "        if i not in d:\n",
    "            d[i]=1\n",
    "        else:\n",
    "            d[i]+=1\n",
    "    min=len(coll)\n",
    "    ch=None\n",
    "    for i in d:\n",
    "        if min>d[i]:\n",
    "            min=d[i]\n",
    "            ch=i\n",
    "    return ch,min\n",
    "u_min(st)"
   ]
  },
  {
   "cell_type": "code",
   "execution_count": null,
   "metadata": {},
   "outputs": [
    {
     "name": "stdout",
     "output_type": "stream",
     "text": [
      "{'a': 2, 'p': 4, 't': 2, 'o': 2, 'z': 1}\n"
     ]
    },
    {
     "data": {
      "text/plain": [
       "'a'"
      ]
     },
     "execution_count": 33,
     "metadata": {},
     "output_type": "execute_result"
    }
   ],
   "source": [
    " # min first repeated chararcter\n",
    "st=\"aptopaptzop\"\n",
    "def u_find(coll,start=0,end=None):\n",
    "    if end==None:\n",
    "        end=len(coll)\n",
    "    d={}\n",
    "    while start<end:\n",
    "        if  coll[start] not in d:\n",
    "            d[coll[start]]=1\n",
    "        else:\n",
    "            d[coll[start]]+=1\n",
    "        start+=1\n",
    "    print(d)\n",
    "    l=list(d)\n",
    "    i=0\n",
    "    min=0\n",
    "    while i<len(l):\n",
    "        if min<d[l[i]]:\n",
    "            min=d[l[i]]\n",
    "            return l[i]\n",
    "        i+=1\n",
    "u_find(st)"
   ]
  },
  {
   "cell_type": "code",
   "execution_count": null,
   "metadata": {},
   "outputs": [
    {
     "name": "stdout",
     "output_type": "stream",
     "text": [
      "19 * 1 = 19\n",
      "19 * 2 = 38\n",
      "19 * 3 = 57\n",
      "19 * 4 = 76\n",
      "19 * 5 = 95\n",
      "19 * 6 = 114\n",
      "19 * 7 = 133\n",
      "19 * 8 = 152\n",
      "19 * 9 = 171\n",
      "19 * 10 = 190\n"
     ]
    }
   ],
   "source": [
    "def table(n):\n",
    "    for i in range(1,11):\n",
    "        print(n,'*',i,'=',n*i)\n",
    "table(19)"
   ]
  },
  {
   "cell_type": "code",
   "execution_count": null,
   "metadata": {},
   "outputs": [
    {
     "data": {
      "text/plain": [
       "'SrEdIpSyP'"
      ]
     },
     "execution_count": 32,
     "metadata": {},
     "output_type": "execute_result"
    }
   ],
   "source": [
    "#PYSPIDERS\n",
    "#SrEdLpSyP\n",
    "st='PYSPIDERS'\n",
    "def reverse(coll):\n",
    "    res=''\n",
    "    for i in range(0,len(st)):\n",
    "        if i%2!=0:\n",
    "            res+=chr(ord(st[i])+32)\n",
    "        else:\n",
    "            res+=st[i]    \n",
    "    return res[::-1]\n",
    "reverse(st)"
   ]
  },
  {
   "cell_type": "code",
   "execution_count": 2,
   "metadata": {},
   "outputs": [
    {
     "data": {
      "text/plain": [
       "{'I': 2, 'love': 2, 'india': 1, 'my': 1, 'country': 1}"
      ]
     },
     "execution_count": 2,
     "metadata": {},
     "output_type": "execute_result"
    }
   ],
   "source": [
    "st=\"I love india I love my country\"\n",
    "def words(coll):\n",
    "    d= {}\n",
    "    words = coll.split()\n",
    "    for i in words:\n",
    "        if i not in d:\n",
    "            d[i] = 1\n",
    "        else:\n",
    "            d[i] += 1\n",
    "    return d\n",
    "words(st)"
   ]
  },
  {
   "cell_type": "code",
   "execution_count": 1,
   "metadata": {},
   "outputs": [
    {
     "data": {
      "text/plain": [
       "{1: 1, 2: 8, 3: 27, 4: 64, 5: 125, 6: 216, 7: 343, 8: 512, 9: 729, 10: 1000}"
      ]
     },
     "execution_count": 1,
     "metadata": {},
     "output_type": "execute_result"
    }
   ],
   "source": [
    "def cube_series(n):\n",
    "    cube = {}\n",
    "    for i in range(1,11):\n",
    "        cube[i] = i ** 3\n",
    "    return cube\n",
    "cube_series(10)"
   ]
  },
  {
   "cell_type": "code",
   "execution_count": 14,
   "metadata": {},
   "outputs": [
    {
     "data": {
      "text/plain": [
       "34"
      ]
     },
     "execution_count": 14,
     "metadata": {},
     "output_type": "execute_result"
    }
   ],
   "source": [
    "def fibonacci(n):\n",
    "    if n <= 0:\n",
    "        return None\n",
    "    elif n == 1:\n",
    "        return 0\n",
    "    elif n == 2:\n",
    "        return 1\n",
    "    else:\n",
    "        a, b = 0, 1\n",
    "        for _ in range(n - 2):\n",
    "            c = a + b\n",
    "            a, b = b, c\n",
    "        return b\n",
    "fibonacci(10)"
   ]
  },
  {
   "cell_type": "code",
   "execution_count": 13,
   "metadata": {},
   "outputs": [
    {
     "data": {
      "text/plain": [
       "'_  hello world haii'"
      ]
     },
     "execution_count": 13,
     "metadata": {},
     "output_type": "execute_result"
    }
   ],
   "source": [
    "#remove prefix\n",
    "st=' _  hello world haii'\n",
    "st.removeprefix(' ')"
   ]
  },
  {
   "cell_type": "code",
   "execution_count": 17,
   "metadata": {},
   "outputs": [
    {
     "data": {
      "text/plain": [
       "['he', '', 'o wor', 'd welcome to pys']"
      ]
     },
     "execution_count": 17,
     "metadata": {},
     "output_type": "execute_result"
    }
   ],
   "source": [
    "#split \n",
    "st='hello world welcome to pys'\n",
    "st.split('l',3)"
   ]
  },
  {
   "cell_type": "code",
   "execution_count": 23,
   "metadata": {},
   "outputs": [
    {
     "data": {
      "text/plain": [
       "['h', 'llo world w', 'lcom', ' to pys']"
      ]
     },
     "execution_count": 23,
     "metadata": {},
     "output_type": "execute_result"
    }
   ],
   "source": [
    "st='hello world welcome to pys'\n",
    "def u_split(coll,ele,maxsplit=None):\n",
    "    if maxsplit==None: maxsplit=len(coll)\n",
    "    l=[]\n",
    "    r=''\n",
    "    index=0\n",
    "    for i in coll:\n",
    "        if i!=ele:\n",
    "            r+=i\n",
    "        else:\n",
    "            l+=[r]\n",
    "            r=''\n",
    "        index+=1\n",
    "        if len(l)==maxsplit:\n",
    "            return l+[coll[index:]]        \n",
    "u_split(st,'e',3)"
   ]
  },
  {
   "cell_type": "code",
   "execution_count": 21,
   "metadata": {},
   "outputs": [
    {
     "data": {
      "text/plain": [
       "['h', 'llo world w', 'lcom', ' to pys']"
      ]
     },
     "execution_count": 21,
     "metadata": {},
     "output_type": "execute_result"
    }
   ],
   "source": [
    "#rsplit\n",
    "st='hello world welcome to pys'\n",
    "st.rsplit('e',5)"
   ]
  },
  {
   "cell_type": "code",
   "execution_count": 28,
   "metadata": {},
   "outputs": [
    {
     "name": "stdout",
     "output_type": "stream",
     "text": [
      "['llo world w', 'lcom', ' to pys']\n"
     ]
    }
   ],
   "source": [
    "#rsplit\n",
    "st='hello world welcome to pys'\n",
    "def u_rsplit(coll,ele,maxsplit=None):\n",
    "    l=[]\n",
    "    s=''\n",
    "    start=0\n",
    "    end=len(coll)-1\n",
    "    while end>start:\n",
    "        if ele!=coll[end]:\n",
    "            s=coll[end]+s\n",
    "        elif len(s)!=0:\n",
    "            l=[s]+l\n",
    "            s=''\n",
    "            if len(l)==maxsplit:\n",
    "                return[coll[:end]]+1\n",
    "        end-=1\n",
    "    if len(s)!=0:\n",
    "        l=[s]+l\n",
    "    return l\n",
    "print(u_rsplit(st,'e',5))"
   ]
  },
  {
   "cell_type": "code",
   "execution_count": 29,
   "metadata": {},
   "outputs": [
    {
     "data": {
      "text/plain": [
       "4"
      ]
     },
     "execution_count": 29,
     "metadata": {},
     "output_type": "execute_result"
    }
   ],
   "source": [
    "#count\n",
    "st='hello world welcome to pys'\n",
    "st.count('l')         "
   ]
  },
  {
   "cell_type": "code",
   "execution_count": 38,
   "metadata": {},
   "outputs": [
    {
     "data": {
      "text/plain": [
       "2"
      ]
     },
     "execution_count": 38,
     "metadata": {},
     "output_type": "execute_result"
    }
   ],
   "source": [
    "#count\n",
    "st='hello world welcome to pys'\n",
    "def u_count(coll,ele,start=0,end=None):\n",
    "    if end==None:\n",
    "        end=len(coll)\n",
    "    count=0\n",
    "    for i in range(start,end):\n",
    "        if coll[i]==ele:\n",
    "            count+=1\n",
    "    return count\n",
    "u_count(st,'l',5)\n"
   ]
  },
  {
   "cell_type": "code",
   "execution_count": 7,
   "metadata": {},
   "outputs": [
    {
     "data": {
      "text/plain": [
       "3"
      ]
     },
     "execution_count": 7,
     "metadata": {},
     "output_type": "execute_result"
    }
   ],
   "source": [
    "#rfind\n",
    "st='hello world welcome to pys'\n",
    "def u_rfind(coll,ele,start=0,end=None):\n",
    "    if end==None:\n",
    "        end=len(coll)-1\n",
    "    if ele not in coll[start:end]:\n",
    "        return -1\n",
    "    while end>start:\n",
    "        if coll[end]==ele:\n",
    "            return end\n",
    "        end-=1\n",
    "u_rfind(st,'l')"
   ]
  },
  {
   "cell_type": "code",
   "execution_count": 13,
   "metadata": {},
   "outputs": [
    {
     "data": {
      "text/plain": [
       "True"
      ]
     },
     "execution_count": 13,
     "metadata": {},
     "output_type": "execute_result"
    }
   ],
   "source": [
    "st='hello world welcome to pys'\n",
    "st.startswith('hello')"
   ]
  },
  {
   "cell_type": "code",
   "execution_count": 42,
   "metadata": {},
   "outputs": [
    {
     "data": {
      "text/plain": [
       "True"
      ]
     },
     "execution_count": 42,
     "metadata": {},
     "output_type": "execute_result"
    }
   ],
   "source": [
    "#starts with\n",
    "st='hello to world welcome to pys'\n",
    "def u_startswith(coll,sub,start=0,end=None):\n",
    "    if end==None:\n",
    "        end=start+len(sub)\n",
    "    if sub not in coll[start:]:\n",
    "        return False\n",
    "    res=''\n",
    "    while start<end:\n",
    "        res+=coll[start]\n",
    "        start+=1\n",
    "    return (res==sub)\n",
    "u_startswith(st,'to',6)\n"
   ]
  },
  {
   "cell_type": "code",
   "execution_count": 45,
   "metadata": {},
   "outputs": [
    {
     "data": {
      "text/plain": [
       "False"
      ]
     },
     "execution_count": 45,
     "metadata": {},
     "output_type": "execute_result"
    }
   ],
   "source": [
    "#ends with\n",
    "st='hello world welcome to pys'\n",
    "def u_endwith(coll,sub,start=0,end=None):\n",
    "    if end==None:\n",
    "        end=len(coll)\n",
    "    st=''\n",
    "    while start<end:\n",
    "        st+=coll[start]\n",
    "        start+=1\n",
    "    i=len(st)-len(sub)\n",
    "    res=''\n",
    "    while i<len(st):\n",
    "        res+=st[i]\n",
    "        i+=1\n",
    "    return(res==sub)\n",
    "u_endwith(st,'hello',5,9)\n"
   ]
  },
  {
   "cell_type": "code",
   "execution_count": 47,
   "metadata": {},
   "outputs": [
    {
     "data": {
      "text/plain": [
       "'hello World Welcome to pys'"
      ]
     },
     "execution_count": 47,
     "metadata": {},
     "output_type": "execute_result"
    }
   ],
   "source": [
    "#replace \n",
    "st='hello world welcome to pys'\n",
    "st.replace('w','W')\n"
   ]
  },
  {
   "cell_type": "code",
   "execution_count": 48,
   "metadata": {},
   "outputs": [
    {
     "data": {
      "text/plain": [
       "'hello World Welcome to pys'"
      ]
     },
     "execution_count": 48,
     "metadata": {},
     "output_type": "execute_result"
    }
   ],
   "source": [
    "#replace\n",
    "def u_replace(coll,old,new):\n",
    "    res=''\n",
    "    for i in coll:\n",
    "        if i in coll:\n",
    "            if i==old:\n",
    "                res+=new\n",
    "            else:\n",
    "                res+=i\n",
    "    return res\n",
    "u_replace(st,'w','W')"
   ]
  },
  {
   "cell_type": "code",
   "execution_count": 52,
   "metadata": {},
   "outputs": [
    {
     "data": {
      "text/plain": [
       "'hello World World welcome to www pys'"
      ]
     },
     "execution_count": 52,
     "metadata": {},
     "output_type": "execute_result"
    }
   ],
   "source": [
    "#replace with count\n",
    "st='hello world world welcome to www pys'\n",
    "\n",
    "def u_replace(coll,old,new,count=None):\n",
    "    if count==None:\n",
    "        count=len(coll)\n",
    "    c=1\n",
    "    res=''\n",
    "    for i in coll:\n",
    "        if i==old and c<=count:\n",
    "            res+=new\n",
    "            c+=1\n",
    "        else:\n",
    "            res+=i\n",
    "    return res\n",
    "u_replace(st,'w','W',2)"
   ]
  },
  {
   "cell_type": "code",
   "execution_count": 57,
   "metadata": {},
   "outputs": [
    {
     "data": {
      "text/plain": [
       "'hello world welcome to pys'"
      ]
     },
     "execution_count": 57,
     "metadata": {},
     "output_type": "execute_result"
    }
   ],
   "source": [
    "#mul characters\n",
    "st='hello world welcome to pys'\n",
    "def u_replace(coll,old,new):\n",
    "    start=0\n",
    "    while start<len(coll):\n",
    "        if coll[start]==old[0]:\n",
    "            if old==coll[0:start+len(coll)]:\n",
    "                coll=coll[0:start]+new+coll[start+len(old):]\n",
    "        start+=1\n",
    "    return coll\n",
    "u_replace(st,'hel','bye')"
   ]
  },
  {
   "cell_type": "code",
   "execution_count": 8,
   "metadata": {},
   "outputs": [
    {
     "data": {
      "text/plain": [
       "'hello \\t haii'"
      ]
     },
     "execution_count": 8,
     "metadata": {},
     "output_type": "execute_result"
    }
   ],
   "source": [
    "st='\\t\\n hello \\t haii'\n",
    "st.lstrip()"
   ]
  },
  {
   "cell_type": "code",
   "execution_count": 17,
   "metadata": {},
   "outputs": [
    {
     "data": {
      "text/plain": [
       "'hello  haii'"
      ]
     },
     "execution_count": 17,
     "metadata": {},
     "output_type": "execute_result"
    }
   ],
   "source": [
    "st='\\t\\n hello  haii \\n\\t'\n",
    "st.strip()"
   ]
  },
  {
   "cell_type": "code",
   "execution_count": 27,
   "metadata": {},
   "outputs": [
    {
     "data": {
      "text/plain": [
       "'hello \\t haii \\n'"
      ]
     },
     "execution_count": 27,
     "metadata": {},
     "output_type": "execute_result"
    }
   ],
   "source": [
    "#lstrip\n",
    "st='\\t\\n hello \\t haii \\n'\n",
    "def u_lstrip(coll,ele=[' ','\\n','\\t','\\r','\\f']):\n",
    "    res=''\n",
    "    for i in range (0,len(coll)):\n",
    "        if coll[i] in ele:\n",
    "            res=''\n",
    "        else:\n",
    "            res+=coll[i:]\n",
    "            break\n",
    "    return res\n",
    "u_lstrip(st)\n"
   ]
  },
  {
   "cell_type": "code",
   "execution_count": 25,
   "metadata": {},
   "outputs": [
    {
     "data": {
      "text/plain": [
       "'\\t\\n hello \\t haii'"
      ]
     },
     "execution_count": 25,
     "metadata": {},
     "output_type": "execute_result"
    }
   ],
   "source": [
    "st='\\t\\n hello \\t haii\\n\\t\\r\\f'\n",
    "def u_rstrip(coll,ele=[' ','\\n','\\t','\\r','\\f']):\n",
    "    res=''\n",
    "    for i in range(len(coll)-1,-1,-1):\n",
    "        if coll[i] in ele:\n",
    "            res=''\n",
    "        else:\n",
    "            res+=coll[:i+1]\n",
    "            break\n",
    "    return res\n",
    "u_rstrip(st)\n"
   ]
  },
  {
   "cell_type": "code",
   "execution_count": 33,
   "metadata": {},
   "outputs": [
    {
     "data": {
      "text/plain": [
       "''"
      ]
     },
     "execution_count": 33,
     "metadata": {},
     "output_type": "execute_result"
    }
   ],
   "source": [
    "\n",
    "st='\\t\\n hello \\t haii \\t\\n'\n",
    "def u_strip(coll,ele=[' ','\\n','\\t','r','\\f']):\n",
    "    res=''\n",
    "    def u_strip(coll,ele=[' ','\\n','\\t','\\r','\\f']):\n",
    "        temp=u_lstrip(coll,ele)\n",
    "        res=u_rstrip(coll,ele)\n",
    "    return res\n",
    "u_strip(st)"
   ]
  },
  {
   "cell_type": "markdown",
   "metadata": {},
   "source": [
    "LIST BUILTIN FUNCTIONS"
   ]
  },
  {
   "cell_type": "code",
   "execution_count": 4,
   "metadata": {},
   "outputs": [
    {
     "name": "stdout",
     "output_type": "stream",
     "text": [
      "[10, 20, 30, 40, {'a': 10}]\n"
     ]
    }
   ],
   "source": [
    "#append\n",
    "l=[10,20,30,40]\n",
    "l.append({'a':10})\n",
    "print(l)"
   ]
  },
  {
   "cell_type": "code",
   "execution_count": 18,
   "metadata": {},
   "outputs": [
    {
     "name": "stdout",
     "output_type": "stream",
     "text": [
      "[10, 20, 30, 40, 10]\n"
     ]
    }
   ],
   "source": [
    "#append user defined        any data types\n",
    "l=[10,20,30,40]\n",
    "def u_append(coll,ele):\n",
    "    if type(coll)!=list:\n",
    "        raise TypeError (\"coll shd be in list\")\n",
    "    coll+=[ele]\n",
    "    return coll\n",
    "u_append(l,10)\n",
    "print(l)"
   ]
  },
  {
   "cell_type": "code",
   "execution_count": 14,
   "metadata": {},
   "outputs": [
    {
     "name": "stdout",
     "output_type": "stream",
     "text": [
      "[10, 20, 30, 40, 'h', 'i', ' ', 'h', 'e', 'l', 'l', 'o']\n"
     ]
    }
   ],
   "source": [
    "#extend\n",
    "l=[10,20,30,40]\n",
    "l.extend('hi hello')\n",
    "print(l)"
   ]
  },
  {
   "cell_type": "code",
   "execution_count": 22,
   "metadata": {},
   "outputs": [
    {
     "name": "stdout",
     "output_type": "stream",
     "text": [
      "[10, 20, 30, 40, 'h', 'i']\n"
     ]
    }
   ],
   "source": [
    "#extend    collection data types\n",
    "l=[10,20,30,40]\n",
    "\n",
    "def u_extend(coll,ele):\n",
    "    if type(coll)!=list:\n",
    "        raise TypeError(\"coll shd be in list\")\n",
    "    if type(ele) not in [list,str,tuple,set,dict]:\n",
    "        return -1\n",
    "    for i in ele:\n",
    "        coll+=[i]\n",
    "u_extend(l,'hi')\n",
    "print(l)\n",
    "        "
   ]
  },
  {
   "cell_type": "code",
   "execution_count": 26,
   "metadata": {},
   "outputs": [
    {
     "name": "stdout",
     "output_type": "stream",
     "text": [
      "[10, 20, 100, 30, 40]\n"
     ]
    }
   ],
   "source": [
    "#insert\n",
    "l=[10,20,30,40]\n",
    "l.insert(2,100)\n",
    "print(l)"
   ]
  },
  {
   "cell_type": "code",
   "execution_count": 28,
   "metadata": {},
   "outputs": [
    {
     "name": "stdout",
     "output_type": "stream",
     "text": [
      "[10, 20, 100, 30, 40]\n"
     ]
    }
   ],
   "source": [
    "#insert\n",
    "l=[10,20,30,40]\n",
    "def u_insert(coll,ind,ele):\n",
    "    if type(coll)!=list and type(ind)!=int:\n",
    "        return -1\n",
    "    coll[ind:ind]=[ele]\n",
    "u_insert(l,2,100)\n",
    "print(l)"
   ]
  },
  {
   "cell_type": "code",
   "execution_count": 2,
   "metadata": {},
   "outputs": [
    {
     "data": {
      "text/plain": [
       "0"
      ]
     },
     "execution_count": 2,
     "metadata": {},
     "output_type": "execute_result"
    }
   ],
   "source": [
    "l=[10,20,30,40,50]\n",
    "l.index(10)"
   ]
  },
  {
   "cell_type": "code",
   "execution_count": 6,
   "metadata": {},
   "outputs": [
    {
     "data": {
      "text/plain": [
       "4"
      ]
     },
     "execution_count": 6,
     "metadata": {},
     "output_type": "execute_result"
    }
   ],
   "source": [
    "#index\n",
    "l=[10,20,30,40,50]\n",
    "def u_index(coll,ele):\n",
    "    if type(coll)!=list or ele not in coll:\n",
    "        return -1\n",
    "    for i in range(0,len(coll)):\n",
    "        if coll[i]==ele:\n",
    "            return i\n",
    "u_index(l,50)\n",
    " "
   ]
  },
  {
   "cell_type": "code",
   "execution_count": 15,
   "metadata": {},
   "outputs": [
    {
     "name": "stdout",
     "output_type": "stream",
     "text": [
      "1984089459264 [10, 20, 30, 40, 50]\n",
      "1984089363456 [10, 20, 30, 40, 50]\n"
     ]
    }
   ],
   "source": [
    "#copy\n",
    "l=[10,20,30,40,50]\n",
    "print(id(l),l)\n",
    "\n",
    "x=l.copy()\n",
    "print(id(x),x)"
   ]
  },
  {
   "cell_type": "code",
   "execution_count": 14,
   "metadata": {},
   "outputs": [
    {
     "name": "stdout",
     "output_type": "stream",
     "text": [
      "1984089478144 [10, 20, 30, 40, 50]\n",
      "1984089480128 [10, 20, 30, 40, 50]\n"
     ]
    }
   ],
   "source": [
    "#copy\n",
    "l=[10,20,30,40,50]\n",
    "print(id(l),l)\n",
    "\n",
    "def u_copy(coll):\n",
    "    if type(coll)!=list:\n",
    "        return -1\n",
    "    res=[]\n",
    "    for i in coll:\n",
    "        res+=[i]\n",
    "    return res\n",
    "x=u_copy(l)\n",
    "print(id(x),x)"
   ]
  },
  {
   "cell_type": "code",
   "execution_count": 25,
   "metadata": {},
   "outputs": [
    {
     "name": "stdout",
     "output_type": "stream",
     "text": [
      "[10, 20, 30, 40, 5]\n"
     ]
    }
   ],
   "source": [
    "#pop\n",
    "l=[10,20,30,40,5,0]\n",
    "l.pop()\n",
    "print(l)"
   ]
  },
  {
   "cell_type": "code",
   "execution_count": 22,
   "metadata": {},
   "outputs": [
    {
     "name": "stdout",
     "output_type": "stream",
     "text": [
      "[10, 20, 30, 40, 5]\n"
     ]
    }
   ],
   "source": [
    "#pop\n",
    "l=[10,20,30,40,5,0]\n",
    "\n",
    "def u_pop(coll,index=-1):\n",
    "    if type(coll)!=list:\n",
    "        return -1\n",
    "    del coll[index]\n",
    "u_pop(l)\n",
    "print(l)"
   ]
  },
  {
   "cell_type": "code",
   "execution_count": 36,
   "metadata": {},
   "outputs": [
    {
     "name": "stdout",
     "output_type": "stream",
     "text": [
      "[10, 20, 30, 40, 5, 0]\n"
     ]
    }
   ],
   "source": [
    "#remove\n",
    "l=[10,10,20,30,40,5,0]\n",
    "l.remove(10)\n",
    "print(l)"
   ]
  },
  {
   "cell_type": "code",
   "execution_count": 35,
   "metadata": {},
   "outputs": [
    {
     "name": "stdout",
     "output_type": "stream",
     "text": [
      "[10, 20, 30, 40, 5, 0]\n"
     ]
    }
   ],
   "source": [
    "#remove\n",
    "l=[10,10,20,30,40,5,0]\n",
    "\n",
    "def u_remove(coll,ele):\n",
    "    if type(coll)!=list or ele not in coll:\n",
    "        return -1\n",
    "    for i in range(0,len(coll)-1):\n",
    "        if ele==coll[i]:\n",
    "            del coll[i]\n",
    "            #break\n",
    "u_remove(l,10)\n",
    "print(l)\n"
   ]
  },
  {
   "cell_type": "code",
   "execution_count": null,
   "metadata": {},
   "outputs": [],
   "source": [
    "'qwertyuiopasdfghjklzxcvbnm'\n",
    "\n"
   ]
  },
  {
   "cell_type": "markdown",
   "metadata": {},
   "source": [
    "TUPLE BUILTIN FUNCTIONS"
   ]
  },
  {
   "cell_type": "code",
   "execution_count": 36,
   "metadata": {},
   "outputs": [
    {
     "data": {
      "text/plain": [
       "2"
      ]
     },
     "execution_count": 36,
     "metadata": {},
     "output_type": "execute_result"
    }
   ],
   "source": [
    "#count\n",
    "st=(10,20,30,40,50,10,20,30,40)\n",
    "def u_count(coll,ele,start=0,end=None):\n",
    "    if end==None:\n",
    "        end=len(coll)\n",
    "    count=0\n",
    "    for i in range(start,end):\n",
    "        if coll[i]==ele:\n",
    "            count+=1\n",
    "    return count\n",
    "u_count(st,10)"
   ]
  },
  {
   "cell_type": "code",
   "execution_count": 40,
   "metadata": {},
   "outputs": [
    {
     "data": {
      "text/plain": [
       "4"
      ]
     },
     "execution_count": 40,
     "metadata": {},
     "output_type": "execute_result"
    }
   ],
   "source": [
    "#index\n",
    "st=(10,20,30,40,50,10,20,30,40)\n",
    "def u_index(coll,ele,start=0,end=None):\n",
    "    if end==None:\n",
    "        end=len(coll)\n",
    "    if ele not in coll[start:end]:\n",
    "        return -1\n",
    "    while start<end:\n",
    "        if ele==coll[start]:\n",
    "            return start\n",
    "        start+=1\n",
    "u_index(st,50)"
   ]
  },
  {
   "cell_type": "markdown",
   "metadata": {},
   "source": [
    "SET BUILTIN FUNCTIONS"
   ]
  },
  {
   "cell_type": "code",
   "execution_count": 46,
   "metadata": {},
   "outputs": [
    {
     "data": {
      "text/plain": [
       "{10, 20}"
      ]
     },
     "execution_count": 46,
     "metadata": {},
     "output_type": "execute_result"
    }
   ],
   "source": [
    "#intersection\n",
    "st={10,20,40,50,'abc','qwe',100}\n",
    "i={10,20,30,70}\n",
    "st.intersection(i)\n",
    "#print(st.intersection_update(i))"
   ]
  },
  {
   "cell_type": "code",
   "execution_count": 68,
   "metadata": {},
   "outputs": [
    {
     "name": "stdout",
     "output_type": "stream",
     "text": [
      "2459872947200 {50, 100, 20, 'qwe', 40, 10, 'abc'}\n",
      "{100, 40, 10, 50, 20, 'qwe'}\n",
      "2459872947200 {50, 100, 20, 'qwe', 40, 10, 'abc'}\n"
     ]
    }
   ],
   "source": [
    "st={10,20,40,50,'abc','qwe',100}\n",
    "print(id(st),st)\n",
    "\n",
    "print(st.difference({'abc'}))\n",
    "print(id(st),st)\n",
    "\n"
   ]
  },
  {
   "cell_type": "code",
   "execution_count": 67,
   "metadata": {},
   "outputs": [
    {
     "name": "stdout",
     "output_type": "stream",
     "text": [
      "2459872944512 {50, 100, 20, 'qwe', 40, 10, 'abc'}\n",
      "None\n",
      "2459872944512 {50, 100, 20, 'qwe', 40, 10}\n"
     ]
    }
   ],
   "source": [
    "st={10,20,40,50,'abc','qwe',100}\n",
    "print(id(st),st)\n",
    "\n",
    "print(st.difference_update({'abc'}))\n",
    "print(id(st),st)\n",
    "\n"
   ]
  },
  {
   "cell_type": "code",
   "execution_count": 71,
   "metadata": {},
   "outputs": [
    {
     "name": "stdout",
     "output_type": "stream",
     "text": [
      "2459872948096 {50, 100, 20, 'qwe', 40, 10, 'abc'}\n",
      "2459872948096 {50, 100, 20, 'qwe', 40, 10, 'abc'}\n"
     ]
    }
   ],
   "source": [
    "#difference\n",
    "st={10,20,40,50,'abc','qwe',100}\n",
    "st2={20,30,40,'abc'}\n",
    "print(id(st),st)\n",
    "def u_diff(coll,coll2):\n",
    "    if type(coll)!=set:\n",
    "        return -1\n",
    "    if type(coll2) in [list,tuple,dict]:\n",
    "        return -1\n",
    "    temp=[]\n",
    "    for i in coll:\n",
    "        if coll[i]!=temp[i]:\n",
    "            return \n",
    "    \n",
    "    #coll-={ele}\n",
    "u_diff(st,st2)\n",
    "print(id(st),st)"
   ]
  },
  {
   "cell_type": "code",
   "execution_count": null,
   "metadata": {},
   "outputs": [],
   "source": [
    "#"
   ]
  }
 ],
 "metadata": {
  "kernelspec": {
   "display_name": "Python 3",
   "language": "python",
   "name": "python3"
  },
  "language_info": {
   "codemirror_mode": {
    "name": "ipython",
    "version": 3
   },
   "file_extension": ".py",
   "mimetype": "text/x-python",
   "name": "python",
   "nbconvert_exporter": "python",
   "pygments_lexer": "ipython3",
   "version": "3.10.11"
  },
  "orig_nbformat": 4
 },
 "nbformat": 4,
 "nbformat_minor": 2
}
