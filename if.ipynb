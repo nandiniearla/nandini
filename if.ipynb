{
 "cells": [
  {
   "cell_type": "code",
   "execution_count": 2,
   "metadata": {},
   "outputs": [
    {
     "name": "stdout",
     "output_type": "stream",
     "text": [
      "positive\n"
     ]
    }
   ],
   "source": [
    "#WAP to check whether a number is positive. If Positive, print a message Positive.\n",
    "n=2\n",
    "if n%2==0:\n",
    "    print('positive')"
   ]
  },
  {
   "cell_type": "code",
   "execution_count": 6,
   "metadata": {},
   "outputs": [
    {
     "name": "stdout",
     "output_type": "stream",
     "text": [
      "hello world\n"
     ]
    }
   ],
   "source": [
    "#WAP to display hello world if the number is greater than 1 and lesser than 5\n",
    "n=4\n",
    "if 1<n<5:\n",
    "    print(\"hello world\")"
   ]
  },
  {
   "cell_type": "code",
   "execution_count": 8,
   "metadata": {},
   "outputs": [
    {
     "name": "stdout",
     "output_type": "stream",
     "text": [
      "fizz\n"
     ]
    }
   ],
   "source": [
    "#WAP to check whether the given number is divisible by 3 or not if print fizz.\n",
    "n=6\n",
    "if n%3==0:\n",
    "    print(\"fizz\")"
   ]
  },
  {
   "cell_type": "code",
   "execution_count": 9,
   "metadata": {},
   "outputs": [
    {
     "name": "stdout",
     "output_type": "stream",
     "text": [
      "(12+0j)\n"
     ]
    }
   ],
   "source": [
    "#WAP to check whether given input is divisible by 2 and 6. If the condition is satisfied, convert the given number into a complex number\n",
    "n=12\n",
    "if n%2==0 and n%6==0:\n",
    "    print(complex(n))"
   ]
  },
  {
   "cell_type": "code",
   "execution_count": 10,
   "metadata": {},
   "outputs": [
    {
     "name": "stdout",
     "output_type": "stream",
     "text": [
      "['1', '5']\n"
     ]
    }
   ],
   "source": [
    "#WAP to check whether a given input is divisible by 3 or 5. If the condition is satisfied, the number is converted to a list i/p: 30 o/p:[‘3’,’0’]\n",
    "n=15\n",
    "if n%3==0 and n%5==0:\n",
    "    print(list(str(n)))"
   ]
  },
  {
   "cell_type": "code",
   "execution_count": 12,
   "metadata": {},
   "outputs": [
    {
     "name": "stdout",
     "output_type": "stream",
     "text": [
      "n is divisible by 5\n"
     ]
    }
   ],
   "source": [
    "#Write a program to check whether a given number is multiple of 5 or not\n",
    "n=15\n",
    "if n%10==0 or n%5==0:\n",
    "    print('n is divisible by 5')"
   ]
  },
  {
   "cell_type": "code",
   "execution_count": 13,
   "metadata": {},
   "outputs": [
    {
     "name": "stdout",
     "output_type": "stream",
     "text": [
      "0\n"
     ]
    }
   ],
   "source": [
    "#WAP to check whether the given input is 0 or not if 0 prints 0.\n",
    "n=0\n",
    "if n==False:\n",
    "    print(0)\n"
   ]
  },
  {
   "cell_type": "code",
   "execution_count": 14,
   "metadata": {},
   "outputs": [
    {
     "name": "stdout",
     "output_type": "stream",
     "text": [
      "negative\n"
     ]
    }
   ],
   "source": [
    "#8 WAP to check whether a number is negative. If negative, print a message negative.\n",
    "n=-6\n",
    "if n<0:\n",
    "    print(\"negative\")"
   ]
  },
  {
   "cell_type": "code",
   "execution_count": 35,
   "metadata": {},
   "outputs": [
    {
     "name": "stdout",
     "output_type": "stream",
     "text": [
      "[30, 40, 20]\n"
     ]
    }
   ],
   "source": [
    "#9 WAP to check whether a number is even or not. If even, store the value inside the list\n",
    "n=20\n",
    "v=[30,40]\n",
    "if n%2==0:\n",
    "    v+=[n]\n",
    "    print(v)"
   ]
  },
  {
   "cell_type": "code",
   "execution_count": 37,
   "metadata": {},
   "outputs": [
    {
     "name": "stdout",
     "output_type": "stream",
     "text": [
      "(10, 20, 3)\n"
     ]
    }
   ],
   "source": [
    "#10 WAP to check whether a number is odd or not. If odd, store the value inside the tuple.\n",
    "n=3\n",
    "v=(10,20)\n",
    "if n%2!=0:\n",
    "    v+=(n,)\n",
    "    print(v)\n",
    "    \n",
    "\n"
   ]
  },
  {
   "cell_type": "code",
   "execution_count": 38,
   "metadata": {},
   "outputs": [
    {
     "name": "stdout",
     "output_type": "stream",
     "text": [
      "16\n"
     ]
    }
   ],
   "source": [
    "#11 WAP to check if the given number is even or not. if it is yes, to print the power of 4 in a given number\n",
    "n=2\n",
    "if n%2==0:\n",
    "    print(n**4)"
   ]
  },
  {
   "cell_type": "code",
   "execution_count": 48,
   "metadata": {},
   "outputs": [
    {
     "name": "stdout",
     "output_type": "stream",
     "text": [
      "(43+20j)\n"
     ]
    }
   ],
   "source": [
    "#12 WAP to take the input from the user as a number and check whether it is a number or not. if yes. take the number and add some value and print it.\n",
    "n=(20+20j)\n",
    "if type(n) in [int,complex,float,bytes]:\n",
    "    print(n+23)"
   ]
  },
  {
   "cell_type": "code",
   "execution_count": 50,
   "metadata": {},
   "outputs": [
    {
     "name": "stdout",
     "output_type": "stream",
     "text": [
      "1225\n"
     ]
    }
   ],
   "source": [
    "#13 WAP to check whether a given value is divisible by 5 and 7. If the value is divisible,to display the square of the values.\n",
    "n=35\n",
    "if n%5==0 and n%7==0:\n",
    "    print(n**2)"
   ]
  },
  {
   "cell_type": "code",
   "execution_count": 51,
   "metadata": {},
   "outputs": [
    {
     "name": "stdout",
     "output_type": "stream",
     "text": [
      "7\n"
     ]
    }
   ],
   "source": [
    "#14 WAP to check whether the given value's last digit is greater than 5 or not.if greater, to perform the bitwise right shift operator (skipping value is 2)\n",
    "n=28\n",
    "if n%10>5:\n",
    "    print(n>>2)"
   ]
  },
  {
   "cell_type": "code",
   "execution_count": 52,
   "metadata": {},
   "outputs": [
    {
     "name": "stdout",
     "output_type": "stream",
     "text": [
      "225\n"
     ]
    }
   ],
   "source": [
    "#15 WAP to check whether a given value is divisible by 3 and less than 30. If the value is divisible,to display the square of the values.\n",
    "n=15\n",
    "if n%3==0 and n<30:\n",
    "    print(n**2)"
   ]
  },
  {
   "cell_type": "code",
   "execution_count": 53,
   "metadata": {},
   "outputs": [
    {
     "name": "stdout",
     "output_type": "stream",
     "text": [
      "64000\n"
     ]
    }
   ],
   "source": [
    "#16 WAP to check whether a given value is an even number and divisible by 4. If satisfied ,to display the cube of the values.\n",
    "n=40\n",
    "if n%4==0 and n%2==0:\n",
    "    print(n**3)\n"
   ]
  },
  {
   "cell_type": "code",
   "execution_count": 1,
   "metadata": {},
   "outputs": [
    {
     "name": "stdout",
     "output_type": "stream",
     "text": [
      "[20]\n"
     ]
    }
   ],
   "source": [
    "#17 WAP to check whether a given value is even or not. If the even number stores the value inside the list.\n",
    "n=20\n",
    "v=[]\n",
    "if n%2==0:\n",
    "    v+=[n]\n",
    "    print(v)"
   ]
  },
  {
   "cell_type": "code",
   "execution_count": 5,
   "metadata": {},
   "outputs": [
    {
     "name": "stdout",
     "output_type": "stream",
     "text": [
      "2\n"
     ]
    }
   ],
   "source": [
    "#18 WAP to check whether a given value is a negative or even number. If satisfied ,todisplay the last digit of the values.\n",
    "n=-12\n",
    "if n<0 or n%2==0:\n",
    "    n=n*-1\n",
    "    print(n%10)"
   ]
  },
  {
   "cell_type": "code",
   "execution_count": 6,
   "metadata": {},
   "outputs": [
    {
     "name": "stdout",
     "output_type": "stream",
     "text": [
      "13824\n"
     ]
    }
   ],
   "source": [
    "#19 WAP to check whether a given value is a negative or odd number and divisible by 4. If satisfied ,to display the cube of the values.\n",
    "n=-24\n",
    "if n<0 or n%2!=0 and n%4==0:\n",
    "    n=n*-1\n",
    "    print(n**3)\n"
   ]
  },
  {
   "cell_type": "code",
   "execution_count": 8,
   "metadata": {},
   "outputs": [
    {
     "name": "stdout",
     "output_type": "stream",
     "text": [
      "H\n"
     ]
    }
   ],
   "source": [
    "#20 WAP to check whether a given ascii value is divisible by 4 and even value. If satisfied, to display the ascii character.\n",
    "m=72\n",
    "if m%4==0 and m%2==0:\n",
    "    print(chr(m))"
   ]
  },
  {
   "cell_type": "code",
   "execution_count": 10,
   "metadata": {},
   "outputs": [
    {
     "name": "stdout",
     "output_type": "stream",
     "text": [
      "P\n"
     ]
    }
   ],
   "source": [
    "#21 WAP to check whether a given value is present in between 45 to 125 and the number should be divisible by 4 and 5 and even value. If satisfied, to display the ascii character.\n",
    "n=80\n",
    "if n%4==0 and n%5==0 and n%2==0 and 45<n<125:\n",
    "    print(chr(n))"
   ]
  },
  {
   "cell_type": "code",
   "execution_count": 10,
   "metadata": {},
   "outputs": [
    {
     "name": "stdout",
     "output_type": "stream",
     "text": [
      "300\n"
     ]
    }
   ],
   "source": [
    "#22 WAP to check whether a given value is present in between 25 to 100 and the number should be divisible by 4 and 5. If satisfied, to display multiplication of given value with 5.\n",
    "n=60\n",
    "if n%4==0 and n%5==0:\n",
    "    print(n*5)"
   ]
  },
  {
   "cell_type": "code",
   "execution_count": 12,
   "metadata": {},
   "outputs": [
    {
     "name": "stdout",
     "output_type": "stream",
     "text": [
      "225\n"
     ]
    }
   ],
   "source": [
    "#23 WAP to check whether a given number is an integer and odd number. If the condition is satisfied, the integer is divisible by 5 and displays the result.\n",
    "n=45\n",
    "if type(n)==int and n%2!=0:\n",
    "    print(n*5)"
   ]
  },
  {
   "cell_type": "code",
   "execution_count": 14,
   "metadata": {},
   "outputs": [
    {
     "name": "stdout",
     "output_type": "stream",
     "text": [
      "45\n"
     ]
    }
   ],
   "source": [
    "#24 WAP to check whether a given value is an integer or not. If integer, the given value is converted to string and displays the result.\n",
    "n=45\n",
    "if type(n)==int:\n",
    "    print(str(int(n)))"
   ]
  },
  {
   "cell_type": "code",
   "execution_count": 18,
   "metadata": {},
   "outputs": [
    {
     "name": "stdout",
     "output_type": "stream",
     "text": [
      "d\n"
     ]
    }
   ],
   "source": [
    "#25 WAP to check whether a given value is less than 125 and greater than 60 or not. If the condition is satisfied, take the name and extract the middle character and display it.\n",
    "a=80\n",
    "if 60<a<125:\n",
    "    n='nandini'\n",
    "    print(n[len(n)//2])\n",
    "    "
   ]
  },
  {
   "cell_type": "code",
   "execution_count": 17,
   "metadata": {},
   "outputs": [
    {
     "name": "stdout",
     "output_type": "stream",
     "text": [
      "46\n"
     ]
    }
   ],
   "source": [
    "#26 WAP to check whether a given two integers are equal or not. If both are equal, to perform addition and display the result.\n",
    "n=23\n",
    "m=23\n",
    "if m==n:\n",
    "    print(m+n)\n",
    "\n"
   ]
  },
  {
   "cell_type": "code",
   "execution_count": 18,
   "metadata": {},
   "outputs": [
    {
     "name": "stdout",
     "output_type": "stream",
     "text": [
      "176.33333333333334\n"
     ]
    }
   ],
   "source": [
    "#27 WAP to check whether two values are equal or not. if equal, to perform multiplication of two numbers and that result is division by 3 and display the value.\n",
    "n=23\n",
    "m=23\n",
    "if m==n:\n",
    "    s=(m*n)\n",
    "    print(s/3)"
   ]
  },
  {
   "cell_type": "code",
   "execution_count": 23,
   "metadata": {},
   "outputs": [
    {
     "name": "stdout",
     "output_type": "stream",
     "text": [
      "{'A': 65}\n"
     ]
    }
   ],
   "source": [
    "#28 WAP to check whether a character is in the alphabet or not. If the alphabet, store the value inside the dict(key as a character and value as an ascii value).\n",
    "n=65\n",
    "if ord('A')<=n<=ord('B') or ord(a)<=n<=ord(b):\n",
    "    print({chr(n):n})"
   ]
  },
  {
   "cell_type": "code",
   "execution_count": 24,
   "metadata": {},
   "outputs": [
    {
     "name": "stdout",
     "output_type": "stream",
     "text": [
      "{'B': 66}\n"
     ]
    }
   ],
   "source": [
    "#29 WAP to check whether a character is in the uppercase or not. If the uppercase, store the value inside the dict(key as a character and value as an ascii value).\n",
    "n='B'\n",
    "if 'A'<=n<='Z':\n",
    "        print({n:ord(n)})\n",
    "\n"
   ]
  },
  {
   "cell_type": "code",
   "execution_count": 34,
   "metadata": {},
   "outputs": [
    {
     "name": "stdout",
     "output_type": "stream",
     "text": [
      "{'b': 98}\n"
     ]
    }
   ],
   "source": [
    "#30 WAP to check whether a character is in the uppercase or not. If the uppercase, convert to lowercase and store the value inside the dict(character as a key and ascii value as a value).\n",
    "n='B'\n",
    "if 'A'<=n<='Z':\n",
    "    s=chr(ord(n)+32) \n",
    "    print((s)and {s:ord(s)})\n"
   ]
  },
  {
   "cell_type": "code",
   "execution_count": 37,
   "metadata": {},
   "outputs": [
    {
     "name": "stdout",
     "output_type": "stream",
     "text": [
      "aaaaa\n"
     ]
    }
   ],
   "source": [
    "#31 WAP to check whether a character is in the lowercase or not. If the lowercase, to perform the replication operation on that character.\n",
    "n='a'\n",
    "if 'a'<=n<='z':\n",
    "    print(n*5)"
   ]
  },
  {
   "cell_type": "code",
   "execution_count": 20,
   "metadata": {},
   "outputs": [
    {
     "name": "stdout",
     "output_type": "stream",
     "text": [
      "100\n"
     ]
    }
   ],
   "source": [
    "#32 WAP to check whether a character is in the ascii number or not. If the ascii number, to convert into integer.\n",
    "n='d'\n",
    "if 'ord(n)==n':\n",
    "    m=ord(n)\n",
    "    print(m)\n",
    "    \n",
    "\n"
   ]
  },
  {
   "cell_type": "code",
   "execution_count": 22,
   "metadata": {},
   "outputs": [
    {
     "name": "stdout",
     "output_type": "stream",
     "text": [
      "$ 36\n"
     ]
    }
   ],
   "source": [
    "#33 WAP to check whether a character is in the special symbol or not. If the special symbol, to display a symbol with ascii value.\n",
    "n='$'\n",
    "if not ('0'<=n<='9' and 'a'<=n<='b' and 'A'<=n<='B'):\n",
    "    print(n, ord(n))"
   ]
  },
  {
   "cell_type": "code",
   "execution_count": 56,
   "metadata": {},
   "outputs": [
    {
     "name": "stdout",
     "output_type": "stream",
     "text": [
      "66\n"
     ]
    }
   ],
   "source": [
    "#34 WAP to check whether a character is an even number or not. If the even number, to display an even number.\n",
    "n='B'\n",
    "if ord(n)%2==0:\n",
    "    print(ord(n))"
   ]
  },
  {
   "cell_type": "code",
   "execution_count": 24,
   "metadata": {},
   "outputs": [
    {
     "name": "stdout",
     "output_type": "stream",
     "text": [
      "10 100\n"
     ]
    }
   ],
   "source": [
    "#35 WAP to check whether a Given two integers a and b, if any of the integers is 10 or if their sum is 10, to perform the sum of the numbers and to display the square of the result.\n",
    "a=5\n",
    "b=5\n",
    "if a==10 or a+b==10:\n",
    "    s=a+b\n",
    "    print(s,s**2)\n"
   ]
  },
  {
   "cell_type": "code",
   "execution_count": 57,
   "metadata": {},
   "outputs": [
    {
     "name": "stdout",
     "output_type": "stream",
     "text": [
      "b\n"
     ]
    }
   ],
   "source": [
    "#36 WAP to check whether a character is in the vowel or not. If the vowel,print the next character\n",
    "n='a'\n",
    "if n in 'aeiouAEIOU':\n",
    "    print(chr(ord(n)+1))"
   ]
  },
  {
   "cell_type": "code",
   "execution_count": 58,
   "metadata": {},
   "outputs": [
    {
     "name": "stdout",
     "output_type": "stream",
     "text": [
      "a\n"
     ]
    }
   ],
   "source": [
    "#37 WAP to check whether a character is in the not a vowel. If it's not a vowel,print the previous character.\n",
    "n='b'\n",
    "if n not in 'aeiouAEIOU':\n",
    "    print(chr(ord(n)-1))"
   ]
  },
  {
   "cell_type": "code",
   "execution_count": 73,
   "metadata": {},
   "outputs": [
    {
     "name": "stdout",
     "output_type": "stream",
     "text": [
      "12\n"
     ]
    }
   ],
   "source": [
    "#38 WAP to check whether a given value is a single value data type or not. If single value, display the given value as a single value data type.\n",
    "n=12\n",
    "if type(n) in [int,float,complex,bytes]:\n",
    "    print(n)"
   ]
  },
  {
   "cell_type": "code",
   "execution_count": 72,
   "metadata": {},
   "outputs": [
    {
     "name": "stdout",
     "output_type": "stream",
     "text": [
      "(23, 45)\n"
     ]
    }
   ],
   "source": [
    "#39 WAP to check whether a given value is a multi-value data type or not. If multi value, store the given value inside the tuple and display it.\n",
    "n=(23,45)\n",
    "m=()\n",
    "if type(n) in [str,list,tuple,set,dict]:\n",
    "    m+=(n)\n",
    "    print(m)"
   ]
  },
  {
   "cell_type": "code",
   "execution_count": 78,
   "metadata": {},
   "outputs": [
    {
     "name": "stdout",
     "output_type": "stream",
     "text": [
      "{'s', 'a', 'b'}\n"
     ]
    }
   ],
   "source": [
    "#41 WAP to check whether a given value is an immutable data type or not. If an immutable data type value, store the given value inside the set and display it.\n",
    "n='abs'\n",
    "m=set()\n",
    "if type(n) in [str,tuple]:\n",
    "    s=set(n)\n",
    "    print(s)\n"
   ]
  },
  {
   "cell_type": "code",
   "execution_count": 31,
   "metadata": {},
   "outputs": [
    {
     "name": "stdout",
     "output_type": "stream",
     "text": [
      "5\n",
      "no is odd\n"
     ]
    }
   ],
   "source": [
    "#42 WAP to check whether the middle element of a given list is odd or not. If it is odd then print odd then print the number else directly print the number\n",
    "n=[1,2,3,5,4,5,6]   \n",
    "if n[len(n)//2]%2!=0:\n",
    "    print(n[len(n)//2])\n",
    "    print('no is odd')"
   ]
  },
  {
   "cell_type": "code",
   "execution_count": 4,
   "metadata": {},
   "outputs": [
    {
     "name": "stdout",
     "output_type": "stream",
     "text": [
      "not qwert\n"
     ]
    }
   ],
   "source": [
    "#43 WAP Return a new string with \"not\" prefixed to the front of the original string. Return the string unmodified if the string already has the word \"not\" at the beginning.\n",
    "n='qwert'\n",
    "m='not '+n[::1]\n",
    "if n!=m:\n",
    "    print(m)\n"
   ]
  },
  {
   "cell_type": "code",
   "execution_count": null,
   "metadata": {},
   "outputs": [],
   "source": [
    "#44 WAP to check whether a given string(str) and one integer(n) value, to display a \n",
    "#new string that is devoid of the character at index n. if you are given a non-empty \n",
    "#string and an int n. The value of n will be a legitimate character index from the \n",
    "#original string, therefore it will fall within the range of 0 to len(str)-1, inclusive.\n"
   ]
  },
  {
   "cell_type": "code",
   "execution_count": 40,
   "metadata": {},
   "outputs": [
    {
     "name": "stdout",
     "output_type": "stream",
     "text": [
      "1306882212368 1306882212368\n"
     ]
    }
   ],
   "source": [
    "#45 WAP to check whether the two variables are pointing to the same memory \n",
    "#location or not if they are pointing to the same memory location then print the \n",
    "#address of both the variables.\n",
    "n=10\n",
    "b=n\n",
    "if id(n)==id(b):\n",
    "    print(id(n),id(b))"
   ]
  },
  {
   "cell_type": "code",
   "execution_count": 43,
   "metadata": {},
   "outputs": [
    {
     "name": "stdout",
     "output_type": "stream",
     "text": [
      "nandini\n"
     ]
    }
   ],
   "source": [
    "#46 WAP to check whether the given length of the string is even or not. If the \n",
    "#condition is satisfied, display the sequence of characters from zero position to \n",
    "#length of collection -2.\n",
    "n='nandinie'\n",
    "if len(n)%2==0:\n",
    "    print(n[0:7:1])"
   ]
  },
  {
   "cell_type": "code",
   "execution_count": 44,
   "metadata": {},
   "outputs": [
    {
     "name": "stdout",
     "output_type": "stream",
     "text": [
      "qwr asd\n"
     ]
    }
   ],
   "source": [
    "#47 WAP to check whether the two given strings are having the same values or not. \n",
    "#If both are not the same values then swap the values of one variable to another \n",
    "#variable after swapping print the two values\n",
    "n='asd'\n",
    "m='qwr'\n",
    "if n!=m:\n",
    "    (n,m)=(m,n)\n",
    "    print(n,m)\n",
    "\n"
   ]
  },
  {
   "cell_type": "code",
   "execution_count": 47,
   "metadata": {},
   "outputs": [
    {
     "name": "stdout",
     "output_type": "stream",
     "text": [
      "{'$': 36}\n"
     ]
    }
   ],
   "source": [
    "#48 WAP to check whether a given character is a special symbol or not. If satisfied, \n",
    "#store the symbol as a key and value as a ascii value of the given character inside \n",
    "#the dictionary.\n",
    "n='$'\n",
    "if not('0'<=n<='9' and 'a'<=n<='b' and 'A'<=n<='B'):\n",
    "    print({n:ord(n)})"
   ]
  },
  {
   "cell_type": "code",
   "execution_count": 17,
   "metadata": {},
   "outputs": [
    {
     "name": "stdout",
     "output_type": "stream",
     "text": [
      "{'b': 30, 's': 40, 'a': 20}\n"
     ]
    }
   ],
   "source": [
    "#49 WAP to check whether a given key is not present in the dictionary or not. If the \n",
    "#key is not present, ap\n",
    "#pend the new key inside the dictionary.\n",
    "n='a'\n",
    "m={'b':30,'s':40}\n",
    "if n in m.keys():\n",
    "    print(n)\n",
    "else:\n",
    "    m['a']=20\n",
    "    print(m)"
   ]
  },
  {
   "cell_type": "code",
   "execution_count": 1,
   "metadata": {},
   "outputs": [
    {
     "name": "stdout",
     "output_type": "stream",
     "text": [
      "sestr\n"
     ]
    }
   ],
   "source": [
    "#50 WAP whether a given string, and it displays a new string with the first and last \n",
    "#characters switched\n",
    "h='rests'\n",
    "if type(h) == str:\n",
    "    e=chr(ord(h[-1]))+h[1:len(h)-1] +chr(ord(h[0]))\n",
    "    print(e)"
   ]
  },
  {
   "cell_type": "code",
   "execution_count": 1,
   "metadata": {},
   "outputs": [
    {
     "name": "stdout",
     "output_type": "stream",
     "text": [
      "2\n"
     ]
    }
   ],
   "source": [
    "#51 WAP to check whether the last digit should be 2 in the given number then print \n",
    "#the last digit.\n",
    "n=32\n",
    "if n%10==2:\n",
    "    print(n%10)"
   ]
  },
  {
   "cell_type": "code",
   "execution_count": 2,
   "metadata": {},
   "outputs": [
    {
     "name": "stdout",
     "output_type": "stream",
     "text": [
      "10 100\n"
     ]
    }
   ],
   "source": [
    "#52 WAP to check whether a Given two integers a and b, if any of the integers is 10 \n",
    "#or if their sum is 10, to perform the sum of the numbers and to display the square \n",
    "#of the result.\n",
    "#35 WAP to check whether a Given two integers a and b, if any of the integers is 10 or if their sum is 10, to perform the sum of the numbers and to display the square of the result.\n",
    "a=5\n",
    "b=5\n",
    "if a==10 or a+b==10:\n",
    "    s=a+b\n",
    "    print(s,s**2)\n"
   ]
  },
  {
   "cell_type": "code",
   "execution_count": 6,
   "metadata": {},
   "outputs": [
    {
     "name": "stdout",
     "output_type": "stream",
     "text": [
      "civil\n"
     ]
    }
   ],
   "source": [
    "#53 WAP to check whether a given string(str) and one integer(n) value, to display a \n",
    "#new string that is devoid of the character at index n. if you are given a non-empty \n",
    "#string and an int n. The value of n will be a legitimate character index from the \n",
    "#original string, therefore it will fall within the range of 0 to len(str)-1, inclusive.\n",
    "n='ciivil'\n",
    "s=2\n",
    "if len(n)!=0 and 0<s<=len(n)-1 and type(s)==int:\n",
    "    print(n[:s]+n[s+1:])"
   ]
  },
  {
   "cell_type": "code",
   "execution_count": 9,
   "metadata": {},
   "outputs": [
    {
     "name": "stdout",
     "output_type": "stream",
     "text": [
      "qspiders 8 pyspiders 9\n"
     ]
    }
   ],
   "source": [
    "#54 WAP to check whether both string collections are equal or not if it is not equal \n",
    "#print the both strings along with the length of a string if both are equal ignore it\n",
    "t='qspiders'\n",
    "s='pyspiders'\n",
    "if len(t)!=len(s):\n",
    "    print(t,len(t),s,len(s))"
   ]
  }
 ],
 "metadata": {
  "kernelspec": {
   "display_name": "Python 3",
   "language": "python",
   "name": "python3"
  },
  "language_info": {
   "codemirror_mode": {
    "name": "ipython",
    "version": 3
   },
   "file_extension": ".py",
   "mimetype": "text/x-python",
   "name": "python",
   "nbconvert_exporter": "python",
   "pygments_lexer": "ipython3",
   "version": "3.10.11"
  },
  "orig_nbformat": 4
 },
 "nbformat": 4,
 "nbformat_minor": 2
}
