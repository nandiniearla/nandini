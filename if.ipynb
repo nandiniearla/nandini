{
 "cells": [
  {
   "cell_type": "code",
   "execution_count": 2,
   "metadata": {},
   "outputs": [
    {
     "name": "stdout",
     "output_type": "stream",
     "text": [
      "positive\n"
     ]
    }
   ],
   "source": [
    "#WAP to check whether a number is positive. If Positive, print a message Positive.\n",
    "n=2\n",
    "if n%2==0:\n",
    "    print('positive')"
   ]
  },
  {
   "cell_type": "code",
   "execution_count": 6,
   "metadata": {},
   "outputs": [
    {
     "name": "stdout",
     "output_type": "stream",
     "text": [
      "hello world\n"
     ]
    }
   ],
   "source": [
    "#WAP to display hello world if the number is greater than 1 and lesser than 5\n",
    "n=4\n",
    "if 1<n<5:\n",
    "    print(\"hello world\")"
   ]
  },
  {
   "cell_type": "code",
   "execution_count": 8,
   "metadata": {},
   "outputs": [
    {
     "name": "stdout",
     "output_type": "stream",
     "text": [
      "fizz\n"
     ]
    }
   ],
   "source": [
    "#WAP to check whether the given number is divisible by 3 or not if print fizz.\n",
    "n=6\n",
    "if n%3==0:\n",
    "    print(\"fizz\")"
   ]
  },
  {
   "cell_type": "code",
   "execution_count": 9,
   "metadata": {},
   "outputs": [
    {
     "name": "stdout",
     "output_type": "stream",
     "text": [
      "(12+0j)\n"
     ]
    }
   ],
   "source": [
    "#WAP to check whether given input is divisible by 2 and 6. If the condition is satisfied, convert the given number into a complex number\n",
    "n=12\n",
    "if n%2==0 and n%6==0:\n",
    "    print(complex(n))"
   ]
  },
  {
   "cell_type": "code",
   "execution_count": 10,
   "metadata": {},
   "outputs": [
    {
     "name": "stdout",
     "output_type": "stream",
     "text": [
      "['1', '5']\n"
     ]
    }
   ],
   "source": [
    "#WAP to check whether a given input is divisible by 3 or 5. If the condition is satisfied, the number is converted to a list i/p: 30 o/p:[‘3’,’0’]\n",
    "n=15\n",
    "if n%3==0 and n%5==0:\n",
    "    print(list(str(n)))"
   ]
  },
  {
   "cell_type": "code",
   "execution_count": 12,
   "metadata": {},
   "outputs": [
    {
     "name": "stdout",
     "output_type": "stream",
     "text": [
      "n is divisible by 5\n"
     ]
    }
   ],
   "source": [
    "#Write a program to check whether a given number is multiple of 5 or not\n",
    "n=15\n",
    "if n%10==0 or n%5==0:\n",
    "    print('n is divisible by 5')"
   ]
  },
  {
   "cell_type": "code",
   "execution_count": 13,
   "metadata": {},
   "outputs": [
    {
     "name": "stdout",
     "output_type": "stream",
     "text": [
      "0\n"
     ]
    }
   ],
   "source": [
    "#WAP to check whether the given input is 0 or not if 0 prints 0.\n",
    "n=0\n",
    "if n==False:\n",
    "    print(0)\n"
   ]
  },
  {
   "cell_type": "code",
   "execution_count": 14,
   "metadata": {},
   "outputs": [
    {
     "name": "stdout",
     "output_type": "stream",
     "text": [
      "negative\n"
     ]
    }
   ],
   "source": [
    "#8 WAP to check whether a number is negative. If negative, print a message negative.\n",
    "n=-6\n",
    "if n<0:\n",
    "    print(\"negative\")"
   ]
  },
  {
   "cell_type": "code",
   "execution_count": 35,
   "metadata": {},
   "outputs": [
    {
     "name": "stdout",
     "output_type": "stream",
     "text": [
      "[30, 40, 20]\n"
     ]
    }
   ],
   "source": [
    "#9 WAP to check whether a number is even or not. If even, store the value inside the list\n",
    "n=20\n",
    "v=[30,40]\n",
    "if n%2==0:\n",
    "    v+=[n]\n",
    "    print(v)"
   ]
  },
  {
   "cell_type": "code",
   "execution_count": 37,
   "metadata": {},
   "outputs": [
    {
     "name": "stdout",
     "output_type": "stream",
     "text": [
      "(10, 20, 3)\n"
     ]
    }
   ],
   "source": [
    "#10 WAP to check whether a number is odd or not. If odd, store the value inside the tuple.\n",
    "n=3\n",
    "v=(10,20)\n",
    "if n%2!=0:\n",
    "    v+=(n,)\n",
    "    print(v)\n",
    "    \n",
    "\n"
   ]
  },
  {
   "cell_type": "code",
   "execution_count": 38,
   "metadata": {},
   "outputs": [
    {
     "name": "stdout",
     "output_type": "stream",
     "text": [
      "16\n"
     ]
    }
   ],
   "source": [
    "#11 WAP to check if the given number is even or not. if it is yes, to print the power of 4 in a given number\n",
    "n=2\n",
    "if n%2==0:\n",
    "    print(n**4)"
   ]
  },
  {
   "cell_type": "code",
   "execution_count": 48,
   "metadata": {},
   "outputs": [
    {
     "name": "stdout",
     "output_type": "stream",
     "text": [
      "(43+20j)\n"
     ]
    }
   ],
   "source": [
    "#12 WAP to take the input from the user as a number and check whether it is a number or not. if yes. take the number and add some value and print it.\n",
    "n=(20+20j)\n",
    "if type(n) in [int,complex,float,bytes]:\n",
    "    print(n+23)"
   ]
  },
  {
   "cell_type": "code",
   "execution_count": 50,
   "metadata": {},
   "outputs": [
    {
     "name": "stdout",
     "output_type": "stream",
     "text": [
      "1225\n"
     ]
    }
   ],
   "source": [
    "#13 WAP to check whether a given value is divisible by 5 and 7. If the value is divisible,to display the square of the values.\n",
    "n=35\n",
    "if n%5==0 and n%7==0:\n",
    "    print(n**2)"
   ]
  },
  {
   "cell_type": "code",
   "execution_count": null,
   "metadata": {},
   "outputs": [],
   "source": []
  },
  {
   "cell_type": "code",
   "execution_count": null,
   "metadata": {},
   "outputs": [],
   "source": []
  },
  {
   "cell_type": "code",
   "execution_count": null,
   "metadata": {},
   "outputs": [],
   "source": []
  },
  {
   "cell_type": "code",
   "execution_count": null,
   "metadata": {},
   "outputs": [],
   "source": []
  }
 ],
 "metadata": {
  "kernelspec": {
   "display_name": "Python 3",
   "language": "python",
   "name": "python3"
  },
  "language_info": {
   "codemirror_mode": {
    "name": "ipython",
    "version": 3
   },
   "file_extension": ".py",
   "mimetype": "text/x-python",
   "name": "python",
   "nbconvert_exporter": "python",
   "pygments_lexer": "ipython3",
   "version": "3.10.11"
  },
  "orig_nbformat": 4
 },
 "nbformat": 4,
 "nbformat_minor": 2
}
