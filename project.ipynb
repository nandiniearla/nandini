{
 "cells": [
  {
   "cell_type": "code",
   "execution_count": 7,
   "id": "237364d1",
   "metadata": {},
   "outputs": [
    {
     "name": "stdout",
     "output_type": "stream",
     "text": [
      "Source DataFrame:\n",
      "   id     name   department   hire_date  salary  manager_id\n",
      "0   1    Alice  Engineering  2020-01-15   60000         101\n",
      "1   2      Bob           HR  2019-03-12   45000         102\n",
      "2   3  Charlie    Marketing  2021-06-23   50000         101\n",
      "3   4    Diana  Engineering  2022-11-01   70000         103\n",
      "4   5    Ethan        Sales  2020-09-19   55000         102\n",
      "\n",
      "Target DataFrame:\n",
      "   id     name   department   hire_date  salary  manager_id\n",
      "0   1    Alice  Engineering  2020-01-15   60000       101.0\n",
      "1   2      Bob           HR  2019-03-12   45000       102.0\n",
      "2   3  Charlie    Marketing  2021-06-23   50000       101.0\n",
      "3   4    Diana  Engineering  2022-11-01   70000       103.0\n",
      "4   5    Ethan        Sales  2020-09-19   55000         NaN\n"
     ]
    }
   ],
   "source": [
    "import pandas as pd\n",
    "\n",
    "# Source and Target DataFrames\n",
    "source_data = {\n",
    "    \"id\": [1, 2, 3, 4, 5],\n",
    "    \"name\": [\"Alice\", \"Bob\", \"Charlie\", \"Diana\", \"Ethan\"],\n",
    "    \"department\": [\"Engineering\", \"HR\", \"Marketing\", \"Engineering\", \"Sales\"],\n",
    "    \"hire_date\": [\"2020-01-15\", \"2019-03-12\", \"2021-06-23\", \"2022-11-01\", \"2020-09-19\"],\n",
    "    \"salary\": [60000, 45000, 50000, 70000, 55000],\n",
    "    \"manager_id\": [101, 102, 101, 103, 102],\n",
    "}\n",
    "target_data = {\n",
    "    \"id\": [1, 2, 3, 4, 5],\n",
    "    \"name\": [\"Alice\", \"Bob\", \"Charlie\", \"Diana\", \"Ethan\"],\n",
    "    \"department\": [\"Engineering\", \"HR\", \"Marketing\", \"Engineering\", \"Sales\"],\n",
    "    \"hire_date\": [\"2020-01-15\", \"2019-03-12\", \"2021-06-23\", \"2022-11-01\", \"2020-09-19\"],\n",
    "    \"salary\": [60000, 45000, 50000, 70000, 55000],\n",
    "    \"manager_id\": [101, 102, 101, 103, None],  # Note the missing manager_id\n",
    "}\n",
    "source_df = pd.DataFrame(source_data)\n",
    "target_df = pd.DataFrame(target_data)\n",
    "print(\"Source DataFrame:\")\n",
    "print(source_df)\n",
    "\n",
    "print(\"\\nTarget DataFrame:\")\n",
    "print(target_df)"
   ]
  },
  {
   "cell_type": "code",
   "execution_count": 8,
   "id": "aca59944",
   "metadata": {},
   "outputs": [
    {
     "name": "stdout",
     "output_type": "stream",
     "text": [
      "Count Check Passed!\n"
     ]
    }
   ],
   "source": [
    "# Count Check\n",
    "if len(source_df) == len(target_df):\n",
    "    print(\"Count Check Passed!\")\n",
    "else:\n",
    "    print(\"Count Check Failed!\")"
   ]
  },
  {
   "cell_type": "code",
   "execution_count": 9,
   "id": "4fe14307",
   "metadata": {},
   "outputs": [
    {
     "name": "stdout",
     "output_type": "stream",
     "text": [
      "Null Check Failed!\n",
      "   id   name department   hire_date  salary  manager_id\n",
      "4   5  Ethan      Sales  2020-09-19   55000         NaN\n"
     ]
    }
   ],
   "source": [
    "# Null Check for Manager ID in Target\n",
    "null_check = target_df[target_df['manager_id'].isnull()]\n",
    "\n",
    "if null_check.empty:\n",
    "    print(\"Null Check Passed!\")\n",
    "else:\n",
    "    print(\"Null Check Failed!\")\n",
    "    print(null_check)\n"
   ]
  },
  {
   "cell_type": "code",
   "execution_count": 11,
   "id": "23bfe18d",
   "metadata": {},
   "outputs": [
    {
     "name": "stdout",
     "output_type": "stream",
     "text": [
      "Data Integrity Check Failed!\n",
      "   id   name department   hire_date  salary  manager_id\n",
      "4   5  Ethan      Sales  2020-09-19   55000       102.0\n",
      "4   5  Ethan      Sales  2020-09-19   55000         NaN\n"
     ]
    }
   ],
   "source": [
    "# Identify mismatched rows\n",
    "mismatched_rows = pd.concat([source_df, target_df]).drop_duplicates(keep=False)\n",
    "\n",
    "if mismatched_rows.empty:\n",
    "    print(\"Data Integrity Check Passed!\")\n",
    "else:\n",
    "    print(\"Data Integrity Check Failed!\")\n",
    "    print(mismatched_rows)\n"
   ]
  },
  {
   "cell_type": "code",
   "execution_count": 13,
   "id": "f1fe49fc",
   "metadata": {},
   "outputs": [
    {
     "name": "stdout",
     "output_type": "stream",
     "text": [
      "Duplicate Check Passed!\n"
     ]
    }
   ],
   "source": [
    "# Duplicate Check\n",
    "duplicate_check = target_df.duplicated(subset=[\"id\"], keep=False)\n",
    "\n",
    "if not duplicate_check.any():\n",
    "    print(\"Duplicate Check Passed!\")\n",
    "else:\n",
    "    print(\"Duplicate Check Failed!\")\n",
    "    print(target_df[duplicate_check])\n"
   ]
  },
  {
   "cell_type": "code",
   "execution_count": 15,
   "id": "5ed71705",
   "metadata": {},
   "outputs": [
    {
     "name": "stdout",
     "output_type": "stream",
     "text": [
      "aggregated salary check matched\n"
     ]
    }
   ],
   "source": [
    "#check aggregated total salary \n",
    "if source_df[\"salary\"].sum() == target_df[\"salary\"].sum():\n",
    "    print(\"aggregated salary check matched\")\n",
    "else:\n",
    "    print(\"aggregated salary does not matched\")\n",
    "    print (f'source total:{source_df['salary'].sum()},target total:{target_df['salary'].sum()}')"
   ]
  },
  {
   "cell_type": "code",
   "execution_count": null,
   "id": "edffe63b",
   "metadata": {},
   "outputs": [],
   "source": []
  }
 ],
 "metadata": {
  "kernelspec": {
   "display_name": "Python 3",
   "language": "python",
   "name": "python3"
  },
  "language_info": {
   "codemirror_mode": {
    "name": "ipython",
    "version": 3
   },
   "file_extension": ".py",
   "mimetype": "text/x-python",
   "name": "python",
   "nbconvert_exporter": "python",
   "pygments_lexer": "ipython3",
   "version": "3.12.3"
  }
 },
 "nbformat": 4,
 "nbformat_minor": 5
}
