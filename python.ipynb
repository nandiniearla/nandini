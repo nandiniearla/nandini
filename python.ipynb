{
 "cells": [
  {
   "cell_type": "code",
   "execution_count": 1,
   "metadata": {},
   "outputs": [
    {
     "name": "stdout",
     "output_type": "stream",
     "text": [
      "hello world\n"
     ]
    }
   ],
   "source": [
    "print(\"hello world\")"
   ]
  },
  {
   "cell_type": "code",
   "execution_count": 2,
   "metadata": {},
   "outputs": [
    {
     "name": "stdout",
     "output_type": "stream",
     "text": [
      "15.06\n"
     ]
    }
   ],
   "source": [
    "#was to initialize variable &value as 50\n",
    "a=50\n",
    "a=15.06\n",
    "print(a)"
   ]
  },
  {
   "cell_type": "code",
   "execution_count": 3,
   "metadata": {},
   "outputs": [
    {
     "name": "stdout",
     "output_type": "stream",
     "text": [
      "150\n",
      "120\n",
      "250\n"
     ]
    }
   ],
   "source": [
    "#was to initialise values are 150,120,250\n",
    "a,b,c=150,120,250\n",
    "print(a)\n",
    "print(b)\n",
    "print(c)"
   ]
  },
  {
   "cell_type": "code",
   "execution_count": 4,
   "metadata": {},
   "outputs": [
    {
     "name": "stdout",
     "output_type": "stream",
     "text": [
      "<class 'set'>\n"
     ]
    }
   ],
   "source": [
    "#was to print the type of data \n",
    "a={10,20}\n",
    "print (type(a))"
   ]
  },
  {
   "cell_type": "code",
   "execution_count": 5,
   "metadata": {},
   "outputs": [
    {
     "name": "stdout",
     "output_type": "stream",
     "text": [
      "2141762259200\n",
      "2141762258976\n"
     ]
    }
   ],
   "source": [
    "#was to print address of memory block\n",
    "a={10,20}\n",
    "print (id(a))\n",
    "print(id({10,20}))\n",
    "#different add because set is 64 bit"
   ]
  },
  {
   "cell_type": "code",
   "execution_count": 6,
   "metadata": {},
   "outputs": [
    {
     "name": "stdout",
     "output_type": "stream",
     "text": [
      "nandini 21 1234567890 nandiniearla8601@gmail.com 5.5 True\n"
     ]
    }
   ],
   "source": [
    "#was to print ,store,extract the details\n",
    "name=\"nandini\"\n",
    "age=21\n",
    "phone=1234567890\n",
    "email=\"nandiniearla8601@gmail.com\"\n",
    "ht=5.5\n",
    "pancard=True\n",
    "print(name,age,phone,email,ht,pancard)"
   ]
  },
  {
   "cell_type": "code",
   "execution_count": 8,
   "metadata": {},
   "outputs": [
    {
     "name": "stdout",
     "output_type": "stream",
     "text": [
      "2\n",
      "1\n"
     ]
    }
   ],
   "source": [
    "#was to swap the 2 num's with temp variable\n",
    "a=1\n",
    "b=2\n",
    "temp=a\n",
    "a=b\n",
    "b=temp\n",
    "print(a)\n",
    "print(b)\n"
   ]
  },
  {
   "cell_type": "code",
   "execution_count": 9,
   "metadata": {},
   "outputs": [
    {
     "name": "stdout",
     "output_type": "stream",
     "text": [
      "{40, 30}\n",
      "(10, 20)\n"
     ]
    }
   ],
   "source": [
    "#wap to swap 2 num without temp var\n",
    "a=(10,20)\n",
    "b={30,40}\n",
    "a,b=b,a\n",
    "print(a)\n",
    "print(b)"
   ]
  },
  {
   "cell_type": "code",
   "execution_count": 17,
   "metadata": {},
   "outputs": [
    {
     "name": "stdout",
     "output_type": "stream",
     "text": [
      "{'a': 'pyspiders'}\n",
      "pyspiders\n",
      "qspiders\n",
      "[10, 20, 30]\n",
      "[10, 20, 30, 40, 50, 60]\n"
     ]
    }
   ],
   "source": [
    "#wap initialize ,fetch,modify given dict\n",
    "a={\"a\":\"pyspiders\"}\n",
    "print(a)\n",
    "print(a['a'])\n",
    "#modify\n",
    "a['a']='qspiders'\n",
    "print(a['a'])\n",
    "#reinitilize\n",
    "a=[10,20,30]\n",
    "print(a)\n",
    "#concat\n",
    "a+=[40,50,60]\n",
    "print(a)\n",
    " "
   ]
  },
  {
   "cell_type": "code",
   "execution_count": 20,
   "metadata": {},
   "outputs": [
    {
     "name": "stdout",
     "output_type": "stream",
     "text": [
      "['1', '0']\n",
      "['a', 'b']\n"
     ]
    }
   ],
   "source": [
    "#11#was to convert single to multi value datatype\n",
    "a=10\n",
    "print(list(str(a)))\n",
    "b='ab'\n",
    "print(list(str(b)))"
   ]
  },
  {
   "cell_type": "code",
   "execution_count": 21,
   "metadata": {},
   "outputs": [
    {
     "name": "stdout",
     "output_type": "stream",
     "text": [
      "helloworld\n",
      "[10, 20, 30, 'h', 'a', 'i']\n",
      "[10, 20, 30, 'a', 'c']\n"
     ]
    }
   ],
   "source": [
    "#12#was to concat 2 multi value dt\n",
    "  #str\n",
    "a=\"hello\"\n",
    "a+=\"world\"\n",
    "print(a)\n",
    "y=[10,20,30]\n",
    "y+=\"hai\"\n",
    "print(y)\n",
    "z=[10,20,30]\n",
    "z+={'a':'b','c':'d'}\n",
    "print (z)\n",
    "#list does not concat tuple vice versa\n",
    " \n"
   ]
  },
  {
   "cell_type": "code",
   "execution_count": 26,
   "metadata": {},
   "outputs": [
    {
     "name": "stdout",
     "output_type": "stream",
     "text": [
      "2\n",
      "26\n",
      "<class 'list'>\n",
      "<class 'str'>\n"
     ]
    }
   ],
   "source": [
    "#was check len of collection\n",
    "t=[10,20]\n",
    "print (len(t))\n",
    "s='qwertyuiopasdfghjklzxcvbnm'\n",
    "print(len(s))\n",
    "print(type(t))\n",
    "print(type(s))"
   ]
  },
  {
   "cell_type": "code",
   "execution_count": 28,
   "metadata": {},
   "outputs": [
    {
     "name": "stdout",
     "output_type": "stream",
     "text": [
      "40\n"
     ]
    }
   ],
   "source": [
    "#14#finf middle value of collection\n",
    "d=[10,20,30,40,50,60]\n",
    "print (d[len(d)//2])"
   ]
  },
  {
   "cell_type": "code",
   "execution_count": 33,
   "metadata": {},
   "outputs": [
    {
     "name": "stdout",
     "output_type": "stream",
     "text": [
      "hai how r u\n",
      "hai how r u hai\n",
      "hai nandini hai how r u hai\n"
     ]
    }
   ],
   "source": [
    "#15 was to concat new string into starting,ending and middle of the string\n",
    "a=\"how r u\"\n",
    "b='hai'\n",
    "a=b+\" \"+a\n",
    "print(a)\n",
    "a=a+\" \"+b\n",
    "print (a)\n",
    "c='nandini'\n",
    "a=b+' '+c+' '+a\n",
    "print(a)"
   ]
  },
  {
   "cell_type": "code",
   "execution_count": 2,
   "metadata": {},
   "outputs": [
    {
     "name": "stdout",
     "output_type": "stream",
     "text": [
      "pyspIders\n"
     ]
    }
   ],
   "source": [
    "#18 was to modify the new character in middle of the string\n",
    "s=\"pyspiders\"\n",
    "print(s[0:len(s)//2]+'I'+s[(len(s)//2)+1:])\n"
   ]
  },
  {
   "cell_type": "code",
   "execution_count": 3,
   "metadata": {},
   "outputs": [
    {
     "name": "stdout",
     "output_type": "stream",
     "text": [
      "pysPIDers\n"
     ]
    }
   ],
   "source": [
    "#19 was to modify the sequence of char in str\n",
    "s=\"pyspiders\"\n",
    "print(s[0:3]+\"PID\"+s[6:])\n",
    "# varname[si:sp]+new+s[sp+1:ei]"
   ]
  },
  {
   "cell_type": "code",
   "execution_count": 7,
   "metadata": {},
   "outputs": [
    {
     "name": "stdout",
     "output_type": "stream",
     "text": [
      "pyspiDers\n",
      "pyspiDers\n"
     ]
    }
   ],
   "source": [
    "#20# was to replace the old char into new char of given str\n",
    "s=\"pyspiders\"\n",
    "print(s[:-4]+'D'+s[-3:])\n",
    "s=\"pyspiders\"\n",
    "print(s[:5]+'D'+s[6:])\n"
   ]
  },
  {
   "cell_type": "code",
   "execution_count": 9,
   "metadata": {},
   "outputs": [
    {
     "name": "stdout",
     "output_type": "stream",
     "text": [
      "pyspiders\n"
     ]
    }
   ],
   "source": [
    "#21 delete specific char in str\n",
    "s=\"pyyspiders\"\n",
    "print(s[:2]+s[3:])\n",
    "#varname [si:sp]+var[sp+1:ei]\n"
   ]
  },
  {
   "cell_type": "code",
   "execution_count": 21,
   "metadata": {},
   "outputs": [
    {
     "name": "stdout",
     "output_type": "stream",
     "text": [
      "hai how are you\n"
     ]
    }
   ],
   "source": [
    "#22was to add new str in sp\n",
    "s=\"hai are you\"\n",
    "print(s[0:3+1]+\"how\"+\" \"+s[4:])"
   ]
  },
  {
   "cell_type": "code",
   "execution_count": 1,
   "metadata": {},
   "outputs": [
    {
     "name": "stdout",
     "output_type": "stream",
     "text": [
      "pidersers\n"
     ]
    }
   ],
   "source": [
    "#23 del sequence of char in str\n",
    "s=\"pyspiders\"\n",
    "print(s[3:]+s[6:])"
   ]
  },
  {
   "cell_type": "code",
   "execution_count": 3,
   "metadata": {},
   "outputs": [
    {
     "ename": "TypeError",
     "evalue": "'l' is an invalid keyword argument for print()",
     "output_type": "error",
     "traceback": [
      "\u001b[1;31m---------------------------------------------------------------------------\u001b[0m",
      "\u001b[1;31mTypeError\u001b[0m                                 Traceback (most recent call last)",
      "Cell \u001b[1;32mIn[3], line 3\u001b[0m\n\u001b[0;32m      1\u001b[0m \u001b[39m#24 concat new value into starting of list\u001b[39;00m\n\u001b[0;32m      2\u001b[0m l\u001b[39m=\u001b[39m[\u001b[39m1\u001b[39m,\u001b[39m2\u001b[39m,\u001b[39m3\u001b[39m]\n\u001b[1;32m----> 3\u001b[0m \u001b[39mprint\u001b[39;49m(l\u001b[39m=\u001b[39;49m[\u001b[39m'\u001b[39;49m\u001b[39ma\u001b[39;49m\u001b[39m'\u001b[39;49m,\u001b[39m'\u001b[39;49m\u001b[39mb\u001b[39;49m\u001b[39m'\u001b[39;49m]\u001b[39m+\u001b[39;49ml)\n",
      "\u001b[1;31mTypeError\u001b[0m: 'l' is an invalid keyword argument for print()"
     ]
    }
   ],
   "source": [
    "#24 concat new value into starting of list\n",
    "l=[1,2,3]\n",
    "print(l=['a','b']+l)\n"
   ]
  }
 ],
 "metadata": {
  "kernelspec": {
   "display_name": "Python 3",
   "language": "python",
   "name": "python3"
  },
  "language_info": {
   "codemirror_mode": {
    "name": "ipython",
    "version": 3
   },
   "file_extension": ".py",
   "mimetype": "text/x-python",
   "name": "python",
   "nbconvert_exporter": "python",
   "pygments_lexer": "ipython3",
   "version": "3.10.11"
  },
  "orig_nbformat": 4
 },
 "nbformat": 4,
 "nbformat_minor": 2
}
