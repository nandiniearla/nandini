{
 "cells": [
  {
   "cell_type": "code",
   "execution_count": 5,
   "metadata": {},
   "outputs": [
    {
     "name": "stdout",
     "output_type": "stream",
     "text": [
      "hello world\n"
     ]
    }
   ],
   "source": [
    "print(\"hello world\")"
   ]
  },
  {
   "cell_type": "code",
   "execution_count": 6,
   "metadata": {},
   "outputs": [
    {
     "name": "stdout",
     "output_type": "stream",
     "text": [
      "15.06\n"
     ]
    }
   ],
   "source": [
    "#was to initialize variable &value as 50\n",
    "a=50\n",
    "a=15.06\n",
    "print(a)"
   ]
  },
  {
   "cell_type": "code",
   "execution_count": 7,
   "metadata": {},
   "outputs": [
    {
     "name": "stdout",
     "output_type": "stream",
     "text": [
      "150\n",
      "120\n",
      "250\n"
     ]
    }
   ],
   "source": [
    "#was to initialise values are 150,120,250\n",
    "a,b,c=150,120,250\n",
    "print(a)\n",
    "print(b)\n",
    "print(c)"
   ]
  },
  {
   "cell_type": "code",
   "execution_count": 8,
   "metadata": {},
   "outputs": [
    {
     "name": "stdout",
     "output_type": "stream",
     "text": [
      "<class 'set'>\n"
     ]
    }
   ],
   "source": [
    "#was to print the type of data \n",
    "a={10,20}\n",
    "print (type(a))"
   ]
  },
  {
   "cell_type": "code",
   "execution_count": 9,
   "metadata": {},
   "outputs": [
    {
     "name": "stdout",
     "output_type": "stream",
     "text": [
      "2037469798336\n",
      "2037465070304\n"
     ]
    }
   ],
   "source": [
    "#was to print address of memory block\n",
    "a={10,20}\n",
    "print (id(a))\n",
    "print(id({10,20}))\n",
    "#different add because set is 64 bit"
   ]
  },
  {
   "cell_type": "code",
   "execution_count": 10,
   "metadata": {},
   "outputs": [
    {
     "name": "stdout",
     "output_type": "stream",
     "text": [
      "nandini 21 1234567890 nandiniearla8601@gmail.com 5.5 True\n"
     ]
    }
   ],
   "source": [
    "#was to print ,store,extract the details\n",
    "name=\"nandini\"\n",
    "age=21\n",
    "phone=1234567890\n",
    "email=\"nandiniearla8601@gmail.com\"\n",
    "ht=5.5\n",
    "pancard=True\n",
    "print(name,age,phone,email,ht,pancard)"
   ]
  },
  {
   "cell_type": "code",
   "execution_count": 11,
   "metadata": {},
   "outputs": [
    {
     "name": "stdout",
     "output_type": "stream",
     "text": [
      "2\n",
      "1\n"
     ]
    }
   ],
   "source": [
    "#was to swap the 2 num's with temp variable\n",
    "a=1\n",
    "b=2\n",
    "temp=a\n",
    "a=b\n",
    "b=temp\n",
    "print(a)\n",
    "print(b)\n"
   ]
  },
  {
   "cell_type": "code",
   "execution_count": 12,
   "metadata": {},
   "outputs": [
    {
     "name": "stdout",
     "output_type": "stream",
     "text": [
      "{40, 30}\n",
      "(10, 20)\n"
     ]
    }
   ],
   "source": [
    "#wap to swap 2 num without temp var\n",
    "a=(10,20)\n",
    "b={30,40}\n",
    "a,b=b,a\n",
    "print(a)\n",
    "print(b)"
   ]
  },
  {
   "cell_type": "code",
   "execution_count": 13,
   "metadata": {},
   "outputs": [
    {
     "name": "stdout",
     "output_type": "stream",
     "text": [
      "{'a': 'pyspiders'}\n",
      "pyspiders\n",
      "qspiders\n",
      "[10, 20, 30]\n",
      "[10, 20, 30, 40, 50, 60]\n"
     ]
    }
   ],
   "source": [
    "#wap initialize ,fetch,modify given dict\n",
    "a={\"a\":\"pyspiders\"}\n",
    "print(a)\n",
    "print(a['a'])\n",
    "#modify\n",
    "a['a']='qspiders'\n",
    "print(a['a'])\n",
    "#reinitilize\n",
    "a=[10,20,30]\n",
    "print(a)\n",
    "#concat\n",
    "a+=[40,50,60]\n",
    "print(a)\n",
    " "
   ]
  },
  {
   "cell_type": "code",
   "execution_count": 14,
   "metadata": {},
   "outputs": [
    {
     "name": "stdout",
     "output_type": "stream",
     "text": [
      "['1', '0']\n",
      "['a', 'b']\n"
     ]
    }
   ],
   "source": [
    "#11#was to convert single to multi value datatype\n",
    "a=10\n",
    "print(list(str(a)))\n",
    "b='ab'\n",
    "print(list(str(b)))"
   ]
  },
  {
   "cell_type": "code",
   "execution_count": 15,
   "metadata": {},
   "outputs": [
    {
     "name": "stdout",
     "output_type": "stream",
     "text": [
      "helloworld\n",
      "[10, 20, 30, 'h', 'a', 'i']\n",
      "[10, 20, 30, 'a', 'c']\n"
     ]
    }
   ],
   "source": [
    "#12#was to concat 2 multi value dt\n",
    "  #str\n",
    "a=\"hello\"\n",
    "a+=\"world\"\n",
    "print(a)\n",
    "y=[10,20,30]\n",
    "y+=\"hai\"\n",
    "print(y)\n",
    "z=[10,20,30]\n",
    "z+={'a':'b','c':'d'}\n",
    "print (z)\n",
    "#list does not concat tuple vice versa\n",
    " \n"
   ]
  },
  {
   "cell_type": "code",
   "execution_count": 16,
   "metadata": {},
   "outputs": [
    {
     "name": "stdout",
     "output_type": "stream",
     "text": [
      "2\n",
      "26\n",
      "<class 'list'>\n",
      "<class 'str'>\n"
     ]
    }
   ],
   "source": [
    "#was check len of collection\n",
    "t=[10,20]\n",
    "print (len(t))\n",
    "s='qwertyuiopasdfghjklzxcvbnm'\n",
    "print(len(s))\n",
    "print(type(t))\n",
    "print(type(s))"
   ]
  },
  {
   "cell_type": "code",
   "execution_count": 17,
   "metadata": {},
   "outputs": [
    {
     "name": "stdout",
     "output_type": "stream",
     "text": [
      "40\n"
     ]
    }
   ],
   "source": [
    "#14#finf middle value of collection\n",
    "d=[10,20,30,40,50,60]\n",
    "print (d[len(d)//2])"
   ]
  },
  {
   "cell_type": "code",
   "execution_count": 18,
   "metadata": {},
   "outputs": [
    {
     "name": "stdout",
     "output_type": "stream",
     "text": [
      "hai how r u\n",
      "hai how r u hai\n",
      "hai nandini hai how r u hai\n"
     ]
    }
   ],
   "source": [
    "#15 was to concat new string into starting,ending and middle of the string\n",
    "a=\"how r u\"\n",
    "b='hai'\n",
    "a=b+\" \"+a\n",
    "print(a)\n",
    "a=a+\" \"+b\n",
    "print (a)\n",
    "c='nandini'\n",
    "a=b+' '+c+' '+a\n",
    "print(a)"
   ]
  },
  {
   "cell_type": "code",
   "execution_count": 19,
   "metadata": {},
   "outputs": [
    {
     "name": "stdout",
     "output_type": "stream",
     "text": [
      "pyspIders\n"
     ]
    }
   ],
   "source": [
    "#18 was to modify the new character in middle of the string\n",
    "s=\"pyspiders\"\n",
    "print(s[0:len(s)//2]+'I'+s[(len(s)//2)+1:])\n"
   ]
  },
  {
   "cell_type": "code",
   "execution_count": 20,
   "metadata": {},
   "outputs": [
    {
     "name": "stdout",
     "output_type": "stream",
     "text": [
      "pysPIDers\n"
     ]
    }
   ],
   "source": [
    "#19 was to modify the sequence of char in str\n",
    "s=\"pyspiders\"\n",
    "print(s[0:3]+\"PID\"+s[6:])\n",
    "# varname[si:sp]+new+s[sp+1:ei]"
   ]
  },
  {
   "cell_type": "code",
   "execution_count": 21,
   "metadata": {},
   "outputs": [
    {
     "name": "stdout",
     "output_type": "stream",
     "text": [
      "pyspiDers\n",
      "pyspiDers\n"
     ]
    }
   ],
   "source": [
    "#20# was to replace the old char into new char of given str\n",
    "s=\"pyspiders\"\n",
    "print(s[:-4]+'D'+s[-3:])\n",
    "s=\"pyspiders\"\n",
    "print(s[:5]+'D'+s[6:])\n"
   ]
  },
  {
   "cell_type": "code",
   "execution_count": 22,
   "metadata": {},
   "outputs": [
    {
     "name": "stdout",
     "output_type": "stream",
     "text": [
      "pyspiders\n"
     ]
    }
   ],
   "source": [
    "#21 delete specific char in str\n",
    "s=\"pyyspiders\"\n",
    "print(s[:2]+s[3:])\n",
    "#varname [si:sp]+var[sp+1:ei]\n"
   ]
  },
  {
   "cell_type": "code",
   "execution_count": 23,
   "metadata": {},
   "outputs": [
    {
     "name": "stdout",
     "output_type": "stream",
     "text": [
      "hai how are you\n"
     ]
    }
   ],
   "source": [
    "#22was to add new str in sp\n",
    "s=\"hai are you\"\n",
    "print(s[0:3+1]+\"how\"+\" \"+s[4:])"
   ]
  },
  {
   "cell_type": "code",
   "execution_count": 24,
   "metadata": {},
   "outputs": [
    {
     "name": "stdout",
     "output_type": "stream",
     "text": [
      "pidersers\n"
     ]
    }
   ],
   "source": [
    "#23 del sequence of char in str\n",
    "s=\"pyspiders\"\n",
    "print(s[3:]+s[6:])"
   ]
  },
  {
   "cell_type": "code",
   "execution_count": 25,
   "metadata": {},
   "outputs": [
    {
     "name": "stdout",
     "output_type": "stream",
     "text": [
      "['a', 'b', 1, 2, 3]\n"
     ]
    }
   ],
   "source": [
    "#24concat new value into starting of list\n",
    "s=[1,2,3]\n",
    "s=['a','b']+s\n",
    "print(s)"
   ]
  },
  {
   "cell_type": "code",
   "execution_count": 26,
   "metadata": {},
   "outputs": [
    {
     "name": "stdout",
     "output_type": "stream",
     "text": [
      "['a', 'c', 'b', 10, 20]\n"
     ]
    }
   ],
   "source": [
    "#25was to concat new value into ending of list\n",
    "r=['a','c','b']\n",
    "r=r+[10,20]\n",
    "print(r)\n",
    "#var=Exi val+[new val]\n",
    "#var+=[new val]"
   ]
  },
  {
   "cell_type": "code",
   "execution_count": 27,
   "metadata": {},
   "outputs": [
    {
     "name": "stdout",
     "output_type": "stream",
     "text": [
      "[10, 150.12, '10', '20', True, 'hai']\n"
     ]
    }
   ],
   "source": [
    "#26 was to concat new value into middle of list\n",
    "l=[10,150.12,True,'hai']\n",
    "l[len(l)//2:len(l)//2]=['10','20']\n",
    "print(l)\n",
    "#[length//2:len//2]"
   ]
  },
  {
   "cell_type": "code",
   "execution_count": 28,
   "metadata": {},
   "outputs": [
    {
     "name": "stdout",
     "output_type": "stream",
     "text": [
      "[10, 150.12, 100, 200, True, 'hai']\n"
     ]
    }
   ],
   "source": [
    "#27 was to concate new value in sp in list\n",
    "s=[10,150.12,True,\"hai\"]\n",
    "s[2:2]=[100,200]\n",
    "print(s)\n",
    "#[si:sp] same"
   ]
  },
  {
   "cell_type": "code",
   "execution_count": 1,
   "metadata": {},
   "outputs": [
    {
     "name": "stdout",
     "output_type": "stream",
     "text": [
      "[10, (15+6j), True, 'hai']\n"
     ]
    }
   ],
   "source": [
    "#28was to modify the value in sp\n",
    "s=[10,150.12,True,\"hai\"]\n",
    "s[1]=15+6j\n",
    "print(s)\n",
    "#varname[ind]=new val"
   ]
  },
  {
   "cell_type": "code",
   "execution_count": 4,
   "metadata": {},
   "outputs": [
    {
     "name": "stdout",
     "output_type": "stream",
     "text": [
      "[{'cde': 100}, 150.12, True, 'hai']\n"
     ]
    }
   ],
   "source": [
    "#29was modify new value at starting\n",
    "s=[10,150.12,True,\"hai\"]\n",
    "s[-4]={'cde':100}\n",
    "print(s)"
   ]
  },
  {
   "cell_type": "code",
   "execution_count": 5,
   "metadata": {},
   "outputs": [
    {
     "name": "stdout",
     "output_type": "stream",
     "text": [
      "[10, 150.12, True, {'name': 'nandini'}]\n"
     ]
    }
   ],
   "source": [
    "#30 was to modify new value at ending of list\n",
    "s=[10,150.12,True,\"hai\"]\n",
    "s[-1]={'name':'nandini'}\n",
    "print(s)"
   ]
  },
  {
   "cell_type": "code",
   "execution_count": 6,
   "metadata": {},
   "outputs": [
    {
     "name": "stdout",
     "output_type": "stream",
     "text": [
      "[10, 150.12, 'false', 'hai']\n"
     ]
    }
   ],
   "source": [
    "#31 was to modify new value at middle of list\n",
    "s=[10,150.12,True,\"hai\"]\n",
    "s[len(s)//2]=\"false\"\n",
    "print(s)"
   ]
  },
  {
   "cell_type": "code",
   "execution_count": 9,
   "metadata": {},
   "outputs": [
    {
     "name": "stdout",
     "output_type": "stream",
     "text": [
      "['a', 'b', 'c', 'd', 50, 60]\n"
     ]
    }
   ],
   "source": [
    "#32 was to modify first 4 positions value in list\n",
    "s=[10,20,30,40,50,60,]\n",
    "s[0:4]=['a','b','c','d']\n",
    "print(s)"
   ]
  },
  {
   "cell_type": "code",
   "execution_count": 11,
   "metadata": {},
   "outputs": [
    {
     "name": "stdout",
     "output_type": "stream",
     "text": [
      "[1, 22, 3, 44, 5, 66, 7, 88, 9]\n",
      "[1, 3, 16, 5, 256, 7, 4096, 6, 6561, 15]\n"
     ]
    }
   ],
   "source": [
    "#33 was to modify seq of value in list\n",
    "s=[1,2,3,4,5,6,7,8,9]\n",
    "s[1::2]=[22,44,66,88]\n",
    "print(s)\n",
    "d=[1,3,4,5,16,7,64,6,81,15]\n",
    "d[0::2]=[d[0]**2,d[2]**2,d[4]**2,d[6]**2,d[8]**2]\n",
    "print(d)\n",
    "##var[si:ei+1:up]=[val1,val2..]"
   ]
  },
  {
   "cell_type": "code",
   "execution_count": 12,
   "metadata": {},
   "outputs": [
    {
     "name": "stdout",
     "output_type": "stream",
     "text": [
      "[1, 2, 3, 4, 6, 7, 8, 9]\n"
     ]
    }
   ],
   "source": [
    "#34 was to  delete the values in sp of list\n",
    "s=[1,2,3,4,5,6,7,8,9]\n",
    "del s[4]\n",
    "print(s)\n",
    "## del var[ind]"
   ]
  },
  {
   "cell_type": "code",
   "execution_count": 13,
   "metadata": {},
   "outputs": [
    {
     "name": "stdout",
     "output_type": "stream",
     "text": [
      "[1, 2, 3, 4, 5, 6, 7, 8]\n"
     ]
    }
   ],
   "source": [
    "#35 was to delete value at end of list\n",
    "s=[1,2,3,4,5,6,7,8,9]\n",
    "del s[-1]\n",
    "print(s)"
   ]
  },
  {
   "cell_type": "code",
   "execution_count": 14,
   "metadata": {},
   "outputs": [
    {
     "name": "stdout",
     "output_type": "stream",
     "text": [
      "[2, 3, 4, 5, 6, 7, 8, 9]\n"
     ]
    }
   ],
   "source": [
    "#36 was to del value at starting without keyword\n",
    "s=[1,2,3,4,5,6,7,8,9]\n",
    "s[0:1]=[]\n",
    "print(s)"
   ]
  },
  {
   "cell_type": "code",
   "execution_count": 15,
   "metadata": {},
   "outputs": [
    {
     "name": "stdout",
     "output_type": "stream",
     "text": [
      "[1, 2, 3, 4, 6, 7, 8, 9]\n"
     ]
    }
   ],
   "source": [
    "#37 was to delete at the middle of list\n",
    "s=[1,2,3,4,5,6,7,8,9]\n",
    "del s[len(s)//2]\n",
    "print(s)"
   ]
  },
  {
   "cell_type": "code",
   "execution_count": 23,
   "metadata": {},
   "outputs": [
    {
     "name": "stdout",
     "output_type": "stream",
     "text": [
      "(10, 20, 30, 40, 50)\n"
     ]
    }
   ],
   "source": [
    "#38 was to concat at starting of tuple\n",
    "#vn=n.v+e.v(only multi value)\n",
    "s=(20,30,40,50)\n",
    "s=(10,)+s\n",
    "print(s)"
   ]
  },
  {
   "cell_type": "code",
   "execution_count": 25,
   "metadata": {},
   "outputs": [
    {
     "name": "stdout",
     "output_type": "stream",
     "text": [
      "(10, 20, 30, 40, 50)\n"
     ]
    }
   ],
   "source": [
    "#39 was to concat middle of tuple\n",
    "s=(10,20,40,50,)\n",
    "s=s[:2]+(30,)+s[2:]\n",
    "print(s)"
   ]
  },
  {
   "cell_type": "code",
   "execution_count": 28,
   "metadata": {},
   "outputs": [
    {
     "name": "stdout",
     "output_type": "stream",
     "text": [
      "(10, 20, 30, 40, 50)\n"
     ]
    }
   ],
   "source": [
    "#40  concat ending of tuple\n",
    "s=(10,20,30,40,)\n",
    "s=s+(50,)\n",
    "print(s)"
   ]
  },
  {
   "cell_type": "code",
   "execution_count": 30,
   "metadata": {},
   "outputs": [
    {
     "name": "stdout",
     "output_type": "stream",
     "text": [
      "(10, 20, 30, 1, 2, 3, 50, 60)\n"
     ]
    }
   ],
   "source": [
    "#41  modify seq in tuple \n",
    "s=(10,20,30,40,50,60)\n",
    "s=s[0:3]+(1,2,3)+s[3+1:]\n",
    "print(s)\n",
    "#var[si:sp]+nv+var[sp+1:ei]"
   ]
  },
  {
   "cell_type": "code",
   "execution_count": 33,
   "metadata": {},
   "outputs": [
    {
     "name": "stdout",
     "output_type": "stream",
     "text": [
      "(1, 3, 4)\n"
     ]
    }
   ],
   "source": [
    "#42 was del seq \n",
    "s=(1,2,3,4)\n",
    "s=s[0:1]+()+s[2:]\n",
    "print(s)"
   ]
  },
  {
   "cell_type": "code",
   "execution_count": 38,
   "metadata": {},
   "outputs": [
    {
     "name": "stdout",
     "output_type": "stream",
     "text": [
      "{1, 2, 3, 4, 5, 6, 10, 20, 'a'}\n"
     ]
    }
   ],
   "source": [
    "#43 was to concat new value into set\n",
    "s={1,2,3,4,5,6}\n",
    "s=s|{10,20,'a'}\n",
    "print(s)"
   ]
  },
  {
   "cell_type": "code",
   "execution_count": 42,
   "metadata": {},
   "outputs": [
    {
     "name": "stdout",
     "output_type": "stream",
     "text": [
      "{1, 2, 3, 7, 8}\n"
     ]
    }
   ],
   "source": [
    "#44 was del sv in set\n",
    "s={1,2,3,4,5,6,7,8}\n",
    "s=s-{4,5,6}\n",
    "print(s)"
   ]
  },
  {
   "cell_type": "code",
   "execution_count": 44,
   "metadata": {},
   "outputs": [
    {
     "name": "stdout",
     "output_type": "stream",
     "text": [
      "{'a': 150, 'b': 250}\n",
      "{'a': 150, 'b': 250, 'c': 350, 'd': 450}\n"
     ]
    }
   ],
   "source": [
    "#45 was concat new key and value in dict\n",
    "#single\n",
    "a={'a':150}\n",
    "a['b']=250\n",
    "print (a)\n",
    "#multi\n",
    "b={'a':150,'b':250}\n",
    "b|={'c':350,'d':450}\n",
    "print(b)"
   ]
  },
  {
   "cell_type": "code",
   "execution_count": 45,
   "metadata": {},
   "outputs": [
    {
     "name": "stdout",
     "output_type": "stream",
     "text": [
      "{'b': 100, 'c': 200}\n"
     ]
    }
   ],
   "source": [
    "#46 was to del specific key and value in dict\n",
    "a={'a':'hai','b':100,'c':200}\n",
    "del a['a']\n",
    "print(a)"
   ]
  },
  {
   "cell_type": "code",
   "execution_count": 46,
   "metadata": {},
   "outputs": [
    {
     "name": "stdout",
     "output_type": "stream",
     "text": [
      "{'a': 100, 'b': 50}\n"
     ]
    }
   ],
   "source": [
    "#47 was to modify in dict\n",
    "a={'a':10,'b':50}\n",
    "a['a']=100\n",
    "print(a)"
   ]
  },
  {
   "cell_type": "code",
   "execution_count": 39,
   "metadata": {},
   "outputs": [
    {
     "name": "stdout",
     "output_type": "stream",
     "text": [
      "['a', 'b', 'c', 10, 20, 30]\n"
     ]
    }
   ],
   "source": [
    "#48was to concat list and tuple by type casting\n",
    "l=['a','b','c']\n",
    "s=(10,20,30)\n",
    "print(l+list(s))\n"
   ]
  },
  {
   "cell_type": "code",
   "execution_count": 41,
   "metadata": {},
   "outputs": [
    {
     "name": "stdout",
     "output_type": "stream",
     "text": [
      "['a', 'b', 'c', 10, 20, 30]\n"
     ]
    }
   ],
   "source": [
    "#49 was to concat list and tuple without tc\n",
    "a=['a','b','c']\n",
    "s=(10,20,30)\n",
    "a+=s\n",
    "print(a)"
   ]
  },
  {
   "cell_type": "code",
   "execution_count": 47,
   "metadata": {},
   "outputs": [
    {
     "name": "stdout",
     "output_type": "stream",
     "text": [
      "True\n"
     ]
    }
   ],
   "source": [
    "#50 was to check no is div by 3\n",
    "n=9\n",
    "print(n%3==0)\n",
    " "
   ]
  },
  {
   "cell_type": "code",
   "execution_count": 48,
   "metadata": {},
   "outputs": [
    {
     "name": "stdout",
     "output_type": "stream",
     "text": [
      "True\n"
     ]
    }
   ],
   "source": [
    "#51 was to check no div by 2 &6\n",
    "n=12\n",
    "print(n%2==0 and n%6==0)"
   ]
  },
  {
   "cell_type": "code",
   "execution_count": 4,
   "metadata": {},
   "outputs": [
    {
     "name": "stdout",
     "output_type": "stream",
     "text": [
      "0\n"
     ]
    },
    {
     "data": {
      "text/plain": [
       "False"
      ]
     },
     "execution_count": 4,
     "metadata": {},
     "output_type": "execute_result"
    }
   ],
   "source": [
    "#52 was to check last digit div by 3 without ind\n",
    "n=1996\n",
    "print((n%10)%3)==0\n"
   ]
  },
  {
   "cell_type": "code",
   "execution_count": 6,
   "metadata": {},
   "outputs": [
    {
     "name": "stdout",
     "output_type": "stream",
     "text": [
      "9\n"
     ]
    }
   ],
   "source": [
    "##53 was last digit extract\n",
    "n=1999\n",
    "print(n%10)"
   ]
  },
  {
   "cell_type": "code",
   "execution_count": 8,
   "metadata": {},
   "outputs": [
    {
     "name": "stdout",
     "output_type": "stream",
     "text": [
      "2026\n",
      "6\n",
      "6\n",
      "False\n",
      "True\n"
     ]
    }
   ],
   "source": [
    "#54 last digit div by 3 with type casting\n",
    "n=2026\n",
    "print(str(n))\n",
    "print(str(n)[-1])\n",
    "print(int(str(n)[-1]))\n",
    "n=2024\n",
    "print(int(str(n)[-1])%3==0)\n",
    "n=2026\n",
    "print(int(str(n)[-1])%3==0)\n"
   ]
  },
  {
   "cell_type": "code",
   "execution_count": 9,
   "metadata": {},
   "outputs": [
    {
     "name": "stdout",
     "output_type": "stream",
     "text": [
      "True\n"
     ]
    }
   ],
   "source": [
    "#55 no greater than 150\n",
    "n=180\n",
    "print(n>150)"
   ]
  },
  {
   "cell_type": "code",
   "execution_count": 10,
   "metadata": {},
   "outputs": [
    {
     "name": "stdout",
     "output_type": "stream",
     "text": [
      "True\n"
     ]
    }
   ],
   "source": [
    "#56 was no greater than or eq to 100\n",
    "n=100\n",
    "print(n>=100)"
   ]
  },
  {
   "cell_type": "code",
   "execution_count": 11,
   "metadata": {},
   "outputs": [
    {
     "name": "stdout",
     "output_type": "stream",
     "text": [
      "False\n"
     ]
    }
   ],
   "source": [
    "#57 was no less than 150 \n",
    "n=180\n",
    "print(n<150)"
   ]
  },
  {
   "cell_type": "code",
   "execution_count": 12,
   "metadata": {},
   "outputs": [
    {
     "name": "stdout",
     "output_type": "stream",
     "text": [
      "True\n"
     ]
    }
   ],
   "source": [
    "#58 was no less than eq to 100\n",
    "n=100\n",
    "print(n<=100)"
   ]
  },
  {
   "cell_type": "code",
   "execution_count": 13,
   "metadata": {},
   "outputs": [
    {
     "name": "stdout",
     "output_type": "stream",
     "text": [
      "True\n"
     ]
    }
   ],
   "source": [
    "#59 no greater than 15 & less than 24\n",
    "n=20\n",
    "print(15<n<24)"
   ]
  },
  {
   "cell_type": "code",
   "execution_count": 14,
   "metadata": {},
   "outputs": [
    {
     "name": "stdout",
     "output_type": "stream",
     "text": [
      "True\n"
     ]
    }
   ],
   "source": [
    "#60 check no is even\n",
    "n=4\n",
    "print(n%2==0)"
   ]
  },
  {
   "cell_type": "code",
   "execution_count": 15,
   "metadata": {},
   "outputs": [
    {
     "name": "stdout",
     "output_type": "stream",
     "text": [
      "True\n"
     ]
    }
   ],
   "source": [
    "#61 check no is odd\n",
    "n=5\n",
    "print(n%2!=0)"
   ]
  },
  {
   "cell_type": "code",
   "execution_count": 16,
   "metadata": {},
   "outputs": [
    {
     "name": "stdout",
     "output_type": "stream",
     "text": [
      "abcabcabcabcabcabc\n"
     ]
    }
   ],
   "source": [
    "#62 wae check replication of str with 6\n",
    "s=\"abc\"\n",
    "print(s*6)"
   ]
  },
  {
   "cell_type": "code",
   "execution_count": 17,
   "metadata": {},
   "outputs": [
    {
     "name": "stdout",
     "output_type": "stream",
     "text": [
      "True\n"
     ]
    }
   ],
   "source": [
    "#63 wae to no div by 3 and greater thana 22\n",
    "n=24\n",
    "print(n%3==0 and n>22)"
   ]
  },
  {
   "cell_type": "code",
   "execution_count": 19,
   "metadata": {},
   "outputs": [
    {
     "name": "stdout",
     "output_type": "stream",
     "text": [
      "9\n",
      "False\n"
     ]
    }
   ],
   "source": [
    "#64 wae to perform length of collection is even or not\n",
    "d=\"pyspiders\"\n",
    "print(len(d))\n",
    "print((len(d)%2==0))"
   ]
  },
  {
   "cell_type": "code",
   "execution_count": 20,
   "metadata": {},
   "outputs": [
    {
     "name": "stdout",
     "output_type": "stream",
     "text": [
      "True\n"
     ]
    }
   ],
   "source": [
    "#65 was to check len of collection less than 55 greater than 16\n",
    "r='asdfghjklqwertzxcvb'\n",
    "print(len(r)>16 and len(r)<55)\n",
    "#16<len(r)<55"
   ]
  },
  {
   "cell_type": "code",
   "execution_count": 21,
   "metadata": {},
   "outputs": [
    {
     "name": "stdout",
     "output_type": "stream",
     "text": [
      "True\n"
     ]
    }
   ],
   "source": [
    "#66 was to check len of coll is div by 5 and is odd\n",
    "a='abcde'\n",
    "print(len(a)%5==0 and len(a)%2!=0)"
   ]
  },
  {
   "cell_type": "code",
   "execution_count": 22,
   "metadata": {},
   "outputs": [
    {
     "name": "stdout",
     "output_type": "stream",
     "text": [
      "1\n"
     ]
    }
   ],
   "source": [
    "#67 was check middle positionof collection\n",
    "s=\"hai\"\n",
    "print(len(s)//2)"
   ]
  },
  {
   "cell_type": "code",
   "execution_count": 34,
   "metadata": {},
   "outputs": [
    {
     "name": "stdout",
     "output_type": "stream",
     "text": [
      "True\n"
     ]
    }
   ],
   "source": [
    "#68 check no greater than 20 and less than 30  and shd be even\n",
    "s=26\n",
    "print(20<s<30 and s%2==0)"
   ]
  },
  {
   "cell_type": "code",
   "execution_count": 35,
   "metadata": {},
   "outputs": [
    {
     "name": "stdout",
     "output_type": "stream",
     "text": [
      "True\n"
     ]
    }
   ],
   "source": [
    "#69 no shd be even and should be less than 120\n",
    "s=110\n",
    "print(s%2==0 and s<120)"
   ]
  },
  {
   "cell_type": "code",
   "execution_count": 36,
   "metadata": {},
   "outputs": [
    {
     "name": "stdout",
     "output_type": "stream",
     "text": [
      "True\n"
     ]
    }
   ],
   "source": [
    "#70 no is even present from 40 to 70\n",
    "n=60\n",
    "print(n%2==0 and 40<n<70)"
   ]
  },
  {
   "cell_type": "code",
   "execution_count": 37,
   "metadata": {},
   "outputs": [
    {
     "name": "stdout",
     "output_type": "stream",
     "text": [
      "True\n"
     ]
    }
   ],
   "source": [
    "#71 no is odd and greater than 97\n",
    "n=99\n",
    "print(n%2!=0 and n>97)"
   ]
  },
  {
   "cell_type": "code",
   "execution_count": 38,
   "metadata": {},
   "outputs": [
    {
     "name": "stdout",
     "output_type": "stream",
     "text": [
      "True\n"
     ]
    }
   ],
   "source": [
    "#72 wae no less than 122 and gre than 48 no shd be divisible by 4\n",
    "n=120\n",
    "print(n%4==0 and 48<n<122)"
   ]
  },
  {
   "cell_type": "code",
   "execution_count": 39,
   "metadata": {},
   "outputs": [
    {
     "name": "stdout",
     "output_type": "stream",
     "text": [
      "True\n"
     ]
    }
   ],
   "source": [
    "#73 wae no is div by 3 or 5 \n",
    "n=15\n",
    "print(n%3==0 or n%5==0)"
   ]
  },
  {
   "cell_type": "code",
   "execution_count": 40,
   "metadata": {},
   "outputs": [
    {
     "name": "stdout",
     "output_type": "stream",
     "text": [
      "True\n"
     ]
    }
   ],
   "source": [
    "#74 check nois b/w 100 to 200 including limit\n",
    "n=150\n",
    "print(100<=n<=200)"
   ]
  },
  {
   "cell_type": "code",
   "execution_count": 41,
   "metadata": {},
   "outputs": [
    {
     "name": "stdout",
     "output_type": "stream",
     "text": [
      "False\n"
     ]
    }
   ],
   "source": [
    "#75 check no is 100 to 200 \n",
    "n=100\n",
    "print(100<n<200)"
   ]
  },
  {
   "cell_type": "code",
   "execution_count": 9,
   "metadata": {},
   "outputs": [
    {
     "name": "stdout",
     "output_type": "stream",
     "text": [
      "False\n"
     ]
    }
   ],
   "source": [
    "#76 was check the str last char ascii value shd be div by 5 or not\n",
    "s='apple'\n",
    "print(ord (s[-1])%5==0)\n"
   ]
  },
  {
   "cell_type": "code",
   "execution_count": 15,
   "metadata": {},
   "outputs": [
    {
     "name": "stdout",
     "output_type": "stream",
     "text": [
      "True\n"
     ]
    }
   ],
   "source": [
    "#77 check no is present b/w 60 & 130 shd be div by 3 & 4 last shd be less thn 9\n",
    "n=120\n",
    "print((60<=n<=130) and n%3==0 and n%4==0 and n>9)"
   ]
  },
  {
   "cell_type": "code",
   "execution_count": 16,
   "metadata": {},
   "outputs": [
    {
     "name": "stdout",
     "output_type": "stream",
     "text": [
      "True\n"
     ]
    }
   ],
   "source": [
    "#78 wae no is even and less than 25\n",
    "n=26\n",
    "print(n%2==0 or n<25)"
   ]
  },
  {
   "cell_type": "code",
   "execution_count": 17,
   "metadata": {},
   "outputs": [
    {
     "name": "stdout",
     "output_type": "stream",
     "text": [
      "True\n"
     ]
    }
   ],
   "source": [
    "#79 wae no is even or greater th 25\n",
    "n=28\n",
    "print(n%2==0 or n>25)"
   ]
  },
  {
   "cell_type": "code",
   "execution_count": 18,
   "metadata": {},
   "outputs": [
    {
     "name": "stdout",
     "output_type": "stream",
     "text": [
      "True\n"
     ]
    }
   ],
   "source": [
    "#80 wae no is div by 3 or 5\n",
    "n=15\n",
    "print(n%3==0 or n%5==0)"
   ]
  },
  {
   "cell_type": "code",
   "execution_count": 19,
   "metadata": {},
   "outputs": [
    {
     "name": "stdout",
     "output_type": "stream",
     "text": [
      "True\n"
     ]
    }
   ],
   "source": [
    "#81 wae given no is ot an even number\n",
    "n=31\n",
    "print(n%2!=0)"
   ]
  },
  {
   "cell_type": "code",
   "execution_count": 20,
   "metadata": {},
   "outputs": [
    {
     "name": "stdout",
     "output_type": "stream",
     "text": [
      "True\n"
     ]
    }
   ],
   "source": [
    "#82 no not an odd number\n",
    "n=30\n",
    "print(n%2==0)"
   ]
  },
  {
   "cell_type": "code",
   "execution_count": 21,
   "metadata": {},
   "outputs": [
    {
     "name": "stdout",
     "output_type": "stream",
     "text": [
      "False\n"
     ]
    }
   ],
   "source": [
    "#83 no not div by 3\n",
    "n=9\n",
    "print(n%3!=0)"
   ]
  },
  {
   "cell_type": "code",
   "execution_count": 23,
   "metadata": {},
   "outputs": [
    {
     "name": "stdout",
     "output_type": "stream",
     "text": [
      "False\n"
     ]
    }
   ],
   "source": [
    "#84 no not div by 3 & 5\n",
    "n=15\n",
    "print(n%3!=0 and n%5!=0)"
   ]
  },
  {
   "cell_type": "code",
   "execution_count": 24,
   "metadata": {},
   "outputs": [
    {
     "name": "stdout",
     "output_type": "stream",
     "text": [
      "False\n"
     ]
    }
   ],
   "source": [
    "#85 not div by 3 or 5 \n",
    "n=15\n",
    "print(n%3!=0 or n%5!=0)\n"
   ]
  },
  {
   "cell_type": "code",
   "execution_count": 25,
   "metadata": {},
   "outputs": [
    {
     "name": "stdout",
     "output_type": "stream",
     "text": [
      "True\n"
     ]
    }
   ],
   "source": [
    "#86 char ascii value not div by 5\n",
    "n='B'\n",
    "print(ord(n)%5!=0)"
   ]
  },
  {
   "cell_type": "code",
   "execution_count": 26,
   "metadata": {},
   "outputs": [
    {
     "data": {
      "text/plain": [
       "'A'"
      ]
     },
     "execution_count": 26,
     "metadata": {},
     "output_type": "execute_result"
    }
   ],
   "source": [
    "#87 find out ascii char by no\n",
    "n=65\n",
    "chr(n)"
   ]
  },
  {
   "cell_type": "code",
   "execution_count": 28,
   "metadata": {},
   "outputs": [
    {
     "name": "stdout",
     "output_type": "stream",
     "text": [
      "97\n"
     ]
    }
   ],
   "source": [
    "#88 find out ascii value in given char\n",
    "n='a'\n",
    "print(ord(n))"
   ]
  },
  {
   "cell_type": "code",
   "execution_count": 30,
   "metadata": {},
   "outputs": [
    {
     "name": "stdout",
     "output_type": "stream",
     "text": [
      "65\n",
      "True\n"
     ]
    }
   ],
   "source": [
    "#89 given char is upper case or not\n",
    "n='A'\n",
    "print(ord(n))\n",
    "print('A'<=n and n<='Z')"
   ]
  },
  {
   "cell_type": "code",
   "execution_count": 31,
   "metadata": {},
   "outputs": [
    {
     "name": "stdout",
     "output_type": "stream",
     "text": [
      "True\n"
     ]
    }
   ],
   "source": [
    "#90 check given char is lower casev or not\n",
    "n='a'\n",
    "print('a'<=n<='z')\n"
   ]
  },
  {
   "cell_type": "code",
   "execution_count": 32,
   "metadata": {},
   "outputs": [
    {
     "name": "stdout",
     "output_type": "stream",
     "text": [
      "True\n"
     ]
    }
   ],
   "source": [
    "#91 check char is alphabet\n",
    "n='s'\n",
    "print('A'<=n<='Z' or 'a'<=n<='z')"
   ]
  },
  {
   "cell_type": "code",
   "execution_count": 33,
   "metadata": {},
   "outputs": [
    {
     "name": "stdout",
     "output_type": "stream",
     "text": [
      "True\n"
     ]
    }
   ],
   "source": [
    "#92 char is ascii number\n",
    "n='5'\n",
    "print('0'<=n<='9')"
   ]
  },
  {
   "cell_type": "code",
   "execution_count": 34,
   "metadata": {},
   "outputs": [
    {
     "name": "stdout",
     "output_type": "stream",
     "text": [
      "False\n"
     ]
    }
   ],
   "source": [
    "#93 given char is special char\n",
    "n='$'\n",
    "print('A'<=n<='Z' or 'a'<=n<='z' or '0'<=n<='9')"
   ]
  },
  {
   "cell_type": "code",
   "execution_count": 37,
   "metadata": {},
   "outputs": [
    {
     "name": "stdout",
     "output_type": "stream",
     "text": [
      "False\n",
      "True\n"
     ]
    }
   ],
   "source": [
    "#94 given char should not be upper\n",
    "n='a'\n",
    "print('A'<=n<='Z')\n",
    "n='a'\n",
    "print(not('A'<=n<='Z'))"
   ]
  },
  {
   "cell_type": "code",
   "execution_count": 38,
   "metadata": {},
   "outputs": [
    {
     "name": "stdout",
     "output_type": "stream",
     "text": [
      "True\n"
     ]
    }
   ],
   "source": [
    "#95 char sh not be lower\n",
    "n='a'\n",
    "print('a'<=n<='z')\n"
   ]
  },
  {
   "cell_type": "code",
   "execution_count": 39,
   "metadata": {},
   "outputs": [
    {
     "name": "stdout",
     "output_type": "stream",
     "text": [
      "True\n"
     ]
    }
   ],
   "source": [
    "#96 char sh not be alphabet\n",
    "n='a'\n",
    "print(not('a'<=n<='b' and 'A'<=n<='B'))"
   ]
  },
  {
   "cell_type": "code",
   "execution_count": 42,
   "metadata": {},
   "outputs": [
    {
     "name": "stdout",
     "output_type": "stream",
     "text": [
      "False\n"
     ]
    }
   ],
   "source": [
    "#97 check given char should  not be ascii number\n",
    "n='9'\n",
    "print(not('0'<=n<='9'))"
   ]
  },
  {
   "cell_type": "code",
   "execution_count": 43,
   "metadata": {},
   "outputs": [
    {
     "name": "stdout",
     "output_type": "stream",
     "text": [
      "True\n"
     ]
    }
   ],
   "source": [
    "#98 char sh not be special char\n",
    "n='$'\n",
    "print(not('A'<=n<='Z' or 'a'<=n<='z' or '0'<=n<='9'))"
   ]
  },
  {
   "cell_type": "code",
   "execution_count": 45,
   "metadata": {},
   "outputs": [
    {
     "name": "stdout",
     "output_type": "stream",
     "text": [
      "True\n"
     ]
    }
   ],
   "source": [
    "#99 char is a vowel\n",
    "b='a'\n",
    "print(b in 'aeiouAEIOU')"
   ]
  },
  {
   "cell_type": "code",
   "execution_count": 46,
   "metadata": {},
   "outputs": [
    {
     "name": "stdout",
     "output_type": "stream",
     "text": [
      "False\n"
     ]
    }
   ],
   "source": [
    "#100 char sh be consonent\n",
    "b='a'\n",
    "print(b not in 'aeiouAEIOU')"
   ]
  },
  {
   "cell_type": "code",
   "execution_count": 48,
   "metadata": {},
   "outputs": [
    {
     "name": "stdout",
     "output_type": "stream",
     "text": [
      "a\n"
     ]
    }
   ],
   "source": [
    "#101 convert \n",
    "n='A'\n",
    "print(chr(ord(n)+32))"
   ]
  },
  {
   "cell_type": "code",
   "execution_count": 49,
   "metadata": {},
   "outputs": [
    {
     "name": "stdout",
     "output_type": "stream",
     "text": [
      "A\n"
     ]
    }
   ],
   "source": [
    "#102\n",
    "n='a'\n",
    "print(chr(ord(n)-32))"
   ]
  },
  {
   "cell_type": "code",
   "execution_count": 50,
   "metadata": {},
   "outputs": [
    {
     "name": "stdout",
     "output_type": "stream",
     "text": [
      "65\n"
     ]
    }
   ],
   "source": [
    "#103\n",
    "n='B'\n",
    "print(ord(n)-1)"
   ]
  },
  {
   "cell_type": "code",
   "execution_count": 51,
   "metadata": {},
   "outputs": [
    {
     "name": "stdout",
     "output_type": "stream",
     "text": [
      "B\n"
     ]
    }
   ],
   "source": [
    "#104\n",
    "n='A'\n",
    "print(chr(ord(n)+1))"
   ]
  },
  {
   "cell_type": "code",
   "execution_count": 52,
   "metadata": {},
   "outputs": [
    {
     "name": "stdout",
     "output_type": "stream",
     "text": [
      "True\n"
     ]
    }
   ],
   "source": [
    "#105\n",
    "n='d'\n",
    "print(len(n)==1 and ord(n)%2==0 and 'a'<=n<='z')"
   ]
  },
  {
   "cell_type": "code",
   "execution_count": 54,
   "metadata": {},
   "outputs": [
    {
     "name": "stdout",
     "output_type": "stream",
     "text": [
      "True\n"
     ]
    }
   ],
   "source": [
    "#106\n",
    "n='A'\n",
    "print(len(n)==1 and ord(n)%2!=0 and 'A'<=n<='Z')\n"
   ]
  },
  {
   "cell_type": "code",
   "execution_count": 56,
   "metadata": {},
   "outputs": [
    {
     "name": "stdout",
     "output_type": "stream",
     "text": [
      "True\n"
     ]
    }
   ],
   "source": [
    "#107\n",
    "n=57\n",
    "print('A'<=chr(n)<='Z' or 'a'<=chr(n)<='z' or '0'<=chr(n)<='9')\n"
   ]
  },
  {
   "cell_type": "code",
   "execution_count": 57,
   "metadata": {},
   "outputs": [
    {
     "name": "stdout",
     "output_type": "stream",
     "text": [
      "True\n"
     ]
    }
   ],
   "source": [
    "#108\n",
    "n=65\n",
    "print(chr(n)in 'aeiouAEIOU')"
   ]
  },
  {
   "cell_type": "code",
   "execution_count": 58,
   "metadata": {},
   "outputs": [
    {
     "name": "stdout",
     "output_type": "stream",
     "text": [
      "True\n"
     ]
    }
   ],
   "source": [
    "#109\n",
    "n=\"abcd\"\n",
    "print(ord(n[0])+1==ord(n[1]))"
   ]
  },
  {
   "cell_type": "code",
   "execution_count": 59,
   "metadata": {},
   "outputs": [
    {
     "name": "stdout",
     "output_type": "stream",
     "text": [
      "True\n"
     ]
    }
   ],
   "source": [
    "#110\n",
    "n='i'\n",
    "print(25<ord(n)<112)"
   ]
  },
  {
   "cell_type": "code",
   "execution_count": 61,
   "metadata": {},
   "outputs": [
    {
     "name": "stdout",
     "output_type": "stream",
     "text": [
      "11\n"
     ]
    }
   ],
   "source": [
    "#111\n",
    "m=10\n",
    "m+=1\n",
    "print(m)"
   ]
  },
  {
   "cell_type": "code",
   "execution_count": 62,
   "metadata": {},
   "outputs": [
    {
     "name": "stdout",
     "output_type": "stream",
     "text": [
      "12\n"
     ]
    }
   ],
   "source": [
    "#112\n",
    "m=10\n",
    "m+=2\n",
    "print(m)"
   ]
  },
  {
   "cell_type": "code",
   "execution_count": 63,
   "metadata": {},
   "outputs": [
    {
     "name": "stdout",
     "output_type": "stream",
     "text": [
      "9\n"
     ]
    }
   ],
   "source": [
    "#113\n",
    "m=10\n",
    "m-=1\n",
    "print(m)"
   ]
  },
  {
   "cell_type": "code",
   "execution_count": 64,
   "metadata": {},
   "outputs": [
    {
     "name": "stdout",
     "output_type": "stream",
     "text": [
      "7\n"
     ]
    }
   ],
   "source": [
    "#114\n",
    "m=10\n",
    "m-=3\n",
    "print(m)"
   ]
  },
  {
   "cell_type": "code",
   "execution_count": 65,
   "metadata": {},
   "outputs": [
    {
     "name": "stdout",
     "output_type": "stream",
     "text": [
      "True\n"
     ]
    }
   ],
   "source": [
    "#115\n",
    "n=10\n",
    "c=[10,20,30,40]\n",
    "print(n in c)"
   ]
  },
  {
   "cell_type": "code",
   "execution_count": 67,
   "metadata": {},
   "outputs": [
    {
     "name": "stdout",
     "output_type": "stream",
     "text": [
      "110\n"
     ]
    }
   ],
   "source": [
    "#116\n",
    "n=50\n",
    "b=60\n",
    "n=n+b\n",
    "print(n)"
   ]
  },
  {
   "cell_type": "code",
   "execution_count": 68,
   "metadata": {},
   "outputs": [
    {
     "name": "stdout",
     "output_type": "stream",
     "text": [
      "False\n"
     ]
    }
   ],
   "source": [
    "#117\n",
    "s='P'\n",
    "c='pyspiders'\n",
    "print(s in c)"
   ]
  },
  {
   "cell_type": "code",
   "execution_count": 69,
   "metadata": {},
   "outputs": [
    {
     "data": {
      "text/plain": [
       "False"
      ]
     },
     "execution_count": 69,
     "metadata": {},
     "output_type": "execute_result"
    }
   ],
   "source": [
    "#118\n",
    "s=[10,]\n",
    "c=[10,20,30,40]\n",
    "s in c"
   ]
  },
  {
   "cell_type": "code",
   "execution_count": 72,
   "metadata": {},
   "outputs": [
    {
     "name": "stdout",
     "output_type": "stream",
     "text": [
      "True\n"
     ]
    }
   ],
   "source": [
    "#119\n",
    "s={'a':10}\n",
    "c=('a',10,'b',20,'c',30,{'a':10})\n",
    "print(s in c)"
   ]
  },
  {
   "cell_type": "code",
   "execution_count": 73,
   "metadata": {},
   "outputs": [
    {
     "name": "stdout",
     "output_type": "stream",
     "text": [
      "True\n"
     ]
    }
   ],
   "source": [
    "#120\n",
    "b=15\n",
    "print(type(b)==int)"
   ]
  },
  {
   "cell_type": "code",
   "execution_count": 74,
   "metadata": {},
   "outputs": [
    {
     "name": "stdout",
     "output_type": "stream",
     "text": [
      "True\n"
     ]
    }
   ],
   "source": [
    "#121\n",
    "b='abd'\n",
    "print(type(b)==str)"
   ]
  },
  {
   "cell_type": "code",
   "execution_count": 77,
   "metadata": {},
   "outputs": [
    {
     "name": "stdout",
     "output_type": "stream",
     "text": [
      "True\n"
     ]
    }
   ],
   "source": [
    "#122\n",
    "b=b'1010'\n",
    "print(type(b) in [int,float,complex,bool,bytes,type(None)])"
   ]
  },
  {
   "cell_type": "code",
   "execution_count": 78,
   "metadata": {},
   "outputs": [
    {
     "name": "stdout",
     "output_type": "stream",
     "text": [
      "False\n"
     ]
    }
   ],
   "source": [
    "#123\n",
    "b=b'1010'\n",
    "print(type(b) not in [int,float,complex,bool,bytes,type(None)])"
   ]
  },
  {
   "cell_type": "code",
   "execution_count": 79,
   "metadata": {},
   "outputs": [
    {
     "name": "stdout",
     "output_type": "stream",
     "text": [
      "True\n"
     ]
    }
   ],
   "source": [
    "#124\n",
    "c='pys'\n",
    "print(type(c)in[str,list,tuple,set,dict])"
   ]
  },
  {
   "cell_type": "code",
   "execution_count": 80,
   "metadata": {},
   "outputs": [
    {
     "name": "stdout",
     "output_type": "stream",
     "text": [
      "False\n"
     ]
    }
   ],
   "source": [
    "#125\n",
    "c='abc'\n",
    "print(type(c) in [list,set,dict])"
   ]
  },
  {
   "cell_type": "code",
   "execution_count": 81,
   "metadata": {},
   "outputs": [
    {
     "name": "stdout",
     "output_type": "stream",
     "text": [
      "True\n"
     ]
    }
   ],
   "source": [
    "#126\n",
    "c=10\n",
    "print(type(c) not in [list,set,dict])"
   ]
  },
  {
   "cell_type": "code",
   "execution_count": 82,
   "metadata": {},
   "outputs": [
    {
     "name": "stdout",
     "output_type": "stream",
     "text": [
      "True\n"
     ]
    }
   ],
   "source": [
    "#127\n",
    "n=6\n",
    "print(n%6==0 and n in [1,2,3,4,5,6])"
   ]
  },
  {
   "cell_type": "code",
   "execution_count": 83,
   "metadata": {},
   "outputs": [
    {
     "name": "stdout",
     "output_type": "stream",
     "text": [
      "3\n"
     ]
    }
   ],
   "source": [
    "#128\n",
    "m=15\n",
    "n=19\n",
    "print(m&n)"
   ]
  },
  {
   "cell_type": "code",
   "execution_count": 84,
   "metadata": {},
   "outputs": [
    {
     "name": "stdout",
     "output_type": "stream",
     "text": [
      "127\n"
     ]
    }
   ],
   "source": [
    "#129\n",
    "m=115\n",
    "n=79\n",
    "print(m|n)"
   ]
  },
  {
   "cell_type": "code",
   "execution_count": 85,
   "metadata": {},
   "outputs": [
    {
     "name": "stdout",
     "output_type": "stream",
     "text": [
      "46\n"
     ]
    }
   ],
   "source": [
    "#130\n",
    "m=56\n",
    "n=22\n",
    "print(m^n)"
   ]
  },
  {
   "cell_type": "code",
   "execution_count": 86,
   "metadata": {},
   "outputs": [
    {
     "name": "stdout",
     "output_type": "stream",
     "text": [
      "-16\n"
     ]
    }
   ],
   "source": [
    "#131\n",
    "m=15\n",
    "print(~m)"
   ]
  },
  {
   "cell_type": "code",
   "execution_count": 87,
   "metadata": {},
   "outputs": [
    {
     "name": "stdout",
     "output_type": "stream",
     "text": [
      "256\n"
     ]
    }
   ],
   "source": [
    "#132\n",
    "m=32\n",
    "n=3\n",
    "print(m<<n)"
   ]
  },
  {
   "cell_type": "code",
   "execution_count": 88,
   "metadata": {},
   "outputs": [
    {
     "name": "stdout",
     "output_type": "stream",
     "text": [
      "6\n"
     ]
    }
   ],
   "source": [
    "#133\n",
    "m=25\n",
    "n=2\n",
    "print(m>>2)"
   ]
  },
  {
   "cell_type": "code",
   "execution_count": 90,
   "metadata": {},
   "outputs": [
    {
     "name": "stdout",
     "output_type": "stream",
     "text": [
      "1000\n"
     ]
    }
   ],
   "source": [
    "#134\n",
    "print((10+20*60 and 10**3) or ({10,20} or not ([15-16])))"
   ]
  },
  {
   "cell_type": "code",
   "execution_count": 92,
   "metadata": {},
   "outputs": [
    {
     "name": "stdout",
     "output_type": "stream",
     "text": [
      "True\n"
     ]
    }
   ],
   "source": [
    "#135\n",
    "d={'a':10,'hai':'bye',(100,):(20,30)}\n",
    "k='a'\n",
    "print(k in d.keys())"
   ]
  },
  {
   "cell_type": "code",
   "execution_count": 95,
   "metadata": {},
   "outputs": [
    {
     "name": "stdout",
     "output_type": "stream",
     "text": [
      "True\n"
     ]
    }
   ],
   "source": [
    "#136\n",
    "d={'a':10,'hai':'bye',(100,):(10,30)}\n",
    "k=10\n",
    "print(k in d.values())"
   ]
  },
  {
   "cell_type": "code",
   "execution_count": 96,
   "metadata": {},
   "outputs": [
    {
     "name": "stdout",
     "output_type": "stream",
     "text": [
      "True\n"
     ]
    }
   ],
   "source": [
    "#137\n",
    "d={'a':10,'hai':'bye',(100,):(20,30)}\n",
    "k='b'\n",
    "print(k not in d.keys())"
   ]
  },
  {
   "cell_type": "code",
   "execution_count": 97,
   "metadata": {},
   "outputs": [
    {
     "name": "stdout",
     "output_type": "stream",
     "text": [
      "True\n"
     ]
    }
   ],
   "source": [
    "#138\n",
    "d={'a':10,'hai':'bye',(100,):(20,30)}\n",
    "k=('a',10)\n",
    "print(k in d.items())"
   ]
  },
  {
   "cell_type": "code",
   "execution_count": 3,
   "metadata": {},
   "outputs": [
    {
     "name": "stdout",
     "output_type": "stream",
     "text": [
      "False\n",
      "True\n"
     ]
    },
    {
     "name": "stderr",
     "output_type": "stream",
     "text": [
      "<>:5: SyntaxWarning: \"is\" with a literal. Did you mean \"==\"?\n",
      "<>:5: SyntaxWarning: \"is\" with a literal. Did you mean \"==\"?\n",
      "C:\\Users\\User\\AppData\\Local\\Temp\\ipykernel_20140\\2433243932.py:5: SyntaxWarning: \"is\" with a literal. Did you mean \"==\"?\n",
      "  print(257 is 257)\n"
     ]
    }
   ],
   "source": [
    "#139\n",
    "a=257\n",
    "b=257\n",
    "print(a is b)\n",
    "print(257 is 257)"
   ]
  },
  {
   "cell_type": "code",
   "execution_count": 100,
   "metadata": {},
   "outputs": [
    {
     "name": "stdout",
     "output_type": "stream",
     "text": [
      "True\n"
     ]
    }
   ],
   "source": [
    "#140\n",
    "a=256\n",
    "b=256\n",
    "print(type(a)==int and type(b)==int and a is b)\n",
    "\n",
    "\n"
   ]
  }
 ],
 "metadata": {
  "kernelspec": {
   "display_name": "Python 3",
   "language": "python",
   "name": "python3"
  },
  "language_info": {
   "codemirror_mode": {
    "name": "ipython",
    "version": 3
   },
   "file_extension": ".py",
   "mimetype": "text/x-python",
   "name": "python",
   "nbconvert_exporter": "python",
   "pygments_lexer": "ipython3",
   "version": "3.10.11"
  },
  "orig_nbformat": 4
 },
 "nbformat": 4,
 "nbformat_minor": 2
}
