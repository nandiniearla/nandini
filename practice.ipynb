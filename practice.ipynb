{
 "cells": [
  {
   "cell_type": "code",
   "execution_count": 4,
   "metadata": {},
   "outputs": [
    {
     "name": "stdout",
     "output_type": "stream",
     "text": [
      "[2, 4, 7, 8]\n"
     ]
    }
   ],
   "source": [
    "# lst = [1, 2, 2, 3, 4, 4]\n",
    "# print(list(set(lst)))  # Unordered\n",
    "\n",
    "# # Ordered version:\n",
    "# def remove_duplicates(lst):\n",
    "#     seen = set()\n",
    "#     result = []\n",
    "#     for x in lst:\n",
    "#         if x not in seen:\n",
    "#             result.append(x)\n",
    "#             seen.add(x)\n",
    "#     print(seen)\n",
    "#     return result\n",
    "\n",
    "# print(remove_duplicates(lst))\n",
    "\n",
    "lst_dup=[2,7,4,8,7,2,4]\n",
    "def remove(lst_dup):\n",
    "    sn=set()\n",
    "    res = []\n",
    "    for x in lst_dup :\n",
    "        if x not in sn:\n",
    "            res.append(x)\n",
    "            sn.add(x)\n",
    "    return res\n",
    "print(sorted(remove(lst_dup)))"
   ]
  },
  {
   "cell_type": "code",
   "execution_count": 6,
   "metadata": {},
   "outputs": [
    {
     "name": "stdout",
     "output_type": "stream",
     "text": [
      "19\n"
     ]
    }
   ],
   "source": [
    "def add_all(*args):\n",
    "    return sum(args)\n",
    "print(add_all(8,3,8))"
   ]
  },
  {
   "cell_type": "code",
   "execution_count": 9,
   "metadata": {},
   "outputs": [
    {
     "name": "stdout",
     "output_type": "stream",
     "text": [
      "name = Alice\n",
      "age = 30\n",
      "city = NYC\n"
     ]
    }
   ],
   "source": [
    "def show_details(**kwargs):\n",
    "    for key, value in kwargs.items():\n",
    "        print(f\"{key} = {value}\")\n",
    "\n",
    "show_details(name=\"Alice\", age=30, city=\"NYC\")\n"
   ]
  },
  {
   "cell_type": "code",
   "execution_count": 1,
   "metadata": {},
   "outputs": [
    {
     "name": "stdout",
     "output_type": "stream",
     "text": [
      "Args: (1, 2, 3)\n",
      "Kwargs: {'name': 'Bob', 'role': 'Developer'}\n"
     ]
    }
   ],
   "source": [
    "def demo(*args, **kwargs):\n",
    "    print(\"Args:\", args)\n",
    "    print(\"Kwargs:\", kwargs)\n",
    "\n",
    "demo(1, 2, 3, name=\"Bob\", role=\"Developer\" )\n"
   ]
  },
  {
   "cell_type": "code",
   "execution_count": null,
   "metadata": {},
   "outputs": [
    {
     "name": "stdout",
     "output_type": "stream",
     "text": [
      "7\n"
     ]
    }
   ],
   "source": [
    "#Count Vowels in a String\n",
    "inp='data validation'\n",
    "def cont_vowels(inp):\n",
    "    emp=0\n",
    "    for x in inp:\n",
    "        if x in 'aeiouAEIOU':\n",
    "            emp+=1\n",
    "    return emp\n",
    "print(cont_vowels(inp))"
   ]
  },
  {
   "cell_type": "code",
   "execution_count": null,
   "metadata": {},
   "outputs": [],
   "source": [
    "#Find the Second Largest Number\n",
    "inp=[3, 1, 4, 4, 5, 5, 2]\n",
    "def second_largest(inp)\n",
    "    "
   ]
  },
  {
   "cell_type": "code",
   "execution_count": null,
   "metadata": {},
   "outputs": [],
   "source": [
    "import cx_Oracle\n",
    "import psycopg2  # Replace with your target DB connector (e.g., pyodbc, sqlalchemy, etc.)\n",
    "# Connect to Oracle\n",
    "oracle_conn = cx_Oracle.connect(\"user\", \"password\", \"host:port/service_name\")\n",
    "oracle_cursor = oracle_conn.cursor()\n",
    "# Connect to Target Cloud DB (adjust depending on DB type)\n",
    "target_conn = psycopg2.connect(\"dbname=yourdb user=youruser password=yourpass host=target_host\")\n",
    "target_cursor = target_conn.cursor()\n",
    "# Row Count Comparison\n",
    "oracle_cursor.execute(\"SELECT COUNT(*) FROM source_table\")\n",
    "oracle_count = oracle_cursor.fetchone()[0]\n",
    "target_cursor.execute(\"SELECT COUNT(*) FROM target_table\")\n",
    "target_count = target_cursor.fetchone()[0]\n",
    "print(f\"Oracle Count: {oracle_count}, Target Count: {target_count}\")\n",
    "# Sample Data Comparison (for primary key based rows)\n",
    "oracle_cursor.execute(\"SELECT id, name FROM source_table ORDER BY id FETCH FIRST 10 ROWS ONLY\")\n",
    "oracle_data = oracle_cursor.fetchall()\n",
    "for row in oracle_data:\n",
    "    id_val = row[0]\n",
    "    oracle_name = row[1]\n",
    "\n",
    "    target_cursor.execute(\"SELECT name FROM target_table WHERE id = %s\", (id_val,))\n",
    "    result = target_cursor.fetchone()\n",
    "    if result and oracle_name != result[0]:\n",
    "        print(f\"Mismatch for ID {id_val}: Oracle='{oracle_name}', Target='{result[0]}'\")\n",
    "# Close connections\n",
    "oracle_cursor.close()\n",
    "target_cursor.close()\n",
    "oracle_conn.close()\n",
    "target_conn.close()\n"
   ]
  }
 ],
 "metadata": {
  "kernelspec": {
   "display_name": "Python 3",
   "language": "python",
   "name": "python3"
  },
  "language_info": {
   "codemirror_mode": {
    "name": "ipython",
    "version": 3
   },
   "file_extension": ".py",
   "mimetype": "text/x-python",
   "name": "python",
   "nbconvert_exporter": "python",
   "pygments_lexer": "ipython3",
   "version": "3.12.3"
  }
 },
 "nbformat": 4,
 "nbformat_minor": 2
}
