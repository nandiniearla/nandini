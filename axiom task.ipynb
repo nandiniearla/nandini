{
 "cells": [
  {
   "cell_type": "code",
   "execution_count": 39,
   "id": "142f0ba8",
   "metadata": {},
   "outputs": [],
   "source": [
    "import pandas as pd\n",
    "\n",
    "\n",
    "df_task = pd.read_excel(\"C:\\\\Users\\\\User\\\\Downloads\\\\DA - Task 1..xlsx\", sheet_name=\"Task\")\n",
    "df_tax = pd.read_excel(\"C:\\\\Users\\\\User\\\\Downloads\\\\DA - Task 1..xlsx\", sheet_name=\"Taxonomy\")\n"
   ]
  },
  {
   "cell_type": "code",
   "execution_count": 40,
   "id": "0140ba34",
   "metadata": {},
   "outputs": [],
   "source": [
    "text_cols = [\"Complaint\", \"Cause\", \"Correction\"]\n",
    "for col in text_cols:\n",
    "    df_task[col] = df_task[col].astype(str).str.lower().str.strip()\n"
   ]
  },
  {
   "cell_type": "code",
   "execution_count": 41,
   "id": "f538887d",
   "metadata": {},
   "outputs": [],
   "source": [
    "df_tax.columns = df_tax.columns.str.strip()\n"
   ]
  },
  {
   "cell_type": "code",
   "execution_count": 42,
   "id": "0c8be74c",
   "metadata": {},
   "outputs": [],
   "source": [
    "root_causes = df_tax['Root Cause'].dropna().str.lower().tolist()\n",
    "symptom_conditions = df_tax['Symptom Condition'].dropna().str.lower().tolist()\n",
    "symptom_components = df_tax['Symptom Component'].dropna().str.lower().tolist()\n",
    "fix_conditions = df_tax['Fix Condition'].dropna().str.lower().tolist()\n",
    "fix_components = df_tax['Fix Component'].dropna().str.lower().tolist()\n",
    "\n"
   ]
  },
  {
   "cell_type": "code",
   "execution_count": 43,
   "id": "1de7fc10",
   "metadata": {},
   "outputs": [],
   "source": [
    "from rapidfuzz import fuzz\n",
    "\n",
    "def find_best_match(text, category_list, threshold=80):\n",
    "    best_match = \"\"\n",
    "    best_score = 0\n",
    "    for cat in category_list:\n",
    "        score = fuzz.partial_ratio(text, cat)\n",
    "        if score > best_score and score >= threshold:\n",
    "            best_match = cat\n",
    "            best_score = score\n",
    "    return best_match\n",
    "# find_best_match(text = \"on\",\n",
    "# category_list= [\"premium calculation\", \"policy check\", \"billing validation\"]\n",
    "# )\n"
   ]
  },
  {
   "cell_type": "code",
   "execution_count": 44,
   "id": "ecf40d7b",
   "metadata": {},
   "outputs": [],
   "source": [
    "def tag_row(row):\n",
    "    complaint = row['Complaint']\n",
    "    cause = row['Cause']\n",
    "    correction = row['Correction']\n",
    "    \n",
    "    return pd.Series({\n",
    "        'Symptom_Condition': find_best_match(complaint, symptom_conditions),\n",
    "        'Symptom_Component': find_best_match(complaint, symptom_components),\n",
    "        'Root Cause': find_best_match(cause, root_causes),\n",
    "        'Fix_Condition': find_best_match(correction, fix_conditions),\n",
    "        'Fix_Component': find_best_match(correction, fix_components)\n",
    "    })\n",
    "\n",
    "df_tags = df_task.apply(tag_row, axis=1)\n",
    "df_tagged = pd.concat([df_task, df_tags], axis=1)\n"
   ]
  },
  {
   "cell_type": "code",
   "execution_count": 45,
   "id": "ba9dcb98",
   "metadata": {},
   "outputs": [],
   "source": [
    "import pandas as pd\n",
    "\n",
    "# Load your original Excel file path\n",
    "input_path = r\"C:\\\\Users\\\\User\\\\Downloads\\\\DA - Task 1..xlsx\"  # Use raw string to avoid backslash errors\n",
    "\n",
    "# Name your output sheet\n",
    "output_sheet_name = \"Tagged_Output\"\n",
    "\n",
    "# Use openpyxl engine to modify existing Excel file and write to a new sheet\n",
    "with pd.ExcelWriter(input_path, mode='a', engine='openpyxl', if_sheet_exists='replace') as writer:\n",
    "    df_task.to_excel(writer, sheet_name=output_sheet_name, index=False)\n"
   ]
  },
  {
   "cell_type": "code",
   "execution_count": 49,
   "id": "862ff61a",
   "metadata": {},
   "outputs": [],
   "source": [
    "import pandas as pd\n",
    "\n",
    "# Load the Excel file\n",
    "file_path = \"C:\\\\Users\\\\User\\\\Downloads\\\\DA -Task 2..xlsx\"\n",
    "df = pd.read_excel(file_path)\n",
    "\n",
    "# Collect column-wise information\n",
    "summary = []\n",
    "for col in df.columns:\n",
    "    data_type = df[col].dtype\n",
    "    missing_pct = df[col].isnull().mean() * 100\n",
    "    unique_vals = df[col].nunique()\n",
    "    example_vals = df[col].dropna().unique()[:3]\n",
    "    \n",
    "    summary.append({\n",
    "        \"Column Name\": col,\n",
    "        \"Data Type\": str(data_type),\n",
    "        \"Missing %\": round(missing_pct, 2),\n",
    "        \"Unique Values\": unique_vals,\n",
    "        \"Example Values\": example_vals\n",
    "    })\n",
    "\n",
    "# Create a DataFrame summary\n",
    "df_summary = pd.DataFrame(summary)\n",
    "\n",
    "# Save to Excel\n",
    "df_summary.to_excel(\"C:\\\\Users\\\\User\\\\Downloads\\\\task2.xlsx\", index=False)\n"
   ]
  },
  {
   "cell_type": "code",
   "execution_count": 1,
   "id": "b7a6fbbd",
   "metadata": {},
   "outputs": [
    {
     "ename": "KeyboardInterrupt",
     "evalue": "",
     "output_type": "error",
     "traceback": [
      "\u001b[1;31m---------------------------------------------------------------------------\u001b[0m",
      "\u001b[1;31mKeyboardInterrupt\u001b[0m                         Traceback (most recent call last)",
      "Cell \u001b[1;32mIn[1], line 1\u001b[0m\n\u001b[1;32m----> 1\u001b[0m \u001b[38;5;28;01mimport\u001b[39;00m \u001b[38;5;21;01mpandas\u001b[39;00m \u001b[38;5;28;01mas\u001b[39;00m \u001b[38;5;21;01mpd\u001b[39;00m\n\u001b[0;32m      2\u001b[0m \u001b[38;5;28;01mimport\u001b[39;00m \u001b[38;5;21;01mnumpy\u001b[39;00m \u001b[38;5;28;01mas\u001b[39;00m \u001b[38;5;21;01mnp\u001b[39;00m\n\u001b[0;32m      3\u001b[0m \u001b[38;5;28;01mfrom\u001b[39;00m \u001b[38;5;21;01mscipy\u001b[39;00m\u001b[38;5;21;01m.\u001b[39;00m\u001b[38;5;21;01mstats\u001b[39;00m \u001b[38;5;28;01mimport\u001b[39;00m zscore\n",
      "File \u001b[1;32mc:\\Users\\User\\Desktop\\Lib\\site-packages\\debugpy\\_vendored\\pydevd\\_pydevd_bundle\\pydevd_frame.py:988\u001b[0m, in \u001b[0;36mPyDBFrame.trace_dispatch\u001b[1;34m(self, frame, event, arg)\u001b[0m\n\u001b[0;32m    986\u001b[0m \u001b[38;5;66;03m# if thread has a suspend flag, we suspend with a busy wait\u001b[39;00m\n\u001b[0;32m    987\u001b[0m \u001b[38;5;28;01mif\u001b[39;00m info\u001b[38;5;241m.\u001b[39mpydev_state \u001b[38;5;241m==\u001b[39m STATE_SUSPEND:\n\u001b[1;32m--> 988\u001b[0m     \u001b[38;5;28;43mself\u001b[39;49m\u001b[38;5;241;43m.\u001b[39;49m\u001b[43mdo_wait_suspend\u001b[49m\u001b[43m(\u001b[49m\u001b[43mthread\u001b[49m\u001b[43m,\u001b[49m\u001b[43m \u001b[49m\u001b[43mframe\u001b[49m\u001b[43m,\u001b[49m\u001b[43m \u001b[49m\u001b[43mevent\u001b[49m\u001b[43m,\u001b[49m\u001b[43m \u001b[49m\u001b[43marg\u001b[49m\u001b[43m)\u001b[49m\n\u001b[0;32m    989\u001b[0m     \u001b[38;5;28;01mreturn\u001b[39;00m \u001b[38;5;28mself\u001b[39m\u001b[38;5;241m.\u001b[39mtrace_dispatch\n\u001b[0;32m    990\u001b[0m \u001b[38;5;28;01melse\u001b[39;00m:\n",
      "File \u001b[1;32mc:\\Users\\User\\Desktop\\Lib\\site-packages\\debugpy\\_vendored\\pydevd\\_pydevd_bundle\\pydevd_frame.py:165\u001b[0m, in \u001b[0;36mPyDBFrame.do_wait_suspend\u001b[1;34m(self, *args, **kwargs)\u001b[0m\n\u001b[0;32m    164\u001b[0m \u001b[38;5;28;01mdef\u001b[39;00m \u001b[38;5;21mdo_wait_suspend\u001b[39m(\u001b[38;5;28mself\u001b[39m, \u001b[38;5;241m*\u001b[39margs, \u001b[38;5;241m*\u001b[39m\u001b[38;5;241m*\u001b[39mkwargs):\n\u001b[1;32m--> 165\u001b[0m     \u001b[38;5;28;43mself\u001b[39;49m\u001b[38;5;241;43m.\u001b[39;49m\u001b[43m_args\u001b[49m\u001b[43m[\u001b[49m\u001b[38;5;241;43m0\u001b[39;49m\u001b[43m]\u001b[49m\u001b[38;5;241;43m.\u001b[39;49m\u001b[43mdo_wait_suspend\u001b[49m\u001b[43m(\u001b[49m\u001b[38;5;241;43m*\u001b[39;49m\u001b[43margs\u001b[49m\u001b[43m,\u001b[49m\u001b[43m \u001b[49m\u001b[38;5;241;43m*\u001b[39;49m\u001b[38;5;241;43m*\u001b[39;49m\u001b[43mkwargs\u001b[49m\u001b[43m)\u001b[49m\n",
      "File \u001b[1;32mc:\\Users\\User\\Desktop\\Lib\\site-packages\\debugpy\\_vendored\\pydevd\\pydevd.py:2070\u001b[0m, in \u001b[0;36mPyDB.do_wait_suspend\u001b[1;34m(self, thread, frame, event, arg, exception_type)\u001b[0m\n\u001b[0;32m   2067\u001b[0m             from_this_thread\u001b[38;5;241m.\u001b[39mappend(frame_custom_thread_id)\n\u001b[0;32m   2069\u001b[0m     \u001b[38;5;28;01mwith\u001b[39;00m \u001b[38;5;28mself\u001b[39m\u001b[38;5;241m.\u001b[39m_threads_suspended_single_notification\u001b[38;5;241m.\u001b[39mnotify_thread_suspended(thread_id, thread, stop_reason):\n\u001b[1;32m-> 2070\u001b[0m         keep_suspended \u001b[38;5;241m=\u001b[39m \u001b[38;5;28;43mself\u001b[39;49m\u001b[38;5;241;43m.\u001b[39;49m\u001b[43m_do_wait_suspend\u001b[49m\u001b[43m(\u001b[49m\u001b[43mthread\u001b[49m\u001b[43m,\u001b[49m\u001b[43m \u001b[49m\u001b[43mframe\u001b[49m\u001b[43m,\u001b[49m\u001b[43m \u001b[49m\u001b[43mevent\u001b[49m\u001b[43m,\u001b[49m\u001b[43m \u001b[49m\u001b[43marg\u001b[49m\u001b[43m,\u001b[49m\u001b[43m \u001b[49m\u001b[43msuspend_type\u001b[49m\u001b[43m,\u001b[49m\u001b[43m \u001b[49m\u001b[43mfrom_this_thread\u001b[49m\u001b[43m,\u001b[49m\u001b[43m \u001b[49m\u001b[43mframes_tracker\u001b[49m\u001b[43m)\u001b[49m\n\u001b[0;32m   2072\u001b[0m frames_list \u001b[38;5;241m=\u001b[39m \u001b[38;5;28;01mNone\u001b[39;00m\n\u001b[0;32m   2074\u001b[0m \u001b[38;5;28;01mif\u001b[39;00m keep_suspended:\n\u001b[0;32m   2075\u001b[0m     \u001b[38;5;66;03m# This means that we should pause again after a set next statement.\u001b[39;00m\n",
      "File \u001b[1;32mc:\\Users\\User\\Desktop\\Lib\\site-packages\\debugpy\\_vendored\\pydevd\\pydevd.py:2106\u001b[0m, in \u001b[0;36mPyDB._do_wait_suspend\u001b[1;34m(self, thread, frame, event, arg, suspend_type, from_this_thread, frames_tracker)\u001b[0m\n\u001b[0;32m   2103\u001b[0m         \u001b[38;5;28mself\u001b[39m\u001b[38;5;241m.\u001b[39m_call_input_hook()\n\u001b[0;32m   2105\u001b[0m     \u001b[38;5;28mself\u001b[39m\u001b[38;5;241m.\u001b[39mprocess_internal_commands()\n\u001b[1;32m-> 2106\u001b[0m     \u001b[43mtime\u001b[49m\u001b[38;5;241;43m.\u001b[39;49m\u001b[43msleep\u001b[49m\u001b[43m(\u001b[49m\u001b[38;5;241;43m0.01\u001b[39;49m\u001b[43m)\u001b[49m\n\u001b[0;32m   2108\u001b[0m \u001b[38;5;28mself\u001b[39m\u001b[38;5;241m.\u001b[39mcancel_async_evaluation(get_current_thread_id(thread), \u001b[38;5;28mstr\u001b[39m(\u001b[38;5;28mid\u001b[39m(frame)))\n\u001b[0;32m   2110\u001b[0m \u001b[38;5;66;03m# process any stepping instructions\u001b[39;00m\n",
      "\u001b[1;31mKeyboardInterrupt\u001b[0m: "
     ]
    }
   ],
   "source": [
    "import pandas as pd\n",
    "import numpy as np\n",
    "from scipy.stats import zscore\n",
    "\n",
    "\n",
    "# Load the data\n",
    "file_path =\"C:\\\\Users\\\\User\\\\Downloads\\\\DA -Task 2..xlsx\"\n",
    "df = pd.read_excel(file_path)\n",
    "\n",
    "# Step 1: View basic info and nulls\n",
    "print(\"Initial Shape:\", df.shape)\n",
    "print(\"\\nMissing Values Per Column:\\n\", df.isnull().sum())\n",
    "\n",
    "# Step 2: Drop columns with more than 50% missing values\n",
    "threshold = 0.5 * len(df)\n",
    "df = df.loc[:, df.isnull().sum() < threshold]\n",
    "print(\"\\nShape after dropping high-null columns:\", df.shape)\n",
    "\n",
    "# Step 3: Fill remaining missing values\n",
    "for col in df.columns:\n",
    "    if df[col].dtype == 'object':\n",
    "        df[col] = df[col].fillna(\"Unknown\")\n",
    "    else:\n",
    "        df[col] = df[col].fillna(df[col].median())\n",
    "\n",
    "# Step 4: Clean categorical columns (standardize strings)\n",
    "cat_cols = df.select_dtypes(include='object').columns\n",
    "for col in cat_cols:\n",
    "    df[col] = df[col].str.lower().str.strip()\n",
    "\n",
    "# Step 5: Convert numeric columns to proper format\n",
    "for col in df.columns:\n",
    "    if df[col].dtype == 'object':\n",
    "        try:\n",
    "            df[col] = pd.to_numeric(df[col])\n",
    "        except:\n",
    "            continue\n",
    "\n",
    "# Step 6: Remove outliers using Z-score (optional, skip if not needed)\n",
    "numeric_cols = df.select_dtypes(include=np.number).columns\n",
    "df = df[(np.abs(zscore(df[numeric_cols])) < 3).all(axis=1)]\n",
    "print(\"\\nShape after outlier removal:\", df.shape)\n",
    "\n",
    "# Step 7: Save cleaned data\n",
    "output_path = \"C:\\\\Users\\\\User\\\\Downloads\\\\task2.xlsx\"\n",
    "\n",
    "output_sheet_name = \"cleansing_Output\"\n",
    "\n",
    "# Use openpyxl engine to modify existing Excel file and write to a new sheet\n",
    "with pd.ExcelWriter(output_path, mode='a', engine='openpyxl', if_sheet_exists='replace') as writer:\n",
    "    df.to_excel(writer, sheet_name=output_sheet_name, index=False)\n",
    "\n"
   ]
  },
  {
   "cell_type": "code",
   "execution_count": null,
   "id": "e2c1bb5b",
   "metadata": {},
   "outputs": [],
   "source": [
    "\n",
    "\n",
    "# Load the data\n",
    "file_path =\"C:\\\\Users\\\\User\\\\Downloads\\\\DA -Task 2..xlsx\"\n",
    "df = pd.read_excel(file_path)\n",
    "\n",
    "# Step 1: View basic info and nulls\n",
    "print(\"Initial Shape:\", df.shape)\n",
    "print(\"\\nMissing Values Per Column:\\n\", df.isnull().sum())\n",
    "\n",
    "# Step 2: Drop columns with more than 50% missing values\n",
    "threshold = 0.5 * len(df)\n",
    "df = df.loc[:, df.isnull().sum() < threshold]\n",
    "print(\"\\nShape after dropping high-null columns:\", df.shape)\n",
    "\n",
    "# Step 3: Fill remaining missing values\n",
    "for col in df.columns:\n",
    "    if df[col].dtype == 'object':\n",
    "        df[col] = df[col].fillna(\"Unknown\")\n",
    "    else:\n",
    "        df[col] = df[col].fillna(df[col].median())\n",
    "\n",
    "# Step 4: Clean categorical columns (standardize strings)\n",
    "cat_cols = df.select_dtypes(include='object').columns\n",
    "for col in cat_cols:\n",
    "    df[col] = df[col].str.lower().str.strip()\n",
    "\n",
    "# Step 5: Convert numeric columns to proper format\n",
    "for col in df.columns:\n",
    "    if df[col].dtype == 'object':\n",
    "        try:\n",
    "            df[col] = pd.to_numeric(df[col])\n",
    "        except:\n",
    "            continue\n",
    "\n",
    "# Step 6: Remove outliers using Z-score (optional, skip if not needed)\n",
    "numeric_cols = df.select_dtypes(include=np.number).columns\n",
    "df = df[(np.abs(zscore(df[numeric_cols])) < 3).all(axis=1)]\n",
    "print(\"\\nShape after outlier removal:\", df.shape)\n",
    "\n",
    "# Step 7: Save cleaned data\n",
    "output_path = \"C:\\\\Users\\\\User\\\\Downloads\\\\task2.xlsx\"\n",
    "\n",
    "output_sheet_name = \"cleansing_Output\"\n",
    "\n",
    "# Use openpyxl engine to modify existing Excel file and write to a new sheet\n",
    "with pd.ExcelWriter(output_path, mode='a', engine='openpyxl', if_sheet_exists='replace') as writer:\n",
    "    df.to_excel(writer, sheet_name=output_sheet_name, index=False)\n",
    "\n"
   ]
  },
  {
   "cell_type": "code",
   "execution_count": 61,
   "id": "b9f76414",
   "metadata": {},
   "outputs": [
    {
     "data": {
      "image/png": "[encoded data removed]",
      "text/plain": [
       "<Figure size 1600x1000 with 3 Axes>"
      ]
     },
     "metadata": {},
     "output_type": "display_data"
    },
    {
     "data": {
      "image/png": "[encoded data removed]",
      "text/plain": [
       "<Figure size 800x500 with 1 Axes>"
      ]
     },
     "metadata": {},
     "output_type": "display_data"
    }
   ],
   "source": [
    "import matplotlib.pyplot as plt\n",
    "import seaborn as sns\n",
    "\n",
    "# Clean the column names first\n",
    "df.columns = df.columns.str.lower().str.replace(\" \", \"_\").str.strip()\n",
    "\n",
    "# Use the cleaned column names\n",
    "cols = ['repair_date', 'causal_part_nm', 'totalcost', 'vin_modl_desgtr']\n",
    "\n",
    "# Count plots for the first 3 categorical columns\n",
    "plt.figure(figsize=(16, 10))\n",
    "for i, col in enumerate(cols[:-1]):  # Skip the last one for the next chart\n",
    "    plt.subplot(2, 2, i + 1)\n",
    "    if df[col].dtype == 'object':\n",
    "        sns.countplot(data=df, x=col, order=df[col].value_counts().index[:10])\n",
    "        plt.title(f\"Top values for {col}\")\n",
    "        plt.xticks(rotation=45)\n",
    "    else:\n",
    "        sns.histplot(df[col], bins=30, kde=True)\n",
    "        plt.title(f\"Distribution of {col}\")\n",
    "\n",
    "plt.tight_layout()\n",
    "\n",
    "# Histogram for 'totalcost'\n",
    "plt.figure(figsize=(8, 5))\n",
    "sns.histplot(df['totalcost'], bins=30, kde=True)\n",
    "plt.title(\"Distribution of Total Cost\")\n",
    "plt.xlabel(\"Total Cost\")\n",
    "plt.ylabel(\"Frequency\")\n",
    "plt.tight_layout()\n",
    "plt.show()\n"
   ]
  },
  {
   "cell_type": "code",
   "execution_count": null,
   "id": "438dbba3",
   "metadata": {},
   "outputs": [
    {
     "name": "stdout",
     "output_type": "stream",
     "text": [
      "Pillow is working!\n"
     ]
    }
   ],
   "source": [
    "\n",
    "from PIL import Image\n",
    "\n",
    "print(\"Pillow is working!\")\n"
   ]
  },
  {
   "cell_type": "code",
   "execution_count": 6,
   "id": "5ed29a71",
   "metadata": {},
   "outputs": [
    {
     "name": "stdout",
     "output_type": "stream",
     "text": [
      "Available columns:\n",
      " ['vin', 'transaction_id', 'correction_verbatim', 'customer_verbatim', 'repair_date', 'causal_part_nm', 'global_labor_code_description', 'platform', 'body_style', 'vppc', 'plant', 'build_country', 'last_known_dlr_name', 'last_known_dlr_city', 'repairing_dealer_code', 'dealer_name', 'repair_dlr_city', 'state', 'dealer_region', 'repair_dlr_postal_cd', 'repair_age', 'km', 'complaint_cd_csi', 'complaint_cd', 'veh_test_grp', 'country_sale_iso', 'ord_selling_src_cd', 'optn_famly_certification', 'optf_famly_emissiof_system', 'global_labor_code', 'transaction_category', 'campaign_nbr', 'reporting_cost', 'totalcost', 'lbrcost', 'engine', 'engine_desc', 'transmission', 'transmission_desc', 'engine_source_plant', 'engine_trace_nbr', 'transmission_source_plant', 'transmission_trace_nbr', 'src_txn_id', 'src_ver_nbr', 'transaction_cntr', 'media_flag', 'vin_modl_desgtr', 'line_series', 'last_known_delvry_type_cd', 'non_causal_part_qty', 'sales_region_code']\n",
      "Visual report saved to C:\\Users\\User\\Downloads\\task2.1.xlsx\n"
     ]
    }
   ],
   "source": [
    "import pandas as pd\n",
    "import matplotlib.pyplot as plt\n",
    "import seaborn as sns\n",
    "import os\n",
    "from openpyxl import Workbook\n",
    "from openpyxl.drawing.image import Image as XLImage\n",
    "from PIL import Image\n",
    "\n",
    "# Step 1: Load the dataset\n",
    "file_path  = \"C:\\\\Users\\\\User\\\\Downloads\\\\DA -Task 2..xlsx\"\n",
    "df = pd.read_excel(file_path)\n",
    "\n",
    "# Step 2: Clean column names\n",
    "df.columns = df.columns.str.lower().str.replace(\" \", \"_\").str.strip()\n",
    "\n",
    "# Check actual column names\n",
    "print(\"Available columns:\\n\", df.columns.tolist())\n",
    "\n",
    "# Step 3: Define columns for plots (make sure they exist)\n",
    "# Replace column names if different in your data\n",
    "plot_cols = {\n",
    "    'causal_part_nm': 'Top 10 Causal Parts',\n",
    "    'vin_modl_desgtr': 'Top 10 VIN Models',\n",
    "    'totalcost': 'Total Cost Distribution'\n",
    "}\n",
    "\n",
    "# Step 4: Create plots and save as images\n",
    "plots = []\n",
    "for col, title in plot_cols.items():\n",
    "    plt.figure(figsize=(10, 5))\n",
    "    \n",
    "    if col == 'totalcost':\n",
    "        sns.histplot(df[col], bins=30, kde=True)\n",
    "        plt.xlabel('Total Cost')\n",
    "        plt.ylabel('Frequency')\n",
    "    else:\n",
    "        sns.countplot(data=df, y=col, order=df[col].value_counts().index[:10])\n",
    "        plt.xlabel(\"Count\")\n",
    "        plt.ylabel(col)\n",
    "\n",
    "    plt.title(title)\n",
    "    filename = f\"{col}_plot.png\"\n",
    "    plt.tight_layout()\n",
    "    plt.savefig(filename)\n",
    "    plots.append(filename)\n",
    "    plt.close()\n",
    "\n",
    "# Step 5: Save plots to a new Excel workbook\n",
    "wb = Workbook()\n",
    "ws = wb.active\n",
    "ws.title = \"Visualizations\"\n",
    "\n",
    "# Add images to Excel sheet\n",
    "for i, plot in enumerate(plots, start=1):\n",
    "    img = XLImage(plot)\n",
    "    img.anchor = f\"A{(i - 1) * 20 + 1}\"  # Spacing between images\n",
    "    ws.add_image(img)\n",
    "\n",
    "# Save workbook\n",
    "output_excel = \"C:\\\\Users\\\\User\\\\Downloads\\\\task2.1.xlsx\"\n",
    "wb.save(output_excel)\n",
    "print(f\"Visual report saved to {output_excel}\")\n",
    "\n",
    "# Optional: clean up .png files\n",
    "for plot in plots:\n",
    "    os.remove(plot)\n"
   ]
  },
  {
   "cell_type": "code",
   "execution_count": 11,
   "id": "7c1b048e",
   "metadata": {},
   "outputs": [
    {
     "name": "stdout",
     "output_type": "stream",
     "text": [
      "['VIN', 'TRANSACTION_ID', 'CORRECTION_VERBATIM', 'CUSTOMER_VERBATIM', 'REPAIR_DATE', 'CAUSAL_PART_NM', 'GLOBAL_LABOR_CODE_DESCRIPTION', 'PLATFORM', 'BODY_STYLE', 'VPPC', 'PLANT', 'BUILD_COUNTRY', 'LAST_KNOWN_DLR_NAME', 'LAST_KNOWN_DLR_CITY', 'REPAIRING_DEALER_CODE', 'DEALER_NAME', 'REPAIR_DLR_CITY', 'STATE', 'DEALER_REGION', 'REPAIR_DLR_POSTAL_CD', 'REPAIR_AGE', 'KM', 'COMPLAINT_CD_CSI', 'COMPLAINT_CD', 'VEH_TEST_GRP', 'COUNTRY_SALE_ISO', 'ORD_SELLING_SRC_CD', 'OPTN_FAMLY_CERTIFICATION', 'OPTF_FAMLY_EMISSIOF_SYSTEM', 'GLOBAL_LABOR_CODE', 'TRANSACTION_CATEGORY', 'CAMPAIGN_NBR', 'REPORTING_COST', 'TOTALCOST', 'LBRCOST', 'ENGINE', 'ENGINE_DESC', 'TRANSMISSION', 'TRANSMISSION_DESC', 'ENGINE_SOURCE_PLANT', 'ENGINE_TRACE_NBR', 'TRANSMISSION_SOURCE_PLANT', 'TRANSMISSION_TRACE_NBR', 'SRC_TXN_ID', 'SRC_VER_NBR', 'TRANSACTION_CNTR', 'MEDIA_FLAG', 'VIN_MODL_DESGTR', 'LINE_SERIES', 'LAST_KNOWN_DELVRY_TYPE_CD', 'NON_CAUSAL_PART_QTY', 'SALES_REGION_CODE']\n"
     ]
    }
   ],
   "source": [
    "import pandas as pd\n",
    "\n",
    "df = pd.read_excel(\"C:\\\\Users\\\\User\\\\Downloads\\\\DA -Task 2..xlsx\")\n",
    "print(df.columns.tolist())\n"
   ]
  },
  {
   "cell_type": "code",
   "execution_count": 13,
   "id": "2876038b",
   "metadata": {},
   "outputs": [
    {
     "name": "stdout",
     "output_type": "stream",
     "text": [
      "Index(['VIN', 'TRANSACTION_ID', 'CORRECTION_VERBATIM', 'CUSTOMER_VERBATIM',\n",
      "       'REPAIR_DATE', 'CAUSAL_PART_NM', 'GLOBAL_LABOR_CODE_DESCRIPTION',\n",
      "       'PLATFORM', 'BODY_STYLE', 'VPPC', 'PLANT', 'BUILD_COUNTRY',\n",
      "       'LAST_KNOWN_DLR_NAME', 'LAST_KNOWN_DLR_CITY', 'REPAIRING_DEALER_CODE',\n",
      "       'DEALER_NAME', 'REPAIR_DLR_CITY', 'STATE', 'DEALER_REGION',\n",
      "       'REPAIR_DLR_POSTAL_CD', 'REPAIR_AGE', 'KM', 'COMPLAINT_CD_CSI',\n",
      "       'COMPLAINT_CD', 'VEH_TEST_GRP', 'COUNTRY_SALE_ISO',\n",
      "       'ORD_SELLING_SRC_CD', 'OPTN_FAMLY_CERTIFICATION',\n",
      "       'OPTF_FAMLY_EMISSIOF_SYSTEM', 'GLOBAL_LABOR_CODE',\n",
      "       'TRANSACTION_CATEGORY', 'CAMPAIGN_NBR', 'REPORTING_COST', 'TOTALCOST',\n",
      "       'LBRCOST', 'ENGINE', 'ENGINE_DESC', 'TRANSMISSION', 'TRANSMISSION_DESC',\n",
      "       'ENGINE_SOURCE_PLANT', 'ENGINE_TRACE_NBR', 'TRANSMISSION_SOURCE_PLANT',\n",
      "       'TRANSMISSION_TRACE_NBR', 'SRC_TXN_ID', 'SRC_VER_NBR',\n",
      "       'TRANSACTION_CNTR', 'MEDIA_FLAG', 'VIN_MODL_DESGTR', 'LINE_SERIES',\n",
      "       'LAST_KNOWN_DELVRY_TYPE_CD', 'NON_CAUSAL_PART_QTY', 'SALES_REGION_CODE',\n",
      "       'FAILURE_CONDITION_TAG', 'COMPONENT_TAG'],\n",
      "      dtype='object')\n"
     ]
    }
   ],
   "source": [
    "df.columns = df.columns.str.strip().str.upper()  # remove extra spaces and standardize case\n",
    "\n",
    "# Now reference using uppercase\n",
    "df['FAILURE_CONDITION_TAG'] = df['CUSTOMER_VERBATIM'].apply(lambda x: extract_tags(x, failure_keywords))\n",
    "df['COMPONENT_TAG'] = df['CORRECTION_VERBATIM'].apply(lambda x: extract_tags(x, component_keywords))\n",
    "print(df.columns)\n"
   ]
  },
  {
   "cell_type": "code",
   "execution_count": 21,
   "id": "7c3af5f5",
   "metadata": {},
   "outputs": [],
   "source": [
    "import pandas as pd\n",
    "\n",
    "# Load the Excel\n",
    "input_path = \"C:\\\\Users\\\\User\\\\Downloads\\\\DA -Task 2..xlsx\"\n",
    "df = pd.read_excel(input_path)\n",
    "\n",
    "# Clean column names to uppercase\n",
    "df.columns = df.columns.str.strip().str.upper()\n",
    "\n",
    "# Define keyword lists\n",
    "failure_keywords = [\n",
    "    'noise', 'stall', 'leak', 'overheat', 'vibration', 'rough idle',\n",
    "    'hard start', 'no start', 'smoke', 'low power', 'jerk', 'hesitation',\n",
    "    'misfire', 'knocking'\n",
    "]\n",
    "\n",
    "component_keywords = [\n",
    "    'engine', 'transmission', 'radiator', 'turbo', 'brake', 'gearbox',\n",
    "    'alternator', 'battery', 'sensor', 'ECU', 'fuel pump', 'clutch', 'injector'\n",
    "]\n",
    "\n",
    "# Tagging function\n",
    "def extract_tags(text, keywords):\n",
    "    if pd.isna(text):\n",
    "        return ''\n",
    "    text = str(text).lower()\n",
    "    tags = [kw for kw in keywords if kw in text]\n",
    "    return ', '.join(tags)\n",
    "\n",
    "# Apply tags (make sure columns exist after .upper())\n",
    "df['FAILURE_CONDITION_TAG'] = df['CUSTOMER_VERBATIM'].apply(lambda x: extract_tags(x, failure_keywords))\n",
    "df['COMPONENT_TAG'] = df['CORRECTION_VERBATIM'].apply(lambda x: extract_tags(x, component_keywords))\n",
    "\n",
    "# Save as new sheet in the same Excel file\n",
    "with pd.ExcelWriter(input_path, engine='openpyxl', mode='a', if_sheet_exists='replace') as writer:\n",
    "    df.to_excel(writer, sheet_name='Step4_Tagging', index=False)\n"
   ]
  }
 ],
 "metadata": {
  "kernelspec": {
   "display_name": "Python 3",
   "language": "python",
   "name": "python3"
  },
  "language_info": {
   "codemirror_mode": {
    "name": "ipython",
    "version": 3
   },
   "file_extension": ".py",
   "mimetype": "text/x-python",
   "name": "python",
   "nbconvert_exporter": "python",
   "pygments_lexer": "ipython3",
   "version": "3.12.3"
  }
 },
 "nbformat": 4,
 "nbformat_minor": 5
}
