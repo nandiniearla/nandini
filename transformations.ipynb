{
 "cells": [
  {
   "cell_type": "code",
   "execution_count": 2,
   "id": "8788349c",
   "metadata": {},
   "outputs": [],
   "source": [
    "import pandas as pd\n",
    "from datetime import datetime\n"
   ]
  },
  {
   "cell_type": "code",
   "execution_count": 8,
   "id": "729579d1",
   "metadata": {},
   "outputs": [
    {
     "name": "stdout",
     "output_type": "stream",
     "text": [
      "   customer_id first_name last_name        dob  total_purchase  \\\n",
      "0          101      Alice     Smith 1990-05-20           12000   \n",
      "1          102        Bob     Jones 1985-10-15            3000   \n",
      "2          103    Charlie     Brown 2000-07-01            7000   \n",
      "\n",
      "                 email       phone_number  \n",
      "0    alice@example.com  +1 (555) 123-4567  \n",
      "1        invalid-email       555-987-6543  \n",
      "2  charlie@example.com      (555)555-1234  \n"
     ]
    }
   ],
   "source": [
    "# Sample Data\n",
    "data = {\n",
    "    'customer_id': [101, 102, 103],\n",
    "    'first_name': ['Alice', 'Bob', 'Charlie'],\n",
    "    'last_name': ['Smith', 'Jones', 'Brown'],\n",
    "    'dob': ['1990-05-20', '1985-10-15', '2000-07-01'],\n",
    "    'total_purchase': [12000, 3000, 7000],\n",
    "    'email': ['alice@example.com', 'invalid-email', 'charlie@example.com'],\n",
    "    'phone_number': ['+1 (555) 123-4567', '555-987-6543', '(555)555-1234']\n",
    "}\n",
    "\n",
    "df = pd.DataFrame(data)\n",
    "df['dob'] = pd.to_datetime(df['dob'])\n",
    "print (df)\n"
   ]
  },
  {
   "cell_type": "code",
   "execution_count": null,
   "id": "cc135be3",
   "metadata": {},
   "outputs": [],
   "source": []
  },
  {
   "cell_type": "code",
   "execution_count": null,
   "id": "66e16bde",
   "metadata": {},
   "outputs": [],
   "source": []
  },
  {
   "cell_type": "code",
   "execution_count": null,
   "id": "00b2171b",
   "metadata": {},
   "outputs": [],
   "source": []
  },
  {
   "cell_type": "code",
   "execution_count": null,
   "id": "32cde231",
   "metadata": {},
   "outputs": [],
   "source": []
  }
 ],
 "metadata": {
  "kernelspec": {
   "display_name": "Python 3",
   "language": "python",
   "name": "python3"
  },
  "language_info": {
   "codemirror_mode": {
    "name": "ipython",
    "version": 3
   },
   "file_extension": ".py",
   "mimetype": "text/x-python",
   "name": "python",
   "nbconvert_exporter": "python",
   "pygments_lexer": "ipython3",
   "version": "3.12.3"
  }
 },
 "nbformat": 4,
 "nbformat_minor": 5
}
